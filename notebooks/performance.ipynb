{
 "cells": [
  {
   "cell_type": "markdown",
   "metadata": {},
   "source": [
    "# Optimizations"
   ]
  },
  {
   "cell_type": "code",
   "execution_count": 1,
   "metadata": {},
   "outputs": [],
   "source": [
    "try\n",
    "    using BenchmarkTools\n",
    "catch ArgumentError\n",
    "    using Pkg # imports Julia's built-in (excellent) package manager\n",
    "    Pkg.add(\"BenchmarkTools\") # installs a package to Julia\n",
    "    using BenchmarkTools\n",
    "end"
   ]
  },
  {
   "cell_type": "markdown",
   "metadata": {},
   "source": [
    "## Type Stability"
   ]
  },
  {
   "cell_type": "markdown",
   "metadata": {},
   "source": [
    "### Basics"
   ]
  },
  {
   "cell_type": "markdown",
   "metadata": {},
   "source": [
    "#### Global Variables"
   ]
  },
  {
   "cell_type": "code",
   "execution_count": 2,
   "metadata": {},
   "outputs": [
    {
     "data": {
      "text/plain": [
       "plusmulta_bad (generic function with 1 method)"
      ]
     },
     "execution_count": 2,
     "metadata": {},
     "output_type": "execute_result"
    }
   ],
   "source": [
    "a = 2\n",
    "function plusmulta_bad(n)\n",
    "    res = 0\n",
    "    for i=1:n\n",
    "        res += i*a\n",
    "    end\n",
    "    res\n",
    "end     "
   ]
  },
  {
   "cell_type": "code",
   "execution_count": 3,
   "metadata": {},
   "outputs": [
    {
     "name": "stdout",
     "output_type": "stream",
     "text": [
      "  108.224 ms (2999212 allocations: 45.76 MiB)\n"
     ]
    },
    {
     "data": {
      "text/plain": [
       "1000001000000"
      ]
     },
     "execution_count": 3,
     "metadata": {},
     "output_type": "execute_result"
    }
   ],
   "source": [
    "@btime plusmulta_bad(1_000_000)"
   ]
  },
  {
   "cell_type": "code",
   "execution_count": 4,
   "metadata": {},
   "outputs": [
    {
     "name": "stdout",
     "output_type": "stream",
     "text": [
      "Variables\n",
      "  #self#\u001b[36m::Core.Compiler.Const(plusmulta_bad, false)\u001b[39m\n",
      "  n\u001b[36m::Int64\u001b[39m\n",
      "  res\u001b[91m\u001b[1m::Any\u001b[22m\u001b[39m\n",
      "  @_4\u001b[33m\u001b[1m::Union{Nothing, Tuple{Int64,Int64}}\u001b[22m\u001b[39m\n",
      "  i\u001b[36m::Int64\u001b[39m\n",
      "\n",
      "Body\u001b[91m\u001b[1m::Any\u001b[22m\u001b[39m\n",
      "\u001b[90m1 ─\u001b[39m       (res = 0)\n",
      "\u001b[90m│  \u001b[39m %2  = (1:n)\u001b[36m::Core.Compiler.PartialStruct(UnitRange{Int64}, Any[Core.Compiler.Const(1, false), Int64])\u001b[39m\n",
      "\u001b[90m│  \u001b[39m       (@_4 = Base.iterate(%2))\n",
      "\u001b[90m│  \u001b[39m %4  = (@_4 === nothing)\u001b[36m::Bool\u001b[39m\n",
      "\u001b[90m│  \u001b[39m %5  = Base.not_int(%4)\u001b[36m::Bool\u001b[39m\n",
      "\u001b[90m└──\u001b[39m       goto #4 if not %5\n",
      "\u001b[90m2 ┄\u001b[39m %7  = @_4::Tuple{Int64,Int64}\u001b[36m::Tuple{Int64,Int64}\u001b[39m\n",
      "\u001b[90m│  \u001b[39m       (i = Core.getfield(%7, 1))\n",
      "\u001b[90m│  \u001b[39m %9  = Core.getfield(%7, 2)\u001b[36m::Int64\u001b[39m\n",
      "\u001b[90m│  \u001b[39m %10 = res\u001b[91m\u001b[1m::Any\u001b[22m\u001b[39m\n",
      "\u001b[90m│  \u001b[39m %11 = (i * Main.a)\u001b[91m\u001b[1m::Any\u001b[22m\u001b[39m\n",
      "\u001b[90m│  \u001b[39m       (res = %10 + %11)\n",
      "\u001b[90m│  \u001b[39m       (@_4 = Base.iterate(%2, %9))\n",
      "\u001b[90m│  \u001b[39m %14 = (@_4 === nothing)\u001b[36m::Bool\u001b[39m\n",
      "\u001b[90m│  \u001b[39m %15 = Base.not_int(%14)\u001b[36m::Bool\u001b[39m\n",
      "\u001b[90m└──\u001b[39m       goto #4 if not %15\n",
      "\u001b[90m3 ─\u001b[39m       goto #2\n",
      "\u001b[90m4 ┄\u001b[39m       return res\n"
     ]
    }
   ],
   "source": [
    "@code_warntype plusmulta_bad(1_000_000)"
   ]
  },
  {
   "cell_type": "markdown",
   "metadata": {},
   "source": [
    "This function is really slow because the type of the global variable *a* is not fixed."
   ]
  },
  {
   "cell_type": "code",
   "execution_count": 5,
   "metadata": {},
   "outputs": [
    {
     "data": {
      "text/plain": [
       "plusmulta_good (generic function with 1 method)"
      ]
     },
     "execution_count": 5,
     "metadata": {},
     "output_type": "execute_result"
    }
   ],
   "source": [
    "const a2 = 2\n",
    "function plusmulta_good(n)\n",
    "    res = 0\n",
    "    for i=1:n\n",
    "        res += i*a2\n",
    "    end\n",
    "    res\n",
    "end     "
   ]
  },
  {
   "cell_type": "markdown",
   "metadata": {},
   "source": [
    "Solution 1: make the global variable a constant."
   ]
  },
  {
   "cell_type": "code",
   "execution_count": 6,
   "metadata": {},
   "outputs": [
    {
     "name": "stdout",
     "output_type": "stream",
     "text": [
      "  1.736 ns (0 allocations: 0 bytes)\n"
     ]
    },
    {
     "data": {
      "text/plain": [
       "1000001000000"
      ]
     },
     "execution_count": 6,
     "metadata": {},
     "output_type": "execute_result"
    }
   ],
   "source": [
    "@btime plusmulta_good(1_000_000)"
   ]
  },
  {
   "cell_type": "code",
   "execution_count": 7,
   "metadata": {},
   "outputs": [
    {
     "name": "stdout",
     "output_type": "stream",
     "text": [
      "Variables\n",
      "  #self#\u001b[36m::Core.Compiler.Const(plusmulta_good, false)\u001b[39m\n",
      "  n\u001b[36m::Int64\u001b[39m\n",
      "  res\u001b[36m::Int64\u001b[39m\n",
      "  @_4\u001b[33m\u001b[1m::Union{Nothing, Tuple{Int64,Int64}}\u001b[22m\u001b[39m\n",
      "  i\u001b[36m::Int64\u001b[39m\n",
      "\n",
      "Body\u001b[36m::Int64\u001b[39m\n",
      "\u001b[90m1 ─\u001b[39m       (res = 0)\n",
      "\u001b[90m│  \u001b[39m %2  = (1:n)\u001b[36m::Core.Compiler.PartialStruct(UnitRange{Int64}, Any[Core.Compiler.Const(1, false), Int64])\u001b[39m\n",
      "\u001b[90m│  \u001b[39m       (@_4 = Base.iterate(%2))\n",
      "\u001b[90m│  \u001b[39m %4  = (@_4 === nothing)\u001b[36m::Bool\u001b[39m\n",
      "\u001b[90m│  \u001b[39m %5  = Base.not_int(%4)\u001b[36m::Bool\u001b[39m\n",
      "\u001b[90m└──\u001b[39m       goto #4 if not %5\n",
      "\u001b[90m2 ┄\u001b[39m %7  = @_4::Tuple{Int64,Int64}\u001b[36m::Tuple{Int64,Int64}\u001b[39m\n",
      "\u001b[90m│  \u001b[39m       (i = Core.getfield(%7, 1))\n",
      "\u001b[90m│  \u001b[39m %9  = Core.getfield(%7, 2)\u001b[36m::Int64\u001b[39m\n",
      "\u001b[90m│  \u001b[39m %10 = res\u001b[36m::Int64\u001b[39m\n",
      "\u001b[90m│  \u001b[39m %11 = (i * Main.a2)\u001b[36m::Int64\u001b[39m\n",
      "\u001b[90m│  \u001b[39m       (res = %10 + %11)\n",
      "\u001b[90m│  \u001b[39m       (@_4 = Base.iterate(%2, %9))\n",
      "\u001b[90m│  \u001b[39m %14 = (@_4 === nothing)\u001b[36m::Bool\u001b[39m\n",
      "\u001b[90m│  \u001b[39m %15 = Base.not_int(%14)\u001b[36m::Bool\u001b[39m\n",
      "\u001b[90m└──\u001b[39m       goto #4 if not %15\n",
      "\u001b[90m3 ─\u001b[39m       goto #2\n",
      "\u001b[90m4 ┄\u001b[39m       return res\n"
     ]
    }
   ],
   "source": [
    "@code_warntype plusmulta_good(1_000_000)"
   ]
  },
  {
   "cell_type": "code",
   "execution_count": 8,
   "metadata": {},
   "outputs": [
    {
     "name": "stdout",
     "output_type": "stream",
     "text": [
      "\n",
      ";  @ In[5]:3 within `plusmulta_good'\n",
      "define i64 @julia_plusmulta_good_16640(i64) {\n",
      "top:\n",
      ";  @ In[5]:4 within `plusmulta_good'\n",
      "; ┌ @ range.jl:5 within `Colon'\n",
      "; │┌ @ range.jl:275 within `Type'\n",
      "; ││┌ @ range.jl:280 within `unitrange_last'\n",
      "; │││┌ @ operators.jl:341 within `>='\n",
      "; ││││┌ @ int.jl:424 within `<='\n",
      "       %1 = icmp sgt i64 %0, 0\n",
      "; └└└└└\n",
      "  br i1 %1, label %L7.L12_crit_edge, label %L29\n",
      "\n",
      "L7.L12_crit_edge:                                 ; preds = %top\n",
      "  %2 = shl i64 %0, 2\n",
      "  %3 = add nsw i64 %0, -1\n",
      "  %4 = add nsw i64 %0, -2\n",
      "  %5 = mul i64 %3, %4\n",
      "  %6 = and i64 %5, -2\n",
      "  %7 = add i64 %2, %6\n",
      "  %8 = add i64 %7, -2\n",
      ";  @ In[5]:7 within `plusmulta_good'\n",
      "  br label %L29\n",
      "\n",
      "L29:                                              ; preds = %L7.L12_crit_edge, %top\n",
      "  %value_phi9 = phi i64 [ 0, %top ], [ %8, %L7.L12_crit_edge ]\n",
      "  ret i64 %value_phi9\n",
      "}\n"
     ]
    }
   ],
   "source": [
    "@code_llvm plusmulta_good(1_000_000)"
   ]
  },
  {
   "cell_type": "markdown",
   "metadata": {},
   "source": [
    "Actually, the compiler optimized the for-loop away."
   ]
  },
  {
   "cell_type": "code",
   "execution_count": 9,
   "metadata": {},
   "outputs": [
    {
     "data": {
      "text/plain": [
       "plusmulta_good (generic function with 2 methods)"
      ]
     },
     "execution_count": 9,
     "metadata": {},
     "output_type": "execute_result"
    }
   ],
   "source": [
    "function plusmulta_good(n, a)\n",
    "    res = 0\n",
    "    for i=1:n\n",
    "        res += i*a\n",
    "    end\n",
    "    res\n",
    "end     "
   ]
  },
  {
   "cell_type": "code",
   "execution_count": 10,
   "metadata": {},
   "outputs": [
    {
     "name": "stdout",
     "output_type": "stream",
     "text": [
      "  1.736 ns (0 allocations: 0 bytes)\n"
     ]
    },
    {
     "data": {
      "text/plain": [
       "1000001000000"
      ]
     },
     "execution_count": 10,
     "metadata": {},
     "output_type": "execute_result"
    }
   ],
   "source": [
    "@btime plusmulta_good(1_000_000, 2)"
   ]
  },
  {
   "cell_type": "code",
   "execution_count": 11,
   "metadata": {},
   "outputs": [
    {
     "name": "stdout",
     "output_type": "stream",
     "text": [
      "\n",
      ";  @ In[9]:2 within `plusmulta_good'\n",
      "define i64 @julia_plusmulta_good_16655(i64, i64) {\n",
      "top:\n",
      ";  @ In[9]:3 within `plusmulta_good'\n",
      "; ┌ @ range.jl:5 within `Colon'\n",
      "; │┌ @ range.jl:275 within `Type'\n",
      "; ││┌ @ range.jl:280 within `unitrange_last'\n",
      "; │││┌ @ operators.jl:341 within `>='\n",
      "; ││││┌ @ int.jl:424 within `<='\n",
      "       %2 = icmp sgt i64 %0, 0\n",
      "; └└└└└\n",
      "  br i1 %2, label %L7.L12_crit_edge, label %L28\n",
      "\n",
      "L7.L12_crit_edge:                                 ; preds = %top\n",
      "  %3 = shl nuw i64 %0, 1\n",
      "  %4 = add nsw i64 %0, -1\n",
      "  %5 = zext i64 %4 to i65\n",
      "  %6 = add nsw i64 %0, -2\n",
      "  %7 = zext i64 %6 to i65\n",
      "  %8 = mul i65 %5, %7\n",
      "  %9 = lshr i65 %8, 1\n",
      "  %10 = trunc i65 %9 to i64\n",
      "  %11 = add i64 %3, %10\n",
      "  %12 = add i64 %11, -1\n",
      "  %13 = mul i64 %12, %1\n",
      ";  @ In[9]:6 within `plusmulta_good'\n",
      "  br label %L28\n",
      "\n",
      "L28:                                              ; preds = %L7.L12_crit_edge, %top\n",
      "  %value_phi9 = phi i64 [ 0, %top ], [ %13, %L7.L12_crit_edge ]\n",
      "  ret i64 %value_phi9\n",
      "}\n"
     ]
    }
   ],
   "source": [
    "@code_llvm plusmulta_good(1_000_000, 2)"
   ]
  },
  {
   "cell_type": "markdown",
   "metadata": {},
   "source": [
    "We got the same good performance when using *a* as a method parameter.\n",
    "\n",
    "Note that both methods (without and with *a* as parameter) are defined for the same function in this example, the concrete method is chosen according to call signature using multiple dispatch."
   ]
  },
  {
   "cell_type": "code",
   "execution_count": 12,
   "metadata": {},
   "outputs": [
    {
     "data": {
      "text/plain": [
       "randsum_bad (generic function with 1 method)"
      ]
     },
     "execution_count": 12,
     "metadata": {},
     "output_type": "execute_result"
    }
   ],
   "source": [
    "a = 2\n",
    "randsum_bad(n) = begin # a rather unusual (and not recommended) way to define a function...\n",
    "    res = 0\n",
    "    for i = 1:n\n",
    "        res += a*rand()\n",
    "    end\n",
    "    res\n",
    "end"
   ]
  },
  {
   "cell_type": "code",
   "execution_count": 13,
   "metadata": {},
   "outputs": [
    {
     "name": "stdout",
     "output_type": "stream",
     "text": [
      "  92.300 μs (3000 allocations: 46.88 KiB)\n"
     ]
    },
    {
     "data": {
      "text/plain": [
       "1003.2320658465163"
      ]
     },
     "execution_count": 13,
     "metadata": {},
     "output_type": "execute_result"
    }
   ],
   "source": [
    "@btime randsum_bad(1_000)"
   ]
  },
  {
   "cell_type": "code",
   "execution_count": 14,
   "metadata": {},
   "outputs": [
    {
     "data": {
      "text/plain": [
       "randsum_better (generic function with 1 method)"
      ]
     },
     "execution_count": 14,
     "metadata": {},
     "output_type": "execute_result"
    }
   ],
   "source": [
    "function randsum_better(n, a)\n",
    "    res = 0\n",
    "    for i = 1:n\n",
    "        res += a*rand()\n",
    "    end\n",
    "    res\n",
    "end"
   ]
  },
  {
   "cell_type": "code",
   "execution_count": 15,
   "metadata": {},
   "outputs": [
    {
     "name": "stdout",
     "output_type": "stream",
     "text": [
      "  4.974 μs (0 allocations: 0 bytes)\n"
     ]
    },
    {
     "data": {
      "text/plain": [
       "988.3037837966322"
      ]
     },
     "execution_count": 15,
     "metadata": {},
     "output_type": "execute_result"
    }
   ],
   "source": [
    "@btime randsum_better(1_000, $a)"
   ]
  },
  {
   "cell_type": "markdown",
   "metadata": {},
   "source": [
    "This is a more \"fair\" comparison because the compiler cannot optimize the loop away. Still, type stability gives a performance improvement of a factor of 20."
   ]
  },
  {
   "cell_type": "markdown",
   "metadata": {},
   "source": [
    "#### Type Stability Inside Methods"
   ]
  },
  {
   "cell_type": "markdown",
   "metadata": {},
   "source": [
    "Can we get better?"
   ]
  },
  {
   "cell_type": "code",
   "execution_count": 16,
   "metadata": {},
   "outputs": [
    {
     "name": "stdout",
     "output_type": "stream",
     "text": [
      "Variables\n",
      "  #self#\u001b[36m::Core.Compiler.Const(randsum_better, false)\u001b[39m\n",
      "  n\u001b[36m::Int64\u001b[39m\n",
      "  a\u001b[36m::Int64\u001b[39m\n",
      "  res\u001b[91m\u001b[1m::Union{Float64, Int64}\u001b[22m\u001b[39m\n",
      "  @_5\u001b[33m\u001b[1m::Union{Nothing, Tuple{Int64,Int64}}\u001b[22m\u001b[39m\n",
      "  i\u001b[36m::Int64\u001b[39m\n",
      "\n",
      "Body\u001b[91m\u001b[1m::Union{Float64, Int64}\u001b[22m\u001b[39m\n",
      "\u001b[90m1 ─\u001b[39m       (res = 0)\n",
      "\u001b[90m│  \u001b[39m %2  = (1:n)\u001b[36m::Core.Compiler.PartialStruct(UnitRange{Int64}, Any[Core.Compiler.Const(1, false), Int64])\u001b[39m\n",
      "\u001b[90m│  \u001b[39m       (@_5 = Base.iterate(%2))\n",
      "\u001b[90m│  \u001b[39m %4  = (@_5 === nothing)\u001b[36m::Bool\u001b[39m\n",
      "\u001b[90m│  \u001b[39m %5  = Base.not_int(%4)\u001b[36m::Bool\u001b[39m\n",
      "\u001b[90m└──\u001b[39m       goto #4 if not %5\n",
      "\u001b[90m2 ┄\u001b[39m %7  = @_5::Tuple{Int64,Int64}\u001b[36m::Tuple{Int64,Int64}\u001b[39m\n",
      "\u001b[90m│  \u001b[39m       (i = Core.getfield(%7, 1))\n",
      "\u001b[90m│  \u001b[39m %9  = Core.getfield(%7, 2)\u001b[36m::Int64\u001b[39m\n",
      "\u001b[90m│  \u001b[39m %10 = res\u001b[91m\u001b[1m::Union{Float64, Int64}\u001b[22m\u001b[39m\n",
      "\u001b[90m│  \u001b[39m %11 = Main.rand()\u001b[36m::Float64\u001b[39m\n",
      "\u001b[90m│  \u001b[39m %12 = (a * %11)\u001b[36m::Float64\u001b[39m\n",
      "\u001b[90m│  \u001b[39m       (res = %10 + %12)\n",
      "\u001b[90m│  \u001b[39m       (@_5 = Base.iterate(%2, %9))\n",
      "\u001b[90m│  \u001b[39m %15 = (@_5 === nothing)\u001b[36m::Bool\u001b[39m\n",
      "\u001b[90m│  \u001b[39m %16 = Base.not_int(%15)\u001b[36m::Bool\u001b[39m\n",
      "\u001b[90m└──\u001b[39m       goto #4 if not %16\n",
      "\u001b[90m3 ─\u001b[39m       goto #2\n",
      "\u001b[90m4 ┄\u001b[39m       return res\n"
     ]
    }
   ],
   "source": [
    "@code_warntype randsum_better(1_000, a)"
   ]
  },
  {
   "cell_type": "markdown",
   "metadata": {},
   "source": [
    "The variable *res* is still not type-stable. It is defined as integer, but the added random numbers are float.\n",
    "\n",
    "Let's fix this:"
   ]
  },
  {
   "cell_type": "code",
   "execution_count": 17,
   "metadata": {},
   "outputs": [
    {
     "data": {
      "text/plain": [
       "randsum_good (generic function with 1 method)"
      ]
     },
     "execution_count": 17,
     "metadata": {},
     "output_type": "execute_result"
    }
   ],
   "source": [
    "function randsum_good(n, a)\n",
    "    res = 0. # note the . which makes this a Float64 number\n",
    "    for i = 1:n\n",
    "        res += a*rand()\n",
    "    end\n",
    "    res\n",
    "end"
   ]
  },
  {
   "cell_type": "code",
   "execution_count": 18,
   "metadata": {},
   "outputs": [
    {
     "name": "stdout",
     "output_type": "stream",
     "text": [
      "Variables\n",
      "  #self#\u001b[36m::Core.Compiler.Const(randsum_good, false)\u001b[39m\n",
      "  n\u001b[36m::Int64\u001b[39m\n",
      "  a\u001b[36m::Int64\u001b[39m\n",
      "  res\u001b[36m::Float64\u001b[39m\n",
      "  @_5\u001b[33m\u001b[1m::Union{Nothing, Tuple{Int64,Int64}}\u001b[22m\u001b[39m\n",
      "  i\u001b[36m::Int64\u001b[39m\n",
      "\n",
      "Body\u001b[36m::Float64\u001b[39m\n",
      "\u001b[90m1 ─\u001b[39m       (res = 0.0)\n",
      "\u001b[90m│  \u001b[39m %2  = (1:n)\u001b[36m::Core.Compiler.PartialStruct(UnitRange{Int64}, Any[Core.Compiler.Const(1, false), Int64])\u001b[39m\n",
      "\u001b[90m│  \u001b[39m       (@_5 = Base.iterate(%2))\n",
      "\u001b[90m│  \u001b[39m %4  = (@_5 === nothing)\u001b[36m::Bool\u001b[39m\n",
      "\u001b[90m│  \u001b[39m %5  = Base.not_int(%4)\u001b[36m::Bool\u001b[39m\n",
      "\u001b[90m└──\u001b[39m       goto #4 if not %5\n",
      "\u001b[90m2 ┄\u001b[39m %7  = @_5::Tuple{Int64,Int64}\u001b[36m::Tuple{Int64,Int64}\u001b[39m\n",
      "\u001b[90m│  \u001b[39m       (i = Core.getfield(%7, 1))\n",
      "\u001b[90m│  \u001b[39m %9  = Core.getfield(%7, 2)\u001b[36m::Int64\u001b[39m\n",
      "\u001b[90m│  \u001b[39m %10 = res\u001b[36m::Float64\u001b[39m\n",
      "\u001b[90m│  \u001b[39m %11 = Main.rand()\u001b[36m::Float64\u001b[39m\n",
      "\u001b[90m│  \u001b[39m %12 = (a * %11)\u001b[36m::Float64\u001b[39m\n",
      "\u001b[90m│  \u001b[39m       (res = %10 + %12)\n",
      "\u001b[90m│  \u001b[39m       (@_5 = Base.iterate(%2, %9))\n",
      "\u001b[90m│  \u001b[39m %15 = (@_5 === nothing)\u001b[36m::Bool\u001b[39m\n",
      "\u001b[90m│  \u001b[39m %16 = Base.not_int(%15)\u001b[36m::Bool\u001b[39m\n",
      "\u001b[90m└──\u001b[39m       goto #4 if not %16\n",
      "\u001b[90m3 ─\u001b[39m       goto #2\n",
      "\u001b[90m4 ┄\u001b[39m       return res\n"
     ]
    }
   ],
   "source": [
    "@code_warntype randsum_good(1_000, a)"
   ]
  },
  {
   "cell_type": "code",
   "execution_count": 19,
   "metadata": {},
   "outputs": [
    {
     "name": "stdout",
     "output_type": "stream",
     "text": [
      "  3.621 μs (0 allocations: 0 bytes)\n"
     ]
    },
    {
     "data": {
      "text/plain": [
       "1039.1442226032727"
      ]
     },
     "execution_count": 19,
     "metadata": {},
     "output_type": "execute_result"
    }
   ],
   "source": [
    "@btime randsum_good(1_000, $a)"
   ]
  },
  {
   "cell_type": "markdown",
   "metadata": {},
   "source": [
    "An additional improvement of 30%."
   ]
  },
  {
   "cell_type": "markdown",
   "metadata": {},
   "source": [
    "### Custom Data Structures"
   ]
  },
  {
   "cell_type": "code",
   "execution_count": 20,
   "metadata": {},
   "outputs": [],
   "source": [
    "abstract type MyDataTypes end"
   ]
  },
  {
   "cell_type": "code",
   "execution_count": 21,
   "metadata": {},
   "outputs": [
    {
     "data": {
      "text/plain": [
       "fill_data! (generic function with 1 method)"
      ]
     },
     "execution_count": 21,
     "metadata": {},
     "output_type": "execute_result"
    }
   ],
   "source": [
    "function fill_data!(data_array:: AbstractArray{T, 1}) where {T <: MyDataTypes}\n",
    "    for i = 1:length(data_array)\n",
    "        data = T(i, rand())\n",
    "        data_array[i] = data\n",
    "    end\n",
    "end "
   ]
  },
  {
   "cell_type": "code",
   "execution_count": 22,
   "metadata": {},
   "outputs": [
    {
     "data": {
      "text/plain": [
       "aggregate_data (generic function with 1 method)"
      ]
     },
     "execution_count": 22,
     "metadata": {},
     "output_type": "execute_result"
    }
   ],
   "source": [
    "function aggregate_data(data_array:: AbstractArray{T, 1}) where {T <: MyDataTypes}\n",
    "    res = zero(data_array[1].id * data_array[1].value)\n",
    "    for i in eachindex(data_array)\n",
    "        @inbounds row = data_array[i]\n",
    "        res += row.id * row.value\n",
    "    end\n",
    "    res\n",
    "end     "
   ]
  },
  {
   "cell_type": "markdown",
   "metadata": {},
   "source": [
    "#### Bad - Using of Abstract Types in Structures"
   ]
  },
  {
   "cell_type": "code",
   "execution_count": 23,
   "metadata": {},
   "outputs": [],
   "source": [
    "struct MyBadData <: MyDataTypes\n",
    "    id:: Integer\n",
    "    value:: AbstractFloat\n",
    "end"
   ]
  },
  {
   "cell_type": "code",
   "execution_count": 24,
   "metadata": {},
   "outputs": [
    {
     "name": "stdout",
     "output_type": "stream",
     "text": [
      "  34.172 μs (2489 allocations: 54.52 KiB)\n"
     ]
    }
   ],
   "source": [
    "data_array_bad = Array{MyBadData, 1}(undef, 1_000)\n",
    "@btime fill_data!(data_array_bad)"
   ]
  },
  {
   "cell_type": "code",
   "execution_count": 25,
   "metadata": {},
   "outputs": [
    {
     "name": "stdout",
     "output_type": "stream",
     "text": [
      "  101.220 μs (2001 allocations: 31.27 KiB)\n"
     ]
    },
    {
     "data": {
      "text/plain": [
       "250448.92119289367"
      ]
     },
     "execution_count": 25,
     "metadata": {},
     "output_type": "execute_result"
    }
   ],
   "source": [
    "@btime aggregate_data(data_array_bad)"
   ]
  },
  {
   "cell_type": "code",
   "execution_count": 26,
   "metadata": {},
   "outputs": [
    {
     "name": "stdout",
     "output_type": "stream",
     "text": [
      "Variables\n",
      "  #self#\u001b[36m::Core.Compiler.Const(aggregate_data, false)\u001b[39m\n",
      "  data_array\u001b[36m::Array{MyBadData,1}\u001b[39m\n",
      "  res\u001b[91m\u001b[1m::Any\u001b[22m\u001b[39m\n",
      "  @_4\u001b[33m\u001b[1m::Union{Nothing, Tuple{Int64,Int64}}\u001b[22m\u001b[39m\n",
      "  i\u001b[36m::Int64\u001b[39m\n",
      "  val\u001b[36m::MyBadData\u001b[39m\n",
      "  row\u001b[36m::MyBadData\u001b[39m\n",
      "\n",
      "Body\u001b[91m\u001b[1m::Any\u001b[22m\u001b[39m\n",
      "\u001b[90m1 ─\u001b[39m %1  = Base.getindex(data_array, 1)\u001b[36m::MyBadData\u001b[39m\n",
      "\u001b[90m│  \u001b[39m %2  = Base.getproperty(%1, :id)\u001b[91m\u001b[1m::Integer\u001b[22m\u001b[39m\n",
      "\u001b[90m│  \u001b[39m %3  = Base.getindex(data_array, 1)\u001b[36m::MyBadData\u001b[39m\n",
      "\u001b[90m│  \u001b[39m %4  = Base.getproperty(%3, :value)\u001b[91m\u001b[1m::AbstractFloat\u001b[22m\u001b[39m\n",
      "\u001b[90m│  \u001b[39m %5  = (%2 * %4)\u001b[91m\u001b[1m::Any\u001b[22m\u001b[39m\n",
      "\u001b[90m│  \u001b[39m       (res = Main.zero(%5))\n",
      "\u001b[90m│  \u001b[39m %7  = Main.eachindex(data_array)\u001b[36m::Base.OneTo{Int64}\u001b[39m\n",
      "\u001b[90m│  \u001b[39m       (@_4 = Base.iterate(%7))\n",
      "\u001b[90m│  \u001b[39m %9  = (@_4 === nothing)\u001b[36m::Bool\u001b[39m\n",
      "\u001b[90m│  \u001b[39m %10 = Base.not_int(%9)\u001b[36m::Bool\u001b[39m\n",
      "\u001b[90m└──\u001b[39m       goto #4 if not %10\n",
      "\u001b[90m2 ┄\u001b[39m %12 = @_4::Tuple{Int64,Int64}\u001b[36m::Tuple{Int64,Int64}\u001b[39m\n",
      "\u001b[90m│  \u001b[39m       (i = Core.getfield(%12, 1))\n",
      "\u001b[90m│  \u001b[39m %14 = Core.getfield(%12, 2)\u001b[36m::Int64\u001b[39m\n",
      "\u001b[90m│  \u001b[39m       $(Expr(:inbounds, true))\n",
      "\u001b[90m│  \u001b[39m %16 = Base.getindex(data_array, i)\u001b[36m::MyBadData\u001b[39m\n",
      "\u001b[90m│  \u001b[39m       (row = %16)\n",
      "\u001b[90m│  \u001b[39m       (val = %16)\n",
      "\u001b[90m│  \u001b[39m       $(Expr(:inbounds, :pop))\n",
      "\u001b[90m│  \u001b[39m       val\n",
      "\u001b[90m│  \u001b[39m %21 = res\u001b[91m\u001b[1m::Any\u001b[22m\u001b[39m\n",
      "\u001b[90m│  \u001b[39m %22 = Base.getproperty(row, :id)\u001b[91m\u001b[1m::Integer\u001b[22m\u001b[39m\n",
      "\u001b[90m│  \u001b[39m %23 = Base.getproperty(row, :value)\u001b[91m\u001b[1m::AbstractFloat\u001b[22m\u001b[39m\n",
      "\u001b[90m│  \u001b[39m %24 = (%22 * %23)\u001b[91m\u001b[1m::Any\u001b[22m\u001b[39m\n",
      "\u001b[90m│  \u001b[39m       (res = %21 + %24)\n",
      "\u001b[90m│  \u001b[39m       (@_4 = Base.iterate(%7, %14))\n",
      "\u001b[90m│  \u001b[39m %27 = (@_4 === nothing)\u001b[36m::Bool\u001b[39m\n",
      "\u001b[90m│  \u001b[39m %28 = Base.not_int(%27)\u001b[36m::Bool\u001b[39m\n",
      "\u001b[90m└──\u001b[39m       goto #4 if not %28\n",
      "\u001b[90m3 ─\u001b[39m       goto #2\n",
      "\u001b[90m4 ┄\u001b[39m       return res\n"
     ]
    }
   ],
   "source": [
    "@code_warntype aggregate_data(data_array_bad)"
   ]
  },
  {
   "cell_type": "markdown",
   "metadata": {},
   "source": [
    "Using abstract data types inside user defined structures introduces a type instability which significantly reduces performance."
   ]
  },
  {
   "cell_type": "markdown",
   "metadata": {},
   "source": [
    "#### Using Concrete Types in Structures"
   ]
  },
  {
   "cell_type": "code",
   "execution_count": 27,
   "metadata": {},
   "outputs": [],
   "source": [
    "struct MyGoodInflexibleData <: MyDataTypes\n",
    "    id:: Int\n",
    "    value:: Float64\n",
    "end"
   ]
  },
  {
   "cell_type": "code",
   "execution_count": 28,
   "metadata": {},
   "outputs": [
    {
     "name": "stdout",
     "output_type": "stream",
     "text": [
      "  5.250 μs (0 allocations: 0 bytes)\n"
     ]
    }
   ],
   "source": [
    "data_array_good1 = Array{MyGoodInflexibleData, 1}(undef, 1_000)\n",
    "@btime fill_data!(data_array_good1)"
   ]
  },
  {
   "cell_type": "code",
   "execution_count": 29,
   "metadata": {},
   "outputs": [
    {
     "name": "stdout",
     "output_type": "stream",
     "text": [
      "  1.472 μs (1 allocation: 16 bytes)\n"
     ]
    },
    {
     "data": {
      "text/plain": [
       "250311.52680232056"
      ]
     },
     "execution_count": 29,
     "metadata": {},
     "output_type": "execute_result"
    }
   ],
   "source": [
    "@btime aggregate_data(data_array_good1)"
   ]
  },
  {
   "cell_type": "code",
   "execution_count": 30,
   "metadata": {},
   "outputs": [
    {
     "name": "stdout",
     "output_type": "stream",
     "text": [
      "Variables\n",
      "  #self#\u001b[36m::Core.Compiler.Const(aggregate_data, false)\u001b[39m\n",
      "  data_array\u001b[36m::Array{MyGoodInflexibleData,1}\u001b[39m\n",
      "  res\u001b[36m::Float64\u001b[39m\n",
      "  @_4\u001b[33m\u001b[1m::Union{Nothing, Tuple{Int64,Int64}}\u001b[22m\u001b[39m\n",
      "  i\u001b[36m::Int64\u001b[39m\n",
      "  val\u001b[36m::MyGoodInflexibleData\u001b[39m\n",
      "  row\u001b[36m::MyGoodInflexibleData\u001b[39m\n",
      "\n",
      "Body\u001b[36m::Float64\u001b[39m\n",
      "\u001b[90m1 ─\u001b[39m %1  = Base.getindex(data_array, 1)\u001b[36m::MyGoodInflexibleData\u001b[39m\n",
      "\u001b[90m│  \u001b[39m %2  = Base.getproperty(%1, :id)\u001b[36m::Int64\u001b[39m\n",
      "\u001b[90m│  \u001b[39m %3  = Base.getindex(data_array, 1)\u001b[36m::MyGoodInflexibleData\u001b[39m\n",
      "\u001b[90m│  \u001b[39m %4  = Base.getproperty(%3, :value)\u001b[36m::Float64\u001b[39m\n",
      "\u001b[90m│  \u001b[39m %5  = (%2 * %4)\u001b[36m::Float64\u001b[39m\n",
      "\u001b[90m│  \u001b[39m       (res = Main.zero(%5))\n",
      "\u001b[90m│  \u001b[39m %7  = Main.eachindex(data_array)\u001b[36m::Base.OneTo{Int64}\u001b[39m\n",
      "\u001b[90m│  \u001b[39m       (@_4 = Base.iterate(%7))\n",
      "\u001b[90m│  \u001b[39m %9  = (@_4 === nothing)\u001b[36m::Bool\u001b[39m\n",
      "\u001b[90m│  \u001b[39m %10 = Base.not_int(%9)\u001b[36m::Bool\u001b[39m\n",
      "\u001b[90m└──\u001b[39m       goto #4 if not %10\n",
      "\u001b[90m2 ┄\u001b[39m %12 = @_4::Tuple{Int64,Int64}\u001b[36m::Tuple{Int64,Int64}\u001b[39m\n",
      "\u001b[90m│  \u001b[39m       (i = Core.getfield(%12, 1))\n",
      "\u001b[90m│  \u001b[39m %14 = Core.getfield(%12, 2)\u001b[36m::Int64\u001b[39m\n",
      "\u001b[90m│  \u001b[39m       $(Expr(:inbounds, true))\n",
      "\u001b[90m│  \u001b[39m %16 = Base.getindex(data_array, i)\u001b[36m::MyGoodInflexibleData\u001b[39m\n",
      "\u001b[90m│  \u001b[39m       (row = %16)\n",
      "\u001b[90m│  \u001b[39m       (val = %16)\n",
      "\u001b[90m│  \u001b[39m       $(Expr(:inbounds, :pop))\n",
      "\u001b[90m│  \u001b[39m       val\n",
      "\u001b[90m│  \u001b[39m %21 = res\u001b[36m::Float64\u001b[39m\n",
      "\u001b[90m│  \u001b[39m %22 = Base.getproperty(row, :id)\u001b[36m::Int64\u001b[39m\n",
      "\u001b[90m│  \u001b[39m %23 = Base.getproperty(row, :value)\u001b[36m::Float64\u001b[39m\n",
      "\u001b[90m│  \u001b[39m %24 = (%22 * %23)\u001b[36m::Float64\u001b[39m\n",
      "\u001b[90m│  \u001b[39m       (res = %21 + %24)\n",
      "\u001b[90m│  \u001b[39m       (@_4 = Base.iterate(%7, %14))\n",
      "\u001b[90m│  \u001b[39m %27 = (@_4 === nothing)\u001b[36m::Bool\u001b[39m\n",
      "\u001b[90m│  \u001b[39m %28 = Base.not_int(%27)\u001b[36m::Bool\u001b[39m\n",
      "\u001b[90m└──\u001b[39m       goto #4 if not %28\n",
      "\u001b[90m3 ─\u001b[39m       goto #2\n",
      "\u001b[90m4 ┄\u001b[39m       return res\n"
     ]
    }
   ],
   "source": [
    "@code_warntype aggregate_data(data_array_good1)"
   ]
  },
  {
   "cell_type": "markdown",
   "metadata": {},
   "source": [
    "Defining concrete data types inside a structure gives type-stability (and thus performace), but reduces flexibility - e.g. we cannot use Float32 as *value* anymore."
   ]
  },
  {
   "cell_type": "markdown",
   "metadata": {},
   "source": [
    "#### Parametric Types"
   ]
  },
  {
   "cell_type": "code",
   "execution_count": 31,
   "metadata": {},
   "outputs": [],
   "source": [
    "struct MyGoodData{T <: Integer, U <: Number} <: MyDataTypes\n",
    "    id:: T\n",
    "    value:: U\n",
    "end"
   ]
  },
  {
   "cell_type": "code",
   "execution_count": 32,
   "metadata": {},
   "outputs": [
    {
     "name": "stdout",
     "output_type": "stream",
     "text": [
      "  5.251 μs (0 allocations: 0 bytes)\n"
     ]
    }
   ],
   "source": [
    "data_array_good2 = Array{MyGoodData{Int, Float64}, 1}(undef, 1_000)\n",
    "@btime fill_data!(data_array_good2)"
   ]
  },
  {
   "cell_type": "code",
   "execution_count": 33,
   "metadata": {},
   "outputs": [
    {
     "name": "stdout",
     "output_type": "stream",
     "text": [
      "  1.470 μs (1 allocation: 16 bytes)\n"
     ]
    },
    {
     "data": {
      "text/plain": [
       "254783.94285752467"
      ]
     },
     "execution_count": 33,
     "metadata": {},
     "output_type": "execute_result"
    }
   ],
   "source": [
    "@btime aggregate_data(data_array_good2)"
   ]
  },
  {
   "cell_type": "code",
   "execution_count": 34,
   "metadata": {},
   "outputs": [
    {
     "name": "stdout",
     "output_type": "stream",
     "text": [
      "Variables\n",
      "  #self#\u001b[36m::Core.Compiler.Const(aggregate_data, false)\u001b[39m\n",
      "  data_array\u001b[36m::Array{MyGoodData{Int64,Float64},1}\u001b[39m\n",
      "  res\u001b[36m::Float64\u001b[39m\n",
      "  @_4\u001b[33m\u001b[1m::Union{Nothing, Tuple{Int64,Int64}}\u001b[22m\u001b[39m\n",
      "  i\u001b[36m::Int64\u001b[39m\n",
      "  val\u001b[36m::MyGoodData{Int64,Float64}\u001b[39m\n",
      "  row\u001b[36m::MyGoodData{Int64,Float64}\u001b[39m\n",
      "\n",
      "Body\u001b[36m::Float64\u001b[39m\n",
      "\u001b[90m1 ─\u001b[39m %1  = Base.getindex(data_array, 1)\u001b[36m::MyGoodData{Int64,Float64}\u001b[39m\n",
      "\u001b[90m│  \u001b[39m %2  = Base.getproperty(%1, :id)\u001b[36m::Int64\u001b[39m\n",
      "\u001b[90m│  \u001b[39m %3  = Base.getindex(data_array, 1)\u001b[36m::MyGoodData{Int64,Float64}\u001b[39m\n",
      "\u001b[90m│  \u001b[39m %4  = Base.getproperty(%3, :value)\u001b[36m::Float64\u001b[39m\n",
      "\u001b[90m│  \u001b[39m %5  = (%2 * %4)\u001b[36m::Float64\u001b[39m\n",
      "\u001b[90m│  \u001b[39m       (res = Main.zero(%5))\n",
      "\u001b[90m│  \u001b[39m %7  = Main.eachindex(data_array)\u001b[36m::Base.OneTo{Int64}\u001b[39m\n",
      "\u001b[90m│  \u001b[39m       (@_4 = Base.iterate(%7))\n",
      "\u001b[90m│  \u001b[39m %9  = (@_4 === nothing)\u001b[36m::Bool\u001b[39m\n",
      "\u001b[90m│  \u001b[39m %10 = Base.not_int(%9)\u001b[36m::Bool\u001b[39m\n",
      "\u001b[90m└──\u001b[39m       goto #4 if not %10\n",
      "\u001b[90m2 ┄\u001b[39m %12 = @_4::Tuple{Int64,Int64}\u001b[36m::Tuple{Int64,Int64}\u001b[39m\n",
      "\u001b[90m│  \u001b[39m       (i = Core.getfield(%12, 1))\n",
      "\u001b[90m│  \u001b[39m %14 = Core.getfield(%12, 2)\u001b[36m::Int64\u001b[39m\n",
      "\u001b[90m│  \u001b[39m       $(Expr(:inbounds, true))\n",
      "\u001b[90m│  \u001b[39m %16 = Base.getindex(data_array, i)\u001b[36m::MyGoodData{Int64,Float64}\u001b[39m\n",
      "\u001b[90m│  \u001b[39m       (row = %16)\n",
      "\u001b[90m│  \u001b[39m       (val = %16)\n",
      "\u001b[90m│  \u001b[39m       $(Expr(:inbounds, :pop))\n",
      "\u001b[90m│  \u001b[39m       val\n",
      "\u001b[90m│  \u001b[39m %21 = res\u001b[36m::Float64\u001b[39m\n",
      "\u001b[90m│  \u001b[39m %22 = Base.getproperty(row, :id)\u001b[36m::Int64\u001b[39m\n",
      "\u001b[90m│  \u001b[39m %23 = Base.getproperty(row, :value)\u001b[36m::Float64\u001b[39m\n",
      "\u001b[90m│  \u001b[39m %24 = (%22 * %23)\u001b[36m::Float64\u001b[39m\n",
      "\u001b[90m│  \u001b[39m       (res = %21 + %24)\n",
      "\u001b[90m│  \u001b[39m       (@_4 = Base.iterate(%7, %14))\n",
      "\u001b[90m│  \u001b[39m %27 = (@_4 === nothing)\u001b[36m::Bool\u001b[39m\n",
      "\u001b[90m│  \u001b[39m %28 = Base.not_int(%27)\u001b[36m::Bool\u001b[39m\n",
      "\u001b[90m└──\u001b[39m       goto #4 if not %28\n",
      "\u001b[90m3 ─\u001b[39m       goto #2\n",
      "\u001b[90m4 ┄\u001b[39m       return res\n"
     ]
    }
   ],
   "source": [
    "@code_warntype aggregate_data(data_array_good2)"
   ]
  },
  {
   "cell_type": "markdown",
   "metadata": {},
   "source": [
    "Parametric data types give both type-stability (and thus performance) and flexibility and are therefore usually the best solution."
   ]
  },
  {
   "cell_type": "markdown",
   "metadata": {},
   "source": [
    "## Allocations"
   ]
  },
  {
   "cell_type": "code",
   "execution_count": null,
   "metadata": {},
   "outputs": [],
   "source": []
  },
  {
   "cell_type": "markdown",
   "metadata": {},
   "source": [
    "## Further Optimizations\n",
    "\n",
    "The following macros could give significant speed-ups in certain situations.\n",
    "However, there is a good reason why these optimizations are not enabled by default, therefore use with caution."
   ]
  },
  {
   "cell_type": "markdown",
   "metadata": {},
   "source": [
    "### Baseline"
   ]
  },
  {
   "cell_type": "code",
   "execution_count": 42,
   "metadata": {
    "collapsed": true,
    "jupyter": {
     "outputs_hidden": true
    }
   },
   "outputs": [
    {
     "data": {
      "text/plain": [
       "1000000-element Array{Float64,1}:\n",
       " 0.48251039775571636 \n",
       " 0.6060967900875225  \n",
       " 0.6433419971075629  \n",
       " 0.5672518352733051  \n",
       " 0.6330449556462303  \n",
       " 0.7847472161059443  \n",
       " 0.6346399388443404  \n",
       " 0.9106312549030293  \n",
       " 0.7672216770021818  \n",
       " 0.016045060370933006\n",
       " 0.002823502264714506\n",
       " 0.04043181535589446 \n",
       " 0.8424429448402266  \n",
       " ⋮                   \n",
       " 0.20209203603669912 \n",
       " 0.7235009637225687  \n",
       " 0.7721670611958109  \n",
       " 0.5345527557796439  \n",
       " 0.29539609857093296 \n",
       " 0.35311189336195103 \n",
       " 0.30548114650768987 \n",
       " 0.841808211370416   \n",
       " 0.6500169780553795  \n",
       " 0.41714463376159006 \n",
       " 0.9968664190952854  \n",
       " 0.3217207185034947  "
      ]
     },
     "execution_count": 42,
     "metadata": {},
     "output_type": "execute_result"
    }
   ],
   "source": [
    "my_array = rand(1_000_000)"
   ]
  },
  {
   "cell_type": "code",
   "execution_count": 43,
   "metadata": {},
   "outputs": [
    {
     "data": {
      "text/plain": [
       "test_agg (generic function with 1 method)"
      ]
     },
     "execution_count": 43,
     "metadata": {},
     "output_type": "execute_result"
    }
   ],
   "source": [
    "function test_agg(array)\n",
    "    res = 0.\n",
    "    for i = 1:length(array)\n",
    "        res += array[i]\n",
    "    end\n",
    "    res\n",
    "end"
   ]
  },
  {
   "cell_type": "code",
   "execution_count": 44,
   "metadata": {},
   "outputs": [
    {
     "name": "stdout",
     "output_type": "stream",
     "text": [
      "  1.826 ms (0 allocations: 0 bytes)\n"
     ]
    },
    {
     "data": {
      "text/plain": [
       "499669.7343965981"
      ]
     },
     "execution_count": 44,
     "metadata": {},
     "output_type": "execute_result"
    }
   ],
   "source": [
    "@btime test_agg($my_array)"
   ]
  },
  {
   "cell_type": "markdown",
   "metadata": {},
   "source": [
    "### Deactivation of Bounds Checks"
   ]
  },
  {
   "cell_type": "code",
   "execution_count": 45,
   "metadata": {},
   "outputs": [
    {
     "data": {
      "text/plain": [
       "test_agg_inbounds (generic function with 1 method)"
      ]
     },
     "execution_count": 45,
     "metadata": {},
     "output_type": "execute_result"
    }
   ],
   "source": [
    "function test_agg_inbounds(array)\n",
    "    res = 0.\n",
    "    for i = 1:length(array)\n",
    "        @inbounds res += array[i]\n",
    "    end\n",
    "    res\n",
    "end"
   ]
  },
  {
   "cell_type": "code",
   "execution_count": 46,
   "metadata": {},
   "outputs": [
    {
     "name": "stdout",
     "output_type": "stream",
     "text": [
      "  1.687 ms (0 allocations: 0 bytes)\n"
     ]
    },
    {
     "data": {
      "text/plain": [
       "499669.7343965981"
      ]
     },
     "execution_count": 46,
     "metadata": {},
     "output_type": "execute_result"
    }
   ],
   "source": [
    "@btime test_agg_inbounds($my_array)"
   ]
  },
  {
   "cell_type": "code",
   "execution_count": 52,
   "metadata": {},
   "outputs": [],
   "source": [
    "@assert test_agg(my_array) == test_agg_inbounds(my_array)"
   ]
  },
  {
   "cell_type": "markdown",
   "metadata": {},
   "source": [
    "The *@inbounds* macro disables array boundary checks and gives a speedup of ca. 10% here."
   ]
  },
  {
   "cell_type": "markdown",
   "metadata": {},
   "source": [
    "However, be careful:"
   ]
  },
  {
   "cell_type": "code",
   "execution_count": 63,
   "metadata": {},
   "outputs": [
    {
     "data": {
      "text/plain": [
       "test_agg_bugged (generic function with 1 method)"
      ]
     },
     "execution_count": 63,
     "metadata": {},
     "output_type": "execute_result"
    }
   ],
   "source": [
    "function test_agg_bugged(array)\n",
    "    res = 0.\n",
    "    for i = 1:length(array)+1 # bug: loop should go to length, not length + 1!\n",
    "        res += array[i]\n",
    "    end\n",
    "    res\n",
    "end"
   ]
  },
  {
   "cell_type": "code",
   "execution_count": 64,
   "metadata": {},
   "outputs": [
    {
     "ename": "BoundsError",
     "evalue": "BoundsError: attempt to access 1000000-element Array{Float64,1} at index [1000001]",
     "output_type": "error",
     "traceback": [
      "BoundsError: attempt to access 1000000-element Array{Float64,1} at index [1000001]",
      "",
      "Stacktrace:",
      " [1] getindex at ./array.jl:728 [inlined]",
      " [2] test_agg_bugged(::Array{Float64,1}) at ./In[63]:4",
      " [3] top-level scope at In[64]:1"
     ]
    }
   ],
   "source": [
    "test_agg_bugged(my_array)"
   ]
  },
  {
   "cell_type": "code",
   "execution_count": 65,
   "metadata": {},
   "outputs": [
    {
     "data": {
      "text/plain": [
       "test_agg_inbounds_bugged (generic function with 1 method)"
      ]
     },
     "execution_count": 65,
     "metadata": {},
     "output_type": "execute_result"
    }
   ],
   "source": [
    "function test_agg_inbounds_bugged(array)\n",
    "    res = 0.\n",
    "    for i = 1:length(array)+1 # bug: loop should go to length, not length + 1!\n",
    "        @inbounds res += array[i]\n",
    "    end\n",
    "    res\n",
    "end"
   ]
  },
  {
   "cell_type": "code",
   "execution_count": 69,
   "metadata": {},
   "outputs": [
    {
     "data": {
      "text/plain": [
       "499669.7343965981"
      ]
     },
     "execution_count": 69,
     "metadata": {},
     "output_type": "execute_result"
    }
   ],
   "source": [
    "test_agg_inbounds_bugged(my_array)"
   ]
  },
  {
   "cell_type": "markdown",
   "metadata": {},
   "source": [
    "The bug in the code is not detected because of the inbounds macro.\n",
    "The result of accessing an array out of bounds is not predictable."
   ]
  },
  {
   "cell_type": "markdown",
   "metadata": {},
   "source": [
    "### SIMD\n",
    "\n",
    "This macro makes use the the Single Instruction Multiple Data functionality of modern CPUs.\n",
    "\n",
    "It should only be used if the loop iterations are independent and the order of iterations can be changed."
   ]
  },
  {
   "cell_type": "code",
   "execution_count": 76,
   "metadata": {},
   "outputs": [
    {
     "data": {
      "text/plain": [
       "test_agg_simd (generic function with 1 method)"
      ]
     },
     "execution_count": 76,
     "metadata": {},
     "output_type": "execute_result"
    }
   ],
   "source": [
    "function test_agg_simd(array)\n",
    "    res = 0.\n",
    "    @simd for i = 1:length(array)\n",
    "        @inbounds res += array[i]\n",
    "    end\n",
    "    res\n",
    "end"
   ]
  },
  {
   "cell_type": "code",
   "execution_count": 77,
   "metadata": {},
   "outputs": [
    {
     "name": "stdout",
     "output_type": "stream",
     "text": [
      "  1.227 ms (0 allocations: 0 bytes)\n"
     ]
    },
    {
     "data": {
      "text/plain": [
       "499669.7343966109"
      ]
     },
     "execution_count": 77,
     "metadata": {},
     "output_type": "execute_result"
    }
   ],
   "source": [
    "@btime test_agg_simd($my_array)"
   ]
  },
  {
   "cell_type": "code",
   "execution_count": 78,
   "metadata": {},
   "outputs": [
    {
     "data": {
      "text/plain": [
       "-1.2747477740049362e-8"
      ]
     },
     "execution_count": 78,
     "metadata": {},
     "output_type": "execute_result"
    }
   ],
   "source": [
    "test_agg(my_array) - test_agg_simd(my_array)"
   ]
  },
  {
   "cell_type": "code",
   "execution_count": 86,
   "metadata": {},
   "outputs": [
    {
     "data": {
      "text/plain": [
       "true"
      ]
     },
     "execution_count": 86,
     "metadata": {},
     "output_type": "execute_result"
    }
   ],
   "source": [
    "test_agg(my_array) ≈ test_agg_simd(my_array) # type: \\approx <tab>"
   ]
  },
  {
   "cell_type": "markdown",
   "metadata": {},
   "source": [
    "The @simd macro gives a speedup of 20%, but changes (slightly) the calculation result, likely due to modified order of loop elements."
   ]
  },
  {
   "cell_type": "code",
   "execution_count": 79,
   "metadata": {},
   "outputs": [
    {
     "name": "stdout",
     "output_type": "stream",
     "text": [
      "\n",
      ";  @ In[76]:2 within `test_agg_simd'\n",
      "define double @julia_test_agg_simd_17291(%jl_value_t addrspace(10)* nonnull align 16 dereferenceable(40)) {\n",
      "top:\n",
      ";  @ In[76]:3 within `test_agg_simd'\n",
      "; ┌ @ simdloop.jl:69 within `macro expansion'\n",
      "; │┌ @ array.jl:200 within `length'\n",
      "    %1 = addrspacecast %jl_value_t addrspace(10)* %0 to %jl_value_t addrspace(11)*\n",
      "    %2 = bitcast %jl_value_t addrspace(11)* %1 to %jl_array_t addrspace(11)*\n",
      "    %3 = getelementptr inbounds %jl_array_t, %jl_array_t addrspace(11)* %2, i64 0, i32 1\n",
      "    %4 = load i64, i64 addrspace(11)* %3, align 8\n",
      "; │└\n",
      "; │┌ @ range.jl:5 within `Colon'\n",
      "; ││┌ @ range.jl:275 within `Type'\n",
      "; │││┌ @ range.jl:280 within `unitrange_last'\n",
      "; ││││┌ @ operators.jl:341 within `>='\n",
      "; │││││┌ @ int.jl:424 within `<='\n",
      "        %5 = icmp sgt i64 %4, 0\n",
      "; ││││└└\n",
      "      %6 = select i1 %5, i64 %4, i64 0\n",
      "; │└└└\n",
      "; │ @ simdloop.jl:71 within `macro expansion'\n",
      "; │┌ @ simdloop.jl:51 within `simd_inner_length'\n",
      "; ││┌ @ range.jl:541 within `length'\n",
      "; │││┌ @ checked.jl:222 within `checked_sub'\n",
      "; ││││┌ @ checked.jl:194 within `sub_with_overflow'\n",
      "       %7 = add nsw i64 %6, -1\n",
      "; │││└└\n",
      "; │││┌ @ checked.jl:165 within `checked_add'\n",
      "; ││││┌ @ checked.jl:132 within `add_with_overflow'\n",
      "       %8 = call { i64, i1 } @llvm.sadd.with.overflow.i64(i64 %7, i64 1)\n",
      "       %9 = extractvalue { i64, i1 } %8, 1\n",
      "; ││││└\n",
      "; ││││ @ checked.jl:166 within `checked_add'\n",
      "      br i1 %9, label %L17, label %L22\n",
      "\n",
      "L17:                                              ; preds = %top\n",
      "      call void @julia_throw_overflowerr_binaryop_13539(%jl_value_t addrspace(10)* addrspacecast (%jl_value_t* inttoptr (i64 140172356179280 to %jl_value_t*) to %jl_value_t addrspace(10)*), i64 %7, i64 1)\n",
      "      call void @llvm.trap()\n",
      "      unreachable\n",
      "\n",
      "L22:                                              ; preds = %top\n",
      "; ││││ @ checked.jl:165 within `checked_add'\n",
      "; ││││┌ @ checked.jl:132 within `add_with_overflow'\n",
      "       %10 = extractvalue { i64, i1 } %8, 0\n",
      "; │└└└└\n",
      "; │ @ simdloop.jl:72 within `macro expansion'\n",
      "; │┌ @ int.jl:49 within `<'\n",
      "    %11 = icmp slt i64 %10, 1\n",
      "; │└\n",
      "   br i1 %11, label %L54, label %L29.lr.ph\n",
      "\n",
      "L29.lr.ph:                                        ; preds = %L22\n",
      "   %12 = bitcast %jl_value_t addrspace(11)* %1 to double addrspace(13)* addrspace(11)*\n",
      "   %13 = load double addrspace(13)*, double addrspace(13)* addrspace(11)* %12, align 8\n",
      "; │ @ simdloop.jl:75 within `macro expansion'\n",
      "   %min.iters.check = icmp ult i64 %6, 4\n",
      "   br i1 %min.iters.check, label %scalar.ph, label %vector.ph\n",
      "\n",
      "vector.ph:                                        ; preds = %L29.lr.ph\n",
      "   %n.vec = and i64 %6, 9223372036854775804\n",
      "   br label %vector.body\n",
      "\n",
      "vector.body:                                      ; preds = %vector.body, %vector.ph\n",
      "; │ @ simdloop.jl:78 within `macro expansion'\n",
      "; │┌ @ int.jl:53 within `+'\n",
      "    %index = phi i64 [ 0, %vector.ph ], [ %index.next, %vector.body ]\n",
      "    %vec.phi = phi <2 x double> [ zeroinitializer, %vector.ph ], [ %18, %vector.body ]\n",
      "    %vec.phi18 = phi <2 x double> [ zeroinitializer, %vector.ph ], [ %19, %vector.body ]\n",
      "; │└\n",
      "; │ @ simdloop.jl:77 within `macro expansion' @ In[76]:4\n",
      "; │┌ @ array.jl:728 within `getindex'\n",
      "    %14 = getelementptr inbounds double, double addrspace(13)* %13, i64 %index\n",
      "    %15 = bitcast double addrspace(13)* %14 to <2 x double> addrspace(13)*\n",
      "    %wide.load = load <2 x double>, <2 x double> addrspace(13)* %15, align 8\n",
      "    %16 = getelementptr double, double addrspace(13)* %14, i64 2\n",
      "    %17 = bitcast double addrspace(13)* %16 to <2 x double> addrspace(13)*\n",
      "    %wide.load19 = load <2 x double>, <2 x double> addrspace(13)* %17, align 8\n",
      "; │└\n",
      "; │┌ @ float.jl:395 within `+'\n",
      "    %18 = fadd fast <2 x double> %vec.phi, %wide.load\n",
      "    %19 = fadd fast <2 x double> %vec.phi18, %wide.load19\n",
      "; │└\n",
      "; │ @ simdloop.jl:78 within `macro expansion'\n",
      "; │┌ @ int.jl:53 within `+'\n",
      "    %index.next = add i64 %index, 4\n",
      "    %20 = icmp eq i64 %index.next, %n.vec\n",
      "    br i1 %20, label %middle.block, label %vector.body\n",
      "\n",
      "middle.block:                                     ; preds = %vector.body\n",
      "; │└\n",
      "; │ @ simdloop.jl:77 within `macro expansion' @ In[76]:4\n",
      "; │┌ @ float.jl:395 within `+'\n",
      "    %bin.rdx = fadd fast <2 x double> %19, %18\n",
      "    %rdx.shuf = shufflevector <2 x double> %bin.rdx, <2 x double> undef, <2 x i32> <i32 1, i32 undef>\n",
      "    %bin.rdx20 = fadd fast <2 x double> %bin.rdx, %rdx.shuf\n",
      "    %21 = extractelement <2 x double> %bin.rdx20, i32 0\n",
      "    %cmp.n = icmp eq i64 %6, %n.vec\n",
      "; │└\n",
      "; │ @ simdloop.jl:75 within `macro expansion'\n",
      "   br i1 %cmp.n, label %L54, label %scalar.ph\n",
      "\n",
      "scalar.ph:                                        ; preds = %middle.block, %L29.lr.ph\n",
      "   %bc.resume.val = phi i64 [ %n.vec, %middle.block ], [ 0, %L29.lr.ph ]\n",
      "   %bc.merge.rdx = phi double [ %21, %middle.block ], [ 0.000000e+00, %L29.lr.ph ]\n",
      "   br label %L29\n",
      "\n",
      "L29:                                              ; preds = %scalar.ph, %L29\n",
      "   %value_phi216 = phi i64 [ %bc.resume.val, %scalar.ph ], [ %25, %L29 ]\n",
      "   %value_phi15 = phi double [ %bc.merge.rdx, %scalar.ph ], [ %24, %L29 ]\n",
      "; │ @ simdloop.jl:77 within `macro expansion' @ In[76]:4\n",
      "; │┌ @ array.jl:728 within `getindex'\n",
      "    %22 = getelementptr inbounds double, double addrspace(13)* %13, i64 %value_phi216\n",
      "    %23 = load double, double addrspace(13)* %22, align 8\n",
      "; │└\n",
      "; │┌ @ float.jl:395 within `+'\n",
      "    %24 = fadd fast double %value_phi15, %23\n",
      "; │└\n",
      "; │ @ simdloop.jl:78 within `macro expansion'\n",
      "; │┌ @ int.jl:53 within `+'\n",
      "    %25 = add nuw nsw i64 %value_phi216, 1\n",
      "; │└\n",
      "; │ @ simdloop.jl:75 within `macro expansion'\n",
      "; │┌ @ int.jl:49 within `<'\n",
      "    %26 = icmp ult i64 %25, %10\n",
      "; │└\n",
      "   br i1 %26, label %L29, label %L54\n",
      "\n",
      "L54:                                              ; preds = %L29, %middle.block, %L22\n",
      "   %value_phi5 = phi double [ 0.000000e+00, %L22 ], [ %24, %L29 ], [ %21, %middle.block ]\n",
      "; └\n",
      ";  @ In[76]:6 within `test_agg_simd'\n",
      "  ret double %value_phi5\n",
      "}\n"
     ]
    }
   ],
   "source": [
    "@code_llvm test_agg_simd(my_array)"
   ]
  },
  {
   "cell_type": "markdown",
   "metadata": {},
   "source": [
    "Note the operations on data types like *<2x double>*."
   ]
  },
  {
   "cell_type": "code",
   "execution_count": 83,
   "metadata": {},
   "outputs": [
    {
     "data": {
      "text/plain": [
       "test_agg_simd_bad (generic function with 1 method)"
      ]
     },
     "execution_count": 83,
     "metadata": {},
     "output_type": "execute_result"
    }
   ],
   "source": [
    "function test_agg_simd_bad(array)\n",
    "    res = 0.\n",
    "    @simd for i = 1:length(array)\n",
    "        res += array[i]\n",
    "    end\n",
    "    res\n",
    "end"
   ]
  },
  {
   "cell_type": "code",
   "execution_count": 84,
   "metadata": {},
   "outputs": [
    {
     "name": "stdout",
     "output_type": "stream",
     "text": [
      "  1.837 ms (0 allocations: 0 bytes)\n"
     ]
    },
    {
     "data": {
      "text/plain": [
       "499669.7343965981"
      ]
     },
     "execution_count": 84,
     "metadata": {},
     "output_type": "execute_result"
    }
   ],
   "source": [
    "@btime test_agg_simd_bad($my_array)"
   ]
  },
  {
   "cell_type": "code",
   "execution_count": 85,
   "metadata": {},
   "outputs": [
    {
     "name": "stdout",
     "output_type": "stream",
     "text": [
      "\n",
      ";  @ In[83]:2 within `test_agg_simd_bad'\n",
      "define double @julia_test_agg_simd_bad_17346(%jl_value_t addrspace(10)* nonnull align 16 dereferenceable(40)) {\n",
      "top:\n",
      ";  @ In[83]:3 within `test_agg_simd_bad'\n",
      "; ┌ @ simdloop.jl:69 within `macro expansion'\n",
      "; │┌ @ array.jl:200 within `length'\n",
      "    %1 = addrspacecast %jl_value_t addrspace(10)* %0 to %jl_value_t addrspace(11)*\n",
      "    %2 = bitcast %jl_value_t addrspace(11)* %1 to %jl_array_t addrspace(11)*\n",
      "    %3 = getelementptr inbounds %jl_array_t, %jl_array_t addrspace(11)* %2, i64 0, i32 1\n",
      "    %4 = load i64, i64 addrspace(11)* %3, align 8\n",
      "; │└\n",
      "; │┌ @ range.jl:5 within `Colon'\n",
      "; ││┌ @ range.jl:275 within `Type'\n",
      "; │││┌ @ range.jl:280 within `unitrange_last'\n",
      "; ││││┌ @ operators.jl:341 within `>='\n",
      "; │││││┌ @ int.jl:424 within `<='\n",
      "        %5 = icmp sgt i64 %4, 0\n",
      "; ││││└└\n",
      "      %6 = select i1 %5, i64 %4, i64 0\n",
      "; │└└└\n",
      "; │ @ simdloop.jl:71 within `macro expansion'\n",
      "; │┌ @ simdloop.jl:51 within `simd_inner_length'\n",
      "; ││┌ @ range.jl:541 within `length'\n",
      "; │││┌ @ checked.jl:222 within `checked_sub'\n",
      "; ││││┌ @ checked.jl:194 within `sub_with_overflow'\n",
      "       %7 = add nsw i64 %6, -1\n",
      "; │││└└\n",
      "; │││┌ @ checked.jl:165 within `checked_add'\n",
      "; ││││┌ @ checked.jl:132 within `add_with_overflow'\n",
      "       %8 = call { i64, i1 } @llvm.sadd.with.overflow.i64(i64 %7, i64 1)\n",
      "       %9 = extractvalue { i64, i1 } %8, 1\n",
      "; ││││└\n",
      "; ││││ @ checked.jl:166 within `checked_add'\n",
      "      br i1 %9, label %L17, label %L22\n",
      "\n",
      "L17:                                              ; preds = %top\n",
      "      call void @julia_throw_overflowerr_binaryop_13539(%jl_value_t addrspace(10)* addrspacecast (%jl_value_t* inttoptr (i64 140172356179280 to %jl_value_t*) to %jl_value_t addrspace(10)*), i64 %7, i64 1)\n",
      "      call void @llvm.trap()\n",
      "      unreachable\n",
      "\n",
      "L22:                                              ; preds = %top\n",
      "; ││││ @ checked.jl:165 within `checked_add'\n",
      "; ││││┌ @ checked.jl:132 within `add_with_overflow'\n",
      "       %10 = extractvalue { i64, i1 } %8, 0\n",
      "; │└└└└\n",
      "; │ @ simdloop.jl:72 within `macro expansion'\n",
      "; │┌ @ int.jl:49 within `<'\n",
      "    %11 = icmp slt i64 %10, 1\n",
      "; │└\n",
      "   br i1 %11, label %L54, label %L29.lr.ph\n",
      "\n",
      "L29.lr.ph:                                        ; preds = %L22\n",
      "   %12 = bitcast %jl_value_t addrspace(11)* %1 to double addrspace(13)* addrspace(11)*\n",
      "   %13 = load double addrspace(13)*, double addrspace(13)* addrspace(11)* %12, align 8\n",
      "; │ @ simdloop.jl:75 within `macro expansion'\n",
      "   br label %L29\n",
      "\n",
      "L29:                                              ; preds = %L29.lr.ph, %idxend\n",
      "   %value_phi218 = phi i64 [ 0, %L29.lr.ph ], [ %21, %idxend ]\n",
      "   %value_phi17 = phi double [ 0.000000e+00, %L29.lr.ph ], [ %20, %idxend ]\n",
      "; │ @ simdloop.jl:77 within `macro expansion' @ In[83]:4\n",
      "; │┌ @ array.jl:728 within `getindex'\n",
      "    %14 = icmp ult i64 %value_phi218, %4\n",
      "    br i1 %14, label %idxend, label %oob\n",
      "\n",
      "L54:                                              ; preds = %idxend, %L22\n",
      "    %value_phi5 = phi double [ 0.000000e+00, %L22 ], [ %20, %idxend ]\n",
      "; └└\n",
      ";  @ In[83]:6 within `test_agg_simd_bad'\n",
      "  ret double %value_phi5\n",
      "\n",
      "oob:                                              ; preds = %L29\n",
      ";  @ In[83]:3 within `test_agg_simd_bad'\n",
      "; ┌ @ simdloop.jl:76 within `macro expansion'\n",
      "; │┌ @ simdloop.jl:54 within `simd_index'\n",
      "; ││┌ @ range.jl:616 within `getindex'\n",
      "; │││┌ @ int.jl:53 within `+'\n",
      "      %15 = add nuw i64 %value_phi218, 1\n",
      "; │└└└\n",
      "; │ @ simdloop.jl:77 within `macro expansion' @ In[83]:4\n",
      "; │┌ @ array.jl:728 within `getindex'\n",
      "    %16 = alloca i64, align 8\n",
      "    store i64 %15, i64* %16, align 8\n",
      "    %17 = addrspacecast %jl_value_t addrspace(10)* %0 to %jl_value_t addrspace(12)*\n",
      "    call void @jl_bounds_error_ints(%jl_value_t addrspace(12)* %17, i64* nonnull %16, i64 1)\n",
      "    unreachable\n",
      "\n",
      "idxend:                                           ; preds = %L29\n",
      "    %18 = getelementptr inbounds double, double addrspace(13)* %13, i64 %value_phi218\n",
      "    %19 = load double, double addrspace(13)* %18, align 8\n",
      "; │└\n",
      "; │┌ @ float.jl:395 within `+'\n",
      "    %20 = fadd fast double %value_phi17, %19\n",
      "; │└\n",
      "; │ @ simdloop.jl:78 within `macro expansion'\n",
      "; │┌ @ int.jl:53 within `+'\n",
      "    %21 = add nuw nsw i64 %value_phi218, 1\n",
      "; │└\n",
      "; │ @ simdloop.jl:75 within `macro expansion'\n",
      "; │┌ @ int.jl:49 within `<'\n",
      "    %22 = icmp ult i64 %21, %10\n",
      "; │└\n",
      "   br i1 %22, label %L29, label %L54\n",
      "; └\n",
      "}\n"
     ]
    }
   ],
   "source": [
    "@code_llvm test_agg_simd_bad(my_array)"
   ]
  },
  {
   "cell_type": "markdown",
   "metadata": {},
   "source": [
    "Without the @inbounds macro, the array boundary checks prevent the simd optimizations - the benchmark shows no improvement w.r.t. the baseline."
   ]
  },
  {
   "cell_type": "markdown",
   "metadata": {},
   "source": [
    "## Test Case: Matrix Multiplication"
   ]
  },
  {
   "cell_type": "code",
   "execution_count": 2,
   "metadata": {},
   "outputs": [
    {
     "data": {
      "text/plain": [
       "500×500 Array{Float64,2}:\n",
       " 0.630282  0.232284    0.145581    …  0.74044    0.0700524  0.0519983\n",
       " 0.299114  0.23915     0.118918       0.633791   0.962128   0.478889 \n",
       " 0.168185  0.00492076  0.994251       0.960963   0.305943   0.722089 \n",
       " 0.58305   0.993308    0.754529       0.78087    0.715055   0.0882594\n",
       " 0.115747  0.386465    0.260422       0.715334   0.163089   0.190835 \n",
       " 0.459339  0.599688    0.958453    …  0.776069   0.99561    0.713326 \n",
       " 0.10169   0.348958    0.929393       0.389577   0.404062   0.783794 \n",
       " 0.884635  0.535604    0.00595579     0.974796   0.536745   0.976779 \n",
       " 0.467906  0.00594549  0.831054       0.586552   0.683179   0.463726 \n",
       " 0.623954  0.648676    0.723845       0.239228   0.671047   0.920496 \n",
       " 0.134643  0.869237    0.433067    …  0.0383159  0.946455   0.48502  \n",
       " 0.565846  0.521531    0.719668       0.96111    0.602503   0.858172 \n",
       " 0.203661  0.438078    0.497007       0.378051   0.385098   0.365899 \n",
       " ⋮                                 ⋱                                 \n",
       " 0.803397  0.927553    0.423831       0.132861   0.0352413  0.728862 \n",
       " 0.749309  0.0100882   0.00510979     0.204823   0.913641   0.740725 \n",
       " 0.62371   0.00728059  0.0979533   …  0.637115   0.0828051  0.456595 \n",
       " 0.840829  0.149013    0.0856088      0.200675   0.367453   0.0341059\n",
       " 0.389206  0.256894    0.471669       0.29488    0.912841   0.843327 \n",
       " 0.23772   0.950348    0.947037       0.831306   0.951286   0.597467 \n",
       " 0.334052  0.161812    0.0465501      0.923601   0.0360795  0.554104 \n",
       " 0.503028  0.412251    0.948829    …  0.252788   0.690953   0.97693  \n",
       " 0.876708  0.806851    0.681912       0.996618   0.101772   0.924659 \n",
       " 0.56647   0.413598    0.560314       0.468734   0.278156   0.944497 \n",
       " 0.167093  0.900012    0.483562       0.159886   0.0475644  0.512712 \n",
       " 0.93158   0.620527    0.225009       0.103427   0.211916   0.462382 "
      ]
     },
     "execution_count": 2,
     "metadata": {},
     "output_type": "execute_result"
    }
   ],
   "source": [
    "n = 500\n",
    "N = rand(n, n)\n",
    "M = rand(n, n)"
   ]
  },
  {
   "cell_type": "markdown",
   "metadata": {},
   "source": [
    "### Reference: OpenBLAS\n",
    "\n",
    "OpenBLAS is a highly optimized library for linear algebra. Julia matrix multiplications use OpenBLAS as default."
   ]
  },
  {
   "cell_type": "code",
   "execution_count": 8,
   "metadata": {},
   "outputs": [
    {
     "data": {
      "text/plain": [
       "\"OpenBLAS 0.3.5  USE64BITINT DYNAMIC_ARCH NO_AFFINITY Atom MAX_THREADS=16\""
      ]
     },
     "execution_count": 8,
     "metadata": {},
     "output_type": "execute_result"
    }
   ],
   "source": [
    "using LinearAlgebra\n",
    "BLAS.openblas_get_config()"
   ]
  },
  {
   "cell_type": "code",
   "execution_count": 7,
   "metadata": {},
   "outputs": [
    {
     "data": {
      "text/html": [
       "*(A::<b>AbstractArray{T,2} where T</b>, B::<b>AbstractArray{T,2} where T</b>) in LinearAlgebra at <a href=\"file:///buildworker/worker/package_linux64/build/usr/share/julia/stdlib/v1.2/LinearAlgebra/src/matmul.jl\" target=\"_blank\">/buildworker/worker/package_linux64/build/usr/share/julia/stdlib/v1.2/LinearAlgebra/src/matmul.jl:142</a>"
      ],
      "text/plain": [
       "*(A::AbstractArray{T,2} where T, B::AbstractArray{T,2} where T) in LinearAlgebra at /buildworker/worker/package_linux64/build/usr/share/julia/stdlib/v1.2/LinearAlgebra/src/matmul.jl:142"
      ]
     },
     "execution_count": 7,
     "metadata": {},
     "output_type": "execute_result"
    }
   ],
   "source": [
    "@which N*M"
   ]
  },
  {
   "cell_type": "code",
   "execution_count": 5,
   "metadata": {},
   "outputs": [
    {
     "name": "stdout",
     "output_type": "stream",
     "text": [
      "  12.826 ms (2 allocations: 1.91 MiB)\n"
     ]
    },
    {
     "data": {
      "text/plain": [
       "500×500 Array{Float64,2}:\n",
       " 122.637  110.427  128.289  114.703  …  114.817  121.77   120.75   114.863\n",
       " 129.554  117.555  133.592  121.014     127.527  129.001  130.131  125.498\n",
       " 125.61   113.853  128.694  118.609     120.628  122.566  122.973  117.979\n",
       " 121.037  114.962  124.385  110.919     119.186  126.669  120.838  114.731\n",
       " 131.012  118.692  131.38   120.819     119.363  131.157  125.982  123.225\n",
       " 127.817  118.601  132.179  121.422  …  126.092  129.82   126.114  125.017\n",
       " 125.991  116.981  129.572  119.7       120.424  130.772  124.447  119.896\n",
       " 125.592  117.341  128.491  118.69      120.824  127.63   120.905  117.262\n",
       " 126.49   115.828  129.455  114.883     118.924  126.641  125.414  121.466\n",
       " 129.472  118.136  130.769  118.805     123.592  125.65   122.708  119.605\n",
       " 125.126  119.901  133.443  118.39   …  120.571  129.758  122.975  119.778\n",
       " 120.307  111.273  128.455  112.298     117.039  121.791  123.593  116.494\n",
       " 125.871  115.401  128.584  117.619     118.766  123.931  127.175  116.733\n",
       "   ⋮                                 ⋱                                    \n",
       " 127.228  117.858  132.793  120.216     120.613  125.615  125.671  123.109\n",
       " 122.265  108.868  129.247  111.833     112.938  121.958  118.739  115.471\n",
       " 117.844  113.029  128.482  110.78   …  120.085  119.348  122.209  119.932\n",
       " 125.571  115.529  130.534  116.152     123.564  127.174  129.562  121.877\n",
       " 125.815  119.022  131.176  116.613     120.107  127.778  127.465  121.226\n",
       " 128.984  118.255  128.031  114.467     119.56   122.756  122.609  116.587\n",
       " 126.238  116.688  134.197  122.72      122.997  128.04   126.032  123.342\n",
       " 129.281  118.891  139.928  122.79   …  125.834  131.539  126.436  122.981\n",
       " 129.078  116.583  128.765  117.106     120.628  127.074  128.471  121.762\n",
       " 135.57   118.237  135.677  118.129     123.944  129.376  125.943  124.019\n",
       " 121.665  117.747  132.388  118.668     124.163  128.914  126.046  126.721\n",
       " 130.751  118.313  131.505  119.187     125.212  131.028  129.176  123.664"
      ]
     },
     "execution_count": 5,
     "metadata": {},
     "output_type": "execute_result"
    }
   ],
   "source": [
    "BLAS.set_num_threads(4)\n",
    "@btime $N*$M"
   ]
  },
  {
   "cell_type": "code",
   "execution_count": 6,
   "metadata": {},
   "outputs": [
    {
     "name": "stdout",
     "output_type": "stream",
     "text": [
      "  49.578 ms (2 allocations: 1.91 MiB)\n"
     ]
    }
   ],
   "source": [
    "BLAS.set_num_threads(1)\n",
    "@btime $N*$M\n",
    "BLAS.set_num_threads(4)"
   ]
  },
  {
   "cell_type": "markdown",
   "metadata": {},
   "source": [
    "### Implement Own Matrix Multiplication\n",
    "\n",
    "#### First Iteration"
   ]
  },
  {
   "cell_type": "code",
   "execution_count": 135,
   "metadata": {},
   "outputs": [
    {
     "data": {
      "text/plain": [
       "my_mult1 (generic function with 1 method)"
      ]
     },
     "execution_count": 135,
     "metadata": {},
     "output_type": "execute_result"
    }
   ],
   "source": [
    "function my_mult1(A:: AbstractArray{T,2}, B:: AbstractArray{T,2}) where {T}\n",
    "    @assert size(A, 2) == size(B, 1)\n",
    "    C = zeros(T, size(A,1), size(B,2))\n",
    "    for m=1:size(A, 1), n=1:size(B, 2), k=1:size(A,2)\n",
    "        C[m,n] += A[m,k]*B[k,n]\n",
    "    end\n",
    "    C\n",
    "end"
   ]
  },
  {
   "cell_type": "code",
   "execution_count": 136,
   "metadata": {},
   "outputs": [
    {
     "name": "stdout",
     "output_type": "stream",
     "text": [
      "  684.565 ms (2 allocations: 1.91 MiB)\n"
     ]
    },
    {
     "data": {
      "text/plain": [
       "500×500 Array{Float64,2}:\n",
       " 127.1    127.448  125.48   123.864  …  118.352  131.542  122.332  129.782\n",
       " 132.128  130.201  129.413  128.8       125.974  135.836  125.388  132.025\n",
       " 130.231  123.881  125.301  123.95      121.464  131.338  120.117  126.382\n",
       " 124.807  121.853  125.99   120.541     119.367  129.709  126.227  124.737\n",
       " 116.927  117.9    119.265  117.267     115.623  121.237  115.533  118.444\n",
       " 126.915  126.852  132.014  126.511  …  123.713  130.01   125.324  132.893\n",
       " 128.23   129.15   125.654  123.774     119.361  129.986  124.139  129.694\n",
       " 125.601  128.121  127.009  125.056     119.375  129.708  121.754  132.227\n",
       " 123.635  123.911  123.799  122.375     118.105  127.535  118.843  124.107\n",
       " 128.2    124.269  125.739  124.287     120.421  132.816  123.183  133.193\n",
       " 121.276  126.084  122.185  121.759  …  117.487  127.389  120.534  125.527\n",
       " 117.566  121.278  119.401  115.98      115.143  126.34   115.648  120.811\n",
       " 129.288  127.363  128.213  125.14      123.053  130.595  124.913  130.13 \n",
       "   ⋮                                 ⋱                                    \n",
       " 129.313  123.555  126.512  126.094     119.556  134.922  121.771  126.843\n",
       " 125.029  124.189  127.147  122.527     117.085  130.712  120.973  128.661\n",
       " 128.502  125.699  124.279  125.777  …  120.501  130.815  121.32   126.98 \n",
       " 118.833  117.181  118.777  115.922     112.874  121.981  115.603  126.557\n",
       " 124.05   122.226  126.021  123.978     126.283  130.697  120.595  131.533\n",
       " 128.763  128.851  131.19   125.029     120.759  130.735  119.983  129.622\n",
       " 128.73   128.248  129.659  127.219     123.515  133.256  126.1    132.33 \n",
       " 138.666  134.58   137.163  134.937  …  128.627  140.873  126.564  141.742\n",
       " 120.545  115.565  115.514  118.829     112.035  122.186  112.154  119.039\n",
       " 131.858  131.668  129.555  126.874     122.966  135.786  127.224  135.348\n",
       " 126.905  126.472  127.695  125.794     122.768  133.053  125.341  130.882\n",
       " 130.281  122.432  125.758  125.106     118.173  129.494  123.744  127.144"
      ]
     },
     "execution_count": 136,
     "metadata": {},
     "output_type": "execute_result"
    }
   ],
   "source": [
    "@assert N*M ≈ my_mult1(N,M)\n",
    "@btime my_mult1($N, $M)"
   ]
  },
  {
   "cell_type": "markdown",
   "metadata": {},
   "source": [
    "This is 50 times slower than OpenBlas."
   ]
  },
  {
   "cell_type": "markdown",
   "metadata": {},
   "source": [
    "#### Disable Bounds Checks"
   ]
  },
  {
   "cell_type": "code",
   "execution_count": 142,
   "metadata": {},
   "outputs": [
    {
     "data": {
      "text/plain": [
       "my_mult2 (generic function with 1 method)"
      ]
     },
     "execution_count": 142,
     "metadata": {},
     "output_type": "execute_result"
    }
   ],
   "source": [
    "function my_mult2(A:: AbstractArray{T,2}, B:: AbstractArray{T,2}) where {T}\n",
    "    @assert size(A, 2) == size(B, 1)\n",
    "    C = zeros(T, size(A,1), size(B,2))\n",
    "    for m=1:size(A, 1), n=1:size(B, 2), k=1:size(A,2)\n",
    "        @inbounds C[m,n] += A[m,k]*B[k,n]\n",
    "    end\n",
    "    C\n",
    "end"
   ]
  },
  {
   "cell_type": "code",
   "execution_count": 143,
   "metadata": {},
   "outputs": [
    {
     "name": "stdout",
     "output_type": "stream",
     "text": [
      "  488.234 ms (2 allocations: 1.91 MiB)\n"
     ]
    },
    {
     "data": {
      "text/plain": [
       "500×500 Array{Float64,2}:\n",
       " 127.1    127.448  125.48   123.864  …  118.352  131.542  122.332  129.782\n",
       " 132.128  130.201  129.413  128.8       125.974  135.836  125.388  132.025\n",
       " 130.231  123.881  125.301  123.95      121.464  131.338  120.117  126.382\n",
       " 124.807  121.853  125.99   120.541     119.367  129.709  126.227  124.737\n",
       " 116.927  117.9    119.265  117.267     115.623  121.237  115.533  118.444\n",
       " 126.915  126.852  132.014  126.511  …  123.713  130.01   125.324  132.893\n",
       " 128.23   129.15   125.654  123.774     119.361  129.986  124.139  129.694\n",
       " 125.601  128.121  127.009  125.056     119.375  129.708  121.754  132.227\n",
       " 123.635  123.911  123.799  122.375     118.105  127.535  118.843  124.107\n",
       " 128.2    124.269  125.739  124.287     120.421  132.816  123.183  133.193\n",
       " 121.276  126.084  122.185  121.759  …  117.487  127.389  120.534  125.527\n",
       " 117.566  121.278  119.401  115.98      115.143  126.34   115.648  120.811\n",
       " 129.288  127.363  128.213  125.14      123.053  130.595  124.913  130.13 \n",
       "   ⋮                                 ⋱                                    \n",
       " 129.313  123.555  126.512  126.094     119.556  134.922  121.771  126.843\n",
       " 125.029  124.189  127.147  122.527     117.085  130.712  120.973  128.661\n",
       " 128.502  125.699  124.279  125.777  …  120.501  130.815  121.32   126.98 \n",
       " 118.833  117.181  118.777  115.922     112.874  121.981  115.603  126.557\n",
       " 124.05   122.226  126.021  123.978     126.283  130.697  120.595  131.533\n",
       " 128.763  128.851  131.19   125.029     120.759  130.735  119.983  129.622\n",
       " 128.73   128.248  129.659  127.219     123.515  133.256  126.1    132.33 \n",
       " 138.666  134.58   137.163  134.937  …  128.627  140.873  126.564  141.742\n",
       " 120.545  115.565  115.514  118.829     112.035  122.186  112.154  119.039\n",
       " 131.858  131.668  129.555  126.874     122.966  135.786  127.224  135.348\n",
       " 126.905  126.472  127.695  125.794     122.768  133.053  125.341  130.882\n",
       " 130.281  122.432  125.758  125.106     118.173  129.494  123.744  127.144"
      ]
     },
     "execution_count": 143,
     "metadata": {},
     "output_type": "execute_result"
    }
   ],
   "source": [
    "@assert N*M ≈ my_mult2(N,M)\n",
    "@btime my_mult2($N, $M)"
   ]
  },
  {
   "cell_type": "markdown",
   "metadata": {},
   "source": [
    "A bit better, \"only\" 45 times slower than OpenBLAS."
   ]
  },
  {
   "cell_type": "markdown",
   "metadata": {},
   "source": [
    "#### Re-Order For Loops to Match Memory Layout"
   ]
  },
  {
   "cell_type": "code",
   "execution_count": 144,
   "metadata": {},
   "outputs": [
    {
     "data": {
      "text/plain": [
       "my_mult3 (generic function with 1 method)"
      ]
     },
     "execution_count": 144,
     "metadata": {},
     "output_type": "execute_result"
    }
   ],
   "source": [
    "function my_mult3(A:: AbstractArray{T,2}, B:: AbstractArray{T,2}) where {T}\n",
    "    @assert size(A, 2) == size(B, 1)\n",
    "    C = zeros(T, size(A,1), size(B,2))\n",
    "    for n=1:size(B, 2), k=1:size(A,2), m=1:size(A, 1)\n",
    "        @inbounds C[m,n] += A[m,k]*B[k,n]\n",
    "    end\n",
    "    C\n",
    "end"
   ]
  },
  {
   "cell_type": "markdown",
   "metadata": {},
   "source": [
    "Arrays in Julia are column-major, i.e. the leftmost index should be in the innermost loop.\n",
    "\n",
    "For this, the order of the for loops must be reverse to the order of indices in the matrix operations."
   ]
  },
  {
   "cell_type": "code",
   "execution_count": 145,
   "metadata": {},
   "outputs": [
    {
     "name": "stdout",
     "output_type": "stream",
     "text": [
      "  180.792 ms (2 allocations: 1.91 MiB)\n"
     ]
    },
    {
     "data": {
      "text/plain": [
       "500×500 Array{Float64,2}:\n",
       " 127.1    127.448  125.48   123.864  …  118.352  131.542  122.332  129.782\n",
       " 132.128  130.201  129.413  128.8       125.974  135.836  125.388  132.025\n",
       " 130.231  123.881  125.301  123.95      121.464  131.338  120.117  126.382\n",
       " 124.807  121.853  125.99   120.541     119.367  129.709  126.227  124.737\n",
       " 116.927  117.9    119.265  117.267     115.623  121.237  115.533  118.444\n",
       " 126.915  126.852  132.014  126.511  …  123.713  130.01   125.324  132.893\n",
       " 128.23   129.15   125.654  123.774     119.361  129.986  124.139  129.694\n",
       " 125.601  128.121  127.009  125.056     119.375  129.708  121.754  132.227\n",
       " 123.635  123.911  123.799  122.375     118.105  127.535  118.843  124.107\n",
       " 128.2    124.269  125.739  124.287     120.421  132.816  123.183  133.193\n",
       " 121.276  126.084  122.185  121.759  …  117.487  127.389  120.534  125.527\n",
       " 117.566  121.278  119.401  115.98      115.143  126.34   115.648  120.811\n",
       " 129.288  127.363  128.213  125.14      123.053  130.595  124.913  130.13 \n",
       "   ⋮                                 ⋱                                    \n",
       " 129.313  123.555  126.512  126.094     119.556  134.922  121.771  126.843\n",
       " 125.029  124.189  127.147  122.527     117.085  130.712  120.973  128.661\n",
       " 128.502  125.699  124.279  125.777  …  120.501  130.815  121.32   126.98 \n",
       " 118.833  117.181  118.777  115.922     112.874  121.981  115.603  126.557\n",
       " 124.05   122.226  126.021  123.978     126.283  130.697  120.595  131.533\n",
       " 128.763  128.851  131.19   125.029     120.759  130.735  119.983  129.622\n",
       " 128.73   128.248  129.659  127.219     123.515  133.256  126.1    132.33 \n",
       " 138.666  134.58   137.163  134.937  …  128.627  140.873  126.564  141.742\n",
       " 120.545  115.565  115.514  118.829     112.035  122.186  112.154  119.039\n",
       " 131.858  131.668  129.555  126.874     122.966  135.786  127.224  135.348\n",
       " 126.905  126.472  127.695  125.794     122.768  133.053  125.341  130.882\n",
       " 130.281  122.432  125.758  125.106     118.173  129.494  123.744  127.144"
      ]
     },
     "execution_count": 145,
     "metadata": {},
     "output_type": "execute_result"
    }
   ],
   "source": [
    "@assert N*M ≈ my_mult3(N,M)\n",
    "@btime my_mult3($N, $M)"
   ]
  },
  {
   "cell_type": "markdown",
   "metadata": {},
   "source": [
    "Much better, only 14 times slower than OpenBlas."
   ]
  },
  {
   "cell_type": "markdown",
   "metadata": {},
   "source": [
    "#### SIMD"
   ]
  },
  {
   "cell_type": "code",
   "execution_count": 150,
   "metadata": {},
   "outputs": [
    {
     "data": {
      "text/plain": [
       "my_mult4 (generic function with 1 method)"
      ]
     },
     "execution_count": 150,
     "metadata": {},
     "output_type": "execute_result"
    }
   ],
   "source": [
    "function my_mult4(A:: AbstractArray{T,2}, B:: AbstractArray{T,2}) where {T}\n",
    "    @assert size(A, 2) == size(B, 1)\n",
    "    C = zeros(T, size(A,1), size(B,2))\n",
    "    for n=1:size(B, 2), k=1:size(A,2)\n",
    "        @simd for m=1:size(A, 1)\n",
    "            @inbounds C[m,n] += A[m,k]*B[k,n]\n",
    "        end\n",
    "    end\n",
    "    C\n",
    "end"
   ]
  },
  {
   "cell_type": "code",
   "execution_count": 151,
   "metadata": {},
   "outputs": [
    {
     "name": "stdout",
     "output_type": "stream",
     "text": [
      "  180.917 ms (2 allocations: 1.91 MiB)\n"
     ]
    },
    {
     "data": {
      "text/plain": [
       "500×500 Array{Float64,2}:\n",
       " 127.1    127.448  125.48   123.864  …  118.352  131.542  122.332  129.782\n",
       " 132.128  130.201  129.413  128.8       125.974  135.836  125.388  132.025\n",
       " 130.231  123.881  125.301  123.95      121.464  131.338  120.117  126.382\n",
       " 124.807  121.853  125.99   120.541     119.367  129.709  126.227  124.737\n",
       " 116.927  117.9    119.265  117.267     115.623  121.237  115.533  118.444\n",
       " 126.915  126.852  132.014  126.511  …  123.713  130.01   125.324  132.893\n",
       " 128.23   129.15   125.654  123.774     119.361  129.986  124.139  129.694\n",
       " 125.601  128.121  127.009  125.056     119.375  129.708  121.754  132.227\n",
       " 123.635  123.911  123.799  122.375     118.105  127.535  118.843  124.107\n",
       " 128.2    124.269  125.739  124.287     120.421  132.816  123.183  133.193\n",
       " 121.276  126.084  122.185  121.759  …  117.487  127.389  120.534  125.527\n",
       " 117.566  121.278  119.401  115.98      115.143  126.34   115.648  120.811\n",
       " 129.288  127.363  128.213  125.14      123.053  130.595  124.913  130.13 \n",
       "   ⋮                                 ⋱                                    \n",
       " 129.313  123.555  126.512  126.094     119.556  134.922  121.771  126.843\n",
       " 125.029  124.189  127.147  122.527     117.085  130.712  120.973  128.661\n",
       " 128.502  125.699  124.279  125.777  …  120.501  130.815  121.32   126.98 \n",
       " 118.833  117.181  118.777  115.922     112.874  121.981  115.603  126.557\n",
       " 124.05   122.226  126.021  123.978     126.283  130.697  120.595  131.533\n",
       " 128.763  128.851  131.19   125.029     120.759  130.735  119.983  129.622\n",
       " 128.73   128.248  129.659  127.219     123.515  133.256  126.1    132.33 \n",
       " 138.666  134.58   137.163  134.937  …  128.627  140.873  126.564  141.742\n",
       " 120.545  115.565  115.514  118.829     112.035  122.186  112.154  119.039\n",
       " 131.858  131.668  129.555  126.874     122.966  135.786  127.224  135.348\n",
       " 126.905  126.472  127.695  125.794     122.768  133.053  125.341  130.882\n",
       " 130.281  122.432  125.758  125.106     118.173  129.494  123.744  127.144"
      ]
     },
     "execution_count": 151,
     "metadata": {},
     "output_type": "execute_result"
    }
   ],
   "source": [
    "@assert N*M ≈ my_mult4(N,M)\n",
    "@btime my_mult4($N, $M)"
   ]
  },
  {
   "cell_type": "markdown",
   "metadata": {},
   "source": [
    "No performance gain from adding @simd.\n",
    "Why?"
   ]
  },
  {
   "cell_type": "code",
   "execution_count": 153,
   "metadata": {
    "collapsed": true,
    "jupyter": {
     "outputs_hidden": true
    }
   },
   "outputs": [
    {
     "name": "stdout",
     "output_type": "stream",
     "text": [
      "\n",
      ";  @ In[144]:2 within `my_mult3'\n",
      "define nonnull %jl_value_t addrspace(10)* @japi1_my_mult3_17903(%jl_value_t addrspace(10)*, %jl_value_t addrspace(10)**, i32) #0 {\n",
      "top:\n",
      "  %gcframe = alloca %jl_value_t addrspace(10)*, i32 3\n",
      "  %3 = bitcast %jl_value_t addrspace(10)** %gcframe to i8*\n",
      "  call void @llvm.memset.p0i8.i32(i8* %3, i8 0, i32 24, i32 0, i1 false)\n",
      "  %4 = alloca %jl_value_t addrspace(10)**, align 8\n",
      "  store volatile %jl_value_t addrspace(10)** %1, %jl_value_t addrspace(10)*** %4, align 8\n",
      "  %thread_ptr = call i8* asm \"movq %fs:0, $0\", \"=r\"()\n",
      "  %ptls_i8 = getelementptr i8, i8* %thread_ptr, i64 -15560\n",
      "  %ptls = bitcast i8* %ptls_i8 to %jl_value_t***\n",
      "  %5 = getelementptr %jl_value_t addrspace(10)*, %jl_value_t addrspace(10)** %gcframe, i32 0\n",
      "  %6 = bitcast %jl_value_t addrspace(10)** %5 to i64*\n",
      "  store i64 2, i64* %6\n",
      "  %7 = getelementptr %jl_value_t**, %jl_value_t*** %ptls, i32 0\n",
      "  %8 = getelementptr %jl_value_t addrspace(10)*, %jl_value_t addrspace(10)** %gcframe, i32 1\n",
      "  %9 = bitcast %jl_value_t addrspace(10)** %8 to %jl_value_t***\n",
      "  %10 = load %jl_value_t**, %jl_value_t*** %7\n",
      "  store %jl_value_t** %10, %jl_value_t*** %9\n",
      "  %11 = bitcast %jl_value_t*** %7 to %jl_value_t addrspace(10)***\n",
      "  store %jl_value_t addrspace(10)** %gcframe, %jl_value_t addrspace(10)*** %11\n",
      "  %12 = load %jl_value_t addrspace(10)*, %jl_value_t addrspace(10)** %1, align 8\n",
      "  %13 = getelementptr inbounds %jl_value_t addrspace(10)*, %jl_value_t addrspace(10)** %1, i64 1\n",
      "  %14 = load %jl_value_t addrspace(10)*, %jl_value_t addrspace(10)** %13, align 8\n",
      "; ┌ @ array.jl:154 within `size'\n",
      "   %15 = addrspacecast %jl_value_t addrspace(10)* %12 to %jl_value_t addrspace(11)*\n",
      "   %16 = bitcast %jl_value_t addrspace(11)* %15 to %jl_value_t addrspace(10)* addrspace(11)*\n",
      "   %17 = getelementptr inbounds %jl_value_t addrspace(10)*, %jl_value_t addrspace(10)* addrspace(11)* %16, i64 4\n",
      "   %18 = bitcast %jl_value_t addrspace(10)* addrspace(11)* %17 to i64 addrspace(11)*\n",
      "   %19 = load i64, i64 addrspace(11)* %18, align 8\n",
      "   %20 = addrspacecast %jl_value_t addrspace(10)* %14 to %jl_value_t addrspace(11)*\n",
      "   %21 = bitcast %jl_value_t addrspace(11)* %20 to %jl_value_t addrspace(10)* addrspace(11)*\n",
      "   %22 = getelementptr inbounds %jl_value_t addrspace(10)*, %jl_value_t addrspace(10)* addrspace(11)* %21, i64 3\n",
      "   %23 = bitcast %jl_value_t addrspace(10)* addrspace(11)* %22 to i64 addrspace(11)*\n",
      "   %24 = load i64, i64 addrspace(11)* %23, align 8\n",
      "; └\n",
      "; ┌ @ promotion.jl:403 within `=='\n",
      "   %25 = icmp eq i64 %19, %24\n",
      "; └\n",
      "  br i1 %25, label %L5, label %L92\n",
      "\n",
      "L5:                                               ; preds = %top\n",
      ";  @ In[144]:3 within `my_mult3'\n",
      "; ┌ @ array.jl:154 within `size'\n",
      "   %26 = getelementptr inbounds %jl_value_t addrspace(10)*, %jl_value_t addrspace(10)* addrspace(11)* %16, i64 3\n",
      "   %27 = bitcast %jl_value_t addrspace(10)* addrspace(11)* %26 to i64 addrspace(11)*\n",
      "   %28 = load i64, i64 addrspace(11)* %27, align 8\n",
      "   %29 = getelementptr inbounds %jl_value_t addrspace(10)*, %jl_value_t addrspace(10)* addrspace(11)* %21, i64 4\n",
      "   %30 = bitcast %jl_value_t addrspace(10)* addrspace(11)* %29 to i64 addrspace(11)*\n",
      "   %31 = load i64, i64 addrspace(11)* %30, align 8\n",
      "; └\n",
      "; ┌ @ array.jl:441 within `zeros' @ array.jl:445\n",
      "; │┌ @ boot.jl:414 within `Type' @ boot.jl:406\n",
      "    %32 = call %jl_value_t addrspace(10)* inttoptr (i64 140172649432576 to %jl_value_t addrspace(10)* (%jl_value_t addrspace(10)*, i64, i64)*)(%jl_value_t addrspace(10)* addrspacecast (%jl_value_t* inttoptr (i64 140172450217488 to %jl_value_t*) to %jl_value_t addrspace(10)*), i64 %28, i64 %31)\n",
      "    %33 = getelementptr %jl_value_t addrspace(10)*, %jl_value_t addrspace(10)** %gcframe, i32 2\n",
      "    store %jl_value_t addrspace(10)* %32, %jl_value_t addrspace(10)** %33\n",
      "; │└\n",
      "; │ @ array.jl:441 within `zeros' @ array.jl:446\n",
      "   %34 = call nonnull %jl_value_t addrspace(10)* @\"julia_fill!_9011\"(%jl_value_t addrspace(10)* %32, double 0.000000e+00)\n",
      "; └\n",
      ";  @ In[144]:4 within `my_mult3'\n",
      "; ┌ @ range.jl:5 within `Colon'\n",
      "; │┌ @ range.jl:275 within `Type'\n",
      "; ││┌ @ range.jl:280 within `unitrange_last'\n",
      "; │││┌ @ operators.jl:341 within `>='\n",
      "; ││││┌ @ int.jl:424 within `<='\n",
      "       %35 = icmp sgt i64 %31, 0\n",
      "       %36 = icmp sgt i64 %19, 0\n",
      "; └└└└└\n",
      "  %or.cond = and i1 %35, %36\n",
      "  br i1 %or.cond, label %L17.L22_crit_edge.split.us, label %L91\n",
      "\n",
      "L17.L22_crit_edge.split.us:                       ; preds = %L5\n",
      "  %37 = icmp sgt i64 %28, 0\n",
      "  %38 = select i1 %37, i64 %28, i64 0\n",
      "  %39 = addrspacecast %jl_value_t addrspace(10)* %32 to %jl_value_t addrspace(11)*\n",
      "  %40 = bitcast %jl_value_t addrspace(11)* %39 to %jl_value_t addrspace(10)* addrspace(11)*\n",
      "  %41 = getelementptr inbounds %jl_value_t addrspace(10)*, %jl_value_t addrspace(10)* addrspace(11)* %40, i64 3\n",
      "  %42 = bitcast %jl_value_t addrspace(10)* addrspace(11)* %41 to i64 addrspace(11)*\n",
      "  %43 = bitcast %jl_value_t addrspace(11)* %39 to double addrspace(13)* addrspace(11)*\n",
      "  %44 = bitcast %jl_value_t addrspace(11)* %15 to double addrspace(13)* addrspace(11)*\n",
      "  %45 = load double addrspace(13)*, double addrspace(13)* addrspace(11)* %44, align 8\n",
      "  %46 = bitcast %jl_value_t addrspace(11)* %20 to double addrspace(13)* addrspace(11)*\n",
      "  %47 = load double addrspace(13)*, double addrspace(13)* addrspace(11)* %46, align 8\n",
      "  br label %L31.L36_crit_edge.us\n",
      "\n",
      "L31.L36_crit_edge.us:                             ; preds = %L17.L22_crit_edge.split.us, %L80.us\n",
      "  %indvar = phi i64 [ 0, %L17.L22_crit_edge.split.us ], [ %indvar.next, %L80.us ]\n",
      "  %value_phi3.us = phi i64 [ 1, %L17.L22_crit_edge.split.us ], [ %51, %L80.us ]\n",
      "  %48 = shl i64 %indvar, 3\n",
      "  %49 = mul i64 %19, %indvar\n",
      "  br i1 %37, label %L31.L36_crit_edge.split.us.us, label %L80.us\n",
      "\n",
      "L80.us:                                           ; preds = %L69.us.us, %L31.L36_crit_edge.us\n",
      ";  @ In[144]:5 within `my_mult3'\n",
      "; ┌ @ range.jl:595 within `iterate'\n",
      "; │┌ @ promotion.jl:403 within `=='\n",
      "    %50 = icmp eq i64 %value_phi3.us, %31\n",
      "; │└\n",
      "; │ @ range.jl:596 within `iterate'\n",
      "; │┌ @ int.jl:53 within `+'\n",
      "    %51 = add nuw i64 %value_phi3.us, 1\n",
      "; └└\n",
      "  %indvar.next = add i64 %indvar, 1\n",
      "  br i1 %50, label %L91, label %L31.L36_crit_edge.us\n",
      "\n",
      "L45.L50_crit_edge.us.us:                          ; preds = %L69.us.us, %L31.L36_crit_edge.split.us.us\n",
      "  %indvar42 = phi i64 [ %indvar.next43, %L69.us.us ], [ 0, %L31.L36_crit_edge.split.us.us ]\n",
      "  %value_phi8.us.us = phi i64 [ %88, %L69.us.us ], [ 1, %L31.L36_crit_edge.split.us.us ]\n",
      "  %52 = mul i64 %28, %indvar42\n",
      "  %53 = load i64, i64 addrspace(11)* %42, align 8\n",
      "  %54 = mul i64 %53, %101\n",
      "  %55 = load double addrspace(13)*, double addrspace(13)* addrspace(11)* %43, align 8\n",
      "  %56 = add nsw i64 %value_phi8.us.us, -1\n",
      "  %57 = mul i64 %28, %56\n",
      "  %58 = add i64 %56, %102\n",
      "  %59 = getelementptr inbounds double, double addrspace(13)* %47, i64 %58\n",
      ";  @ In[144]:4 within `my_mult3'\n",
      "  %min.iters.check = icmp ult i64 %38, 4\n",
      "  br i1 %min.iters.check, label %scalar.ph, label %vector.memcheck\n",
      "\n",
      "vector.memcheck:                                  ; preds = %L45.L50_crit_edge.us.us\n",
      "  %60 = bitcast double addrspace(13)* %55 to i8 addrspace(13)*\n",
      "  %61 = add i64 %49, %indvar42\n",
      "  %scevgep48 = getelementptr double, double addrspace(13)* %47, i64 %61\n",
      "  %scevgep4849 = bitcast double addrspace(13)* %scevgep48 to i8 addrspace(13)*\n",
      "  %uglygep50 = getelementptr i8, i8 addrspace(13)* %scevgep4849, i64 1\n",
      "  %62 = add i64 %38, %52\n",
      "  %scevgep46 = getelementptr double, double addrspace(13)* %45, i64 %62\n",
      "  %scevgep4647 = bitcast double addrspace(13)* %scevgep46 to i8 addrspace(13)*\n",
      "  %scevgep44 = getelementptr double, double addrspace(13)* %45, i64 %52\n",
      "  %scevgep4445 = bitcast double addrspace(13)* %scevgep44 to i8 addrspace(13)*\n",
      "  %63 = mul i64 %48, %53\n",
      "  %uglygep = getelementptr i8, i8 addrspace(13)* %60, i64 %63\n",
      "  %scevgep = getelementptr double, double addrspace(13)* %55, i64 %38\n",
      "  %scevgep40 = bitcast double addrspace(13)* %scevgep to i8 addrspace(13)*\n",
      "  %uglygep41 = getelementptr i8, i8 addrspace(13)* %scevgep40, i64 %63\n",
      "  %bound0 = icmp ult i8 addrspace(13)* %uglygep, %scevgep4647\n",
      "  %bound1 = icmp ugt i8 addrspace(13)* %uglygep41, %scevgep4445\n",
      "  %found.conflict = and i1 %bound0, %bound1\n",
      "  %bc = bitcast double addrspace(13)* %59 to i8 addrspace(13)*\n",
      "  %bound051 = icmp ult i8 addrspace(13)* %uglygep, %uglygep50\n",
      "  %bound152 = icmp ugt i8 addrspace(13)* %uglygep41, %bc\n",
      "  %found.conflict53 = and i1 %bound051, %bound152\n",
      "  %conflict.rdx = or i1 %found.conflict, %found.conflict53\n",
      "  br i1 %conflict.rdx, label %scalar.ph, label %vector.ph\n",
      "\n",
      "vector.ph:                                        ; preds = %vector.memcheck\n",
      "  %n.vec = and i64 %38, 9223372036854775804\n",
      "  %ind.end = or i64 %n.vec, 1\n",
      "  br label %vector.body\n",
      "\n",
      "vector.body:                                      ; preds = %vector.body, %vector.ph\n",
      "  %index = phi i64 [ 0, %vector.ph ], [ %index.next, %vector.body ]\n",
      "  %offset.idx = or i64 %index, 1\n",
      ";  @ In[144]:5 within `my_mult3'\n",
      "; ┌ @ array.jl:729 within `getindex'\n",
      "   %64 = add nsw i64 %offset.idx, -1\n",
      "   %65 = add i64 %64, %54\n",
      "   %66 = getelementptr inbounds double, double addrspace(13)* %55, i64 %65\n",
      "   %67 = bitcast double addrspace(13)* %66 to <2 x double> addrspace(13)*\n",
      "   %wide.load = load <2 x double>, <2 x double> addrspace(13)* %67, align 8\n",
      "   %68 = getelementptr double, double addrspace(13)* %66, i64 2\n",
      "   %69 = bitcast double addrspace(13)* %68 to <2 x double> addrspace(13)*\n",
      "   %wide.load55 = load <2 x double>, <2 x double> addrspace(13)* %69, align 8\n",
      "   %70 = add i64 %64, %57\n",
      "   %71 = getelementptr inbounds double, double addrspace(13)* %45, i64 %70\n",
      "   %72 = bitcast double addrspace(13)* %71 to <2 x double> addrspace(13)*\n",
      "   %wide.load56 = load <2 x double>, <2 x double> addrspace(13)* %72, align 8\n",
      "   %73 = getelementptr double, double addrspace(13)* %71, i64 2\n",
      "   %74 = bitcast double addrspace(13)* %73 to <2 x double> addrspace(13)*\n",
      "   %wide.load57 = load <2 x double>, <2 x double> addrspace(13)* %74, align 8\n",
      "   %75 = load double, double addrspace(13)* %59, align 8\n",
      "   %76 = insertelement <2 x double> undef, double %75, i32 0\n",
      "   %77 = shufflevector <2 x double> %76, <2 x double> undef, <2 x i32> zeroinitializer\n",
      "   %78 = insertelement <2 x double> undef, double %75, i32 0\n",
      "   %79 = shufflevector <2 x double> %78, <2 x double> undef, <2 x i32> zeroinitializer\n",
      "   %80 = fmul <2 x double> %wide.load56, %77\n",
      "   %81 = fmul <2 x double> %wide.load57, %79\n",
      "; └\n",
      "; ┌ @ float.jl:395 within `+'\n",
      "   %82 = fadd <2 x double> %wide.load, %80\n",
      "   %83 = fadd <2 x double> %wide.load55, %81\n",
      "; └\n",
      "; ┌ @ array.jl:768 within `setindex!'\n",
      "   %84 = bitcast double addrspace(13)* %66 to <2 x double> addrspace(13)*\n",
      "   store <2 x double> %82, <2 x double> addrspace(13)* %84, align 8\n",
      "   %85 = bitcast double addrspace(13)* %68 to <2 x double> addrspace(13)*\n",
      "   store <2 x double> %83, <2 x double> addrspace(13)* %85, align 8\n",
      "   %index.next = add i64 %index, 4\n",
      "   %86 = icmp eq i64 %index.next, %n.vec\n",
      "   br i1 %86, label %middle.block, label %vector.body\n",
      "\n",
      "middle.block:                                     ; preds = %vector.body\n",
      "   %cmp.n = icmp eq i64 %38, %n.vec\n",
      "; └\n",
      ";  @ In[144]:4 within `my_mult3'\n",
      "  br i1 %cmp.n, label %L69.us.us, label %scalar.ph\n",
      "\n",
      "scalar.ph:                                        ; preds = %middle.block, %vector.memcheck, %L45.L50_crit_edge.us.us\n",
      "  %bc.resume.val = phi i64 [ %ind.end, %middle.block ], [ 1, %L45.L50_crit_edge.us.us ], [ 1, %vector.memcheck ]\n",
      "  br label %L50.us.us\n",
      "\n",
      "L69.us.us:                                        ; preds = %middle.block, %L50.us.us\n",
      ";  @ In[144]:5 within `my_mult3'\n",
      "; ┌ @ range.jl:595 within `iterate'\n",
      "; │┌ @ promotion.jl:403 within `=='\n",
      "    %87 = icmp eq i64 %value_phi8.us.us, %19\n",
      "; │└\n",
      "; │ @ range.jl:596 within `iterate'\n",
      "; │┌ @ int.jl:53 within `+'\n",
      "    %88 = add nuw i64 %value_phi8.us.us, 1\n",
      "; └└\n",
      "  %indvar.next43 = add i64 %indvar42, 1\n",
      "  br i1 %87, label %L80.us, label %L45.L50_crit_edge.us.us\n",
      "\n",
      "L50.us.us:                                        ; preds = %L50.us.us, %scalar.ph\n",
      "  %value_phi13.us.us = phi i64 [ %bc.resume.val, %scalar.ph ], [ %100, %L50.us.us ]\n",
      "; ┌ @ array.jl:729 within `getindex'\n",
      "   %89 = add nsw i64 %value_phi13.us.us, -1\n",
      "   %90 = add i64 %89, %54\n",
      "   %91 = getelementptr inbounds double, double addrspace(13)* %55, i64 %90\n",
      "   %92 = load double, double addrspace(13)* %91, align 8\n",
      "   %93 = add i64 %89, %57\n",
      "   %94 = getelementptr inbounds double, double addrspace(13)* %45, i64 %93\n",
      "   %95 = load double, double addrspace(13)* %94, align 8\n",
      "   %96 = load double, double addrspace(13)* %59, align 8\n",
      "; └\n",
      "; ┌ @ float.jl:399 within `*'\n",
      "   %97 = fmul double %95, %96\n",
      "; └\n",
      "; ┌ @ float.jl:395 within `+'\n",
      "   %98 = fadd double %92, %97\n",
      "; └\n",
      "; ┌ @ array.jl:768 within `setindex!'\n",
      "   store double %98, double addrspace(13)* %91, align 8\n",
      "; └\n",
      "; ┌ @ range.jl:595 within `iterate'\n",
      "; │┌ @ promotion.jl:403 within `=='\n",
      "    %99 = icmp eq i64 %value_phi13.us.us, %38\n",
      "; │└\n",
      "; │ @ range.jl:596 within `iterate'\n",
      "; │┌ @ int.jl:53 within `+'\n",
      "    %100 = add nuw i64 %value_phi13.us.us, 1\n",
      "; └└\n",
      "  br i1 %99, label %L69.us.us, label %L50.us.us\n",
      "\n",
      "L31.L36_crit_edge.split.us.us:                    ; preds = %L31.L36_crit_edge.us\n",
      "  %101 = add nsw i64 %value_phi3.us, -1\n",
      "  %102 = mul i64 %19, %101\n",
      ";  @ In[144]:4 within `my_mult3'\n",
      "  br label %L45.L50_crit_edge.us.us\n",
      "\n",
      "L91:                                              ; preds = %L80.us, %L5\n",
      ";  @ In[144]:7 within `my_mult3'\n",
      "  %103 = getelementptr %jl_value_t addrspace(10)*, %jl_value_t addrspace(10)** %gcframe, i32 1\n",
      "  %104 = load %jl_value_t addrspace(10)*, %jl_value_t addrspace(10)** %103\n",
      "  %105 = getelementptr %jl_value_t**, %jl_value_t*** %ptls, i32 0\n",
      "  %106 = bitcast %jl_value_t*** %105 to %jl_value_t addrspace(10)**\n",
      "  store %jl_value_t addrspace(10)* %104, %jl_value_t addrspace(10)** %106\n",
      "  ret %jl_value_t addrspace(10)* %32\n",
      "\n",
      "L92:                                              ; preds = %top\n",
      ";  @ In[144]:2 within `my_mult3'\n",
      "; ┌ @ boot.jl:303 within `Type'\n",
      "   %107 = bitcast %jl_value_t*** %ptls to i8*\n",
      "   %108 = call noalias nonnull %jl_value_t addrspace(10)* @jl_gc_pool_alloc(i8* %107, i32 1672, i32 16) #1\n",
      "   %109 = bitcast %jl_value_t addrspace(10)* %108 to %jl_value_t addrspace(10)* addrspace(10)*\n",
      "   %110 = getelementptr %jl_value_t addrspace(10)*, %jl_value_t addrspace(10)* addrspace(10)* %109, i64 -1\n",
      "   store %jl_value_t addrspace(10)* addrspacecast (%jl_value_t* inttoptr (i64 140172448078432 to %jl_value_t*) to %jl_value_t addrspace(10)*), %jl_value_t addrspace(10)* addrspace(10)* %110\n",
      "   %111 = bitcast %jl_value_t addrspace(10)* %108 to %jl_value_t addrspace(10)* addrspace(10)*\n",
      "   store %jl_value_t addrspace(10)* addrspacecast (%jl_value_t* inttoptr (i64 140172377595920 to %jl_value_t*) to %jl_value_t addrspace(10)*), %jl_value_t addrspace(10)* addrspace(10)* %111, align 8\n",
      "; └\n",
      "  %112 = addrspacecast %jl_value_t addrspace(10)* %108 to %jl_value_t addrspace(12)*\n",
      "  %113 = getelementptr %jl_value_t addrspace(10)*, %jl_value_t addrspace(10)** %gcframe, i32 2\n",
      "  store %jl_value_t addrspace(10)* %108, %jl_value_t addrspace(10)** %113\n",
      "  call void @jl_throw(%jl_value_t addrspace(12)* %112)\n",
      "  unreachable\n",
      "}\n"
     ]
    }
   ],
   "source": [
    "@code_llvm my_mult3(N,M)"
   ]
  },
  {
   "cell_type": "code",
   "execution_count": 152,
   "metadata": {
    "collapsed": true,
    "jupyter": {
     "outputs_hidden": true
    }
   },
   "outputs": [
    {
     "name": "stdout",
     "output_type": "stream",
     "text": [
      "\n",
      ";  @ In[150]:2 within `my_mult4'\n",
      "define nonnull %jl_value_t addrspace(10)* @japi1_my_mult4_17945(%jl_value_t addrspace(10)*, %jl_value_t addrspace(10)**, i32) #0 {\n",
      "top:\n",
      "  %gcframe = alloca %jl_value_t addrspace(10)*, i32 3\n",
      "  %3 = bitcast %jl_value_t addrspace(10)** %gcframe to i8*\n",
      "  call void @llvm.memset.p0i8.i32(i8* %3, i8 0, i32 24, i32 0, i1 false)\n",
      "  %4 = alloca %jl_value_t addrspace(10)**, align 8\n",
      "  store volatile %jl_value_t addrspace(10)** %1, %jl_value_t addrspace(10)*** %4, align 8\n",
      "  %thread_ptr = call i8* asm \"movq %fs:0, $0\", \"=r\"()\n",
      "  %ptls_i8 = getelementptr i8, i8* %thread_ptr, i64 -15560\n",
      "  %ptls = bitcast i8* %ptls_i8 to %jl_value_t***\n",
      "  %5 = getelementptr %jl_value_t addrspace(10)*, %jl_value_t addrspace(10)** %gcframe, i32 0\n",
      "  %6 = bitcast %jl_value_t addrspace(10)** %5 to i64*\n",
      "  store i64 2, i64* %6\n",
      "  %7 = getelementptr %jl_value_t**, %jl_value_t*** %ptls, i32 0\n",
      "  %8 = getelementptr %jl_value_t addrspace(10)*, %jl_value_t addrspace(10)** %gcframe, i32 1\n",
      "  %9 = bitcast %jl_value_t addrspace(10)** %8 to %jl_value_t***\n",
      "  %10 = load %jl_value_t**, %jl_value_t*** %7\n",
      "  store %jl_value_t** %10, %jl_value_t*** %9\n",
      "  %11 = bitcast %jl_value_t*** %7 to %jl_value_t addrspace(10)***\n",
      "  store %jl_value_t addrspace(10)** %gcframe, %jl_value_t addrspace(10)*** %11\n",
      "  %12 = load %jl_value_t addrspace(10)*, %jl_value_t addrspace(10)** %1, align 8\n",
      "  %13 = getelementptr inbounds %jl_value_t addrspace(10)*, %jl_value_t addrspace(10)** %1, i64 1\n",
      "  %14 = load %jl_value_t addrspace(10)*, %jl_value_t addrspace(10)** %13, align 8\n",
      "; ┌ @ array.jl:154 within `size'\n",
      "   %15 = addrspacecast %jl_value_t addrspace(10)* %12 to %jl_value_t addrspace(11)*\n",
      "   %16 = bitcast %jl_value_t addrspace(11)* %15 to %jl_value_t addrspace(10)* addrspace(11)*\n",
      "   %17 = getelementptr inbounds %jl_value_t addrspace(10)*, %jl_value_t addrspace(10)* addrspace(11)* %16, i64 4\n",
      "   %18 = bitcast %jl_value_t addrspace(10)* addrspace(11)* %17 to i64 addrspace(11)*\n",
      "   %19 = load i64, i64 addrspace(11)* %18, align 8\n",
      "   %20 = addrspacecast %jl_value_t addrspace(10)* %14 to %jl_value_t addrspace(11)*\n",
      "   %21 = bitcast %jl_value_t addrspace(11)* %20 to %jl_value_t addrspace(10)* addrspace(11)*\n",
      "   %22 = getelementptr inbounds %jl_value_t addrspace(10)*, %jl_value_t addrspace(10)* addrspace(11)* %21, i64 3\n",
      "   %23 = bitcast %jl_value_t addrspace(10)* addrspace(11)* %22 to i64 addrspace(11)*\n",
      "   %24 = load i64, i64 addrspace(11)* %23, align 8\n",
      "; └\n",
      "; ┌ @ promotion.jl:403 within `=='\n",
      "   %25 = icmp eq i64 %19, %24\n",
      "; └\n",
      "  br i1 %25, label %L5, label %L117\n",
      "\n",
      "L5:                                               ; preds = %top\n",
      ";  @ In[150]:3 within `my_mult4'\n",
      "; ┌ @ array.jl:154 within `size'\n",
      "   %26 = getelementptr inbounds %jl_value_t addrspace(10)*, %jl_value_t addrspace(10)* addrspace(11)* %16, i64 3\n",
      "   %27 = bitcast %jl_value_t addrspace(10)* addrspace(11)* %26 to i64 addrspace(11)*\n",
      "   %28 = load i64, i64 addrspace(11)* %27, align 8\n",
      "   %29 = getelementptr inbounds %jl_value_t addrspace(10)*, %jl_value_t addrspace(10)* addrspace(11)* %21, i64 4\n",
      "   %30 = bitcast %jl_value_t addrspace(10)* addrspace(11)* %29 to i64 addrspace(11)*\n",
      "   %31 = load i64, i64 addrspace(11)* %30, align 8\n",
      "; └\n",
      "; ┌ @ array.jl:441 within `zeros' @ array.jl:445\n",
      "; │┌ @ boot.jl:414 within `Type' @ boot.jl:406\n",
      "    %32 = call %jl_value_t addrspace(10)* inttoptr (i64 140172649432576 to %jl_value_t addrspace(10)* (%jl_value_t addrspace(10)*, i64, i64)*)(%jl_value_t addrspace(10)* addrspacecast (%jl_value_t* inttoptr (i64 140172450217488 to %jl_value_t*) to %jl_value_t addrspace(10)*), i64 %28, i64 %31)\n",
      "    %33 = getelementptr %jl_value_t addrspace(10)*, %jl_value_t addrspace(10)** %gcframe, i32 2\n",
      "    store %jl_value_t addrspace(10)* %32, %jl_value_t addrspace(10)** %33\n",
      "; │└\n",
      "; │ @ array.jl:441 within `zeros' @ array.jl:446\n",
      "   %34 = call nonnull %jl_value_t addrspace(10)* @\"julia_fill!_9011\"(%jl_value_t addrspace(10)* %32, double 0.000000e+00)\n",
      "; └\n",
      ";  @ In[150]:4 within `my_mult4'\n",
      "; ┌ @ range.jl:5 within `Colon'\n",
      "; │┌ @ range.jl:275 within `Type'\n",
      "; ││┌ @ range.jl:280 within `unitrange_last'\n",
      "; │││┌ @ operators.jl:341 within `>='\n",
      "; ││││┌ @ int.jl:424 within `<='\n",
      "       %35 = icmp sgt i64 %31, 0\n",
      "; └└└└└\n",
      "  br i1 %35, label %L17.L22_crit_edge, label %L116\n",
      "\n",
      "L17.L22_crit_edge:                                ; preds = %L5\n",
      "  %36 = icmp sgt i64 %19, 0\n",
      "  %37 = select i1 %36, i64 %19, i64 0\n",
      "  %38 = icmp sgt i64 %28, 0\n",
      "  %39 = select i1 %38, i64 %28, i64 0\n",
      "  %40 = add nsw i64 %39, -1\n",
      ";  @ In[150]:5 within `my_mult4'\n",
      "; ┌ @ simdloop.jl:71 within `macro expansion'\n",
      "; │┌ @ simdloop.jl:51 within `simd_inner_length'\n",
      "; ││┌ @ range.jl:541 within `length'\n",
      "; │││┌ @ checked.jl:165 within `checked_add'\n",
      "; ││││┌ @ checked.jl:132 within `add_with_overflow'\n",
      "       %41 = call { i64, i1 } @llvm.sadd.with.overflow.i64(i64 %40, i64 1)\n",
      "       %42 = extractvalue { i64, i1 } %41, 0\n",
      "       %43 = extractvalue { i64, i1 } %41, 1\n",
      "       %44 = icmp slt i64 %42, 1\n",
      "       %45 = addrspacecast %jl_value_t addrspace(10)* %32 to %jl_value_t addrspace(11)*\n",
      "       %46 = bitcast %jl_value_t addrspace(11)* %45 to %jl_value_t addrspace(10)* addrspace(11)*\n",
      "       %47 = getelementptr inbounds %jl_value_t addrspace(10)*, %jl_value_t addrspace(10)* addrspace(11)* %46, i64 3\n",
      "       %48 = bitcast %jl_value_t addrspace(10)* addrspace(11)* %47 to i64 addrspace(11)*\n",
      "       %49 = bitcast %jl_value_t addrspace(11)* %45 to double addrspace(13)* addrspace(11)*\n",
      "       %50 = bitcast %jl_value_t addrspace(11)* %15 to double addrspace(13)* addrspace(11)*\n",
      "       %51 = load double addrspace(13)*, double addrspace(13)* addrspace(11)* %50, align 8\n",
      "       %52 = bitcast %jl_value_t addrspace(11)* %20 to double addrspace(13)* addrspace(11)*\n",
      "       %53 = load double addrspace(13)*, double addrspace(13)* addrspace(11)* %52, align 8\n",
      "; └└└└└\n",
      ";  @ In[150]:4 within `my_mult4'\n",
      "  br label %L22\n",
      "\n",
      "L22:                                              ; preds = %L105, %L17.L22_crit_edge\n",
      "  %indvar = phi i64 [ %indvar.next, %L105 ], [ 0, %L17.L22_crit_edge ]\n",
      "  %value_phi3 = phi i64 [ %106, %L105 ], [ 1, %L17.L22_crit_edge ]\n",
      "  %54 = shl i64 %indvar, 3\n",
      "  %55 = mul i64 %19, %indvar\n",
      "  br i1 %36, label %L31.L36_crit_edge, label %L105\n",
      "\n",
      "L31.L36_crit_edge:                                ; preds = %L22\n",
      ";  @ In[150]:5 within `my_mult4'\n",
      "; ┌ @ simdloop.jl:71 within `macro expansion'\n",
      "; │┌ @ simdloop.jl:51 within `simd_inner_length'\n",
      "; ││┌ @ range.jl:541 within `length'\n",
      "; │││┌ @ checked.jl:166 within `checked_add'\n",
      "      br i1 %43, label %L54, label %L59.lr.ph\n",
      "\n",
      "L59.lr.ph:                                        ; preds = %L31.L36_crit_edge\n",
      "      br i1 %44, label %L105, label %L59.lr.ph.split.split.us\n",
      "\n",
      "L59.lr.ph.split.split.us:                         ; preds = %L59.lr.ph\n",
      "      %56 = add nsw i64 %value_phi3, -1\n",
      "      %57 = mul i64 %19, %56\n",
      "      br label %L65.lr.ph.us41\n",
      "\n",
      "L65.lr.ph.us41:                                   ; preds = %L36.us49, %L59.lr.ph.split.split.us\n",
      "      %indvar54 = phi i64 [ %indvar.next55, %L36.us49 ], [ 0, %L59.lr.ph.split.split.us ]\n",
      "      %value_phi834.us39 = phi i64 [ %104, %L36.us49 ], [ 1, %L59.lr.ph.split.split.us ]\n",
      "      %58 = mul i64 %28, %indvar54\n",
      "      %59 = load i64, i64 addrspace(11)* %48, align 8\n",
      "      %60 = mul i64 %59, %56\n",
      "      %61 = load double addrspace(13)*, double addrspace(13)* addrspace(11)* %49, align 8\n",
      "      %62 = add i64 %value_phi834.us39, -1\n",
      "      %63 = mul i64 %28, %62\n",
      "      %64 = add i64 %62, %57\n",
      "      %65 = getelementptr inbounds double, double addrspace(13)* %53, i64 %64\n",
      "; │└└└\n",
      "; │ @ simdloop.jl:75 within `macro expansion'\n",
      "   %min.iters.check = icmp ult i64 %39, 4\n",
      "   br i1 %min.iters.check, label %scalar.ph, label %vector.memcheck\n",
      "\n",
      "vector.memcheck:                                  ; preds = %L65.lr.ph.us41\n",
      "   %66 = bitcast double addrspace(13)* %61 to i8 addrspace(13)*\n",
      "   %67 = add i64 %55, %indvar54\n",
      "   %scevgep60 = getelementptr double, double addrspace(13)* %53, i64 %67\n",
      "   %scevgep6061 = bitcast double addrspace(13)* %scevgep60 to i8 addrspace(13)*\n",
      "   %uglygep62 = getelementptr i8, i8 addrspace(13)* %scevgep6061, i64 1\n",
      "   %68 = add i64 %39, %58\n",
      "   %scevgep58 = getelementptr double, double addrspace(13)* %51, i64 %68\n",
      "   %scevgep5859 = bitcast double addrspace(13)* %scevgep58 to i8 addrspace(13)*\n",
      "   %scevgep56 = getelementptr double, double addrspace(13)* %51, i64 %58\n",
      "   %scevgep5657 = bitcast double addrspace(13)* %scevgep56 to i8 addrspace(13)*\n",
      "   %69 = mul i64 %54, %59\n",
      "   %uglygep = getelementptr i8, i8 addrspace(13)* %66, i64 %69\n",
      "   %scevgep = getelementptr double, double addrspace(13)* %61, i64 %39\n",
      "   %scevgep52 = bitcast double addrspace(13)* %scevgep to i8 addrspace(13)*\n",
      "   %uglygep53 = getelementptr i8, i8 addrspace(13)* %scevgep52, i64 %69\n",
      "   %bound0 = icmp ult i8 addrspace(13)* %uglygep, %scevgep5859\n",
      "   %bound1 = icmp ugt i8 addrspace(13)* %uglygep53, %scevgep5657\n",
      "   %found.conflict = and i1 %bound0, %bound1\n",
      "   %bc = bitcast double addrspace(13)* %65 to i8 addrspace(13)*\n",
      "   %bound063 = icmp ult i8 addrspace(13)* %uglygep, %uglygep62\n",
      "   %bound164 = icmp ugt i8 addrspace(13)* %uglygep53, %bc\n",
      "   %found.conflict65 = and i1 %bound063, %bound164\n",
      "   %conflict.rdx = or i1 %found.conflict, %found.conflict65\n",
      "   br i1 %conflict.rdx, label %scalar.ph, label %vector.ph\n",
      "\n",
      "vector.ph:                                        ; preds = %vector.memcheck\n",
      "   %n.vec = and i64 %39, 9223372036854775804\n",
      "   br label %vector.body\n",
      "\n",
      "vector.body:                                      ; preds = %vector.body, %vector.ph\n",
      "; │ @ simdloop.jl:78 within `macro expansion'\n",
      "; │┌ @ int.jl:53 within `+'\n",
      "    %index = phi i64 [ 0, %vector.ph ], [ %index.next, %vector.body ]\n",
      "; │└\n",
      "; │ @ simdloop.jl:77 within `macro expansion' @ In[150]:6\n",
      "; │┌ @ array.jl:729 within `getindex'\n",
      "    %70 = add i64 %60, %index\n",
      "    %71 = getelementptr inbounds double, double addrspace(13)* %61, i64 %70\n",
      "    %72 = bitcast double addrspace(13)* %71 to <2 x double> addrspace(13)*\n",
      "    %wide.load = load <2 x double>, <2 x double> addrspace(13)* %72, align 8\n",
      "    %73 = getelementptr double, double addrspace(13)* %71, i64 2\n",
      "    %74 = bitcast double addrspace(13)* %73 to <2 x double> addrspace(13)*\n",
      "    %wide.load67 = load <2 x double>, <2 x double> addrspace(13)* %74, align 8\n",
      "    %75 = add i64 %63, %index\n",
      "    %76 = getelementptr inbounds double, double addrspace(13)* %51, i64 %75\n",
      "    %77 = bitcast double addrspace(13)* %76 to <2 x double> addrspace(13)*\n",
      "    %wide.load68 = load <2 x double>, <2 x double> addrspace(13)* %77, align 8\n",
      "    %78 = getelementptr double, double addrspace(13)* %76, i64 2\n",
      "    %79 = bitcast double addrspace(13)* %78 to <2 x double> addrspace(13)*\n",
      "    %wide.load69 = load <2 x double>, <2 x double> addrspace(13)* %79, align 8\n",
      "    %80 = load double, double addrspace(13)* %65, align 8\n",
      "    %81 = insertelement <2 x double> undef, double %80, i32 0\n",
      "    %82 = shufflevector <2 x double> %81, <2 x double> undef, <2 x i32> zeroinitializer\n",
      "; │└\n",
      "; │ @ simdloop.jl:78 within `macro expansion'\n",
      "; │┌ @ int.jl:53 within `+'\n",
      "    %83 = insertelement <2 x double> undef, double %80, i32 0\n",
      "    %84 = shufflevector <2 x double> %83, <2 x double> undef, <2 x i32> zeroinitializer\n",
      "    %85 = fmul <2 x double> %wide.load68, %82\n",
      "    %86 = fmul <2 x double> %wide.load69, %84\n",
      "; │└\n",
      "; │ @ simdloop.jl:77 within `macro expansion' @ In[150]:6\n",
      "; │┌ @ float.jl:395 within `+'\n",
      "    %87 = fadd <2 x double> %wide.load, %85\n",
      "    %88 = fadd <2 x double> %wide.load67, %86\n",
      "; │└\n",
      "; │┌ @ array.jl:768 within `setindex!'\n",
      "    %89 = bitcast double addrspace(13)* %71 to <2 x double> addrspace(13)*\n",
      "    store <2 x double> %87, <2 x double> addrspace(13)* %89, align 8\n",
      "    %90 = bitcast double addrspace(13)* %73 to <2 x double> addrspace(13)*\n",
      "    store <2 x double> %88, <2 x double> addrspace(13)* %90, align 8\n",
      "; │└\n",
      "; │ @ simdloop.jl:78 within `macro expansion'\n",
      "; │┌ @ int.jl:53 within `+'\n",
      "    %index.next = add i64 %index, 4\n",
      "    %91 = icmp eq i64 %index.next, %n.vec\n",
      "    br i1 %91, label %middle.block, label %vector.body\n",
      "\n",
      "middle.block:                                     ; preds = %vector.body\n",
      "    %cmp.n = icmp eq i64 %39, %n.vec\n",
      "; │└\n",
      "; │ @ simdloop.jl:75 within `macro expansion'\n",
      "   br i1 %cmp.n, label %L94.us47, label %scalar.ph\n",
      "\n",
      "scalar.ph:                                        ; preds = %middle.block, %vector.memcheck, %L65.lr.ph.us41\n",
      "   %bc.resume.val = phi i64 [ %n.vec, %middle.block ], [ 0, %L65.lr.ph.us41 ], [ 0, %vector.memcheck ]\n",
      "   br label %L65.us42\n",
      "\n",
      "L65.us42:                                         ; preds = %L65.us42, %scalar.ph\n",
      "   %value_phi1133.us43 = phi i64 [ %bc.resume.val, %scalar.ph ], [ %101, %L65.us42 ]\n",
      "; │ @ simdloop.jl:77 within `macro expansion' @ In[150]:6\n",
      "; │┌ @ array.jl:729 within `getindex'\n",
      "    %92 = add i64 %60, %value_phi1133.us43\n",
      "    %93 = getelementptr inbounds double, double addrspace(13)* %61, i64 %92\n",
      "    %94 = load double, double addrspace(13)* %93, align 8\n",
      "    %95 = add i64 %63, %value_phi1133.us43\n",
      "    %96 = getelementptr inbounds double, double addrspace(13)* %51, i64 %95\n",
      "    %97 = load double, double addrspace(13)* %96, align 8\n",
      "    %98 = load double, double addrspace(13)* %65, align 8\n",
      "; │└\n",
      "; │┌ @ float.jl:399 within `*'\n",
      "    %99 = fmul double %97, %98\n",
      "; │└\n",
      "; │┌ @ float.jl:395 within `+'\n",
      "    %100 = fadd double %94, %99\n",
      "; │└\n",
      "; │┌ @ array.jl:768 within `setindex!'\n",
      "    store double %100, double addrspace(13)* %93, align 8\n",
      "; │└\n",
      "; │ @ simdloop.jl:78 within `macro expansion'\n",
      "; │┌ @ int.jl:53 within `+'\n",
      "    %101 = add nuw nsw i64 %value_phi1133.us43, 1\n",
      "; │└\n",
      "; │ @ simdloop.jl:75 within `macro expansion'\n",
      "; │┌ @ int.jl:49 within `<'\n",
      "    %102 = icmp ult i64 %101, %42\n",
      "; │└\n",
      "   br i1 %102, label %L65.us42, label %L94.us47\n",
      "\n",
      "L94.us47:                                         ; preds = %middle.block, %L65.us42\n",
      "; └\n",
      "; ┌ @ range.jl:595 within `iterate'\n",
      "; │┌ @ promotion.jl:403 within `=='\n",
      "    %103 = icmp eq i64 %value_phi834.us39, %37\n",
      "; └└\n",
      "  br i1 %103, label %L105, label %L36.us49\n",
      "\n",
      "L36.us49:                                         ; preds = %L94.us47\n",
      "; ┌ @ range.jl:596 within `iterate'\n",
      "; │┌ @ int.jl:53 within `+'\n",
      "    %104 = add i64 %value_phi834.us39, 1\n",
      "; └└\n",
      "; ┌ @ simdloop.jl:71 within `macro expansion'\n",
      "; │┌ @ simdloop.jl:51 within `simd_inner_length'\n",
      "; ││┌ @ range.jl:541 within `length'\n",
      "; │││┌ @ checked.jl:166 within `checked_add'\n",
      "      %indvar.next55 = add i64 %indvar54, 1\n",
      "      br label %L65.lr.ph.us41\n",
      "\n",
      "L54:                                              ; preds = %L31.L36_crit_edge\n",
      "      call void @julia_throw_overflowerr_binaryop_13539(%jl_value_t addrspace(10)* addrspacecast (%jl_value_t* inttoptr (i64 140172356179280 to %jl_value_t*) to %jl_value_t addrspace(10)*), i64 %40, i64 1)\n",
      "      call void @llvm.trap()\n",
      "      unreachable\n",
      "\n",
      "L105:                                             ; preds = %L94.us47, %L59.lr.ph, %L22\n",
      "; └└└└\n",
      "; ┌ @ range.jl:595 within `iterate'\n",
      "; │┌ @ promotion.jl:403 within `=='\n",
      "    %105 = icmp eq i64 %value_phi3, %31\n",
      "; │└\n",
      "; │ @ range.jl:596 within `iterate'\n",
      "; │┌ @ int.jl:53 within `+'\n",
      "    %106 = add nuw i64 %value_phi3, 1\n",
      "; └└\n",
      "  %indvar.next = add i64 %indvar, 1\n",
      "  br i1 %105, label %L116, label %L22\n",
      "\n",
      "L116:                                             ; preds = %L105, %L5\n",
      ";  @ In[150]:9 within `my_mult4'\n",
      "  %107 = getelementptr %jl_value_t addrspace(10)*, %jl_value_t addrspace(10)** %gcframe, i32 1\n",
      "  %108 = load %jl_value_t addrspace(10)*, %jl_value_t addrspace(10)** %107\n",
      "  %109 = getelementptr %jl_value_t**, %jl_value_t*** %ptls, i32 0\n",
      "  %110 = bitcast %jl_value_t*** %109 to %jl_value_t addrspace(10)**\n",
      "  store %jl_value_t addrspace(10)* %108, %jl_value_t addrspace(10)** %110\n",
      "  ret %jl_value_t addrspace(10)* %32\n",
      "\n",
      "L117:                                             ; preds = %top\n",
      ";  @ In[150]:2 within `my_mult4'\n",
      "; ┌ @ boot.jl:303 within `Type'\n",
      "   %111 = bitcast %jl_value_t*** %ptls to i8*\n",
      "   %112 = call noalias nonnull %jl_value_t addrspace(10)* @jl_gc_pool_alloc(i8* %111, i32 1672, i32 16) #3\n",
      "   %113 = bitcast %jl_value_t addrspace(10)* %112 to %jl_value_t addrspace(10)* addrspace(10)*\n",
      "   %114 = getelementptr %jl_value_t addrspace(10)*, %jl_value_t addrspace(10)* addrspace(10)* %113, i64 -1\n",
      "   store %jl_value_t addrspace(10)* addrspacecast (%jl_value_t* inttoptr (i64 140172448078432 to %jl_value_t*) to %jl_value_t addrspace(10)*), %jl_value_t addrspace(10)* addrspace(10)* %114\n",
      "   %115 = bitcast %jl_value_t addrspace(10)* %112 to %jl_value_t addrspace(10)* addrspace(10)*\n",
      "   store %jl_value_t addrspace(10)* addrspacecast (%jl_value_t* inttoptr (i64 140172386061520 to %jl_value_t*) to %jl_value_t addrspace(10)*), %jl_value_t addrspace(10)* addrspace(10)* %115, align 8\n",
      "; └\n",
      "  %116 = addrspacecast %jl_value_t addrspace(10)* %112 to %jl_value_t addrspace(12)*\n",
      "  %117 = getelementptr %jl_value_t addrspace(10)*, %jl_value_t addrspace(10)** %gcframe, i32 2\n",
      "  store %jl_value_t addrspace(10)* %112, %jl_value_t addrspace(10)** %117\n",
      "  call void @jl_throw(%jl_value_t addrspace(12)* %116)\n",
      "  unreachable\n",
      "}\n"
     ]
    }
   ],
   "source": [
    "@code_llvm my_mult4(N,M)"
   ]
  },
  {
   "cell_type": "markdown",
   "metadata": {},
   "source": [
    "It looks like simd instructions are already used in the version without the @simd macro."
   ]
  },
  {
   "cell_type": "markdown",
   "metadata": {},
   "source": [
    "#### Multithreading\n",
    "\n",
    "OpenBlas uses multiple threads for parallelization of matrix multiplications.\n",
    "We should do the same for our implementation."
   ]
  },
  {
   "cell_type": "code",
   "execution_count": 159,
   "metadata": {},
   "outputs": [
    {
     "data": {
      "text/plain": [
       "4"
      ]
     },
     "execution_count": 159,
     "metadata": {},
     "output_type": "execute_result"
    }
   ],
   "source": [
    "Threads.nthreads()"
   ]
  },
  {
   "cell_type": "code",
   "execution_count": 161,
   "metadata": {},
   "outputs": [
    {
     "data": {
      "text/plain": [
       "my_mult5 (generic function with 1 method)"
      ]
     },
     "execution_count": 161,
     "metadata": {},
     "output_type": "execute_result"
    }
   ],
   "source": [
    "function my_mult5(A:: AbstractArray{T,2}, B:: AbstractArray{T,2}) where {T}\n",
    "    @assert size(A, 2) == size(B, 1)\n",
    "    C = zeros(T, size(A,1), size(B,2))\n",
    "    Threads.@threads for n=1:size(B, 2)\n",
    "        for k=1:size(A,2), m=1:size(A, 1)\n",
    "            @inbounds C[m,n] += A[m,k]*B[k,n]\n",
    "        end\n",
    "    end\n",
    "    C\n",
    "end"
   ]
  },
  {
   "cell_type": "code",
   "execution_count": 162,
   "metadata": {},
   "outputs": [
    {
     "name": "stdout",
     "output_type": "stream",
     "text": [
      "  53.037 ms (32 allocations: 1.91 MiB)\n"
     ]
    },
    {
     "data": {
      "text/plain": [
       "500×500 Array{Float64,2}:\n",
       " 127.1    127.448  125.48   123.864  …  118.352  131.542  122.332  129.782\n",
       " 132.128  130.201  129.413  128.8       125.974  135.836  125.388  132.025\n",
       " 130.231  123.881  125.301  123.95      121.464  131.338  120.117  126.382\n",
       " 124.807  121.853  125.99   120.541     119.367  129.709  126.227  124.737\n",
       " 116.927  117.9    119.265  117.267     115.623  121.237  115.533  118.444\n",
       " 126.915  126.852  132.014  126.511  …  123.713  130.01   125.324  132.893\n",
       " 128.23   129.15   125.654  123.774     119.361  129.986  124.139  129.694\n",
       " 125.601  128.121  127.009  125.056     119.375  129.708  121.754  132.227\n",
       " 123.635  123.911  123.799  122.375     118.105  127.535  118.843  124.107\n",
       " 128.2    124.269  125.739  124.287     120.421  132.816  123.183  133.193\n",
       " 121.276  126.084  122.185  121.759  …  117.487  127.389  120.534  125.527\n",
       " 117.566  121.278  119.401  115.98      115.143  126.34   115.648  120.811\n",
       " 129.288  127.363  128.213  125.14      123.053  130.595  124.913  130.13 \n",
       "   ⋮                                 ⋱                                    \n",
       " 129.313  123.555  126.512  126.094     119.556  134.922  121.771  126.843\n",
       " 125.029  124.189  127.147  122.527     117.085  130.712  120.973  128.661\n",
       " 128.502  125.699  124.279  125.777  …  120.501  130.815  121.32   126.98 \n",
       " 118.833  117.181  118.777  115.922     112.874  121.981  115.603  126.557\n",
       " 124.05   122.226  126.021  123.978     126.283  130.697  120.595  131.533\n",
       " 128.763  128.851  131.19   125.029     120.759  130.735  119.983  129.622\n",
       " 128.73   128.248  129.659  127.219     123.515  133.256  126.1    132.33 \n",
       " 138.666  134.58   137.163  134.937  …  128.627  140.873  126.564  141.742\n",
       " 120.545  115.565  115.514  118.829     112.035  122.186  112.154  119.039\n",
       " 131.858  131.668  129.555  126.874     122.966  135.786  127.224  135.348\n",
       " 126.905  126.472  127.695  125.794     122.768  133.053  125.341  130.882\n",
       " 130.281  122.432  125.758  125.106     118.173  129.494  123.744  127.144"
      ]
     },
     "execution_count": 162,
     "metadata": {},
     "output_type": "execute_result"
    }
   ],
   "source": [
    "@assert N*M ≈ my_mult5(N,M)\n",
    "@btime my_mult5($N, $M)"
   ]
  },
  {
   "cell_type": "markdown",
   "metadata": {},
   "source": [
    "After these optimizations, our own, very short, implementation is \"only\" 4 times slower than the highly specialized and optimized OpenBLAS."
   ]
  },
  {
   "cell_type": "markdown",
   "metadata": {},
   "source": [
    "#### LoopVectorization"
   ]
  },
  {
   "cell_type": "code",
   "execution_count": 178,
   "metadata": {},
   "outputs": [
    {
     "name": "stdout",
     "output_type": "stream",
     "text": [
      "\u001b[32m\u001b[1m Resolving\u001b[22m\u001b[39m package versions...\n",
      "\u001b[32m\u001b[1m Installed\u001b[22m\u001b[39m SIMDPirates ─────── v0.1.1\n",
      "\u001b[32m\u001b[1m Installed\u001b[22m\u001b[39m CpuId ───────────── v0.2.2\n",
      "\u001b[32m\u001b[1m Installed\u001b[22m\u001b[39m SLEEFPirates ────── v0.1.1\n",
      "\u001b[32m\u001b[1m Installed\u001b[22m\u001b[39m VectorizationBase ─ v0.1.4\n",
      "\u001b[32m\u001b[1m Installed\u001b[22m\u001b[39m LoopVectorization ─ v0.1.3\n",
      "\u001b[32m\u001b[1m Installed\u001b[22m\u001b[39m DataStructures ──── v0.17.7\n",
      "\u001b[32m\u001b[1m Installed\u001b[22m\u001b[39m Colors ──────────── v0.11.2\n",
      "\u001b[32m\u001b[1m Installed\u001b[22m\u001b[39m Distributions ───── v0.21.12\n",
      "\u001b[32m\u001b[1m  Updating\u001b[22m\u001b[39m `/opt/julia/environments/v1.2/Project.toml`\n",
      " \u001b[90m [bdcacae8]\u001b[39m\u001b[92m + LoopVectorization v0.1.3\u001b[39m\n",
      "\u001b[32m\u001b[1m  Updating\u001b[22m\u001b[39m `/opt/julia/environments/v1.2/Manifest.toml`\n",
      " \u001b[90m [5ae59095]\u001b[39m\u001b[93m ↑ Colors v0.11.1 ⇒ v0.11.2\u001b[39m\n",
      " \u001b[90m [adafc99b]\u001b[39m\u001b[92m + CpuId v0.2.2\u001b[39m\n",
      " \u001b[90m [864edb3b]\u001b[39m\u001b[93m ↑ DataStructures v0.17.6 ⇒ v0.17.7\u001b[39m\n",
      " \u001b[90m [31c24e10]\u001b[39m\u001b[93m ↑ Distributions v0.21.11 ⇒ v0.21.12\u001b[39m\n",
      " \u001b[90m [bdcacae8]\u001b[39m\u001b[92m + LoopVectorization v0.1.3\u001b[39m\n",
      " \u001b[90m [21efa798]\u001b[39m\u001b[92m + SIMDPirates v0.1.1\u001b[39m\n",
      " \u001b[90m [476501e8]\u001b[39m\u001b[92m + SLEEFPirates v0.1.1\u001b[39m\n",
      " \u001b[90m [3d5dd08c]\u001b[39m\u001b[92m + VectorizationBase v0.1.4\u001b[39m\n",
      "\u001b[32m\u001b[1m  Building\u001b[22m\u001b[39m VectorizationBase → `/opt/julia/packages/VectorizationBase/NgujR/deps/build.log`\n"
     ]
    }
   ],
   "source": [
    "using Pkg\n",
    "Pkg.add(\"LoopVectorization\")"
   ]
  },
  {
   "cell_type": "code",
   "execution_count": 179,
   "metadata": {},
   "outputs": [
    {
     "name": "stderr",
     "output_type": "stream",
     "text": [
      "┌ Info: Precompiling LoopVectorization [bdcacae8-1622-11e9-2a5c-532679323890]\n",
      "└ @ Base loading.jl:1242\n"
     ]
    }
   ],
   "source": [
    "using LoopVectorization"
   ]
  },
  {
   "cell_type": "markdown",
   "metadata": {},
   "source": [
    "First try it single-threaded."
   ]
  },
  {
   "cell_type": "code",
   "execution_count": 181,
   "metadata": {},
   "outputs": [
    {
     "data": {
      "text/plain": [
       "my_mult6 (generic function with 1 method)"
      ]
     },
     "execution_count": 181,
     "metadata": {},
     "output_type": "execute_result"
    }
   ],
   "source": [
    "function my_mult6(A:: AbstractArray{T,2}, B:: AbstractArray{T,2}) where {T}\n",
    "    @assert size(A, 2) == size(B, 1)\n",
    "    C = zeros(T, size(A,1), size(B,2))\n",
    "    @avx for n=1:size(B, 2), k=1:size(A,2), m=1:size(A, 1)\n",
    "        C[m,n] += A[m,k]*B[k,n]\n",
    "    end\n",
    "    C\n",
    "end"
   ]
  },
  {
   "cell_type": "code",
   "execution_count": 182,
   "metadata": {},
   "outputs": [
    {
     "name": "stdout",
     "output_type": "stream",
     "text": [
      "  118.166 ms (2 allocations: 1.91 MiB)\n"
     ]
    },
    {
     "data": {
      "text/plain": [
       "500×500 Array{Float64,2}:\n",
       " 127.1    127.448  125.48   123.864  …  118.352  131.542  122.332  129.782\n",
       " 132.128  130.201  129.413  128.8       125.974  135.836  125.388  132.025\n",
       " 130.231  123.881  125.301  123.95      121.464  131.338  120.117  126.382\n",
       " 124.807  121.853  125.99   120.541     119.367  129.709  126.227  124.737\n",
       " 116.927  117.9    119.265  117.267     115.623  121.237  115.533  118.444\n",
       " 126.915  126.852  132.014  126.511  …  123.713  130.01   125.324  132.893\n",
       " 128.23   129.15   125.654  123.774     119.361  129.986  124.139  129.694\n",
       " 125.601  128.121  127.009  125.056     119.375  129.708  121.754  132.227\n",
       " 123.635  123.911  123.799  122.375     118.105  127.535  118.843  124.107\n",
       " 128.2    124.269  125.739  124.287     120.421  132.816  123.183  133.193\n",
       " 121.276  126.084  122.185  121.759  …  117.487  127.389  120.534  125.527\n",
       " 117.566  121.278  119.401  115.98      115.143  126.34   115.648  120.811\n",
       " 129.288  127.363  128.213  125.14      123.053  130.595  124.913  130.13 \n",
       "   ⋮                                 ⋱                                    \n",
       " 129.313  123.555  126.512  126.094     119.556  134.922  121.771  126.843\n",
       " 125.029  124.189  127.147  122.527     117.085  130.712  120.973  128.661\n",
       " 128.502  125.699  124.279  125.777  …  120.501  130.815  121.32   126.98 \n",
       " 118.833  117.181  118.777  115.922     112.874  121.981  115.603  126.557\n",
       " 124.05   122.226  126.021  123.978     126.283  130.697  120.595  131.533\n",
       " 128.763  128.851  131.19   125.029     120.759  130.735  119.983  129.622\n",
       " 128.73   128.248  129.659  127.219     123.515  133.256  126.1    132.33 \n",
       " 138.666  134.58   137.163  134.937  …  128.627  140.873  126.564  141.742\n",
       " 120.545  115.565  115.514  118.829     112.035  122.186  112.154  119.039\n",
       " 131.858  131.668  129.555  126.874     122.966  135.786  127.224  135.348\n",
       " 126.905  126.472  127.695  125.794     122.768  133.053  125.341  130.882\n",
       " 130.281  122.432  125.758  125.106     118.173  129.494  123.744  127.144"
      ]
     },
     "execution_count": 182,
     "metadata": {},
     "output_type": "execute_result"
    }
   ],
   "source": [
    "@assert N*M ≈ my_mult6(N,M)\n",
    "@btime my_mult6($N, $M)"
   ]
  },
  {
   "cell_type": "markdown",
   "metadata": {},
   "source": [
    "Performance is significantly better than for the previous single-threaded version (120 ms vs. 180 ms) and olny a factor of 2.4 slower than single-threaded OpenBlas.\n",
    "\n",
    "However, multithreading seems not to work here."
   ]
  },
  {
   "cell_type": "code",
   "execution_count": null,
   "metadata": {},
   "outputs": [],
   "source": []
  }
 ],
 "metadata": {
  "kernelspec": {
   "display_name": "Julia 1.2.0",
   "language": "julia",
   "name": "julia-1.2"
  },
  "language_info": {
   "file_extension": ".jl",
   "mimetype": "application/julia",
   "name": "julia",
   "version": "1.2.0"
  }
 },
 "nbformat": 4,
 "nbformat_minor": 4
}
