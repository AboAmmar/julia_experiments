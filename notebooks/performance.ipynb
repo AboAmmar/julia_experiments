{
 "cells": [
  {
   "cell_type": "markdown",
   "metadata": {},
   "source": [
    "# Optimizations"
   ]
  },
  {
   "cell_type": "markdown",
   "metadata": {},
   "source": [
    "## Type Stability"
   ]
  },
  {
   "cell_type": "code",
   "execution_count": 1,
   "metadata": {},
   "outputs": [],
   "source": [
    "try\n",
    "    using BenchmarkTools\n",
    "catch ArgumentError\n",
    "    using Pkg # imports Julia's built-in (excellent) package manager\n",
    "    Pkg.add(\"BenchmarkTools\") # installs a package to Julia\n",
    "    using BenchmarkTools\n",
    "end"
   ]
  },
  {
   "cell_type": "markdown",
   "metadata": {},
   "source": [
    "### Basics"
   ]
  },
  {
   "cell_type": "markdown",
   "metadata": {},
   "source": [
    "#### Global Variables"
   ]
  },
  {
   "cell_type": "code",
   "execution_count": 2,
   "metadata": {},
   "outputs": [
    {
     "data": {
      "text/plain": [
       "plusmulta_bad (generic function with 1 method)"
      ]
     },
     "execution_count": 2,
     "metadata": {},
     "output_type": "execute_result"
    }
   ],
   "source": [
    "a = 2\n",
    "function plusmulta_bad(n)\n",
    "    res = 0\n",
    "    for i=1:n\n",
    "        res += i*a\n",
    "    end\n",
    "    res\n",
    "end     "
   ]
  },
  {
   "cell_type": "code",
   "execution_count": 3,
   "metadata": {},
   "outputs": [
    {
     "name": "stdout",
     "output_type": "stream",
     "text": [
      "  108.224 ms (2999212 allocations: 45.76 MiB)\n"
     ]
    },
    {
     "data": {
      "text/plain": [
       "1000001000000"
      ]
     },
     "execution_count": 3,
     "metadata": {},
     "output_type": "execute_result"
    }
   ],
   "source": [
    "@btime plusmulta_bad(1_000_000)"
   ]
  },
  {
   "cell_type": "code",
   "execution_count": 4,
   "metadata": {},
   "outputs": [
    {
     "name": "stdout",
     "output_type": "stream",
     "text": [
      "Variables\n",
      "  #self#\u001b[36m::Core.Compiler.Const(plusmulta_bad, false)\u001b[39m\n",
      "  n\u001b[36m::Int64\u001b[39m\n",
      "  res\u001b[91m\u001b[1m::Any\u001b[22m\u001b[39m\n",
      "  @_4\u001b[33m\u001b[1m::Union{Nothing, Tuple{Int64,Int64}}\u001b[22m\u001b[39m\n",
      "  i\u001b[36m::Int64\u001b[39m\n",
      "\n",
      "Body\u001b[91m\u001b[1m::Any\u001b[22m\u001b[39m\n",
      "\u001b[90m1 ─\u001b[39m       (res = 0)\n",
      "\u001b[90m│  \u001b[39m %2  = (1:n)\u001b[36m::Core.Compiler.PartialStruct(UnitRange{Int64}, Any[Core.Compiler.Const(1, false), Int64])\u001b[39m\n",
      "\u001b[90m│  \u001b[39m       (@_4 = Base.iterate(%2))\n",
      "\u001b[90m│  \u001b[39m %4  = (@_4 === nothing)\u001b[36m::Bool\u001b[39m\n",
      "\u001b[90m│  \u001b[39m %5  = Base.not_int(%4)\u001b[36m::Bool\u001b[39m\n",
      "\u001b[90m└──\u001b[39m       goto #4 if not %5\n",
      "\u001b[90m2 ┄\u001b[39m %7  = @_4::Tuple{Int64,Int64}\u001b[36m::Tuple{Int64,Int64}\u001b[39m\n",
      "\u001b[90m│  \u001b[39m       (i = Core.getfield(%7, 1))\n",
      "\u001b[90m│  \u001b[39m %9  = Core.getfield(%7, 2)\u001b[36m::Int64\u001b[39m\n",
      "\u001b[90m│  \u001b[39m %10 = res\u001b[91m\u001b[1m::Any\u001b[22m\u001b[39m\n",
      "\u001b[90m│  \u001b[39m %11 = (i * Main.a)\u001b[91m\u001b[1m::Any\u001b[22m\u001b[39m\n",
      "\u001b[90m│  \u001b[39m       (res = %10 + %11)\n",
      "\u001b[90m│  \u001b[39m       (@_4 = Base.iterate(%2, %9))\n",
      "\u001b[90m│  \u001b[39m %14 = (@_4 === nothing)\u001b[36m::Bool\u001b[39m\n",
      "\u001b[90m│  \u001b[39m %15 = Base.not_int(%14)\u001b[36m::Bool\u001b[39m\n",
      "\u001b[90m└──\u001b[39m       goto #4 if not %15\n",
      "\u001b[90m3 ─\u001b[39m       goto #2\n",
      "\u001b[90m4 ┄\u001b[39m       return res\n"
     ]
    }
   ],
   "source": [
    "@code_warntype plusmulta_bad(1_000_000)"
   ]
  },
  {
   "cell_type": "markdown",
   "metadata": {},
   "source": [
    "This function is really slow because the type of the global variable *a* is not fixed."
   ]
  },
  {
   "cell_type": "code",
   "execution_count": 5,
   "metadata": {},
   "outputs": [
    {
     "data": {
      "text/plain": [
       "plusmulta_good (generic function with 1 method)"
      ]
     },
     "execution_count": 5,
     "metadata": {},
     "output_type": "execute_result"
    }
   ],
   "source": [
    "const a2 = 2\n",
    "function plusmulta_good(n)\n",
    "    res = 0\n",
    "    for i=1:n\n",
    "        res += i*a2\n",
    "    end\n",
    "    res\n",
    "end     "
   ]
  },
  {
   "cell_type": "markdown",
   "metadata": {},
   "source": [
    "Solution 1: make the global variable a constant."
   ]
  },
  {
   "cell_type": "code",
   "execution_count": 6,
   "metadata": {},
   "outputs": [
    {
     "name": "stdout",
     "output_type": "stream",
     "text": [
      "  1.736 ns (0 allocations: 0 bytes)\n"
     ]
    },
    {
     "data": {
      "text/plain": [
       "1000001000000"
      ]
     },
     "execution_count": 6,
     "metadata": {},
     "output_type": "execute_result"
    }
   ],
   "source": [
    "@btime plusmulta_good(1_000_000)"
   ]
  },
  {
   "cell_type": "code",
   "execution_count": 7,
   "metadata": {},
   "outputs": [
    {
     "name": "stdout",
     "output_type": "stream",
     "text": [
      "Variables\n",
      "  #self#\u001b[36m::Core.Compiler.Const(plusmulta_good, false)\u001b[39m\n",
      "  n\u001b[36m::Int64\u001b[39m\n",
      "  res\u001b[36m::Int64\u001b[39m\n",
      "  @_4\u001b[33m\u001b[1m::Union{Nothing, Tuple{Int64,Int64}}\u001b[22m\u001b[39m\n",
      "  i\u001b[36m::Int64\u001b[39m\n",
      "\n",
      "Body\u001b[36m::Int64\u001b[39m\n",
      "\u001b[90m1 ─\u001b[39m       (res = 0)\n",
      "\u001b[90m│  \u001b[39m %2  = (1:n)\u001b[36m::Core.Compiler.PartialStruct(UnitRange{Int64}, Any[Core.Compiler.Const(1, false), Int64])\u001b[39m\n",
      "\u001b[90m│  \u001b[39m       (@_4 = Base.iterate(%2))\n",
      "\u001b[90m│  \u001b[39m %4  = (@_4 === nothing)\u001b[36m::Bool\u001b[39m\n",
      "\u001b[90m│  \u001b[39m %5  = Base.not_int(%4)\u001b[36m::Bool\u001b[39m\n",
      "\u001b[90m└──\u001b[39m       goto #4 if not %5\n",
      "\u001b[90m2 ┄\u001b[39m %7  = @_4::Tuple{Int64,Int64}\u001b[36m::Tuple{Int64,Int64}\u001b[39m\n",
      "\u001b[90m│  \u001b[39m       (i = Core.getfield(%7, 1))\n",
      "\u001b[90m│  \u001b[39m %9  = Core.getfield(%7, 2)\u001b[36m::Int64\u001b[39m\n",
      "\u001b[90m│  \u001b[39m %10 = res\u001b[36m::Int64\u001b[39m\n",
      "\u001b[90m│  \u001b[39m %11 = (i * Main.a2)\u001b[36m::Int64\u001b[39m\n",
      "\u001b[90m│  \u001b[39m       (res = %10 + %11)\n",
      "\u001b[90m│  \u001b[39m       (@_4 = Base.iterate(%2, %9))\n",
      "\u001b[90m│  \u001b[39m %14 = (@_4 === nothing)\u001b[36m::Bool\u001b[39m\n",
      "\u001b[90m│  \u001b[39m %15 = Base.not_int(%14)\u001b[36m::Bool\u001b[39m\n",
      "\u001b[90m└──\u001b[39m       goto #4 if not %15\n",
      "\u001b[90m3 ─\u001b[39m       goto #2\n",
      "\u001b[90m4 ┄\u001b[39m       return res\n"
     ]
    }
   ],
   "source": [
    "@code_warntype plusmulta_good(1_000_000)"
   ]
  },
  {
   "cell_type": "code",
   "execution_count": 8,
   "metadata": {},
   "outputs": [
    {
     "name": "stdout",
     "output_type": "stream",
     "text": [
      "\n",
      ";  @ In[5]:3 within `plusmulta_good'\n",
      "define i64 @julia_plusmulta_good_16640(i64) {\n",
      "top:\n",
      ";  @ In[5]:4 within `plusmulta_good'\n",
      "; ┌ @ range.jl:5 within `Colon'\n",
      "; │┌ @ range.jl:275 within `Type'\n",
      "; ││┌ @ range.jl:280 within `unitrange_last'\n",
      "; │││┌ @ operators.jl:341 within `>='\n",
      "; ││││┌ @ int.jl:424 within `<='\n",
      "       %1 = icmp sgt i64 %0, 0\n",
      "; └└└└└\n",
      "  br i1 %1, label %L7.L12_crit_edge, label %L29\n",
      "\n",
      "L7.L12_crit_edge:                                 ; preds = %top\n",
      "  %2 = shl i64 %0, 2\n",
      "  %3 = add nsw i64 %0, -1\n",
      "  %4 = add nsw i64 %0, -2\n",
      "  %5 = mul i64 %3, %4\n",
      "  %6 = and i64 %5, -2\n",
      "  %7 = add i64 %2, %6\n",
      "  %8 = add i64 %7, -2\n",
      ";  @ In[5]:7 within `plusmulta_good'\n",
      "  br label %L29\n",
      "\n",
      "L29:                                              ; preds = %L7.L12_crit_edge, %top\n",
      "  %value_phi9 = phi i64 [ 0, %top ], [ %8, %L7.L12_crit_edge ]\n",
      "  ret i64 %value_phi9\n",
      "}\n"
     ]
    }
   ],
   "source": [
    "@code_llvm plusmulta_good(1_000_000)"
   ]
  },
  {
   "cell_type": "markdown",
   "metadata": {},
   "source": [
    "Actually, the compiler optimized the for-loop away."
   ]
  },
  {
   "cell_type": "code",
   "execution_count": 9,
   "metadata": {},
   "outputs": [
    {
     "data": {
      "text/plain": [
       "plusmulta_good (generic function with 2 methods)"
      ]
     },
     "execution_count": 9,
     "metadata": {},
     "output_type": "execute_result"
    }
   ],
   "source": [
    "function plusmulta_good(n, a)\n",
    "    res = 0\n",
    "    for i=1:n\n",
    "        res += i*a\n",
    "    end\n",
    "    res\n",
    "end     "
   ]
  },
  {
   "cell_type": "code",
   "execution_count": 10,
   "metadata": {},
   "outputs": [
    {
     "name": "stdout",
     "output_type": "stream",
     "text": [
      "  1.736 ns (0 allocations: 0 bytes)\n"
     ]
    },
    {
     "data": {
      "text/plain": [
       "1000001000000"
      ]
     },
     "execution_count": 10,
     "metadata": {},
     "output_type": "execute_result"
    }
   ],
   "source": [
    "@btime plusmulta_good(1_000_000, 2)"
   ]
  },
  {
   "cell_type": "code",
   "execution_count": 11,
   "metadata": {},
   "outputs": [
    {
     "name": "stdout",
     "output_type": "stream",
     "text": [
      "\n",
      ";  @ In[9]:2 within `plusmulta_good'\n",
      "define i64 @julia_plusmulta_good_16655(i64, i64) {\n",
      "top:\n",
      ";  @ In[9]:3 within `plusmulta_good'\n",
      "; ┌ @ range.jl:5 within `Colon'\n",
      "; │┌ @ range.jl:275 within `Type'\n",
      "; ││┌ @ range.jl:280 within `unitrange_last'\n",
      "; │││┌ @ operators.jl:341 within `>='\n",
      "; ││││┌ @ int.jl:424 within `<='\n",
      "       %2 = icmp sgt i64 %0, 0\n",
      "; └└└└└\n",
      "  br i1 %2, label %L7.L12_crit_edge, label %L28\n",
      "\n",
      "L7.L12_crit_edge:                                 ; preds = %top\n",
      "  %3 = shl nuw i64 %0, 1\n",
      "  %4 = add nsw i64 %0, -1\n",
      "  %5 = zext i64 %4 to i65\n",
      "  %6 = add nsw i64 %0, -2\n",
      "  %7 = zext i64 %6 to i65\n",
      "  %8 = mul i65 %5, %7\n",
      "  %9 = lshr i65 %8, 1\n",
      "  %10 = trunc i65 %9 to i64\n",
      "  %11 = add i64 %3, %10\n",
      "  %12 = add i64 %11, -1\n",
      "  %13 = mul i64 %12, %1\n",
      ";  @ In[9]:6 within `plusmulta_good'\n",
      "  br label %L28\n",
      "\n",
      "L28:                                              ; preds = %L7.L12_crit_edge, %top\n",
      "  %value_phi9 = phi i64 [ 0, %top ], [ %13, %L7.L12_crit_edge ]\n",
      "  ret i64 %value_phi9\n",
      "}\n"
     ]
    }
   ],
   "source": [
    "@code_llvm plusmulta_good(1_000_000, 2)"
   ]
  },
  {
   "cell_type": "markdown",
   "metadata": {},
   "source": [
    "We got the same good performance when using *a* as a method parameter.\n",
    "\n",
    "Note that both methods (without and with *a* as parameter) are defined for the same function in this example, the concrete method is chosen according to call signature using multiple dispatch."
   ]
  },
  {
   "cell_type": "code",
   "execution_count": 12,
   "metadata": {},
   "outputs": [
    {
     "data": {
      "text/plain": [
       "randsum_bad (generic function with 1 method)"
      ]
     },
     "execution_count": 12,
     "metadata": {},
     "output_type": "execute_result"
    }
   ],
   "source": [
    "a = 2\n",
    "randsum_bad(n) = begin # a rather unusual (and not recommended) way to define a function...\n",
    "    res = 0\n",
    "    for i = 1:n\n",
    "        res += a*rand()\n",
    "    end\n",
    "    res\n",
    "end"
   ]
  },
  {
   "cell_type": "code",
   "execution_count": 13,
   "metadata": {},
   "outputs": [
    {
     "name": "stdout",
     "output_type": "stream",
     "text": [
      "  92.300 μs (3000 allocations: 46.88 KiB)\n"
     ]
    },
    {
     "data": {
      "text/plain": [
       "1003.2320658465163"
      ]
     },
     "execution_count": 13,
     "metadata": {},
     "output_type": "execute_result"
    }
   ],
   "source": [
    "@btime randsum_bad(1_000)"
   ]
  },
  {
   "cell_type": "code",
   "execution_count": 14,
   "metadata": {},
   "outputs": [
    {
     "data": {
      "text/plain": [
       "randsum_better (generic function with 1 method)"
      ]
     },
     "execution_count": 14,
     "metadata": {},
     "output_type": "execute_result"
    }
   ],
   "source": [
    "function randsum_better(n, a)\n",
    "    res = 0\n",
    "    for i = 1:n\n",
    "        res += a*rand()\n",
    "    end\n",
    "    res\n",
    "end"
   ]
  },
  {
   "cell_type": "code",
   "execution_count": 15,
   "metadata": {},
   "outputs": [
    {
     "name": "stdout",
     "output_type": "stream",
     "text": [
      "  4.974 μs (0 allocations: 0 bytes)\n"
     ]
    },
    {
     "data": {
      "text/plain": [
       "988.3037837966322"
      ]
     },
     "execution_count": 15,
     "metadata": {},
     "output_type": "execute_result"
    }
   ],
   "source": [
    "@btime randsum_better(1_000, $a)"
   ]
  },
  {
   "cell_type": "markdown",
   "metadata": {},
   "source": [
    "This is a more \"fair\" comparison because the compiler cannot optimize the loop away. Still, type stability gives a performance improvement of a factor of 20."
   ]
  },
  {
   "cell_type": "markdown",
   "metadata": {},
   "source": [
    "#### Type Stability Inside Methods"
   ]
  },
  {
   "cell_type": "markdown",
   "metadata": {},
   "source": [
    "Can we get better?"
   ]
  },
  {
   "cell_type": "code",
   "execution_count": 16,
   "metadata": {},
   "outputs": [
    {
     "name": "stdout",
     "output_type": "stream",
     "text": [
      "Variables\n",
      "  #self#\u001b[36m::Core.Compiler.Const(randsum_better, false)\u001b[39m\n",
      "  n\u001b[36m::Int64\u001b[39m\n",
      "  a\u001b[36m::Int64\u001b[39m\n",
      "  res\u001b[91m\u001b[1m::Union{Float64, Int64}\u001b[22m\u001b[39m\n",
      "  @_5\u001b[33m\u001b[1m::Union{Nothing, Tuple{Int64,Int64}}\u001b[22m\u001b[39m\n",
      "  i\u001b[36m::Int64\u001b[39m\n",
      "\n",
      "Body\u001b[91m\u001b[1m::Union{Float64, Int64}\u001b[22m\u001b[39m\n",
      "\u001b[90m1 ─\u001b[39m       (res = 0)\n",
      "\u001b[90m│  \u001b[39m %2  = (1:n)\u001b[36m::Core.Compiler.PartialStruct(UnitRange{Int64}, Any[Core.Compiler.Const(1, false), Int64])\u001b[39m\n",
      "\u001b[90m│  \u001b[39m       (@_5 = Base.iterate(%2))\n",
      "\u001b[90m│  \u001b[39m %4  = (@_5 === nothing)\u001b[36m::Bool\u001b[39m\n",
      "\u001b[90m│  \u001b[39m %5  = Base.not_int(%4)\u001b[36m::Bool\u001b[39m\n",
      "\u001b[90m└──\u001b[39m       goto #4 if not %5\n",
      "\u001b[90m2 ┄\u001b[39m %7  = @_5::Tuple{Int64,Int64}\u001b[36m::Tuple{Int64,Int64}\u001b[39m\n",
      "\u001b[90m│  \u001b[39m       (i = Core.getfield(%7, 1))\n",
      "\u001b[90m│  \u001b[39m %9  = Core.getfield(%7, 2)\u001b[36m::Int64\u001b[39m\n",
      "\u001b[90m│  \u001b[39m %10 = res\u001b[91m\u001b[1m::Union{Float64, Int64}\u001b[22m\u001b[39m\n",
      "\u001b[90m│  \u001b[39m %11 = Main.rand()\u001b[36m::Float64\u001b[39m\n",
      "\u001b[90m│  \u001b[39m %12 = (a * %11)\u001b[36m::Float64\u001b[39m\n",
      "\u001b[90m│  \u001b[39m       (res = %10 + %12)\n",
      "\u001b[90m│  \u001b[39m       (@_5 = Base.iterate(%2, %9))\n",
      "\u001b[90m│  \u001b[39m %15 = (@_5 === nothing)\u001b[36m::Bool\u001b[39m\n",
      "\u001b[90m│  \u001b[39m %16 = Base.not_int(%15)\u001b[36m::Bool\u001b[39m\n",
      "\u001b[90m└──\u001b[39m       goto #4 if not %16\n",
      "\u001b[90m3 ─\u001b[39m       goto #2\n",
      "\u001b[90m4 ┄\u001b[39m       return res\n"
     ]
    }
   ],
   "source": [
    "@code_warntype randsum_better(1_000, a)"
   ]
  },
  {
   "cell_type": "markdown",
   "metadata": {},
   "source": [
    "The variable *res* is still not type-stable. It is defined as integer, but the added random numbers are float.\n",
    "\n",
    "Let's fix this:"
   ]
  },
  {
   "cell_type": "code",
   "execution_count": 17,
   "metadata": {},
   "outputs": [
    {
     "data": {
      "text/plain": [
       "randsum_good (generic function with 1 method)"
      ]
     },
     "execution_count": 17,
     "metadata": {},
     "output_type": "execute_result"
    }
   ],
   "source": [
    "function randsum_good(n, a)\n",
    "    res = 0. # note the . which makes this a Float64 number\n",
    "    for i = 1:n\n",
    "        res += a*rand()\n",
    "    end\n",
    "    res\n",
    "end"
   ]
  },
  {
   "cell_type": "code",
   "execution_count": 18,
   "metadata": {},
   "outputs": [
    {
     "name": "stdout",
     "output_type": "stream",
     "text": [
      "Variables\n",
      "  #self#\u001b[36m::Core.Compiler.Const(randsum_good, false)\u001b[39m\n",
      "  n\u001b[36m::Int64\u001b[39m\n",
      "  a\u001b[36m::Int64\u001b[39m\n",
      "  res\u001b[36m::Float64\u001b[39m\n",
      "  @_5\u001b[33m\u001b[1m::Union{Nothing, Tuple{Int64,Int64}}\u001b[22m\u001b[39m\n",
      "  i\u001b[36m::Int64\u001b[39m\n",
      "\n",
      "Body\u001b[36m::Float64\u001b[39m\n",
      "\u001b[90m1 ─\u001b[39m       (res = 0.0)\n",
      "\u001b[90m│  \u001b[39m %2  = (1:n)\u001b[36m::Core.Compiler.PartialStruct(UnitRange{Int64}, Any[Core.Compiler.Const(1, false), Int64])\u001b[39m\n",
      "\u001b[90m│  \u001b[39m       (@_5 = Base.iterate(%2))\n",
      "\u001b[90m│  \u001b[39m %4  = (@_5 === nothing)\u001b[36m::Bool\u001b[39m\n",
      "\u001b[90m│  \u001b[39m %5  = Base.not_int(%4)\u001b[36m::Bool\u001b[39m\n",
      "\u001b[90m└──\u001b[39m       goto #4 if not %5\n",
      "\u001b[90m2 ┄\u001b[39m %7  = @_5::Tuple{Int64,Int64}\u001b[36m::Tuple{Int64,Int64}\u001b[39m\n",
      "\u001b[90m│  \u001b[39m       (i = Core.getfield(%7, 1))\n",
      "\u001b[90m│  \u001b[39m %9  = Core.getfield(%7, 2)\u001b[36m::Int64\u001b[39m\n",
      "\u001b[90m│  \u001b[39m %10 = res\u001b[36m::Float64\u001b[39m\n",
      "\u001b[90m│  \u001b[39m %11 = Main.rand()\u001b[36m::Float64\u001b[39m\n",
      "\u001b[90m│  \u001b[39m %12 = (a * %11)\u001b[36m::Float64\u001b[39m\n",
      "\u001b[90m│  \u001b[39m       (res = %10 + %12)\n",
      "\u001b[90m│  \u001b[39m       (@_5 = Base.iterate(%2, %9))\n",
      "\u001b[90m│  \u001b[39m %15 = (@_5 === nothing)\u001b[36m::Bool\u001b[39m\n",
      "\u001b[90m│  \u001b[39m %16 = Base.not_int(%15)\u001b[36m::Bool\u001b[39m\n",
      "\u001b[90m└──\u001b[39m       goto #4 if not %16\n",
      "\u001b[90m3 ─\u001b[39m       goto #2\n",
      "\u001b[90m4 ┄\u001b[39m       return res\n"
     ]
    }
   ],
   "source": [
    "@code_warntype randsum_good(1_000, a)"
   ]
  },
  {
   "cell_type": "code",
   "execution_count": 19,
   "metadata": {},
   "outputs": [
    {
     "name": "stdout",
     "output_type": "stream",
     "text": [
      "  3.621 μs (0 allocations: 0 bytes)\n"
     ]
    },
    {
     "data": {
      "text/plain": [
       "1039.1442226032727"
      ]
     },
     "execution_count": 19,
     "metadata": {},
     "output_type": "execute_result"
    }
   ],
   "source": [
    "@btime randsum_good(1_000, $a)"
   ]
  },
  {
   "cell_type": "markdown",
   "metadata": {},
   "source": [
    "An additional improvement of 30%."
   ]
  },
  {
   "cell_type": "markdown",
   "metadata": {},
   "source": [
    "### Custom Data Structures"
   ]
  },
  {
   "cell_type": "code",
   "execution_count": 20,
   "metadata": {},
   "outputs": [],
   "source": [
    "abstract type MyDataTypes end"
   ]
  },
  {
   "cell_type": "code",
   "execution_count": 21,
   "metadata": {},
   "outputs": [
    {
     "data": {
      "text/plain": [
       "fill_data! (generic function with 1 method)"
      ]
     },
     "execution_count": 21,
     "metadata": {},
     "output_type": "execute_result"
    }
   ],
   "source": [
    "function fill_data!(data_array:: AbstractArray{T, 1}) where {T <: MyDataTypes}\n",
    "    for i = 1:length(data_array)\n",
    "        data = T(i, rand())\n",
    "        data_array[i] = data\n",
    "    end\n",
    "end "
   ]
  },
  {
   "cell_type": "code",
   "execution_count": 22,
   "metadata": {},
   "outputs": [
    {
     "data": {
      "text/plain": [
       "aggregate_data (generic function with 1 method)"
      ]
     },
     "execution_count": 22,
     "metadata": {},
     "output_type": "execute_result"
    }
   ],
   "source": [
    "function aggregate_data(data_array:: AbstractArray{T, 1}) where {T <: MyDataTypes}\n",
    "    res = zero(data_array[1].id * data_array[1].value)\n",
    "    for i in eachindex(data_array)\n",
    "        @inbounds row = data_array[i]\n",
    "        res += row.id * row.value\n",
    "    end\n",
    "    res\n",
    "end     "
   ]
  },
  {
   "cell_type": "markdown",
   "metadata": {},
   "source": [
    "#### Bad - Using of Abstract Types in Structures"
   ]
  },
  {
   "cell_type": "code",
   "execution_count": 23,
   "metadata": {},
   "outputs": [],
   "source": [
    "struct MyBadData <: MyDataTypes\n",
    "    id:: Integer\n",
    "    value:: AbstractFloat\n",
    "end"
   ]
  },
  {
   "cell_type": "code",
   "execution_count": 24,
   "metadata": {},
   "outputs": [
    {
     "name": "stdout",
     "output_type": "stream",
     "text": [
      "  34.172 μs (2489 allocations: 54.52 KiB)\n"
     ]
    }
   ],
   "source": [
    "data_array_bad = Array{MyBadData, 1}(undef, 1_000)\n",
    "@btime fill_data!(data_array_bad)"
   ]
  },
  {
   "cell_type": "code",
   "execution_count": 25,
   "metadata": {},
   "outputs": [
    {
     "name": "stdout",
     "output_type": "stream",
     "text": [
      "  101.220 μs (2001 allocations: 31.27 KiB)\n"
     ]
    },
    {
     "data": {
      "text/plain": [
       "250448.92119289367"
      ]
     },
     "execution_count": 25,
     "metadata": {},
     "output_type": "execute_result"
    }
   ],
   "source": [
    "@btime aggregate_data(data_array_bad)"
   ]
  },
  {
   "cell_type": "code",
   "execution_count": 26,
   "metadata": {},
   "outputs": [
    {
     "name": "stdout",
     "output_type": "stream",
     "text": [
      "Variables\n",
      "  #self#\u001b[36m::Core.Compiler.Const(aggregate_data, false)\u001b[39m\n",
      "  data_array\u001b[36m::Array{MyBadData,1}\u001b[39m\n",
      "  res\u001b[91m\u001b[1m::Any\u001b[22m\u001b[39m\n",
      "  @_4\u001b[33m\u001b[1m::Union{Nothing, Tuple{Int64,Int64}}\u001b[22m\u001b[39m\n",
      "  i\u001b[36m::Int64\u001b[39m\n",
      "  val\u001b[36m::MyBadData\u001b[39m\n",
      "  row\u001b[36m::MyBadData\u001b[39m\n",
      "\n",
      "Body\u001b[91m\u001b[1m::Any\u001b[22m\u001b[39m\n",
      "\u001b[90m1 ─\u001b[39m %1  = Base.getindex(data_array, 1)\u001b[36m::MyBadData\u001b[39m\n",
      "\u001b[90m│  \u001b[39m %2  = Base.getproperty(%1, :id)\u001b[91m\u001b[1m::Integer\u001b[22m\u001b[39m\n",
      "\u001b[90m│  \u001b[39m %3  = Base.getindex(data_array, 1)\u001b[36m::MyBadData\u001b[39m\n",
      "\u001b[90m│  \u001b[39m %4  = Base.getproperty(%3, :value)\u001b[91m\u001b[1m::AbstractFloat\u001b[22m\u001b[39m\n",
      "\u001b[90m│  \u001b[39m %5  = (%2 * %4)\u001b[91m\u001b[1m::Any\u001b[22m\u001b[39m\n",
      "\u001b[90m│  \u001b[39m       (res = Main.zero(%5))\n",
      "\u001b[90m│  \u001b[39m %7  = Main.eachindex(data_array)\u001b[36m::Base.OneTo{Int64}\u001b[39m\n",
      "\u001b[90m│  \u001b[39m       (@_4 = Base.iterate(%7))\n",
      "\u001b[90m│  \u001b[39m %9  = (@_4 === nothing)\u001b[36m::Bool\u001b[39m\n",
      "\u001b[90m│  \u001b[39m %10 = Base.not_int(%9)\u001b[36m::Bool\u001b[39m\n",
      "\u001b[90m└──\u001b[39m       goto #4 if not %10\n",
      "\u001b[90m2 ┄\u001b[39m %12 = @_4::Tuple{Int64,Int64}\u001b[36m::Tuple{Int64,Int64}\u001b[39m\n",
      "\u001b[90m│  \u001b[39m       (i = Core.getfield(%12, 1))\n",
      "\u001b[90m│  \u001b[39m %14 = Core.getfield(%12, 2)\u001b[36m::Int64\u001b[39m\n",
      "\u001b[90m│  \u001b[39m       $(Expr(:inbounds, true))\n",
      "\u001b[90m│  \u001b[39m %16 = Base.getindex(data_array, i)\u001b[36m::MyBadData\u001b[39m\n",
      "\u001b[90m│  \u001b[39m       (row = %16)\n",
      "\u001b[90m│  \u001b[39m       (val = %16)\n",
      "\u001b[90m│  \u001b[39m       $(Expr(:inbounds, :pop))\n",
      "\u001b[90m│  \u001b[39m       val\n",
      "\u001b[90m│  \u001b[39m %21 = res\u001b[91m\u001b[1m::Any\u001b[22m\u001b[39m\n",
      "\u001b[90m│  \u001b[39m %22 = Base.getproperty(row, :id)\u001b[91m\u001b[1m::Integer\u001b[22m\u001b[39m\n",
      "\u001b[90m│  \u001b[39m %23 = Base.getproperty(row, :value)\u001b[91m\u001b[1m::AbstractFloat\u001b[22m\u001b[39m\n",
      "\u001b[90m│  \u001b[39m %24 = (%22 * %23)\u001b[91m\u001b[1m::Any\u001b[22m\u001b[39m\n",
      "\u001b[90m│  \u001b[39m       (res = %21 + %24)\n",
      "\u001b[90m│  \u001b[39m       (@_4 = Base.iterate(%7, %14))\n",
      "\u001b[90m│  \u001b[39m %27 = (@_4 === nothing)\u001b[36m::Bool\u001b[39m\n",
      "\u001b[90m│  \u001b[39m %28 = Base.not_int(%27)\u001b[36m::Bool\u001b[39m\n",
      "\u001b[90m└──\u001b[39m       goto #4 if not %28\n",
      "\u001b[90m3 ─\u001b[39m       goto #2\n",
      "\u001b[90m4 ┄\u001b[39m       return res\n"
     ]
    }
   ],
   "source": [
    "@code_warntype aggregate_data(data_array_bad)"
   ]
  },
  {
   "cell_type": "markdown",
   "metadata": {},
   "source": [
    "Using abstract data types inside user defined structures introduces a type instability which significantly reduces performance."
   ]
  },
  {
   "cell_type": "markdown",
   "metadata": {},
   "source": [
    "#### Using Concrete Types in Structures"
   ]
  },
  {
   "cell_type": "code",
   "execution_count": 27,
   "metadata": {},
   "outputs": [],
   "source": [
    "struct MyGoodInflexibleData <: MyDataTypes\n",
    "    id:: Int\n",
    "    value:: Float64\n",
    "end"
   ]
  },
  {
   "cell_type": "code",
   "execution_count": 28,
   "metadata": {},
   "outputs": [
    {
     "name": "stdout",
     "output_type": "stream",
     "text": [
      "  5.250 μs (0 allocations: 0 bytes)\n"
     ]
    }
   ],
   "source": [
    "data_array_good1 = Array{MyGoodInflexibleData, 1}(undef, 1_000)\n",
    "@btime fill_data!(data_array_good1)"
   ]
  },
  {
   "cell_type": "code",
   "execution_count": 29,
   "metadata": {},
   "outputs": [
    {
     "name": "stdout",
     "output_type": "stream",
     "text": [
      "  1.472 μs (1 allocation: 16 bytes)\n"
     ]
    },
    {
     "data": {
      "text/plain": [
       "250311.52680232056"
      ]
     },
     "execution_count": 29,
     "metadata": {},
     "output_type": "execute_result"
    }
   ],
   "source": [
    "@btime aggregate_data(data_array_good1)"
   ]
  },
  {
   "cell_type": "code",
   "execution_count": 30,
   "metadata": {},
   "outputs": [
    {
     "name": "stdout",
     "output_type": "stream",
     "text": [
      "Variables\n",
      "  #self#\u001b[36m::Core.Compiler.Const(aggregate_data, false)\u001b[39m\n",
      "  data_array\u001b[36m::Array{MyGoodInflexibleData,1}\u001b[39m\n",
      "  res\u001b[36m::Float64\u001b[39m\n",
      "  @_4\u001b[33m\u001b[1m::Union{Nothing, Tuple{Int64,Int64}}\u001b[22m\u001b[39m\n",
      "  i\u001b[36m::Int64\u001b[39m\n",
      "  val\u001b[36m::MyGoodInflexibleData\u001b[39m\n",
      "  row\u001b[36m::MyGoodInflexibleData\u001b[39m\n",
      "\n",
      "Body\u001b[36m::Float64\u001b[39m\n",
      "\u001b[90m1 ─\u001b[39m %1  = Base.getindex(data_array, 1)\u001b[36m::MyGoodInflexibleData\u001b[39m\n",
      "\u001b[90m│  \u001b[39m %2  = Base.getproperty(%1, :id)\u001b[36m::Int64\u001b[39m\n",
      "\u001b[90m│  \u001b[39m %3  = Base.getindex(data_array, 1)\u001b[36m::MyGoodInflexibleData\u001b[39m\n",
      "\u001b[90m│  \u001b[39m %4  = Base.getproperty(%3, :value)\u001b[36m::Float64\u001b[39m\n",
      "\u001b[90m│  \u001b[39m %5  = (%2 * %4)\u001b[36m::Float64\u001b[39m\n",
      "\u001b[90m│  \u001b[39m       (res = Main.zero(%5))\n",
      "\u001b[90m│  \u001b[39m %7  = Main.eachindex(data_array)\u001b[36m::Base.OneTo{Int64}\u001b[39m\n",
      "\u001b[90m│  \u001b[39m       (@_4 = Base.iterate(%7))\n",
      "\u001b[90m│  \u001b[39m %9  = (@_4 === nothing)\u001b[36m::Bool\u001b[39m\n",
      "\u001b[90m│  \u001b[39m %10 = Base.not_int(%9)\u001b[36m::Bool\u001b[39m\n",
      "\u001b[90m└──\u001b[39m       goto #4 if not %10\n",
      "\u001b[90m2 ┄\u001b[39m %12 = @_4::Tuple{Int64,Int64}\u001b[36m::Tuple{Int64,Int64}\u001b[39m\n",
      "\u001b[90m│  \u001b[39m       (i = Core.getfield(%12, 1))\n",
      "\u001b[90m│  \u001b[39m %14 = Core.getfield(%12, 2)\u001b[36m::Int64\u001b[39m\n",
      "\u001b[90m│  \u001b[39m       $(Expr(:inbounds, true))\n",
      "\u001b[90m│  \u001b[39m %16 = Base.getindex(data_array, i)\u001b[36m::MyGoodInflexibleData\u001b[39m\n",
      "\u001b[90m│  \u001b[39m       (row = %16)\n",
      "\u001b[90m│  \u001b[39m       (val = %16)\n",
      "\u001b[90m│  \u001b[39m       $(Expr(:inbounds, :pop))\n",
      "\u001b[90m│  \u001b[39m       val\n",
      "\u001b[90m│  \u001b[39m %21 = res\u001b[36m::Float64\u001b[39m\n",
      "\u001b[90m│  \u001b[39m %22 = Base.getproperty(row, :id)\u001b[36m::Int64\u001b[39m\n",
      "\u001b[90m│  \u001b[39m %23 = Base.getproperty(row, :value)\u001b[36m::Float64\u001b[39m\n",
      "\u001b[90m│  \u001b[39m %24 = (%22 * %23)\u001b[36m::Float64\u001b[39m\n",
      "\u001b[90m│  \u001b[39m       (res = %21 + %24)\n",
      "\u001b[90m│  \u001b[39m       (@_4 = Base.iterate(%7, %14))\n",
      "\u001b[90m│  \u001b[39m %27 = (@_4 === nothing)\u001b[36m::Bool\u001b[39m\n",
      "\u001b[90m│  \u001b[39m %28 = Base.not_int(%27)\u001b[36m::Bool\u001b[39m\n",
      "\u001b[90m└──\u001b[39m       goto #4 if not %28\n",
      "\u001b[90m3 ─\u001b[39m       goto #2\n",
      "\u001b[90m4 ┄\u001b[39m       return res\n"
     ]
    }
   ],
   "source": [
    "@code_warntype aggregate_data(data_array_good1)"
   ]
  },
  {
   "cell_type": "markdown",
   "metadata": {},
   "source": [
    "Defining concrete data types inside a structure gives type-stability (and thus performace), but reduces flexibility - e.g. we cannot use Float32 as *value* anymore."
   ]
  },
  {
   "cell_type": "markdown",
   "metadata": {},
   "source": [
    "#### Parametric Types"
   ]
  },
  {
   "cell_type": "code",
   "execution_count": 31,
   "metadata": {},
   "outputs": [],
   "source": [
    "struct MyGoodData{T <: Integer, U <: Number} <: MyDataTypes\n",
    "    id:: T\n",
    "    value:: U\n",
    "end"
   ]
  },
  {
   "cell_type": "code",
   "execution_count": 32,
   "metadata": {},
   "outputs": [
    {
     "name": "stdout",
     "output_type": "stream",
     "text": [
      "  5.251 μs (0 allocations: 0 bytes)\n"
     ]
    }
   ],
   "source": [
    "data_array_good2 = Array{MyGoodData{Int, Float64}, 1}(undef, 1_000)\n",
    "@btime fill_data!(data_array_good2)"
   ]
  },
  {
   "cell_type": "code",
   "execution_count": 33,
   "metadata": {},
   "outputs": [
    {
     "name": "stdout",
     "output_type": "stream",
     "text": [
      "  1.470 μs (1 allocation: 16 bytes)\n"
     ]
    },
    {
     "data": {
      "text/plain": [
       "254783.94285752467"
      ]
     },
     "execution_count": 33,
     "metadata": {},
     "output_type": "execute_result"
    }
   ],
   "source": [
    "@btime aggregate_data(data_array_good2)"
   ]
  },
  {
   "cell_type": "code",
   "execution_count": 34,
   "metadata": {},
   "outputs": [
    {
     "name": "stdout",
     "output_type": "stream",
     "text": [
      "Variables\n",
      "  #self#\u001b[36m::Core.Compiler.Const(aggregate_data, false)\u001b[39m\n",
      "  data_array\u001b[36m::Array{MyGoodData{Int64,Float64},1}\u001b[39m\n",
      "  res\u001b[36m::Float64\u001b[39m\n",
      "  @_4\u001b[33m\u001b[1m::Union{Nothing, Tuple{Int64,Int64}}\u001b[22m\u001b[39m\n",
      "  i\u001b[36m::Int64\u001b[39m\n",
      "  val\u001b[36m::MyGoodData{Int64,Float64}\u001b[39m\n",
      "  row\u001b[36m::MyGoodData{Int64,Float64}\u001b[39m\n",
      "\n",
      "Body\u001b[36m::Float64\u001b[39m\n",
      "\u001b[90m1 ─\u001b[39m %1  = Base.getindex(data_array, 1)\u001b[36m::MyGoodData{Int64,Float64}\u001b[39m\n",
      "\u001b[90m│  \u001b[39m %2  = Base.getproperty(%1, :id)\u001b[36m::Int64\u001b[39m\n",
      "\u001b[90m│  \u001b[39m %3  = Base.getindex(data_array, 1)\u001b[36m::MyGoodData{Int64,Float64}\u001b[39m\n",
      "\u001b[90m│  \u001b[39m %4  = Base.getproperty(%3, :value)\u001b[36m::Float64\u001b[39m\n",
      "\u001b[90m│  \u001b[39m %5  = (%2 * %4)\u001b[36m::Float64\u001b[39m\n",
      "\u001b[90m│  \u001b[39m       (res = Main.zero(%5))\n",
      "\u001b[90m│  \u001b[39m %7  = Main.eachindex(data_array)\u001b[36m::Base.OneTo{Int64}\u001b[39m\n",
      "\u001b[90m│  \u001b[39m       (@_4 = Base.iterate(%7))\n",
      "\u001b[90m│  \u001b[39m %9  = (@_4 === nothing)\u001b[36m::Bool\u001b[39m\n",
      "\u001b[90m│  \u001b[39m %10 = Base.not_int(%9)\u001b[36m::Bool\u001b[39m\n",
      "\u001b[90m└──\u001b[39m       goto #4 if not %10\n",
      "\u001b[90m2 ┄\u001b[39m %12 = @_4::Tuple{Int64,Int64}\u001b[36m::Tuple{Int64,Int64}\u001b[39m\n",
      "\u001b[90m│  \u001b[39m       (i = Core.getfield(%12, 1))\n",
      "\u001b[90m│  \u001b[39m %14 = Core.getfield(%12, 2)\u001b[36m::Int64\u001b[39m\n",
      "\u001b[90m│  \u001b[39m       $(Expr(:inbounds, true))\n",
      "\u001b[90m│  \u001b[39m %16 = Base.getindex(data_array, i)\u001b[36m::MyGoodData{Int64,Float64}\u001b[39m\n",
      "\u001b[90m│  \u001b[39m       (row = %16)\n",
      "\u001b[90m│  \u001b[39m       (val = %16)\n",
      "\u001b[90m│  \u001b[39m       $(Expr(:inbounds, :pop))\n",
      "\u001b[90m│  \u001b[39m       val\n",
      "\u001b[90m│  \u001b[39m %21 = res\u001b[36m::Float64\u001b[39m\n",
      "\u001b[90m│  \u001b[39m %22 = Base.getproperty(row, :id)\u001b[36m::Int64\u001b[39m\n",
      "\u001b[90m│  \u001b[39m %23 = Base.getproperty(row, :value)\u001b[36m::Float64\u001b[39m\n",
      "\u001b[90m│  \u001b[39m %24 = (%22 * %23)\u001b[36m::Float64\u001b[39m\n",
      "\u001b[90m│  \u001b[39m       (res = %21 + %24)\n",
      "\u001b[90m│  \u001b[39m       (@_4 = Base.iterate(%7, %14))\n",
      "\u001b[90m│  \u001b[39m %27 = (@_4 === nothing)\u001b[36m::Bool\u001b[39m\n",
      "\u001b[90m│  \u001b[39m %28 = Base.not_int(%27)\u001b[36m::Bool\u001b[39m\n",
      "\u001b[90m└──\u001b[39m       goto #4 if not %28\n",
      "\u001b[90m3 ─\u001b[39m       goto #2\n",
      "\u001b[90m4 ┄\u001b[39m       return res\n"
     ]
    }
   ],
   "source": [
    "@code_warntype aggregate_data(data_array_good2)"
   ]
  },
  {
   "cell_type": "markdown",
   "metadata": {},
   "source": [
    "Parametric data types give both type-stability (and thus performance) and flexibility and are therefore usually the best solution."
   ]
  },
  {
   "cell_type": "markdown",
   "metadata": {},
   "source": [
    "## Allocations"
   ]
  },
  {
   "cell_type": "code",
   "execution_count": null,
   "metadata": {},
   "outputs": [],
   "source": []
  },
  {
   "cell_type": "markdown",
   "metadata": {},
   "source": [
    "## Further Optimizations\n",
    "\n",
    "The following macros could give significant speed-ups in certain situations.\n",
    "However, there is a good reason why these optimizations are not enabled by default, therefore use with caution."
   ]
  },
  {
   "cell_type": "markdown",
   "metadata": {},
   "source": [
    "### Baseline"
   ]
  },
  {
   "cell_type": "code",
   "execution_count": 42,
   "metadata": {
    "collapsed": true,
    "jupyter": {
     "outputs_hidden": true
    }
   },
   "outputs": [
    {
     "data": {
      "text/plain": [
       "1000000-element Array{Float64,1}:\n",
       " 0.48251039775571636 \n",
       " 0.6060967900875225  \n",
       " 0.6433419971075629  \n",
       " 0.5672518352733051  \n",
       " 0.6330449556462303  \n",
       " 0.7847472161059443  \n",
       " 0.6346399388443404  \n",
       " 0.9106312549030293  \n",
       " 0.7672216770021818  \n",
       " 0.016045060370933006\n",
       " 0.002823502264714506\n",
       " 0.04043181535589446 \n",
       " 0.8424429448402266  \n",
       " ⋮                   \n",
       " 0.20209203603669912 \n",
       " 0.7235009637225687  \n",
       " 0.7721670611958109  \n",
       " 0.5345527557796439  \n",
       " 0.29539609857093296 \n",
       " 0.35311189336195103 \n",
       " 0.30548114650768987 \n",
       " 0.841808211370416   \n",
       " 0.6500169780553795  \n",
       " 0.41714463376159006 \n",
       " 0.9968664190952854  \n",
       " 0.3217207185034947  "
      ]
     },
     "execution_count": 42,
     "metadata": {},
     "output_type": "execute_result"
    }
   ],
   "source": [
    "my_array = rand(1_000_000)"
   ]
  },
  {
   "cell_type": "code",
   "execution_count": 43,
   "metadata": {},
   "outputs": [
    {
     "data": {
      "text/plain": [
       "test_agg (generic function with 1 method)"
      ]
     },
     "execution_count": 43,
     "metadata": {},
     "output_type": "execute_result"
    }
   ],
   "source": [
    "function test_agg(array)\n",
    "    res = 0.\n",
    "    for i = 1:length(array)\n",
    "        res += array[i]\n",
    "    end\n",
    "    res\n",
    "end"
   ]
  },
  {
   "cell_type": "code",
   "execution_count": 44,
   "metadata": {},
   "outputs": [
    {
     "name": "stdout",
     "output_type": "stream",
     "text": [
      "  1.826 ms (0 allocations: 0 bytes)\n"
     ]
    },
    {
     "data": {
      "text/plain": [
       "499669.7343965981"
      ]
     },
     "execution_count": 44,
     "metadata": {},
     "output_type": "execute_result"
    }
   ],
   "source": [
    "@btime test_agg($my_array)"
   ]
  },
  {
   "cell_type": "markdown",
   "metadata": {},
   "source": [
    "### Deactivation of Bounds Checks"
   ]
  },
  {
   "cell_type": "code",
   "execution_count": 45,
   "metadata": {},
   "outputs": [
    {
     "data": {
      "text/plain": [
       "test_agg_inbounds (generic function with 1 method)"
      ]
     },
     "execution_count": 45,
     "metadata": {},
     "output_type": "execute_result"
    }
   ],
   "source": [
    "function test_agg_inbounds(array)\n",
    "    res = 0.\n",
    "    for i = 1:length(array)\n",
    "        @inbounds res += array[i]\n",
    "    end\n",
    "    res\n",
    "end"
   ]
  },
  {
   "cell_type": "code",
   "execution_count": 46,
   "metadata": {},
   "outputs": [
    {
     "name": "stdout",
     "output_type": "stream",
     "text": [
      "  1.687 ms (0 allocations: 0 bytes)\n"
     ]
    },
    {
     "data": {
      "text/plain": [
       "499669.7343965981"
      ]
     },
     "execution_count": 46,
     "metadata": {},
     "output_type": "execute_result"
    }
   ],
   "source": [
    "@btime test_agg_inbounds($my_array)"
   ]
  },
  {
   "cell_type": "code",
   "execution_count": 52,
   "metadata": {},
   "outputs": [],
   "source": [
    "@assert test_agg(my_array) == test_agg_inbounds(my_array)"
   ]
  },
  {
   "cell_type": "markdown",
   "metadata": {},
   "source": [
    "The *@inbounds* macro disables array boundary checks and gives a speedup of ca. 10% here."
   ]
  },
  {
   "cell_type": "markdown",
   "metadata": {},
   "source": [
    "However, be careful:"
   ]
  },
  {
   "cell_type": "code",
   "execution_count": 63,
   "metadata": {},
   "outputs": [
    {
     "data": {
      "text/plain": [
       "test_agg_bugged (generic function with 1 method)"
      ]
     },
     "execution_count": 63,
     "metadata": {},
     "output_type": "execute_result"
    }
   ],
   "source": [
    "function test_agg_bugged(array)\n",
    "    res = 0.\n",
    "    for i = 1:length(array)+1 # bug: loop should go to length, not length + 1!\n",
    "        res += array[i]\n",
    "    end\n",
    "    res\n",
    "end"
   ]
  },
  {
   "cell_type": "code",
   "execution_count": 64,
   "metadata": {},
   "outputs": [
    {
     "ename": "BoundsError",
     "evalue": "BoundsError: attempt to access 1000000-element Array{Float64,1} at index [1000001]",
     "output_type": "error",
     "traceback": [
      "BoundsError: attempt to access 1000000-element Array{Float64,1} at index [1000001]",
      "",
      "Stacktrace:",
      " [1] getindex at ./array.jl:728 [inlined]",
      " [2] test_agg_bugged(::Array{Float64,1}) at ./In[63]:4",
      " [3] top-level scope at In[64]:1"
     ]
    }
   ],
   "source": [
    "test_agg_bugged(my_array)"
   ]
  },
  {
   "cell_type": "code",
   "execution_count": 65,
   "metadata": {},
   "outputs": [
    {
     "data": {
      "text/plain": [
       "test_agg_inbounds_bugged (generic function with 1 method)"
      ]
     },
     "execution_count": 65,
     "metadata": {},
     "output_type": "execute_result"
    }
   ],
   "source": [
    "function test_agg_inbounds_bugged(array)\n",
    "    res = 0.\n",
    "    for i = 1:length(array)+1 # bug: loop should go to length, not length + 1!\n",
    "        @inbounds res += array[i]\n",
    "    end\n",
    "    res\n",
    "end"
   ]
  },
  {
   "cell_type": "code",
   "execution_count": 69,
   "metadata": {},
   "outputs": [
    {
     "data": {
      "text/plain": [
       "499669.7343965981"
      ]
     },
     "execution_count": 69,
     "metadata": {},
     "output_type": "execute_result"
    }
   ],
   "source": [
    "test_agg_inbounds_bugged(my_array)"
   ]
  },
  {
   "cell_type": "markdown",
   "metadata": {},
   "source": [
    "The bug in the code is not detected because of the inbounds macro.\n",
    "The result of accessing an array out of bounds is not predictable."
   ]
  },
  {
   "cell_type": "markdown",
   "metadata": {},
   "source": [
    "### SIMD\n",
    "\n",
    "This macro makes use the the Single Instruction Multiple Data functionality of modern CPUs.\n",
    "\n",
    "It should only be used if the loop iterations are independent and the order of iterations can be changed."
   ]
  },
  {
   "cell_type": "code",
   "execution_count": 76,
   "metadata": {},
   "outputs": [
    {
     "data": {
      "text/plain": [
       "test_agg_simd (generic function with 1 method)"
      ]
     },
     "execution_count": 76,
     "metadata": {},
     "output_type": "execute_result"
    }
   ],
   "source": [
    "function test_agg_simd(array)\n",
    "    res = 0.\n",
    "    @simd for i = 1:length(array)\n",
    "        @inbounds res += array[i]\n",
    "    end\n",
    "    res\n",
    "end"
   ]
  },
  {
   "cell_type": "code",
   "execution_count": 77,
   "metadata": {},
   "outputs": [
    {
     "name": "stdout",
     "output_type": "stream",
     "text": [
      "  1.227 ms (0 allocations: 0 bytes)\n"
     ]
    },
    {
     "data": {
      "text/plain": [
       "499669.7343966109"
      ]
     },
     "execution_count": 77,
     "metadata": {},
     "output_type": "execute_result"
    }
   ],
   "source": [
    "@btime test_agg_simd($my_array)"
   ]
  },
  {
   "cell_type": "code",
   "execution_count": 78,
   "metadata": {},
   "outputs": [
    {
     "data": {
      "text/plain": [
       "-1.2747477740049362e-8"
      ]
     },
     "execution_count": 78,
     "metadata": {},
     "output_type": "execute_result"
    }
   ],
   "source": [
    "test_agg(my_array) - test_agg_simd(my_array)"
   ]
  },
  {
   "cell_type": "markdown",
   "metadata": {},
   "source": [
    "The @simd macro gives a speedup of 20%, but changes (slightly) the calculation result, likely due to modified order of loop elements."
   ]
  },
  {
   "cell_type": "code",
   "execution_count": 79,
   "metadata": {},
   "outputs": [
    {
     "name": "stdout",
     "output_type": "stream",
     "text": [
      "\n",
      ";  @ In[76]:2 within `test_agg_simd'\n",
      "define double @julia_test_agg_simd_17291(%jl_value_t addrspace(10)* nonnull align 16 dereferenceable(40)) {\n",
      "top:\n",
      ";  @ In[76]:3 within `test_agg_simd'\n",
      "; ┌ @ simdloop.jl:69 within `macro expansion'\n",
      "; │┌ @ array.jl:200 within `length'\n",
      "    %1 = addrspacecast %jl_value_t addrspace(10)* %0 to %jl_value_t addrspace(11)*\n",
      "    %2 = bitcast %jl_value_t addrspace(11)* %1 to %jl_array_t addrspace(11)*\n",
      "    %3 = getelementptr inbounds %jl_array_t, %jl_array_t addrspace(11)* %2, i64 0, i32 1\n",
      "    %4 = load i64, i64 addrspace(11)* %3, align 8\n",
      "; │└\n",
      "; │┌ @ range.jl:5 within `Colon'\n",
      "; ││┌ @ range.jl:275 within `Type'\n",
      "; │││┌ @ range.jl:280 within `unitrange_last'\n",
      "; ││││┌ @ operators.jl:341 within `>='\n",
      "; │││││┌ @ int.jl:424 within `<='\n",
      "        %5 = icmp sgt i64 %4, 0\n",
      "; ││││└└\n",
      "      %6 = select i1 %5, i64 %4, i64 0\n",
      "; │└└└\n",
      "; │ @ simdloop.jl:71 within `macro expansion'\n",
      "; │┌ @ simdloop.jl:51 within `simd_inner_length'\n",
      "; ││┌ @ range.jl:541 within `length'\n",
      "; │││┌ @ checked.jl:222 within `checked_sub'\n",
      "; ││││┌ @ checked.jl:194 within `sub_with_overflow'\n",
      "       %7 = add nsw i64 %6, -1\n",
      "; │││└└\n",
      "; │││┌ @ checked.jl:165 within `checked_add'\n",
      "; ││││┌ @ checked.jl:132 within `add_with_overflow'\n",
      "       %8 = call { i64, i1 } @llvm.sadd.with.overflow.i64(i64 %7, i64 1)\n",
      "       %9 = extractvalue { i64, i1 } %8, 1\n",
      "; ││││└\n",
      "; ││││ @ checked.jl:166 within `checked_add'\n",
      "      br i1 %9, label %L17, label %L22\n",
      "\n",
      "L17:                                              ; preds = %top\n",
      "      call void @julia_throw_overflowerr_binaryop_13539(%jl_value_t addrspace(10)* addrspacecast (%jl_value_t* inttoptr (i64 140172356179280 to %jl_value_t*) to %jl_value_t addrspace(10)*), i64 %7, i64 1)\n",
      "      call void @llvm.trap()\n",
      "      unreachable\n",
      "\n",
      "L22:                                              ; preds = %top\n",
      "; ││││ @ checked.jl:165 within `checked_add'\n",
      "; ││││┌ @ checked.jl:132 within `add_with_overflow'\n",
      "       %10 = extractvalue { i64, i1 } %8, 0\n",
      "; │└└└└\n",
      "; │ @ simdloop.jl:72 within `macro expansion'\n",
      "; │┌ @ int.jl:49 within `<'\n",
      "    %11 = icmp slt i64 %10, 1\n",
      "; │└\n",
      "   br i1 %11, label %L54, label %L29.lr.ph\n",
      "\n",
      "L29.lr.ph:                                        ; preds = %L22\n",
      "   %12 = bitcast %jl_value_t addrspace(11)* %1 to double addrspace(13)* addrspace(11)*\n",
      "   %13 = load double addrspace(13)*, double addrspace(13)* addrspace(11)* %12, align 8\n",
      "; │ @ simdloop.jl:75 within `macro expansion'\n",
      "   %min.iters.check = icmp ult i64 %6, 4\n",
      "   br i1 %min.iters.check, label %scalar.ph, label %vector.ph\n",
      "\n",
      "vector.ph:                                        ; preds = %L29.lr.ph\n",
      "   %n.vec = and i64 %6, 9223372036854775804\n",
      "   br label %vector.body\n",
      "\n",
      "vector.body:                                      ; preds = %vector.body, %vector.ph\n",
      "; │ @ simdloop.jl:78 within `macro expansion'\n",
      "; │┌ @ int.jl:53 within `+'\n",
      "    %index = phi i64 [ 0, %vector.ph ], [ %index.next, %vector.body ]\n",
      "    %vec.phi = phi <2 x double> [ zeroinitializer, %vector.ph ], [ %18, %vector.body ]\n",
      "    %vec.phi18 = phi <2 x double> [ zeroinitializer, %vector.ph ], [ %19, %vector.body ]\n",
      "; │└\n",
      "; │ @ simdloop.jl:77 within `macro expansion' @ In[76]:4\n",
      "; │┌ @ array.jl:728 within `getindex'\n",
      "    %14 = getelementptr inbounds double, double addrspace(13)* %13, i64 %index\n",
      "    %15 = bitcast double addrspace(13)* %14 to <2 x double> addrspace(13)*\n",
      "    %wide.load = load <2 x double>, <2 x double> addrspace(13)* %15, align 8\n",
      "    %16 = getelementptr double, double addrspace(13)* %14, i64 2\n",
      "    %17 = bitcast double addrspace(13)* %16 to <2 x double> addrspace(13)*\n",
      "    %wide.load19 = load <2 x double>, <2 x double> addrspace(13)* %17, align 8\n",
      "; │└\n",
      "; │┌ @ float.jl:395 within `+'\n",
      "    %18 = fadd fast <2 x double> %vec.phi, %wide.load\n",
      "    %19 = fadd fast <2 x double> %vec.phi18, %wide.load19\n",
      "; │└\n",
      "; │ @ simdloop.jl:78 within `macro expansion'\n",
      "; │┌ @ int.jl:53 within `+'\n",
      "    %index.next = add i64 %index, 4\n",
      "    %20 = icmp eq i64 %index.next, %n.vec\n",
      "    br i1 %20, label %middle.block, label %vector.body\n",
      "\n",
      "middle.block:                                     ; preds = %vector.body\n",
      "; │└\n",
      "; │ @ simdloop.jl:77 within `macro expansion' @ In[76]:4\n",
      "; │┌ @ float.jl:395 within `+'\n",
      "    %bin.rdx = fadd fast <2 x double> %19, %18\n",
      "    %rdx.shuf = shufflevector <2 x double> %bin.rdx, <2 x double> undef, <2 x i32> <i32 1, i32 undef>\n",
      "    %bin.rdx20 = fadd fast <2 x double> %bin.rdx, %rdx.shuf\n",
      "    %21 = extractelement <2 x double> %bin.rdx20, i32 0\n",
      "    %cmp.n = icmp eq i64 %6, %n.vec\n",
      "; │└\n",
      "; │ @ simdloop.jl:75 within `macro expansion'\n",
      "   br i1 %cmp.n, label %L54, label %scalar.ph\n",
      "\n",
      "scalar.ph:                                        ; preds = %middle.block, %L29.lr.ph\n",
      "   %bc.resume.val = phi i64 [ %n.vec, %middle.block ], [ 0, %L29.lr.ph ]\n",
      "   %bc.merge.rdx = phi double [ %21, %middle.block ], [ 0.000000e+00, %L29.lr.ph ]\n",
      "   br label %L29\n",
      "\n",
      "L29:                                              ; preds = %scalar.ph, %L29\n",
      "   %value_phi216 = phi i64 [ %bc.resume.val, %scalar.ph ], [ %25, %L29 ]\n",
      "   %value_phi15 = phi double [ %bc.merge.rdx, %scalar.ph ], [ %24, %L29 ]\n",
      "; │ @ simdloop.jl:77 within `macro expansion' @ In[76]:4\n",
      "; │┌ @ array.jl:728 within `getindex'\n",
      "    %22 = getelementptr inbounds double, double addrspace(13)* %13, i64 %value_phi216\n",
      "    %23 = load double, double addrspace(13)* %22, align 8\n",
      "; │└\n",
      "; │┌ @ float.jl:395 within `+'\n",
      "    %24 = fadd fast double %value_phi15, %23\n",
      "; │└\n",
      "; │ @ simdloop.jl:78 within `macro expansion'\n",
      "; │┌ @ int.jl:53 within `+'\n",
      "    %25 = add nuw nsw i64 %value_phi216, 1\n",
      "; │└\n",
      "; │ @ simdloop.jl:75 within `macro expansion'\n",
      "; │┌ @ int.jl:49 within `<'\n",
      "    %26 = icmp ult i64 %25, %10\n",
      "; │└\n",
      "   br i1 %26, label %L29, label %L54\n",
      "\n",
      "L54:                                              ; preds = %L29, %middle.block, %L22\n",
      "   %value_phi5 = phi double [ 0.000000e+00, %L22 ], [ %24, %L29 ], [ %21, %middle.block ]\n",
      "; └\n",
      ";  @ In[76]:6 within `test_agg_simd'\n",
      "  ret double %value_phi5\n",
      "}\n"
     ]
    }
   ],
   "source": [
    "@code_llvm test_agg_simd(my_array)"
   ]
  },
  {
   "cell_type": "markdown",
   "metadata": {},
   "source": [
    "Note the operations on data types like *<2x double>*."
   ]
  },
  {
   "cell_type": "code",
   "execution_count": 83,
   "metadata": {},
   "outputs": [
    {
     "data": {
      "text/plain": [
       "test_agg_simd_bad (generic function with 1 method)"
      ]
     },
     "execution_count": 83,
     "metadata": {},
     "output_type": "execute_result"
    }
   ],
   "source": [
    "function test_agg_simd_bad(array)\n",
    "    res = 0.\n",
    "    @simd for i = 1:length(array)\n",
    "        res += array[i]\n",
    "    end\n",
    "    res\n",
    "end"
   ]
  },
  {
   "cell_type": "code",
   "execution_count": 84,
   "metadata": {},
   "outputs": [
    {
     "name": "stdout",
     "output_type": "stream",
     "text": [
      "  1.837 ms (0 allocations: 0 bytes)\n"
     ]
    },
    {
     "data": {
      "text/plain": [
       "499669.7343965981"
      ]
     },
     "execution_count": 84,
     "metadata": {},
     "output_type": "execute_result"
    }
   ],
   "source": [
    "@btime test_agg_simd_bad($my_array)"
   ]
  },
  {
   "cell_type": "code",
   "execution_count": 85,
   "metadata": {},
   "outputs": [
    {
     "name": "stdout",
     "output_type": "stream",
     "text": [
      "\n",
      ";  @ In[83]:2 within `test_agg_simd_bad'\n",
      "define double @julia_test_agg_simd_bad_17346(%jl_value_t addrspace(10)* nonnull align 16 dereferenceable(40)) {\n",
      "top:\n",
      ";  @ In[83]:3 within `test_agg_simd_bad'\n",
      "; ┌ @ simdloop.jl:69 within `macro expansion'\n",
      "; │┌ @ array.jl:200 within `length'\n",
      "    %1 = addrspacecast %jl_value_t addrspace(10)* %0 to %jl_value_t addrspace(11)*\n",
      "    %2 = bitcast %jl_value_t addrspace(11)* %1 to %jl_array_t addrspace(11)*\n",
      "    %3 = getelementptr inbounds %jl_array_t, %jl_array_t addrspace(11)* %2, i64 0, i32 1\n",
      "    %4 = load i64, i64 addrspace(11)* %3, align 8\n",
      "; │└\n",
      "; │┌ @ range.jl:5 within `Colon'\n",
      "; ││┌ @ range.jl:275 within `Type'\n",
      "; │││┌ @ range.jl:280 within `unitrange_last'\n",
      "; ││││┌ @ operators.jl:341 within `>='\n",
      "; │││││┌ @ int.jl:424 within `<='\n",
      "        %5 = icmp sgt i64 %4, 0\n",
      "; ││││└└\n",
      "      %6 = select i1 %5, i64 %4, i64 0\n",
      "; │└└└\n",
      "; │ @ simdloop.jl:71 within `macro expansion'\n",
      "; │┌ @ simdloop.jl:51 within `simd_inner_length'\n",
      "; ││┌ @ range.jl:541 within `length'\n",
      "; │││┌ @ checked.jl:222 within `checked_sub'\n",
      "; ││││┌ @ checked.jl:194 within `sub_with_overflow'\n",
      "       %7 = add nsw i64 %6, -1\n",
      "; │││└└\n",
      "; │││┌ @ checked.jl:165 within `checked_add'\n",
      "; ││││┌ @ checked.jl:132 within `add_with_overflow'\n",
      "       %8 = call { i64, i1 } @llvm.sadd.with.overflow.i64(i64 %7, i64 1)\n",
      "       %9 = extractvalue { i64, i1 } %8, 1\n",
      "; ││││└\n",
      "; ││││ @ checked.jl:166 within `checked_add'\n",
      "      br i1 %9, label %L17, label %L22\n",
      "\n",
      "L17:                                              ; preds = %top\n",
      "      call void @julia_throw_overflowerr_binaryop_13539(%jl_value_t addrspace(10)* addrspacecast (%jl_value_t* inttoptr (i64 140172356179280 to %jl_value_t*) to %jl_value_t addrspace(10)*), i64 %7, i64 1)\n",
      "      call void @llvm.trap()\n",
      "      unreachable\n",
      "\n",
      "L22:                                              ; preds = %top\n",
      "; ││││ @ checked.jl:165 within `checked_add'\n",
      "; ││││┌ @ checked.jl:132 within `add_with_overflow'\n",
      "       %10 = extractvalue { i64, i1 } %8, 0\n",
      "; │└└└└\n",
      "; │ @ simdloop.jl:72 within `macro expansion'\n",
      "; │┌ @ int.jl:49 within `<'\n",
      "    %11 = icmp slt i64 %10, 1\n",
      "; │└\n",
      "   br i1 %11, label %L54, label %L29.lr.ph\n",
      "\n",
      "L29.lr.ph:                                        ; preds = %L22\n",
      "   %12 = bitcast %jl_value_t addrspace(11)* %1 to double addrspace(13)* addrspace(11)*\n",
      "   %13 = load double addrspace(13)*, double addrspace(13)* addrspace(11)* %12, align 8\n",
      "; │ @ simdloop.jl:75 within `macro expansion'\n",
      "   br label %L29\n",
      "\n",
      "L29:                                              ; preds = %L29.lr.ph, %idxend\n",
      "   %value_phi218 = phi i64 [ 0, %L29.lr.ph ], [ %21, %idxend ]\n",
      "   %value_phi17 = phi double [ 0.000000e+00, %L29.lr.ph ], [ %20, %idxend ]\n",
      "; │ @ simdloop.jl:77 within `macro expansion' @ In[83]:4\n",
      "; │┌ @ array.jl:728 within `getindex'\n",
      "    %14 = icmp ult i64 %value_phi218, %4\n",
      "    br i1 %14, label %idxend, label %oob\n",
      "\n",
      "L54:                                              ; preds = %idxend, %L22\n",
      "    %value_phi5 = phi double [ 0.000000e+00, %L22 ], [ %20, %idxend ]\n",
      "; └└\n",
      ";  @ In[83]:6 within `test_agg_simd_bad'\n",
      "  ret double %value_phi5\n",
      "\n",
      "oob:                                              ; preds = %L29\n",
      ";  @ In[83]:3 within `test_agg_simd_bad'\n",
      "; ┌ @ simdloop.jl:76 within `macro expansion'\n",
      "; │┌ @ simdloop.jl:54 within `simd_index'\n",
      "; ││┌ @ range.jl:616 within `getindex'\n",
      "; │││┌ @ int.jl:53 within `+'\n",
      "      %15 = add nuw i64 %value_phi218, 1\n",
      "; │└└└\n",
      "; │ @ simdloop.jl:77 within `macro expansion' @ In[83]:4\n",
      "; │┌ @ array.jl:728 within `getindex'\n",
      "    %16 = alloca i64, align 8\n",
      "    store i64 %15, i64* %16, align 8\n",
      "    %17 = addrspacecast %jl_value_t addrspace(10)* %0 to %jl_value_t addrspace(12)*\n",
      "    call void @jl_bounds_error_ints(%jl_value_t addrspace(12)* %17, i64* nonnull %16, i64 1)\n",
      "    unreachable\n",
      "\n",
      "idxend:                                           ; preds = %L29\n",
      "    %18 = getelementptr inbounds double, double addrspace(13)* %13, i64 %value_phi218\n",
      "    %19 = load double, double addrspace(13)* %18, align 8\n",
      "; │└\n",
      "; │┌ @ float.jl:395 within `+'\n",
      "    %20 = fadd fast double %value_phi17, %19\n",
      "; │└\n",
      "; │ @ simdloop.jl:78 within `macro expansion'\n",
      "; │┌ @ int.jl:53 within `+'\n",
      "    %21 = add nuw nsw i64 %value_phi218, 1\n",
      "; │└\n",
      "; │ @ simdloop.jl:75 within `macro expansion'\n",
      "; │┌ @ int.jl:49 within `<'\n",
      "    %22 = icmp ult i64 %21, %10\n",
      "; │└\n",
      "   br i1 %22, label %L29, label %L54\n",
      "; └\n",
      "}\n"
     ]
    }
   ],
   "source": [
    "@code_llvm test_agg_simd_bad(my_array)"
   ]
  },
  {
   "cell_type": "markdown",
   "metadata": {},
   "source": [
    "Without the @inbounds macro, the array boundary checks prevent the simd optimizations - the benchmark shows no improvement w.r.t. the baseline."
   ]
  },
  {
   "cell_type": "code",
   "execution_count": null,
   "metadata": {},
   "outputs": [],
   "source": []
  }
 ],
 "metadata": {
  "kernelspec": {
   "display_name": "Julia 1.2.0",
   "language": "julia",
   "name": "julia-1.2"
  },
  "language_info": {
   "file_extension": ".jl",
   "mimetype": "application/julia",
   "name": "julia",
   "version": "1.2.0"
  }
 },
 "nbformat": 4,
 "nbformat_minor": 4
}
