{
 "cells": [
  {
   "cell_type": "markdown",
   "metadata": {},
   "source": [
    "# Performance Optimization"
   ]
  },
  {
   "cell_type": "markdown",
   "metadata": {},
   "source": [
    "## Setup"
   ]
  },
  {
   "cell_type": "code",
   "execution_count": 69,
   "metadata": {},
   "outputs": [],
   "source": [
    "using Pkg"
   ]
  },
  {
   "cell_type": "code",
   "execution_count": 19,
   "metadata": {},
   "outputs": [
    {
     "name": "stdout",
     "output_type": "stream",
     "text": [
      "\u001b[32m\u001b[1m Resolving\u001b[22m\u001b[39m package versions...\n",
      "\u001b[32m\u001b[1m  Updating\u001b[22m\u001b[39m `/opt/julia/environments/v1.3/Project.toml`\n",
      "\u001b[90m [no changes]\u001b[39m\n",
      "\u001b[32m\u001b[1m  Updating\u001b[22m\u001b[39m `/opt/julia/environments/v1.3/Manifest.toml`\n",
      "\u001b[90m [no changes]\u001b[39m\n"
     ]
    }
   ],
   "source": [
    "pkg\"add BenchmarkTools\""
   ]
  },
  {
   "cell_type": "code",
   "execution_count": 20,
   "metadata": {},
   "outputs": [
    {
     "name": "stdout",
     "output_type": "stream",
     "text": [
      "\u001b[32m\u001b[1m Resolving\u001b[22m\u001b[39m package versions...\n",
      "\u001b[32m\u001b[1m Installed\u001b[22m\u001b[39m PyCall ───────── v1.91.2\n",
      "\u001b[32m\u001b[1m Installed\u001b[22m\u001b[39m MacroTools ───── v0.5.3\n",
      "\u001b[32m\u001b[1m Installed\u001b[22m\u001b[39m DataStructures ─ v0.17.9\n",
      "\u001b[32m\u001b[1m  Updating\u001b[22m\u001b[39m `/opt/julia/environments/v1.3/Project.toml`\n",
      " \u001b[90m [438e738f]\u001b[39m\u001b[92m + PyCall v1.91.2\u001b[39m\n",
      "\u001b[32m\u001b[1m  Updating\u001b[22m\u001b[39m `/opt/julia/environments/v1.3/Manifest.toml`\n",
      " \u001b[90m [864edb3b]\u001b[39m\u001b[92m + DataStructures v0.17.9\u001b[39m\n",
      " \u001b[90m [1914dd2f]\u001b[39m\u001b[92m + MacroTools v0.5.3\u001b[39m\n",
      " \u001b[90m [438e738f]\u001b[39m\u001b[92m + PyCall v1.91.2\u001b[39m\n",
      "\u001b[32m\u001b[1m  Building\u001b[22m\u001b[39m PyCall → `/opt/julia/packages/PyCall/ttONZ/deps/build.log`\n"
     ]
    }
   ],
   "source": [
    "pkg\"add PyCall\""
   ]
  },
  {
   "cell_type": "code",
   "execution_count": 70,
   "metadata": {},
   "outputs": [
    {
     "name": "stdout",
     "output_type": "stream",
     "text": [
      "\u001b[32m\u001b[1m  Updating\u001b[22m\u001b[39m registry at `/opt/julia/registries/General`\n",
      "\u001b[32m\u001b[1m  Updating\u001b[22m\u001b[39m git-repo `https://github.com/JuliaRegistries/General.git`\n",
      "\u001b[2K\u001b[?25h[1mFetching:\u001b[22m\u001b[39m [========================================>]  100.0 %.0 %>                                 ]  15.2 % %                   ]  52.1 %===========================>             ]  67.3 %82.4 %7 %>]  99.9 %\u001b[32m\u001b[1m Resolving\u001b[22m\u001b[39m package versions...\n",
      "\u001b[32m\u001b[1m Installed\u001b[22m\u001b[39m Parsers ──── v0.3.11\n",
      "\u001b[32m\u001b[1m Installed\u001b[22m\u001b[39m Traceur ──── v0.3.0\n",
      "\u001b[32m\u001b[1m Installed\u001b[22m\u001b[39m MacroTools ─ v0.5.4\n",
      "\u001b[32m\u001b[1m Installed\u001b[22m\u001b[39m Cassette ─── v0.3.1\n",
      "\u001b[32m\u001b[1m  Updating\u001b[22m\u001b[39m `/opt/julia/environments/v1.3/Project.toml`\n",
      " \u001b[90m [37b6cedf]\u001b[39m\u001b[92m + Traceur v0.3.0\u001b[39m\n",
      "\u001b[32m\u001b[1m  Updating\u001b[22m\u001b[39m `/opt/julia/environments/v1.3/Manifest.toml`\n",
      " \u001b[90m [7057c7e9]\u001b[39m\u001b[92m + Cassette v0.3.1\u001b[39m\n",
      " \u001b[90m [1914dd2f]\u001b[39m\u001b[93m ↑ MacroTools v0.5.3 ⇒ v0.5.4\u001b[39m\n",
      " \u001b[90m [69de0a69]\u001b[39m\u001b[93m ↑ Parsers v0.3.10 ⇒ v0.3.11\u001b[39m\n",
      " \u001b[90m [37b6cedf]\u001b[39m\u001b[92m + Traceur v0.3.0\u001b[39m\n"
     ]
    }
   ],
   "source": [
    "pkg\"add Traceur\""
   ]
  },
  {
   "cell_type": "code",
   "execution_count": 71,
   "metadata": {},
   "outputs": [
    {
     "name": "stdout",
     "output_type": "stream",
     "text": [
      "\u001b[32m\u001b[1m  Updating\u001b[22m\u001b[39m registry at `/opt/julia/registries/General`\n",
      "\u001b[32m\u001b[1m  Updating\u001b[22m\u001b[39m git-repo `https://github.com/JuliaRegistries/General.git`\n",
      "\u001b[?25l\u001b[2K\u001b[?25h\u001b[32m\u001b[1m Resolving\u001b[22m\u001b[39m package versions...\n",
      "\u001b[32m\u001b[1m Installed\u001b[22m\u001b[39m IJulia ─ v1.21.0\n",
      "\u001b[32m\u001b[1m  Updating\u001b[22m\u001b[39m `/opt/julia/environments/v1.3/Project.toml`\n",
      " \u001b[90m [7073ff75]\u001b[39m\u001b[93m ↑ IJulia v1.20.2 ⇒ v1.21.0\u001b[39m\n",
      "\u001b[32m\u001b[1m  Updating\u001b[22m\u001b[39m `/opt/julia/environments/v1.3/Manifest.toml`\n",
      " \u001b[90m [7073ff75]\u001b[39m\u001b[93m ↑ IJulia v1.20.2 ⇒ v1.21.0\u001b[39m\n",
      "\u001b[32m\u001b[1m  Building\u001b[22m\u001b[39m IJulia → `/opt/julia/packages/IJulia/fXyGm/deps/build.log`\n"
     ]
    }
   ],
   "source": [
    "pkg\"update\""
   ]
  },
  {
   "cell_type": "code",
   "execution_count": 72,
   "metadata": {},
   "outputs": [
    {
     "name": "stdout",
     "output_type": "stream",
     "text": [
      "\u001b[32m\u001b[1mPrecompiling\u001b[22m\u001b[39m project...\n",
      "\u001b[32m\u001b[1mPrecompiling\u001b[22m\u001b[39m IJulia\n"
     ]
    },
    {
     "name": "stderr",
     "output_type": "stream",
     "text": [
      "┌ Info: Precompiling IJulia [7073ff75-c697-5162-941a-fcdaad2a7d2a]\n",
      "└ @ Base loading.jl:1273\n"
     ]
    },
    {
     "name": "stdout",
     "output_type": "stream",
     "text": [
      "\u001b[32m\u001b[1mPrecompiling\u001b[22m\u001b[39m Traceur\n"
     ]
    },
    {
     "name": "stderr",
     "output_type": "stream",
     "text": [
      "┌ Info: Precompiling Traceur [37b6cedf-1f77-55f8-9503-c64b63398394]\n",
      "└ @ Base loading.jl:1273\n"
     ]
    }
   ],
   "source": [
    "pkg\"precompile\""
   ]
  },
  {
   "cell_type": "markdown",
   "metadata": {},
   "source": [
    "## Basis Example\n",
    "\n",
    "The baseline for testing performance impact of different aspects is an implementation \n",
    "which is already quite effective - it is type stable and uses the fastest index order."
   ]
  },
  {
   "cell_type": "code",
   "execution_count": 97,
   "metadata": {},
   "outputs": [],
   "source": [
    "using BenchmarkTools"
   ]
  },
  {
   "cell_type": "code",
   "execution_count": 98,
   "metadata": {},
   "outputs": [],
   "source": [
    "abstract type MyP end"
   ]
  },
  {
   "cell_type": "code",
   "execution_count": 99,
   "metadata": {},
   "outputs": [],
   "source": [
    "struct MyParams{T} <: MyP\n",
    "    a:: T\n",
    "    b:: T\n",
    "end"
   ]
  },
  {
   "cell_type": "code",
   "execution_count": 100,
   "metadata": {},
   "outputs": [
    {
     "data": {
      "text/plain": [
       "MyParams{Float64}(1.5, 2.5)"
      ]
     },
     "execution_count": 100,
     "metadata": {},
     "output_type": "execute_result"
    }
   ],
   "source": [
    "p = MyParams(1.5, 2.5)"
   ]
  },
  {
   "cell_type": "code",
   "execution_count": 101,
   "metadata": {},
   "outputs": [],
   "source": [
    "n = 500;\n",
    "N = rand(n, n);\n",
    "M = rand(n, n);"
   ]
  },
  {
   "cell_type": "markdown",
   "metadata": {},
   "source": [
    "Reduced test sample (for the slower implementations)"
   ]
  },
  {
   "cell_type": "code",
   "execution_count": 102,
   "metadata": {},
   "outputs": [],
   "source": [
    "n2 = 50;\n",
    "N2 = rand(n2, n2);\n",
    "M2 = rand(n2, n2);"
   ]
  },
  {
   "cell_type": "code",
   "execution_count": 103,
   "metadata": {},
   "outputs": [
    {
     "data": {
      "text/plain": [
       "my_mult_base (generic function with 1 method)"
      ]
     },
     "execution_count": 103,
     "metadata": {},
     "output_type": "execute_result"
    }
   ],
   "source": [
    "function my_mult_base(A:: AbstractArray{T,2}, B:: AbstractArray{T,2}, p:: MyP) where {T <: Number}\n",
    "    @assert size(A, 2) == size(B, 1)\n",
    "    C = zeros(T, size(A,1), size(B,2))\n",
    "    for n=1:size(B, 2), k=1:size(A,2), m=1:size(A, 1)\n",
    "        C[m,n] += p.a*A[m,k]*B[k,n]+p.b\n",
    "    end\n",
    "    C\n",
    "end"
   ]
  },
  {
   "cell_type": "code",
   "execution_count": 104,
   "metadata": {},
   "outputs": [],
   "source": [
    "res_j = my_mult_base(N, M, p);"
   ]
  },
  {
   "cell_type": "code",
   "execution_count": 85,
   "metadata": {},
   "outputs": [
    {
     "name": "stdout",
     "output_type": "stream",
     "text": [
      "  458.241 ms (2 allocations: 1.91 MiB)\n"
     ]
    }
   ],
   "source": [
    "@btime res_j = my_mult_base($N, $M, $p);"
   ]
  },
  {
   "cell_type": "code",
   "execution_count": 86,
   "metadata": {},
   "outputs": [],
   "source": [
    "res_j2 = my_mult_base(N2, M2, p);"
   ]
  },
  {
   "cell_type": "code",
   "execution_count": 87,
   "metadata": {},
   "outputs": [
    {
     "name": "stdout",
     "output_type": "stream",
     "text": [
      "  473.758 μs (2 allocations: 19.64 KiB)\n"
     ]
    }
   ],
   "source": [
    "@btime res_j2 = my_mult_base($N2, $M2, $p);"
   ]
  },
  {
   "cell_type": "markdown",
   "metadata": {},
   "source": [
    "## 1. Type Stability"
   ]
  },
  {
   "cell_type": "markdown",
   "metadata": {},
   "source": [
    "The base implementation is type stable. What happens if this would not be the case?\n",
    "There are several ways to include type instability."
   ]
  },
  {
   "cell_type": "markdown",
   "metadata": {},
   "source": [
    "## Non-Constant Globals"
   ]
  },
  {
   "cell_type": "code",
   "execution_count": 88,
   "metadata": {},
   "outputs": [
    {
     "data": {
      "text/plain": [
       "my_mult_global (generic function with 1 method)"
      ]
     },
     "execution_count": 88,
     "metadata": {},
     "output_type": "execute_result"
    }
   ],
   "source": [
    "function my_mult_global(A:: AbstractArray{T,2}, B:: AbstractArray{T,2}) where {T <: Number}\n",
    "    @assert size(A, 2) == size(B, 1)\n",
    "    C = zeros(T, size(A,1), size(B,2))\n",
    "    for n=1:size(B, 2), k=1:size(A,2), m=1:size(A, 1)\n",
    "        C[m,n] += p.a*A[m,k]*B[k,n]+p.b\n",
    "    end\n",
    "    C\n",
    "end"
   ]
  },
  {
   "cell_type": "code",
   "execution_count": 89,
   "metadata": {},
   "outputs": [],
   "source": [
    "@assert my_mult_base(N2,M2,p) == my_mult_global(N2,M2)"
   ]
  },
  {
   "cell_type": "code",
   "execution_count": 90,
   "metadata": {},
   "outputs": [
    {
     "name": "stdout",
     "output_type": "stream",
     "text": [
      "  93.164 ms (1750002 allocations: 30.54 MiB)\n"
     ]
    }
   ],
   "source": [
    "@btime my_mult_global($N2,$M2);"
   ]
  },
  {
   "cell_type": "code",
   "execution_count": 91,
   "metadata": {},
   "outputs": [
    {
     "name": "stdout",
     "output_type": "stream",
     "text": [
      "  473.549 μs (2 allocations: 19.64 KiB)\n"
     ]
    }
   ],
   "source": [
    "@btime my_mult_base($N2,$M2,$p);"
   ]
  },
  {
   "cell_type": "markdown",
   "metadata": {},
   "source": [
    "This is a slowdown by a factor of 200!"
   ]
  },
  {
   "cell_type": "code",
   "execution_count": 92,
   "metadata": {},
   "outputs": [
    {
     "data": {
      "text/plain": [
       "my_mult_global_const (generic function with 1 method)"
      ]
     },
     "execution_count": 92,
     "metadata": {},
     "output_type": "execute_result"
    }
   ],
   "source": [
    "const pc = p\n",
    "function my_mult_global_const(A:: AbstractArray{T,2}, B:: AbstractArray{T,2}) where {T <: Number}\n",
    "    @assert size(A, 2) == size(B, 1)\n",
    "    C = zeros(T, size(A,1), size(B,2))\n",
    "    for n=1:size(B, 2), k=1:size(A,2), m=1:size(A, 1)\n",
    "        C[m,n] += pc.a*A[m,k]*B[k,n]+pc.b\n",
    "    end\n",
    "    C\n",
    "end"
   ]
  },
  {
   "cell_type": "code",
   "execution_count": 93,
   "metadata": {},
   "outputs": [
    {
     "name": "stdout",
     "output_type": "stream",
     "text": [
      "  474.492 μs (2 allocations: 19.64 KiB)\n"
     ]
    }
   ],
   "source": [
    "@btime my_mult_global_const($N2,$M2);"
   ]
  },
  {
   "cell_type": "markdown",
   "metadata": {},
   "source": [
    "Defining the global as constant removes the speed penalty.\n",
    "\n",
    "__Conclusion__: Never use non-constant globals in function bodies!"
   ]
  },
  {
   "cell_type": "markdown",
   "metadata": {},
   "source": [
    "## Structs with Non-Concrete Types"
   ]
  },
  {
   "cell_type": "code",
   "execution_count": 113,
   "metadata": {},
   "outputs": [],
   "source": [
    "struct MyBadParams <: MyP\n",
    "    a:: Number\n",
    "    b:: AbstractFloat\n",
    "end"
   ]
  },
  {
   "cell_type": "code",
   "execution_count": 114,
   "metadata": {},
   "outputs": [
    {
     "data": {
      "text/plain": [
       "MyBadParams(1.5, 2.5)"
      ]
     },
     "execution_count": 114,
     "metadata": {},
     "output_type": "execute_result"
    }
   ],
   "source": [
    "p_bad = MyBadParams(1.5, 2.5)"
   ]
  },
  {
   "cell_type": "code",
   "execution_count": 115,
   "metadata": {},
   "outputs": [
    {
     "name": "stdout",
     "output_type": "stream",
     "text": [
      "  51.494 ms (1000002 allocations: 15.28 MiB)\n"
     ]
    }
   ],
   "source": [
    "@btime my_mult_base($N2,$M2,$p_bad);"
   ]
  },
  {
   "cell_type": "code",
   "execution_count": 116,
   "metadata": {},
   "outputs": [
    {
     "name": "stdout",
     "output_type": "stream",
     "text": [
      "  52.812 ms (1000002 allocations: 15.28 MiB)\n"
     ]
    }
   ],
   "source": [
    "@btime my_mult_base($N2,$M2,$p_bad);"
   ]
  },
  {
   "cell_type": "markdown",
   "metadata": {},
   "source": [
    "About a factor of 100 slower than the structure using parametric types.\n",
    "\n",
    "__Conclusion__: never use abstract types in structures. Use concrete types (e.g. *Float64*)\n",
    "or parametric types instead.\n",
    "\n",
    "Note that abstract types are perfectly fine and give no performance penalty when used in functions."
   ]
  },
  {
   "cell_type": "markdown",
   "metadata": {},
   "source": [
    "## Type Instability inside Functions"
   ]
  },
  {
   "cell_type": "code",
   "execution_count": 25,
   "metadata": {},
   "outputs": [
    {
     "data": {
      "text/plain": [
       "my_mult_instable (generic function with 1 method)"
      ]
     },
     "execution_count": 25,
     "metadata": {},
     "output_type": "execute_result"
    }
   ],
   "source": [
    "function my_mult_instable(A:: AbstractArray{T,2}, B:: AbstractArray{T,2}, p:: MyP) where {T <: Number}\n",
    "    @assert size(A, 2) == size(B, 1)\n",
    "    C = zeros(T, size(A,1), size(B,2))\n",
    "    for n=1:size(B, 2), k=1:size(A,2), m=1:size(A, 1)\n",
    "        offset = size(A, 2) % 2 ==0 ? p.b : floor(Int64, p.b)\n",
    "        C[m,n] += p.a*A[m,k]*B[k,n]+offset\n",
    "    end\n",
    "    C\n",
    "end"
   ]
  },
  {
   "cell_type": "code",
   "execution_count": 26,
   "metadata": {},
   "outputs": [
    {
     "name": "stdout",
     "output_type": "stream",
     "text": [
      "  804.293 μs (2 allocations: 19.64 KiB)\n"
     ]
    }
   ],
   "source": [
    "@btime my_mult_instable($N2,$M2,$p);"
   ]
  },
  {
   "cell_type": "code",
   "execution_count": 27,
   "metadata": {
    "collapsed": true,
    "jupyter": {
     "outputs_hidden": true,
     "source_hidden": true
    }
   },
   "outputs": [
    {
     "name": "stdout",
     "output_type": "stream",
     "text": [
      "Variables\n",
      "  #self#\u001b[36m::Core.Compiler.Const(my_mult_instable, false)\u001b[39m\n",
      "  A\u001b[36m::Array{Float64,2}\u001b[39m\n",
      "  B\u001b[36m::Array{Float64,2}\u001b[39m\n",
      "  p\u001b[36m::MyParams{Float64}\u001b[39m\n",
      "  C\u001b[36m::Array{Float64,2}\u001b[39m\n",
      "  @_6\u001b[33m\u001b[1m::Union{Nothing, Tuple{Int64,Int64}}\u001b[22m\u001b[39m\n",
      "  n@_7\u001b[36m::Int64\u001b[39m\n",
      "  @_8\u001b[33m\u001b[1m::Union{Nothing, Tuple{Int64,Int64}}\u001b[22m\u001b[39m\n",
      "  k@_9\u001b[36m::Int64\u001b[39m\n",
      "  @_10\u001b[33m\u001b[1m::Union{Nothing, Tuple{Int64,Int64}}\u001b[22m\u001b[39m\n",
      "  n@_11\u001b[36m::Int64\u001b[39m\n",
      "  m\u001b[36m::Int64\u001b[39m\n",
      "  offset\u001b[91m\u001b[1m::Union{Float64, Int64}\u001b[22m\u001b[39m\n",
      "  k@_14\u001b[36m::Int64\u001b[39m\n",
      "  @_15\u001b[91m\u001b[1m::Union{Float64, Int64}\u001b[22m\u001b[39m\n",
      "\n",
      "Body\u001b[36m::Array{Float64,2}\u001b[39m\n",
      "\u001b[90m1 ──\u001b[39m       Core.NewvarNode(:(C))\n",
      "\u001b[90m│   \u001b[39m       Core.NewvarNode(:(@_6))\n",
      "\u001b[90m│   \u001b[39m %3  = Main.size(A, 2)\u001b[36m::Int64\u001b[39m\n",
      "\u001b[90m│   \u001b[39m %4  = Main.size(B, 1)\u001b[36m::Int64\u001b[39m\n",
      "\u001b[90m│   \u001b[39m %5  = (%3 == %4)\u001b[36m::Bool\u001b[39m\n",
      "\u001b[90m└───\u001b[39m       goto #3 if not %5\n",
      "\u001b[90m2 ──\u001b[39m       goto #4\n",
      "\u001b[90m3 ──\u001b[39m %8  = Base.AssertionError(\"size(A, 2) == size(B, 1)\")\u001b[36m::AssertionError\u001b[39m\n",
      "\u001b[90m└───\u001b[39m       Base.throw(%8)\n",
      "\u001b[90m4 ┄─\u001b[39m %10 = $(Expr(:static_parameter, 1))\u001b[36m::Core.Compiler.Const(Float64, false)\u001b[39m\n",
      "\u001b[90m│   \u001b[39m %11 = Main.size(A, 1)\u001b[36m::Int64\u001b[39m\n",
      "\u001b[90m│   \u001b[39m %12 = Main.size(B, 2)\u001b[36m::Int64\u001b[39m\n",
      "\u001b[90m│   \u001b[39m       (C = Main.zeros(%10, %11, %12))\n",
      "\u001b[90m│   \u001b[39m %14 = Main.size(B, 2)\u001b[36m::Int64\u001b[39m\n",
      "\u001b[90m│   \u001b[39m %15 = (1:%14)\u001b[36m::Core.Compiler.PartialStruct(UnitRange{Int64}, Any[Core.Compiler.Const(1, false), Int64])\u001b[39m\n",
      "\u001b[90m│   \u001b[39m       (@_6 = Base.iterate(%15))\n",
      "\u001b[90m│   \u001b[39m %17 = (@_6 === nothing)\u001b[36m::Bool\u001b[39m\n",
      "\u001b[90m│   \u001b[39m %18 = Base.not_int(%17)\u001b[36m::Bool\u001b[39m\n",
      "\u001b[90m└───\u001b[39m       goto #16 if not %18\n",
      "\u001b[90m5 ┄─\u001b[39m %20 = @_6::Tuple{Int64,Int64}\u001b[36m::Tuple{Int64,Int64}\u001b[39m\n",
      "\u001b[90m│   \u001b[39m       (n@_7 = Core.getfield(%20, 1))\n",
      "\u001b[90m│   \u001b[39m %22 = Core.getfield(%20, 2)\u001b[36m::Int64\u001b[39m\n",
      "\u001b[90m│   \u001b[39m %23 = Main.size(A, 2)\u001b[36m::Int64\u001b[39m\n",
      "\u001b[90m│   \u001b[39m %24 = (1:%23)\u001b[36m::Core.Compiler.PartialStruct(UnitRange{Int64}, Any[Core.Compiler.Const(1, false), Int64])\u001b[39m\n",
      "\u001b[90m│   \u001b[39m       (@_8 = Base.iterate(%24))\n",
      "\u001b[90m│   \u001b[39m %26 = (@_8 === nothing)\u001b[36m::Bool\u001b[39m\n",
      "\u001b[90m│   \u001b[39m %27 = Base.not_int(%26)\u001b[36m::Bool\u001b[39m\n",
      "\u001b[90m└───\u001b[39m       goto #14 if not %27\n",
      "\u001b[90m6 ┄─\u001b[39m %29 = @_8::Tuple{Int64,Int64}\u001b[36m::Tuple{Int64,Int64}\u001b[39m\n",
      "\u001b[90m│   \u001b[39m       (k@_9 = Core.getfield(%29, 1))\n",
      "\u001b[90m│   \u001b[39m %31 = Core.getfield(%29, 2)\u001b[36m::Int64\u001b[39m\n",
      "\u001b[90m│   \u001b[39m %32 = Main.size(A, 1)\u001b[36m::Int64\u001b[39m\n",
      "\u001b[90m│   \u001b[39m %33 = (1:%32)\u001b[36m::Core.Compiler.PartialStruct(UnitRange{Int64}, Any[Core.Compiler.Const(1, false), Int64])\u001b[39m\n",
      "\u001b[90m│   \u001b[39m       (@_10 = Base.iterate(%33))\n",
      "\u001b[90m│   \u001b[39m %35 = (@_10 === nothing)\u001b[36m::Bool\u001b[39m\n",
      "\u001b[90m│   \u001b[39m %36 = Base.not_int(%35)\u001b[36m::Bool\u001b[39m\n",
      "\u001b[90m└───\u001b[39m       goto #12 if not %36\n",
      "\u001b[90m7 ┄─\u001b[39m %38 = n@_7\u001b[36m::Int64\u001b[39m\n",
      "\u001b[90m│   \u001b[39m       (n@_11 = %38)\n",
      "\u001b[90m│   \u001b[39m %40 = k@_9\u001b[36m::Int64\u001b[39m\n",
      "\u001b[90m│   \u001b[39m       Core.NewvarNode(:(offset))\n",
      "\u001b[90m│   \u001b[39m       (k@_14 = %40)\n",
      "\u001b[90m│   \u001b[39m %43 = @_10::Tuple{Int64,Int64}\u001b[36m::Tuple{Int64,Int64}\u001b[39m\n",
      "\u001b[90m│   \u001b[39m       (m = Core.getfield(%43, 1))\n",
      "\u001b[90m│   \u001b[39m %45 = Core.getfield(%43, 2)\u001b[36m::Int64\u001b[39m\n",
      "\u001b[90m│   \u001b[39m %46 = Main.size(A, 2)\u001b[36m::Int64\u001b[39m\n",
      "\u001b[90m│   \u001b[39m %47 = (%46 % 2)\u001b[36m::Int64\u001b[39m\n",
      "\u001b[90m│   \u001b[39m %48 = (%47 == 0)\u001b[36m::Bool\u001b[39m\n",
      "\u001b[90m└───\u001b[39m       goto #9 if not %48\n",
      "\u001b[90m8 ──\u001b[39m       (@_15 = Base.getproperty(p, :b))\n",
      "\u001b[90m└───\u001b[39m       goto #10\n",
      "\u001b[90m9 ──\u001b[39m %52 = Base.getproperty(p, :b)\u001b[36m::Float64\u001b[39m\n",
      "\u001b[90m└───\u001b[39m       (@_15 = Main.floor(Main.Int64, %52))\n",
      "\u001b[90m10 ┄\u001b[39m       (offset = @_15)\n",
      "\u001b[90m│   \u001b[39m %55 = Base.getindex(C, m, n@_11)\u001b[36m::Float64\u001b[39m\n",
      "\u001b[90m│   \u001b[39m %56 = Base.getproperty(p, :a)\u001b[36m::Float64\u001b[39m\n",
      "\u001b[90m│   \u001b[39m %57 = Base.getindex(A, m, k@_14)\u001b[36m::Float64\u001b[39m\n",
      "\u001b[90m│   \u001b[39m %58 = Base.getindex(B, k@_14, n@_11)\u001b[36m::Float64\u001b[39m\n",
      "\u001b[90m│   \u001b[39m %59 = (%56 * %57 * %58)\u001b[36m::Float64\u001b[39m\n",
      "\u001b[90m│   \u001b[39m %60 = (%59 + offset)\u001b[36m::Float64\u001b[39m\n",
      "\u001b[90m│   \u001b[39m %61 = (%55 + %60)\u001b[36m::Float64\u001b[39m\n",
      "\u001b[90m│   \u001b[39m       Base.setindex!(C, %61, m, n@_11)\n",
      "\u001b[90m│   \u001b[39m       (@_10 = Base.iterate(%33, %45))\n",
      "\u001b[90m│   \u001b[39m %64 = (@_10 === nothing)\u001b[36m::Bool\u001b[39m\n",
      "\u001b[90m│   \u001b[39m %65 = Base.not_int(%64)\u001b[36m::Bool\u001b[39m\n",
      "\u001b[90m└───\u001b[39m       goto #12 if not %65\n",
      "\u001b[90m11 ─\u001b[39m       goto #7\n",
      "\u001b[90m12 ┄\u001b[39m       (@_8 = Base.iterate(%24, %31))\n",
      "\u001b[90m│   \u001b[39m %69 = (@_8 === nothing)\u001b[36m::Bool\u001b[39m\n",
      "\u001b[90m│   \u001b[39m %70 = Base.not_int(%69)\u001b[36m::Bool\u001b[39m\n",
      "\u001b[90m└───\u001b[39m       goto #14 if not %70\n",
      "\u001b[90m13 ─\u001b[39m       goto #6\n",
      "\u001b[90m14 ┄\u001b[39m       (@_6 = Base.iterate(%15, %22))\n",
      "\u001b[90m│   \u001b[39m %74 = (@_6 === nothing)\u001b[36m::Bool\u001b[39m\n",
      "\u001b[90m│   \u001b[39m %75 = Base.not_int(%74)\u001b[36m::Bool\u001b[39m\n",
      "\u001b[90m└───\u001b[39m       goto #16 if not %75\n",
      "\u001b[90m15 ─\u001b[39m       goto #5\n",
      "\u001b[90m16 ┄\u001b[39m       return C\n"
     ]
    }
   ],
   "source": [
    "@code_warntype my_mult_instable(N2,M2,p)"
   ]
  },
  {
   "cell_type": "markdown",
   "metadata": {},
   "source": [
    "Not as bad as the other instabilities, but still a factor of 2 performance loss."
   ]
  },
  {
   "cell_type": "markdown",
   "metadata": {},
   "source": [
    "### Traceur"
   ]
  },
  {
   "cell_type": "code",
   "execution_count": 73,
   "metadata": {},
   "outputs": [],
   "source": [
    "using Traceur"
   ]
  },
  {
   "cell_type": "code",
   "execution_count": 110,
   "metadata": {},
   "outputs": [
    {
     "name": "stdout",
     "output_type": "stream",
     "text": [
      "Variables\n",
      "  #self#\u001b[36m::Core.Compiler.Const(my_mult_base, false)\u001b[39m\n",
      "  A\u001b[36m::Array{Float64,2}\u001b[39m\n",
      "  B\u001b[36m::Array{Float64,2}\u001b[39m\n",
      "  p\u001b[36m::MyParams{Float64}\u001b[39m\n",
      "  C\u001b[36m::Array{Float64,2}\u001b[39m\n",
      "  @_6\u001b[33m\u001b[1m::Union{Nothing, Tuple{Int64,Int64}}\u001b[22m\u001b[39m\n",
      "  n@_7\u001b[36m::Int64\u001b[39m\n",
      "  @_8\u001b[33m\u001b[1m::Union{Nothing, Tuple{Int64,Int64}}\u001b[22m\u001b[39m\n",
      "  k@_9\u001b[36m::Int64\u001b[39m\n",
      "  @_10\u001b[33m\u001b[1m::Union{Nothing, Tuple{Int64,Int64}}\u001b[22m\u001b[39m\n",
      "  n@_11\u001b[36m::Int64\u001b[39m\n",
      "  m\u001b[36m::Int64\u001b[39m\n",
      "  k@_13\u001b[36m::Int64\u001b[39m\n",
      "\n",
      "Body\u001b[36m::Array{Float64,2}\u001b[39m\n",
      "\u001b[90m1 ──\u001b[39m       Core.NewvarNode(:(C))\n",
      "\u001b[90m│   \u001b[39m       Core.NewvarNode(:(@_6))\n",
      "\u001b[90m│   \u001b[39m %3  = Main.size(A, 2)\u001b[36m::Int64\u001b[39m\n",
      "\u001b[90m│   \u001b[39m %4  = Main.size(B, 1)\u001b[36m::Int64\u001b[39m\n",
      "\u001b[90m│   \u001b[39m %5  = (%3 == %4)\u001b[36m::Bool\u001b[39m\n",
      "\u001b[90m└───\u001b[39m       goto #3 if not %5\n",
      "\u001b[90m2 ──\u001b[39m       goto #4\n",
      "\u001b[90m3 ──\u001b[39m %8  = Base.AssertionError(\"size(A, 2) == size(B, 1)\")\u001b[36m::AssertionError\u001b[39m\n",
      "\u001b[90m└───\u001b[39m       Base.throw(%8)\n",
      "\u001b[90m4 ┄─\u001b[39m %10 = $(Expr(:static_parameter, 1))\u001b[36m::Core.Compiler.Const(Float64, false)\u001b[39m\n",
      "\u001b[90m│   \u001b[39m %11 = Main.size(A, 1)\u001b[36m::Int64\u001b[39m\n",
      "\u001b[90m│   \u001b[39m %12 = Main.size(B, 2)\u001b[36m::Int64\u001b[39m\n",
      "\u001b[90m│   \u001b[39m       (C = Main.zeros(%10, %11, %12))\n",
      "\u001b[90m│   \u001b[39m %14 = Main.size(B, 2)\u001b[36m::Int64\u001b[39m\n",
      "\u001b[90m│   \u001b[39m %15 = (1:%14)\u001b[36m::Core.Compiler.PartialStruct(UnitRange{Int64}, Any[Core.Compiler.Const(1, false), Int64])\u001b[39m\n",
      "\u001b[90m│   \u001b[39m       (@_6 = Base.iterate(%15))\n",
      "\u001b[90m│   \u001b[39m %17 = (@_6 === nothing)\u001b[36m::Bool\u001b[39m\n",
      "\u001b[90m│   \u001b[39m %18 = Base.not_int(%17)\u001b[36m::Bool\u001b[39m\n",
      "\u001b[90m└───\u001b[39m       goto #13 if not %18\n",
      "\u001b[90m5 ┄─\u001b[39m %20 = @_6::Tuple{Int64,Int64}\u001b[36m::Tuple{Int64,Int64}\u001b[39m\n",
      "\u001b[90m│   \u001b[39m       (n@_7 = Core.getfield(%20, 1))\n",
      "\u001b[90m│   \u001b[39m %22 = Core.getfield(%20, 2)\u001b[36m::Int64\u001b[39m\n",
      "\u001b[90m│   \u001b[39m %23 = Main.size(A, 2)\u001b[36m::Int64\u001b[39m\n",
      "\u001b[90m│   \u001b[39m %24 = (1:%23)\u001b[36m::Core.Compiler.PartialStruct(UnitRange{Int64}, Any[Core.Compiler.Const(1, false), Int64])\u001b[39m\n",
      "\u001b[90m│   \u001b[39m       (@_8 = Base.iterate(%24))\n",
      "\u001b[90m│   \u001b[39m %26 = (@_8 === nothing)\u001b[36m::Bool\u001b[39m\n",
      "\u001b[90m│   \u001b[39m %27 = Base.not_int(%26)\u001b[36m::Bool\u001b[39m\n",
      "\u001b[90m└───\u001b[39m       goto #11 if not %27\n",
      "\u001b[90m6 ┄─\u001b[39m %29 = @_8::Tuple{Int64,Int64}\u001b[36m::Tuple{Int64,Int64}\u001b[39m\n",
      "\u001b[90m│   \u001b[39m       (k@_9 = Core.getfield(%29, 1))\n",
      "\u001b[90m│   \u001b[39m %31 = Core.getfield(%29, 2)\u001b[36m::Int64\u001b[39m\n",
      "\u001b[90m│   \u001b[39m %32 = Main.size(A, 1)\u001b[36m::Int64\u001b[39m\n",
      "\u001b[90m│   \u001b[39m %33 = (1:%32)\u001b[36m::Core.Compiler.PartialStruct(UnitRange{Int64}, Any[Core.Compiler.Const(1, false), Int64])\u001b[39m\n",
      "\u001b[90m│   \u001b[39m       (@_10 = Base.iterate(%33))\n",
      "\u001b[90m│   \u001b[39m %35 = (@_10 === nothing)\u001b[36m::Bool\u001b[39m\n",
      "\u001b[90m│   \u001b[39m %36 = Base.not_int(%35)\u001b[36m::Bool\u001b[39m\n",
      "\u001b[90m└───\u001b[39m       goto #9 if not %36\n",
      "\u001b[90m7 ┄─\u001b[39m %38 = n@_7\u001b[36m::Int64\u001b[39m\n",
      "\u001b[90m│   \u001b[39m       (n@_11 = %38)\n",
      "\u001b[90m│   \u001b[39m %40 = k@_9\u001b[36m::Int64\u001b[39m\n",
      "\u001b[90m│   \u001b[39m       (k@_13 = %40)\n",
      "\u001b[90m│   \u001b[39m %42 = @_10::Tuple{Int64,Int64}\u001b[36m::Tuple{Int64,Int64}\u001b[39m\n",
      "\u001b[90m│   \u001b[39m       (m = Core.getfield(%42, 1))\n",
      "\u001b[90m│   \u001b[39m %44 = Core.getfield(%42, 2)\u001b[36m::Int64\u001b[39m\n",
      "\u001b[90m│   \u001b[39m %45 = Base.getindex(C, m, n@_11)\u001b[36m::Float64\u001b[39m\n",
      "\u001b[90m│   \u001b[39m %46 = Base.getproperty(p, :a)\u001b[36m::Float64\u001b[39m\n",
      "\u001b[90m│   \u001b[39m %47 = Base.getindex(A, m, k@_13)\u001b[36m::Float64\u001b[39m\n",
      "\u001b[90m│   \u001b[39m %48 = Base.getindex(B, k@_13, n@_11)\u001b[36m::Float64\u001b[39m\n",
      "\u001b[90m│   \u001b[39m %49 = (%46 * %47 * %48)\u001b[36m::Float64\u001b[39m\n",
      "\u001b[90m│   \u001b[39m %50 = Base.getproperty(p, :b)\u001b[36m::Float64\u001b[39m\n",
      "\u001b[90m│   \u001b[39m %51 = (%49 + %50)\u001b[36m::Float64\u001b[39m\n",
      "\u001b[90m│   \u001b[39m %52 = (%45 + %51)\u001b[36m::Float64\u001b[39m\n",
      "\u001b[90m│   \u001b[39m       Base.setindex!(C, %52, m, n@_11)\n",
      "\u001b[90m│   \u001b[39m       (@_10 = Base.iterate(%33, %44))\n",
      "\u001b[90m│   \u001b[39m %55 = (@_10 === nothing)\u001b[36m::Bool\u001b[39m\n",
      "\u001b[90m│   \u001b[39m %56 = Base.not_int(%55)\u001b[36m::Bool\u001b[39m\n",
      "\u001b[90m└───\u001b[39m       goto #9 if not %56\n",
      "\u001b[90m8 ──\u001b[39m       goto #7\n",
      "\u001b[90m9 ┄─\u001b[39m       (@_8 = Base.iterate(%24, %31))\n",
      "\u001b[90m│   \u001b[39m %60 = (@_8 === nothing)\u001b[36m::Bool\u001b[39m\n",
      "\u001b[90m│   \u001b[39m %61 = Base.not_int(%60)\u001b[36m::Bool\u001b[39m\n",
      "\u001b[90m└───\u001b[39m       goto #11 if not %61\n",
      "\u001b[90m10 ─\u001b[39m       goto #6\n",
      "\u001b[90m11 ┄\u001b[39m       (@_6 = Base.iterate(%15, %22))\n",
      "\u001b[90m│   \u001b[39m %65 = (@_6 === nothing)\u001b[36m::Bool\u001b[39m\n",
      "\u001b[90m│   \u001b[39m %66 = Base.not_int(%65)\u001b[36m::Bool\u001b[39m\n",
      "\u001b[90m└───\u001b[39m       goto #13 if not %66\n",
      "\u001b[90m12 ─\u001b[39m       goto #5\n",
      "\u001b[90m13 ┄\u001b[39m       return C\n"
     ]
    }
   ],
   "source": [
    "@code_warntype my_mult_base([1. 2.; 3. 4.],[5. 6.; 7. 8.],p)"
   ]
  },
  {
   "cell_type": "code",
   "execution_count": 111,
   "metadata": {},
   "outputs": [
    {
     "name": "stderr",
     "output_type": "stream",
     "text": [
      "┌ Warning:  is assigned as Tuple{Int64,Int64}\n",
      "└ @ abstractarray.jl:-1\n",
      "┌ Warning:  is assigned as Union{Nothing, Tuple{Int64,Int64}}\n",
      "└ @ abstractarray.jl:-1\n",
      "┌ Warning:  is assigned as Union{Nothing, Tuple{Int64,Int64}}\n",
      "└ @ abstractarray.jl:-1\n",
      "┌ Warning:  is assigned as Union{Nothing, Tuple{Int64,Int64}}\n",
      "└ @ abstractarray.jl:-1\n",
      "┌ Warning:  is assigned as Union{Nothing, Tuple{Int64,Int64}}\n",
      "└ @ array.jl:-1\n",
      "┌ Warning:  is assigned as Union{Nothing, Tuple{Int64,Int64}}\n",
      "└ @ array.jl:-1\n",
      "┌ Warning:  is assigned as Union{Nothing, Tuple{Int64,Int64}}\n",
      "└ @ In[103]:-1\n",
      "┌ Warning:  is assigned as Union{Nothing, Tuple{Int64,Int64}}\n",
      "└ @ In[103]:-1\n",
      "┌ Warning:  is assigned as Union{Nothing, Tuple{Int64,Int64}}\n",
      "└ @ In[103]:-1\n",
      "┌ Warning:  is assigned as Union{Nothing, Tuple{Int64,Int64}}\n",
      "└ @ In[103]:-1\n",
      "┌ Warning:  is assigned as Union{Nothing, Tuple{Int64,Int64}}\n",
      "└ @ In[103]:-1\n",
      "┌ Warning:  is assigned as Union{Nothing, Tuple{Int64,Int64}}\n",
      "└ @ In[103]:-1\n"
     ]
    }
   ],
   "source": [
    "@trace my_mult_base([1. 2.; 3. 4.],[5. 6.; 7. 8.],p);"
   ]
  },
  {
   "cell_type": "code",
   "execution_count": 118,
   "metadata": {},
   "outputs": [
    {
     "name": "stdout",
     "output_type": "stream",
     "text": [
      "Variables\n",
      "  #self#\u001b[36m::Core.Compiler.Const(my_mult_base, false)\u001b[39m\n",
      "  A\u001b[36m::Array{Float64,2}\u001b[39m\n",
      "  B\u001b[36m::Array{Float64,2}\u001b[39m\n",
      "  p\u001b[36m::MyBadParams\u001b[39m\n",
      "  C\u001b[36m::Array{Float64,2}\u001b[39m\n",
      "  @_6\u001b[33m\u001b[1m::Union{Nothing, Tuple{Int64,Int64}}\u001b[22m\u001b[39m\n",
      "  n@_7\u001b[36m::Int64\u001b[39m\n",
      "  @_8\u001b[33m\u001b[1m::Union{Nothing, Tuple{Int64,Int64}}\u001b[22m\u001b[39m\n",
      "  k@_9\u001b[36m::Int64\u001b[39m\n",
      "  @_10\u001b[33m\u001b[1m::Union{Nothing, Tuple{Int64,Int64}}\u001b[22m\u001b[39m\n",
      "  n@_11\u001b[36m::Int64\u001b[39m\n",
      "  m\u001b[36m::Int64\u001b[39m\n",
      "  k@_13\u001b[36m::Int64\u001b[39m\n",
      "\n",
      "Body\u001b[36m::Array{Float64,2}\u001b[39m\n",
      "\u001b[90m1 ──\u001b[39m       Core.NewvarNode(:(C))\n",
      "\u001b[90m│   \u001b[39m       Core.NewvarNode(:(@_6))\n",
      "\u001b[90m│   \u001b[39m %3  = Main.size(A, 2)\u001b[36m::Int64\u001b[39m\n",
      "\u001b[90m│   \u001b[39m %4  = Main.size(B, 1)\u001b[36m::Int64\u001b[39m\n",
      "\u001b[90m│   \u001b[39m %5  = (%3 == %4)\u001b[36m::Bool\u001b[39m\n",
      "\u001b[90m└───\u001b[39m       goto #3 if not %5\n",
      "\u001b[90m2 ──\u001b[39m       goto #4\n",
      "\u001b[90m3 ──\u001b[39m %8  = Base.AssertionError(\"size(A, 2) == size(B, 1)\")\u001b[36m::AssertionError\u001b[39m\n",
      "\u001b[90m└───\u001b[39m       Base.throw(%8)\n",
      "\u001b[90m4 ┄─\u001b[39m %10 = $(Expr(:static_parameter, 1))\u001b[36m::Core.Compiler.Const(Float64, false)\u001b[39m\n",
      "\u001b[90m│   \u001b[39m %11 = Main.size(A, 1)\u001b[36m::Int64\u001b[39m\n",
      "\u001b[90m│   \u001b[39m %12 = Main.size(B, 2)\u001b[36m::Int64\u001b[39m\n",
      "\u001b[90m│   \u001b[39m       (C = Main.zeros(%10, %11, %12))\n",
      "\u001b[90m│   \u001b[39m %14 = Main.size(B, 2)\u001b[36m::Int64\u001b[39m\n",
      "\u001b[90m│   \u001b[39m %15 = (1:%14)\u001b[36m::Core.Compiler.PartialStruct(UnitRange{Int64}, Any[Core.Compiler.Const(1, false), Int64])\u001b[39m\n",
      "\u001b[90m│   \u001b[39m       (@_6 = Base.iterate(%15))\n",
      "\u001b[90m│   \u001b[39m %17 = (@_6 === nothing)\u001b[36m::Bool\u001b[39m\n",
      "\u001b[90m│   \u001b[39m %18 = Base.not_int(%17)\u001b[36m::Bool\u001b[39m\n",
      "\u001b[90m└───\u001b[39m       goto #13 if not %18\n",
      "\u001b[90m5 ┄─\u001b[39m %20 = @_6::Tuple{Int64,Int64}\u001b[36m::Tuple{Int64,Int64}\u001b[39m\n",
      "\u001b[90m│   \u001b[39m       (n@_7 = Core.getfield(%20, 1))\n",
      "\u001b[90m│   \u001b[39m %22 = Core.getfield(%20, 2)\u001b[36m::Int64\u001b[39m\n",
      "\u001b[90m│   \u001b[39m %23 = Main.size(A, 2)\u001b[36m::Int64\u001b[39m\n",
      "\u001b[90m│   \u001b[39m %24 = (1:%23)\u001b[36m::Core.Compiler.PartialStruct(UnitRange{Int64}, Any[Core.Compiler.Const(1, false), Int64])\u001b[39m\n",
      "\u001b[90m│   \u001b[39m       (@_8 = Base.iterate(%24))\n",
      "\u001b[90m│   \u001b[39m %26 = (@_8 === nothing)\u001b[36m::Bool\u001b[39m\n",
      "\u001b[90m│   \u001b[39m %27 = Base.not_int(%26)\u001b[36m::Bool\u001b[39m\n",
      "\u001b[90m└───\u001b[39m       goto #11 if not %27\n",
      "\u001b[90m6 ┄─\u001b[39m %29 = @_8::Tuple{Int64,Int64}\u001b[36m::Tuple{Int64,Int64}\u001b[39m\n",
      "\u001b[90m│   \u001b[39m       (k@_9 = Core.getfield(%29, 1))\n",
      "\u001b[90m│   \u001b[39m %31 = Core.getfield(%29, 2)\u001b[36m::Int64\u001b[39m\n",
      "\u001b[90m│   \u001b[39m %32 = Main.size(A, 1)\u001b[36m::Int64\u001b[39m\n",
      "\u001b[90m│   \u001b[39m %33 = (1:%32)\u001b[36m::Core.Compiler.PartialStruct(UnitRange{Int64}, Any[Core.Compiler.Const(1, false), Int64])\u001b[39m\n",
      "\u001b[90m│   \u001b[39m       (@_10 = Base.iterate(%33))\n",
      "\u001b[90m│   \u001b[39m %35 = (@_10 === nothing)\u001b[36m::Bool\u001b[39m\n",
      "\u001b[90m│   \u001b[39m %36 = Base.not_int(%35)\u001b[36m::Bool\u001b[39m\n",
      "\u001b[90m└───\u001b[39m       goto #9 if not %36\n",
      "\u001b[90m7 ┄─\u001b[39m %38 = n@_7\u001b[36m::Int64\u001b[39m\n",
      "\u001b[90m│   \u001b[39m       (n@_11 = %38)\n",
      "\u001b[90m│   \u001b[39m %40 = k@_9\u001b[36m::Int64\u001b[39m\n",
      "\u001b[90m│   \u001b[39m       (k@_13 = %40)\n",
      "\u001b[90m│   \u001b[39m %42 = @_10::Tuple{Int64,Int64}\u001b[36m::Tuple{Int64,Int64}\u001b[39m\n",
      "\u001b[90m│   \u001b[39m       (m = Core.getfield(%42, 1))\n",
      "\u001b[90m│   \u001b[39m %44 = Core.getfield(%42, 2)\u001b[36m::Int64\u001b[39m\n",
      "\u001b[90m│   \u001b[39m %45 = Base.getindex(C, m, n@_11)\u001b[36m::Float64\u001b[39m\n",
      "\u001b[90m│   \u001b[39m %46 = Base.getproperty(p, :a)\u001b[91m\u001b[1m::Number\u001b[22m\u001b[39m\n",
      "\u001b[90m│   \u001b[39m %47 = Base.getindex(A, m, k@_13)\u001b[36m::Float64\u001b[39m\n",
      "\u001b[90m│   \u001b[39m %48 = Base.getindex(B, k@_13, n@_11)\u001b[36m::Float64\u001b[39m\n",
      "\u001b[90m│   \u001b[39m %49 = (%46 * %47 * %48)\u001b[91m\u001b[1m::Any\u001b[22m\u001b[39m\n",
      "\u001b[90m│   \u001b[39m %50 = Base.getproperty(p, :b)\u001b[91m\u001b[1m::AbstractFloat\u001b[22m\u001b[39m\n",
      "\u001b[90m│   \u001b[39m %51 = (%49 + %50)\u001b[91m\u001b[1m::Any\u001b[22m\u001b[39m\n",
      "\u001b[90m│   \u001b[39m %52 = (%45 + %51)\u001b[91m\u001b[1m::Any\u001b[22m\u001b[39m\n",
      "\u001b[90m│   \u001b[39m       Base.setindex!(C, %52, m, n@_11)\n",
      "\u001b[90m│   \u001b[39m       (@_10 = Base.iterate(%33, %44))\n",
      "\u001b[90m│   \u001b[39m %55 = (@_10 === nothing)\u001b[36m::Bool\u001b[39m\n",
      "\u001b[90m│   \u001b[39m %56 = Base.not_int(%55)\u001b[36m::Bool\u001b[39m\n",
      "\u001b[90m└───\u001b[39m       goto #9 if not %56\n",
      "\u001b[90m8 ──\u001b[39m       goto #7\n",
      "\u001b[90m9 ┄─\u001b[39m       (@_8 = Base.iterate(%24, %31))\n",
      "\u001b[90m│   \u001b[39m %60 = (@_8 === nothing)\u001b[36m::Bool\u001b[39m\n",
      "\u001b[90m│   \u001b[39m %61 = Base.not_int(%60)\u001b[36m::Bool\u001b[39m\n",
      "\u001b[90m└───\u001b[39m       goto #11 if not %61\n",
      "\u001b[90m10 ─\u001b[39m       goto #6\n",
      "\u001b[90m11 ┄\u001b[39m       (@_6 = Base.iterate(%15, %22))\n",
      "\u001b[90m│   \u001b[39m %65 = (@_6 === nothing)\u001b[36m::Bool\u001b[39m\n",
      "\u001b[90m│   \u001b[39m %66 = Base.not_int(%65)\u001b[36m::Bool\u001b[39m\n",
      "\u001b[90m└───\u001b[39m       goto #13 if not %66\n",
      "\u001b[90m12 ─\u001b[39m       goto #5\n",
      "\u001b[90m13 ┄\u001b[39m       return C\n"
     ]
    }
   ],
   "source": [
    "@code_warntype my_mult_base([1. 2.; 3. 4.],[5. 6.; 7. 8.],p_bad);"
   ]
  },
  {
   "cell_type": "code",
   "execution_count": 117,
   "metadata": {},
   "outputs": [
    {
     "name": "stderr",
     "output_type": "stream",
     "text": [
      "┌ Warning:  is assigned as Tuple{Int64,Int64}\n",
      "└ @ abstractarray.jl:-1\n",
      "┌ Warning:  is assigned as Union{Nothing, Tuple{Int64,Int64}}\n",
      "└ @ abstractarray.jl:-1\n",
      "┌ Warning:  is assigned as Union{Nothing, Tuple{Int64,Int64}}\n",
      "└ @ abstractarray.jl:-1\n",
      "┌ Warning:  is assigned as Union{Nothing, Tuple{Int64,Int64}}\n",
      "└ @ abstractarray.jl:-1\n",
      "┌ Warning:  is assigned as Union{Nothing, Tuple{Int64,Int64}}\n",
      "└ @ array.jl:-1\n",
      "┌ Warning:  is assigned as Union{Nothing, Tuple{Int64,Int64}}\n",
      "└ @ array.jl:-1\n",
      "┌ Warning:  is assigned as Union{Nothing, Tuple{Int64,Int64}}\n",
      "└ @ In[103]:-1\n",
      "┌ Warning:  is assigned as Union{Nothing, Tuple{Int64,Int64}}\n",
      "└ @ In[103]:-1\n",
      "┌ Warning:  is assigned as Union{Nothing, Tuple{Int64,Int64}}\n",
      "└ @ In[103]:-1\n",
      "┌ Warning:  is assigned as Union{Nothing, Tuple{Int64,Int64}}\n",
      "└ @ In[103]:-1\n",
      "┌ Warning:  is assigned as Union{Nothing, Tuple{Int64,Int64}}\n",
      "└ @ In[103]:-1\n",
      "┌ Warning:  is assigned as Union{Nothing, Tuple{Int64,Int64}}\n",
      "└ @ In[103]:-1\n",
      "┌ Warning: dynamic dispatch to Base.getfield(p, a) * Base.arrayref(true, A, φ (%49 => %46, %75 => %70), φ (%35 => %32, %86 => %81))\n",
      "└ @ In[103]:-1\n",
      "┌ Warning: dynamic dispatch to (Base.getfield(p, a) * Base.arrayref(true, A, φ (%49 => %46, %75 => %70), φ (%35 => %32, %86 => %81))) * Base.arrayref(true, B, φ (%35 => %32, %86 => %81), φ (%21 => %18, %97 => %92))\n",
      "└ @ In[103]:-1\n",
      "┌ Warning: dynamic dispatch to (Base.getfield(p, a) * Base.arrayref(true, A, φ (%49 => %46, %75 => %70), φ (%35 => %32, %86 => %81))) * Base.arrayref(true, B, φ (%35 => %32, %86 => %81), φ (%21 => %18, %97 => %92)) + Base.getfield(p, b)\n",
      "└ @ In[103]:-1\n",
      "┌ Warning: dynamic dispatch to Base.arrayref(true, $(Expr(:foreigncall, :jl_alloc_array_2d, Array{Float64,2}, svec(Any, Int64, Int64), 0, :ccall, Array{Float64,2}, :(Base.arraysize(A, 1)), :(Base.arraysize(B, 2)), :(Base.arraysize(B, 2)), :(Base.arraysize(A, 1)))), φ (%49 => %46, %75 => %70), φ (%21 => %18, %97 => %92)) + ((Base.getfield(p, a) * Base.arrayref(true, A, φ (%49 => %46, %75 => %70), φ (%35 => %32, %86 => %81))) * Base.arrayref(true, B, φ (%35 => %32, %86 => %81), φ (%21 => %18, %97 => %92)) + Base.getfield(p, b))\n",
      "└ @ In[103]:-1\n",
      "┌ Warning: dynamic dispatch to Base.convert(Float64, Base.arrayref(true, $(Expr(:foreigncall, :jl_alloc_array_2d, Array{Float64,2}, svec(Any, Int64, Int64), 0, :ccall, Array{Float64,2}, :(Base.arraysize(A, 1)), :(Base.arraysize(B, 2)), :(Base.arraysize(B, 2)), :(Base.arraysize(A, 1)))), φ (%49 => %46, %75 => %70), φ (%21 => %18, %97 => %92)) + ((Base.getfield(p, a) * Base.arrayref(true, A, φ (%49 => %46, %75 => %70), φ (%35 => %32, %86 => %81))) * Base.arrayref(true, B, φ (%35 => %32, %86 => %81), φ (%21 => %18, %97 => %92)) + Base.getfield(p, b)))\n",
      "└ @ In[103]:-1\n"
     ]
    }
   ],
   "source": [
    "@trace my_mult_base([1. 2.; 3. 4.],[5. 6.; 7. 8.],p_bad);"
   ]
  },
  {
   "cell_type": "markdown",
   "metadata": {},
   "source": [
    "## 2. Memory Layout"
   ]
  },
  {
   "cell_type": "markdown",
   "metadata": {},
   "source": [
    "## 3. Allocations"
   ]
  },
  {
   "cell_type": "markdown",
   "metadata": {},
   "source": [
    "## 4. Removing Safety Belts"
   ]
  },
  {
   "cell_type": "markdown",
   "metadata": {},
   "source": [
    "## 5. Parallelization"
   ]
  },
  {
   "cell_type": "code",
   "execution_count": null,
   "metadata": {},
   "outputs": [],
   "source": []
  },
  {
   "cell_type": "markdown",
   "metadata": {},
   "source": [
    "## Comparison to Python"
   ]
  },
  {
   "cell_type": "code",
   "execution_count": 9,
   "metadata": {},
   "outputs": [],
   "source": [
    "using PyCall"
   ]
  },
  {
   "cell_type": "code",
   "execution_count": 10,
   "metadata": {},
   "outputs": [
    {
     "data": {
      "text/plain": [
       "PyObject <module 'numpy' from '/opt/conda/lib/python3.7/site-packages/numpy/__init__.py'>"
      ]
     },
     "execution_count": 10,
     "metadata": {},
     "output_type": "execute_result"
    }
   ],
   "source": [
    "np = pyimport(\"numpy\")"
   ]
  },
  {
   "cell_type": "code",
   "execution_count": 11,
   "metadata": {},
   "outputs": [],
   "source": [
    "py\"\"\"\n",
    "import numpy as np\n",
    "def my_mult_py(A, B, p):\n",
    "    assert A.shape[1] == B.shape[0]\n",
    "    C = np.zeros((A.shape[0], B.shape[1]))\n",
    "    for m in range(A.shape[0]):\n",
    "        for k in range(A.shape[1]):\n",
    "            for n in range(B.shape[1]):\n",
    "                C[m,n] += p.a*A[m,k]*B[k,n]+p.b\n",
    "    return C\n",
    "\"\"\""
   ]
  },
  {
   "cell_type": "code",
   "execution_count": 33,
   "metadata": {},
   "outputs": [],
   "source": [
    "res_py = py\"my_mult_py($N2, $M2, $p)\";"
   ]
  },
  {
   "cell_type": "code",
   "execution_count": 27,
   "metadata": {},
   "outputs": [
    {
     "name": "stdout",
     "output_type": "stream",
     "text": [
      "  1.206 s (2500050 allocations: 57.24 MiB)\n"
     ]
    }
   ],
   "source": [
    "@btime res_py = py\"my_mult_py($N2, $M2, $p)\";"
   ]
  },
  {
   "cell_type": "code",
   "execution_count": 37,
   "metadata": {},
   "outputs": [],
   "source": [
    "@assert res_py ≈ res_j2"
   ]
  },
  {
   "cell_type": "markdown",
   "metadata": {},
   "source": [
    "The pure Python implementation (with numpy only for data transfer) is ca 3000 times slower than Julia!"
   ]
  },
  {
   "cell_type": "code",
   "execution_count": 20,
   "metadata": {},
   "outputs": [],
   "source": [
    "py\"\"\"\n",
    "import numpy as np\n",
    "def my_mult_np(A, B, p):\n",
    "    C = p.a * A @ B + p.b*A.shape[1]\n",
    "    return C\n",
    "\"\"\""
   ]
  },
  {
   "cell_type": "code",
   "execution_count": 57,
   "metadata": {},
   "outputs": [],
   "source": [
    "res_np = py\"my_mult_np($N2, $M2, $p)\";"
   ]
  },
  {
   "cell_type": "code",
   "execution_count": 59,
   "metadata": {},
   "outputs": [],
   "source": [
    "@assert res_np ≈ res_j2"
   ]
  },
  {
   "cell_type": "code",
   "execution_count": 58,
   "metadata": {},
   "outputs": [
    {
     "name": "stdout",
     "output_type": "stream",
     "text": [
      "  226.348 μs (70 allocations: 22.36 KiB)\n"
     ]
    }
   ],
   "source": [
    "@btime res_np = py\"my_mult_np($N2, $M2, $p)\";"
   ]
  },
  {
   "cell_type": "code",
   "execution_count": 60,
   "metadata": {},
   "outputs": [
    {
     "name": "stdout",
     "output_type": "stream",
     "text": [
      "  20.067 ms (71 allocations: 1.91 MiB)\n"
     ]
    }
   ],
   "source": [
    "@btime res_np = py\"my_mult_np($N, $M, $p)\";"
   ]
  },
  {
   "cell_type": "markdown",
   "metadata": {},
   "source": [
    "Numpy is fast - ca 2 times the naive Julia implementation for small matrices and 20 times for large ones.\n",
    "Note that numpy uses the highly optimed BLAS library for matrix multiplication."
   ]
  },
  {
   "cell_type": "markdown",
   "metadata": {},
   "source": [
    "## Comparison to Julia Builtin"
   ]
  },
  {
   "cell_type": "code",
   "execution_count": 64,
   "metadata": {},
   "outputs": [
    {
     "data": {
      "text/plain": [
       "my_func_b (generic function with 1 method)"
      ]
     },
     "execution_count": 64,
     "metadata": {},
     "output_type": "execute_result"
    }
   ],
   "source": [
    "my_func_b(A, B, p) = p.a .* (A*B) .+ p.b .* size(A,2)"
   ]
  },
  {
   "cell_type": "code",
   "execution_count": 65,
   "metadata": {},
   "outputs": [],
   "source": [
    "@assert res_j ≈ my_func_b(N, M, p)"
   ]
  },
  {
   "cell_type": "code",
   "execution_count": 67,
   "metadata": {},
   "outputs": [
    {
     "name": "stdout",
     "output_type": "stream",
     "text": [
      "  13.822 ms (4 allocations: 3.81 MiB)\n"
     ]
    }
   ],
   "source": [
    "@btime my_func_b($N, $M, $p);"
   ]
  },
  {
   "cell_type": "markdown",
   "metadata": {},
   "source": [
    "The Julia builtin matrix multiplication is even faster than numpy."
   ]
  }
 ],
 "metadata": {
  "kernelspec": {
   "display_name": "Julia 1.3.1",
   "language": "julia",
   "name": "julia-1.3"
  },
  "language_info": {
   "file_extension": ".jl",
   "mimetype": "application/julia",
   "name": "julia",
   "version": "1.3.1"
  }
 },
 "nbformat": 4,
 "nbformat_minor": 4
}
