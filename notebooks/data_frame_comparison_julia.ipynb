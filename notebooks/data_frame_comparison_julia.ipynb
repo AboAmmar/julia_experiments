{
 "cells": [
  {
   "cell_type": "markdown",
   "metadata": {},
   "source": [
    "## Setup"
   ]
  },
  {
   "cell_type": "markdown",
   "metadata": {},
   "source": [
    "### Install Dependencies"
   ]
  },
  {
   "cell_type": "code",
   "execution_count": 1,
   "metadata": {},
   "outputs": [],
   "source": [
    "using Pkg"
   ]
  },
  {
   "cell_type": "code",
   "execution_count": 2,
   "metadata": {
    "collapsed": true,
    "jupyter": {
     "outputs_hidden": true
    }
   },
   "outputs": [
    {
     "name": "stdout",
     "output_type": "stream",
     "text": [
      "\u001b[32m\u001b[1m  Updating\u001b[22m\u001b[39m registry at `/opt/julia/registries/General`\n",
      "\u001b[32m\u001b[1m  Updating\u001b[22m\u001b[39m git-repo `https://github.com/JuliaRegistries/General.git`\n",
      "\u001b[2K\u001b[?25h[1mFetching:\u001b[22m\u001b[39m [========================================>]  100.0 %.0 % [=========>                               ]  21.5 %]  42.8 %==========================>              ]  64.3 %>]  97.9 %\u001b[32m\u001b[1m Resolving\u001b[22m\u001b[39m package versions...\n",
      "\u001b[32m\u001b[1m Installed\u001b[22m\u001b[39m OpenSSL_jll ────────────────── v1.1.1+2\n",
      "\u001b[32m\u001b[1m Installed\u001b[22m\u001b[39m CompilerSupportLibraries_jll ─ v0.3.3+0\n",
      "\u001b[32m\u001b[1m  Updating\u001b[22m\u001b[39m `/opt/julia/environments/v1.3/Project.toml`\n",
      "\u001b[90m [no changes]\u001b[39m\n",
      "\u001b[32m\u001b[1m  Updating\u001b[22m\u001b[39m `/opt/julia/environments/v1.3/Manifest.toml`\n",
      " \u001b[90m [e66e0078]\u001b[39m\u001b[93m ↑ CompilerSupportLibraries_jll v0.3.2+0 ⇒ v0.3.3+0\u001b[39m\n",
      " \u001b[90m [458c3c95]\u001b[39m\u001b[93m ↑ OpenSSL_jll v1.1.1+1 ⇒ v1.1.1+2\u001b[39m\n",
      " \u001b[90m [ea10d353]\u001b[39m\u001b[95m ↓ WeakRefStrings v0.6.2 ⇒ v0.5.8\u001b[39m\n",
      "\u001b[32m\u001b[1m Resolving\u001b[22m\u001b[39m package versions...\n",
      "\u001b[32m\u001b[1m  Updating\u001b[22m\u001b[39m `/opt/julia/environments/v1.3/Project.toml`\n",
      "\u001b[90m [no changes]\u001b[39m\n",
      "\u001b[32m\u001b[1m  Updating\u001b[22m\u001b[39m `/opt/julia/environments/v1.3/Manifest.toml`\n",
      " \u001b[90m [ea10d353]\u001b[39m\u001b[93m ↑ WeakRefStrings v0.5.8 ⇒ v0.6.2\u001b[39m\n",
      "\u001b[32m\u001b[1mPrecompiling\u001b[22m\u001b[39m project...\n",
      "\u001b[32m\u001b[1mPrecompiling\u001b[22m\u001b[39m JuMP\n"
     ]
    },
    {
     "name": "stderr",
     "output_type": "stream",
     "text": [
      "┌ Info: Precompiling JuMP [4076af6c-e467-56ae-b986-b466b2749572]\n",
      "└ @ Base loading.jl:1273\n"
     ]
    },
    {
     "name": "stdout",
     "output_type": "stream",
     "text": [
      "\u001b[32m\u001b[1mPrecompiling\u001b[22m\u001b[39m SearchLight\n"
     ]
    },
    {
     "name": "stderr",
     "output_type": "stream",
     "text": [
      "┌ Info: Precompiling SearchLight [340e8cb6-72eb-11e8-37ce-c97ebeb32050]\n",
      "└ @ Base loading.jl:1273\n"
     ]
    },
    {
     "name": "stdout",
     "output_type": "stream",
     "text": [
      "\u001b[32m\u001b[1mPrecompiling\u001b[22m\u001b[39m Plots\n"
     ]
    },
    {
     "name": "stderr",
     "output_type": "stream",
     "text": [
      "┌ Info: Precompiling Plots [91a5bcdd-55d7-5caf-9e0b-520d859cae80]\n",
      "└ @ Base loading.jl:1273\n"
     ]
    },
    {
     "name": "stdout",
     "output_type": "stream",
     "text": [
      "\u001b[32m\u001b[1mPrecompiling\u001b[22m\u001b[39m LibPQ\n"
     ]
    },
    {
     "name": "stderr",
     "output_type": "stream",
     "text": [
      "┌ Info: Precompiling LibPQ [194296ae-ab2e-5f79-8cd4-7183a0a5a0d1]\n",
      "└ @ Base loading.jl:1273\n"
     ]
    }
   ],
   "source": [
    "pkg\"up\"\n",
    "pkg\"add BenchmarkTools PyCall CSV DataFrames\"\n",
    "pkg\"precompile\""
   ]
  },
  {
   "cell_type": "markdown",
   "metadata": {},
   "source": [
    "### Imports"
   ]
  },
  {
   "cell_type": "code",
   "execution_count": 3,
   "metadata": {},
   "outputs": [],
   "source": [
    "using BenchmarkTools\n",
    "using CSV\n",
    "using DataFrames\n",
    "using PyCall\n",
    "using Dates"
   ]
  },
  {
   "cell_type": "code",
   "execution_count": 4,
   "metadata": {},
   "outputs": [
    {
     "data": {
      "text/plain": [
       "PyObject <module 'numpy' from '/opt/conda/lib/python3.7/site-packages/numpy/__init__.py'>"
      ]
     },
     "execution_count": 4,
     "metadata": {},
     "output_type": "execute_result"
    }
   ],
   "source": [
    "pd = pyimport(\"pandas\")\n",
    "np = pyimport(\"numpy\")"
   ]
  },
  {
   "cell_type": "markdown",
   "metadata": {},
   "source": [
    "### Download Test Data"
   ]
  },
  {
   "cell_type": "code",
   "execution_count": 5,
   "metadata": {},
   "outputs": [
    {
     "data": {
      "text/plain": [
       "\"test_data.csv\""
      ]
     },
     "execution_count": 5,
     "metadata": {},
     "output_type": "execute_result"
    }
   ],
   "source": [
    "download(\"https://nyc-tlc.s3.amazonaws.com/trip+data/green_tripdata_2019-12.csv\", \n",
    "    \"test_data.csv\")"
   ]
  },
  {
   "cell_type": "code",
   "execution_count": 6,
   "metadata": {},
   "outputs": [
    {
     "data": {
      "text/plain": [
       "39.241610527038574"
      ]
     },
     "execution_count": 6,
     "metadata": {},
     "output_type": "execute_result"
    }
   ],
   "source": [
    "filesize(\"test_data.csv\")/1024^2 # in MB"
   ]
  },
  {
   "cell_type": "markdown",
   "metadata": {},
   "source": [
    "### Estimate PyCall Overhead"
   ]
  },
  {
   "cell_type": "markdown",
   "metadata": {},
   "source": [
    "How large is the potential influence of PyCall to the Python timings?"
   ]
  },
  {
   "cell_type": "code",
   "execution_count": 7,
   "metadata": {},
   "outputs": [
    {
     "name": "stdout",
     "output_type": "stream",
     "text": [
      "  854.797 μs (7 allocations: 320 bytes)\n"
     ]
    },
    {
     "data": {
      "text/html": [
       "<div>\n",
       "<style scoped>\n",
       "    .dataframe tbody tr th:only-of-type {\n",
       "        vertical-align: middle;\n",
       "    }\n",
       "\n",
       "    .dataframe tbody tr th {\n",
       "        vertical-align: top;\n",
       "    }\n",
       "\n",
       "    .dataframe thead th {\n",
       "        text-align: right;\n",
       "    }\n",
       "</style>\n",
       "<table border=\"1\" class=\"dataframe\">\n",
       "  <thead>\n",
       "    <tr style=\"text-align: right;\">\n",
       "      <th></th>\n",
       "    </tr>\n",
       "  </thead>\n",
       "  <tbody>\n",
       "  </tbody>\n",
       "</table>\n",
       "</div>"
      ],
      "text/plain": [
       "PyObject Empty DataFrame\n",
       "Columns: []\n",
       "Index: []"
      ]
     },
     "execution_count": 7,
     "metadata": {},
     "output_type": "execute_result"
    }
   ],
   "source": [
    "@btime x = pd.DataFrame()"
   ]
  },
  {
   "cell_type": "code",
   "execution_count": 8,
   "metadata": {},
   "outputs": [
    {
     "name": "stdout",
     "output_type": "stream",
     "text": [
      "  25.699 μs (3 allocations: 48 bytes)\n"
     ]
    },
    {
     "data": {
      "text/plain": [
       "2"
      ]
     },
     "execution_count": 8,
     "metadata": {},
     "output_type": "execute_result"
    }
   ],
   "source": [
    "@btime py\"1+1\""
   ]
  },
  {
   "cell_type": "markdown",
   "metadata": {},
   "source": [
    "The PyCall overhead is << 1ms."
   ]
  },
  {
   "cell_type": "markdown",
   "metadata": {},
   "source": [
    "## Import CSV File"
   ]
  },
  {
   "cell_type": "code",
   "execution_count": 134,
   "metadata": {},
   "outputs": [
    {
     "name": "stdout",
     "output_type": "stream",
     "text": [
      "  0.376642 seconds (1.45 M allocations: 308.709 MiB)\n"
     ]
    },
    {
     "data": {
      "text/html": [
       "<table class=\"data-frame\"><thead><tr><th></th><th>VendorID</th><th>lpep_pickup_datetime</th><th>lpep_dropoff_datetime</th><th>store_and_fwd_flag</th><th>RatecodeID</th></tr><tr><th></th><th>Int64⍰</th><th>String</th><th>String</th><th>String⍰</th><th>Int64⍰</th></tr></thead><tbody><p>450,627 rows × 20 columns (omitted printing of 15 columns)</p><tr><th>1</th><td>1</td><td>2019-12-01 00:09:45</td><td>2019-12-01 00:10:59</td><td>N</td><td>1</td></tr><tr><th>2</th><td>2</td><td>2019-12-01 00:26:05</td><td>2019-12-01 00:31:30</td><td>N</td><td>1</td></tr><tr><th>3</th><td>2</td><td>2019-12-01 00:56:36</td><td>2019-12-01 00:59:38</td><td>N</td><td>1</td></tr><tr><th>4</th><td>2</td><td>2019-12-01 00:26:20</td><td>2019-12-01 00:40:19</td><td>N</td><td>1</td></tr><tr><th>5</th><td>2</td><td>2019-12-01 00:56:36</td><td>2019-12-01 00:59:56</td><td>N</td><td>1</td></tr><tr><th>6</th><td>1</td><td>2019-12-01 00:14:28</td><td>2019-12-01 00:19:39</td><td>N</td><td>1</td></tr><tr><th>7</th><td>1</td><td>2019-12-01 00:45:54</td><td>2019-12-01 00:52:46</td><td>N</td><td>1</td></tr><tr><th>8</th><td>2</td><td>2019-12-01 00:25:35</td><td>2019-12-01 01:04:08</td><td>N</td><td>1</td></tr><tr><th>9</th><td>1</td><td>2019-12-01 00:43:12</td><td>2019-12-01 00:56:44</td><td>N</td><td>1</td></tr><tr><th>10</th><td>2</td><td>2019-12-01 00:56:08</td><td>2019-12-01 01:05:11</td><td>N</td><td>1</td></tr><tr><th>11</th><td>2</td><td>2019-12-01 00:10:32</td><td>2019-12-01 00:34:48</td><td>N</td><td>1</td></tr><tr><th>12</th><td>2</td><td>2019-12-01 00:16:41</td><td>2019-12-01 00:20:42</td><td>N</td><td>1</td></tr><tr><th>13</th><td>2</td><td>2019-12-01 00:04:57</td><td>2019-12-01 00:06:22</td><td>N</td><td>1</td></tr><tr><th>14</th><td>2</td><td>2019-12-01 00:32:08</td><td>2019-12-01 00:44:06</td><td>N</td><td>1</td></tr><tr><th>15</th><td>2</td><td>2019-12-01 00:13:31</td><td>2019-12-01 00:22:38</td><td>N</td><td>1</td></tr><tr><th>16</th><td>2</td><td>2019-12-01 00:09:15</td><td>2019-12-01 00:14:28</td><td>N</td><td>1</td></tr><tr><th>17</th><td>2</td><td>2019-12-01 00:12:29</td><td>2019-12-01 00:27:39</td><td>N</td><td>1</td></tr><tr><th>18</th><td>1</td><td>2019-12-01 00:30:08</td><td>2019-12-01 00:33:24</td><td>N</td><td>1</td></tr><tr><th>19</th><td>1</td><td>2019-12-01 00:43:11</td><td>2019-12-01 00:51:47</td><td>N</td><td>1</td></tr><tr><th>20</th><td>1</td><td>2019-12-01 00:55:42</td><td>2019-12-01 00:57:50</td><td>N</td><td>1</td></tr><tr><th>21</th><td>2</td><td>2019-12-01 00:32:18</td><td>2019-12-01 00:33:01</td><td>N</td><td>5</td></tr><tr><th>22</th><td>2</td><td>2019-12-01 00:47:58</td><td>2019-12-01 00:59:03</td><td>N</td><td>1</td></tr><tr><th>23</th><td>2</td><td>2019-12-01 00:18:47</td><td>2019-12-01 00:31:28</td><td>N</td><td>1</td></tr><tr><th>24</th><td>1</td><td>2019-12-01 00:26:26</td><td>2019-12-01 00:45:41</td><td>N</td><td>1</td></tr><tr><th>25</th><td>2</td><td>2019-12-01 00:58:22</td><td>2019-12-01 01:03:44</td><td>N</td><td>1</td></tr><tr><th>26</th><td>2</td><td>2019-12-01 00:10:36</td><td>2019-12-01 00:19:25</td><td>N</td><td>1</td></tr><tr><th>27</th><td>2</td><td>2019-12-01 00:37:31</td><td>2019-12-01 01:01:51</td><td>N</td><td>1</td></tr><tr><th>28</th><td>2</td><td>2019-12-01 00:18:19</td><td>2019-12-01 00:34:26</td><td>N</td><td>1</td></tr><tr><th>29</th><td>2</td><td>2019-12-01 00:18:57</td><td>2019-12-01 00:19:00</td><td>N</td><td>5</td></tr><tr><th>30</th><td>2</td><td>2019-12-01 00:23:02</td><td>2019-12-01 00:32:27</td><td>N</td><td>1</td></tr><tr><th>&vellip;</th><td>&vellip;</td><td>&vellip;</td><td>&vellip;</td><td>&vellip;</td><td>&vellip;</td></tr></tbody></table>"
      ],
      "text/latex": [
       "\\begin{tabular}{r|cccccc}\n",
       "\t& VendorID & lpep\\_pickup\\_datetime & lpep\\_dropoff\\_datetime & store\\_and\\_fwd\\_flag & RatecodeID & \\\\\n",
       "\t\\hline\n",
       "\t& Int64⍰ & String & String & String⍰ & Int64⍰ & \\\\\n",
       "\t\\hline\n",
       "\t1 & 1 & 2019-12-01 00:09:45 & 2019-12-01 00:10:59 & N & 1 & $\\dots$ \\\\\n",
       "\t2 & 2 & 2019-12-01 00:26:05 & 2019-12-01 00:31:30 & N & 1 & $\\dots$ \\\\\n",
       "\t3 & 2 & 2019-12-01 00:56:36 & 2019-12-01 00:59:38 & N & 1 & $\\dots$ \\\\\n",
       "\t4 & 2 & 2019-12-01 00:26:20 & 2019-12-01 00:40:19 & N & 1 & $\\dots$ \\\\\n",
       "\t5 & 2 & 2019-12-01 00:56:36 & 2019-12-01 00:59:56 & N & 1 & $\\dots$ \\\\\n",
       "\t6 & 1 & 2019-12-01 00:14:28 & 2019-12-01 00:19:39 & N & 1 & $\\dots$ \\\\\n",
       "\t7 & 1 & 2019-12-01 00:45:54 & 2019-12-01 00:52:46 & N & 1 & $\\dots$ \\\\\n",
       "\t8 & 2 & 2019-12-01 00:25:35 & 2019-12-01 01:04:08 & N & 1 & $\\dots$ \\\\\n",
       "\t9 & 1 & 2019-12-01 00:43:12 & 2019-12-01 00:56:44 & N & 1 & $\\dots$ \\\\\n",
       "\t10 & 2 & 2019-12-01 00:56:08 & 2019-12-01 01:05:11 & N & 1 & $\\dots$ \\\\\n",
       "\t11 & 2 & 2019-12-01 00:10:32 & 2019-12-01 00:34:48 & N & 1 & $\\dots$ \\\\\n",
       "\t12 & 2 & 2019-12-01 00:16:41 & 2019-12-01 00:20:42 & N & 1 & $\\dots$ \\\\\n",
       "\t13 & 2 & 2019-12-01 00:04:57 & 2019-12-01 00:06:22 & N & 1 & $\\dots$ \\\\\n",
       "\t14 & 2 & 2019-12-01 00:32:08 & 2019-12-01 00:44:06 & N & 1 & $\\dots$ \\\\\n",
       "\t15 & 2 & 2019-12-01 00:13:31 & 2019-12-01 00:22:38 & N & 1 & $\\dots$ \\\\\n",
       "\t16 & 2 & 2019-12-01 00:09:15 & 2019-12-01 00:14:28 & N & 1 & $\\dots$ \\\\\n",
       "\t17 & 2 & 2019-12-01 00:12:29 & 2019-12-01 00:27:39 & N & 1 & $\\dots$ \\\\\n",
       "\t18 & 1 & 2019-12-01 00:30:08 & 2019-12-01 00:33:24 & N & 1 & $\\dots$ \\\\\n",
       "\t19 & 1 & 2019-12-01 00:43:11 & 2019-12-01 00:51:47 & N & 1 & $\\dots$ \\\\\n",
       "\t20 & 1 & 2019-12-01 00:55:42 & 2019-12-01 00:57:50 & N & 1 & $\\dots$ \\\\\n",
       "\t21 & 2 & 2019-12-01 00:32:18 & 2019-12-01 00:33:01 & N & 5 & $\\dots$ \\\\\n",
       "\t22 & 2 & 2019-12-01 00:47:58 & 2019-12-01 00:59:03 & N & 1 & $\\dots$ \\\\\n",
       "\t23 & 2 & 2019-12-01 00:18:47 & 2019-12-01 00:31:28 & N & 1 & $\\dots$ \\\\\n",
       "\t24 & 1 & 2019-12-01 00:26:26 & 2019-12-01 00:45:41 & N & 1 & $\\dots$ \\\\\n",
       "\t25 & 2 & 2019-12-01 00:58:22 & 2019-12-01 01:03:44 & N & 1 & $\\dots$ \\\\\n",
       "\t26 & 2 & 2019-12-01 00:10:36 & 2019-12-01 00:19:25 & N & 1 & $\\dots$ \\\\\n",
       "\t27 & 2 & 2019-12-01 00:37:31 & 2019-12-01 01:01:51 & N & 1 & $\\dots$ \\\\\n",
       "\t28 & 2 & 2019-12-01 00:18:19 & 2019-12-01 00:34:26 & N & 1 & $\\dots$ \\\\\n",
       "\t29 & 2 & 2019-12-01 00:18:57 & 2019-12-01 00:19:00 & N & 5 & $\\dots$ \\\\\n",
       "\t30 & 2 & 2019-12-01 00:23:02 & 2019-12-01 00:32:27 & N & 1 & $\\dots$ \\\\\n",
       "\t$\\dots$ & $\\dots$ & $\\dots$ & $\\dots$ & $\\dots$ & $\\dots$ &  \\\\\n",
       "\\end{tabular}\n"
      ],
      "text/plain": [
       "450627×20 DataFrame. Omitted printing of 17 columns\n",
       "│ Row    │ VendorID │ lpep_pickup_datetime │ lpep_dropoff_datetime │\n",
       "│        │ \u001b[90mInt64⍰\u001b[39m   │ \u001b[90mString\u001b[39m               │ \u001b[90mString\u001b[39m                │\n",
       "├────────┼──────────┼──────────────────────┼───────────────────────┤\n",
       "│ 1      │ 1        │ 2019-12-01 00:09:45  │ 2019-12-01 00:10:59   │\n",
       "│ 2      │ 2        │ 2019-12-01 00:26:05  │ 2019-12-01 00:31:30   │\n",
       "│ 3      │ 2        │ 2019-12-01 00:56:36  │ 2019-12-01 00:59:38   │\n",
       "│ 4      │ 2        │ 2019-12-01 00:26:20  │ 2019-12-01 00:40:19   │\n",
       "│ 5      │ 2        │ 2019-12-01 00:56:36  │ 2019-12-01 00:59:56   │\n",
       "│ 6      │ 1        │ 2019-12-01 00:14:28  │ 2019-12-01 00:19:39   │\n",
       "│ 7      │ 1        │ 2019-12-01 00:45:54  │ 2019-12-01 00:52:46   │\n",
       "│ 8      │ 2        │ 2019-12-01 00:25:35  │ 2019-12-01 01:04:08   │\n",
       "│ 9      │ 1        │ 2019-12-01 00:43:12  │ 2019-12-01 00:56:44   │\n",
       "│ 10     │ 2        │ 2019-12-01 00:56:08  │ 2019-12-01 01:05:11   │\n",
       "⋮\n",
       "│ 450617 │ \u001b[90mmissing\u001b[39m  │ 2019-12-31 23:59:00  │ 2020-01-01 00:31:00   │\n",
       "│ 450618 │ \u001b[90mmissing\u001b[39m  │ 2019-12-31 23:14:00  │ 2019-12-31 23:45:00   │\n",
       "│ 450619 │ \u001b[90mmissing\u001b[39m  │ 2019-12-31 23:04:00  │ 2019-12-31 23:38:00   │\n",
       "│ 450620 │ \u001b[90mmissing\u001b[39m  │ 2019-12-31 23:11:00  │ 2019-12-31 23:27:00   │\n",
       "│ 450621 │ \u001b[90mmissing\u001b[39m  │ 2019-12-31 23:34:00  │ 2019-12-31 23:59:00   │\n",
       "│ 450622 │ \u001b[90mmissing\u001b[39m  │ 2019-12-31 23:46:00  │ 2020-01-01 00:03:00   │\n",
       "│ 450623 │ \u001b[90mmissing\u001b[39m  │ 2019-12-31 23:26:00  │ 2019-12-31 23:54:00   │\n",
       "│ 450624 │ \u001b[90mmissing\u001b[39m  │ 2019-12-31 23:02:00  │ 2019-12-31 23:16:00   │\n",
       "│ 450625 │ \u001b[90mmissing\u001b[39m  │ 2019-12-31 23:24:00  │ 2019-12-31 23:40:00   │\n",
       "│ 450626 │ \u001b[90mmissing\u001b[39m  │ 2019-12-31 23:16:00  │ 2019-12-31 23:37:00   │\n",
       "│ 450627 │ \u001b[90mmissing\u001b[39m  │ 2019-12-31 23:52:00  │ 2020-01-01 00:05:00   │"
      ]
     },
     "execution_count": 134,
     "metadata": {},
     "output_type": "execute_result"
    }
   ],
   "source": [
    "@time df = CSV.File(\"test_data.csv\") |> DataFrame # including compilation"
   ]
  },
  {
   "cell_type": "code",
   "execution_count": 10,
   "metadata": {},
   "outputs": [
    {
     "name": "stdout",
     "output_type": "stream",
     "text": [
      "  377.322 ms (1453158 allocations: 308.71 MiB)\n"
     ]
    }
   ],
   "source": [
    "@btime df = CSV.File(\"test_data.csv\") |> DataFrame;"
   ]
  },
  {
   "cell_type": "code",
   "execution_count": 11,
   "metadata": {},
   "outputs": [
    {
     "name": "stdout",
     "output_type": "stream",
     "text": [
      "  946.510 ms (1552638 allocations: 313.63 MiB)\n"
     ]
    }
   ],
   "source": [
    "@btime df = CSV.File(\"test_data.csv\", threaded=false) |> DataFrame;"
   ]
  },
  {
   "cell_type": "code",
   "execution_count": 12,
   "metadata": {},
   "outputs": [
    {
     "data": {
      "text/html": [
       "<table class=\"data-frame\"><thead><tr><th></th><th>variable</th><th>mean</th><th>min</th><th>median</th><th>max</th></tr><tr><th></th><th>Symbol</th><th>Union…</th><th>Any</th><th>Union…</th><th>Any</th></tr></thead><tbody><p>20 rows × 8 columns (omitted printing of 3 columns)</p><tr><th>1</th><td>VendorID</td><td>1.83345</td><td>1</td><td>2.0</td><td>2</td></tr><tr><th>2</th><td>lpep_pickup_datetime</td><td></td><td>2008-12-31 22:34:56</td><td></td><td>2035-09-02 17:17:47</td></tr><tr><th>3</th><td>lpep_dropoff_datetime</td><td></td><td>2008-12-31 22:42:10</td><td></td><td>2035-09-02 19:01:37</td></tr><tr><th>4</th><td>store_and_fwd_flag</td><td></td><td>N</td><td></td><td>Y</td></tr><tr><th>5</th><td>RatecodeID</td><td>1.10284</td><td>1</td><td>1.0</td><td>6</td></tr><tr><th>6</th><td>PULocationID</td><td>107.481</td><td>1</td><td>82.0</td><td>265</td></tr><tr><th>7</th><td>DOLocationID</td><td>128.446</td><td>1</td><td>129.0</td><td>265</td></tr><tr><th>8</th><td>passenger_count</td><td>1.31158</td><td>0</td><td>1.0</td><td>9</td></tr><tr><th>9</th><td>trip_distance</td><td>3.44502</td><td>-9436.33</td><td>1.94</td><td>77843.8</td></tr><tr><th>10</th><td>fare_amount</td><td>15.5867</td><td>-200.0</td><td>11.0</td><td>500.0</td></tr><tr><th>11</th><td>extra</td><td>0.888232</td><td>-4.5</td><td>0.5</td><td>8.25</td></tr><tr><th>12</th><td>mta_tax</td><td>0.439677</td><td>-0.5</td><td>0.5</td><td>3.55</td></tr><tr><th>13</th><td>tip_amount</td><td>0.949459</td><td>-90.5</td><td>0.0</td><td>441.0</td></tr><tr><th>14</th><td>tolls_amount</td><td>0.289563</td><td>0.0</td><td>0.0</td><td>48.0</td></tr><tr><th>15</th><td>ehail_fee</td><td></td><td></td><td></td><td></td></tr><tr><th>16</th><td>improvement_surcharge</td><td>0.270599</td><td>-0.3</td><td>0.3</td><td>0.3</td></tr><tr><th>17</th><td>total_amount</td><td>18.7367</td><td>-200.0</td><td>14.15</td><td>500.3</td></tr><tr><th>18</th><td>payment_type</td><td>1.477</td><td>1</td><td>1.0</td><td>5</td></tr><tr><th>19</th><td>trip_type</td><td>1.02323</td><td>1</td><td>1.0</td><td>2</td></tr><tr><th>20</th><td>congestion_surcharge</td><td>0.426469</td><td>-2.75</td><td>0.0</td><td>2.75</td></tr></tbody></table>"
      ],
      "text/latex": [
       "\\begin{tabular}{r|cccccc}\n",
       "\t& variable & mean & min & median & max & \\\\\n",
       "\t\\hline\n",
       "\t& Symbol & Union… & Any & Union… & Any & \\\\\n",
       "\t\\hline\n",
       "\t1 & VendorID & 1.83345 & 1 & 2.0 & 2 & $\\dots$ \\\\\n",
       "\t2 & lpep\\_pickup\\_datetime &  & 2008-12-31 22:34:56 &  & 2035-09-02 17:17:47 & $\\dots$ \\\\\n",
       "\t3 & lpep\\_dropoff\\_datetime &  & 2008-12-31 22:42:10 &  & 2035-09-02 19:01:37 & $\\dots$ \\\\\n",
       "\t4 & store\\_and\\_fwd\\_flag &  & N &  & Y & $\\dots$ \\\\\n",
       "\t5 & RatecodeID & 1.10284 & 1 & 1.0 & 6 & $\\dots$ \\\\\n",
       "\t6 & PULocationID & 107.481 & 1 & 82.0 & 265 & $\\dots$ \\\\\n",
       "\t7 & DOLocationID & 128.446 & 1 & 129.0 & 265 & $\\dots$ \\\\\n",
       "\t8 & passenger\\_count & 1.31158 & 0 & 1.0 & 9 & $\\dots$ \\\\\n",
       "\t9 & trip\\_distance & 3.44502 & -9436.33 & 1.94 & 77843.8 & $\\dots$ \\\\\n",
       "\t10 & fare\\_amount & 15.5867 & -200.0 & 11.0 & 500.0 & $\\dots$ \\\\\n",
       "\t11 & extra & 0.888232 & -4.5 & 0.5 & 8.25 & $\\dots$ \\\\\n",
       "\t12 & mta\\_tax & 0.439677 & -0.5 & 0.5 & 3.55 & $\\dots$ \\\\\n",
       "\t13 & tip\\_amount & 0.949459 & -90.5 & 0.0 & 441.0 & $\\dots$ \\\\\n",
       "\t14 & tolls\\_amount & 0.289563 & 0.0 & 0.0 & 48.0 & $\\dots$ \\\\\n",
       "\t15 & ehail\\_fee &  &  &  &  & $\\dots$ \\\\\n",
       "\t16 & improvement\\_surcharge & 0.270599 & -0.3 & 0.3 & 0.3 & $\\dots$ \\\\\n",
       "\t17 & total\\_amount & 18.7367 & -200.0 & 14.15 & 500.3 & $\\dots$ \\\\\n",
       "\t18 & payment\\_type & 1.477 & 1 & 1.0 & 5 & $\\dots$ \\\\\n",
       "\t19 & trip\\_type & 1.02323 & 1 & 1.0 & 2 & $\\dots$ \\\\\n",
       "\t20 & congestion\\_surcharge & 0.426469 & -2.75 & 0.0 & 2.75 & $\\dots$ \\\\\n",
       "\\end{tabular}\n"
      ],
      "text/plain": [
       "20×8 DataFrame. Omitted printing of 4 columns\n",
       "│ Row │ variable              │ mean     │ min                 │ median │\n",
       "│     │ \u001b[90mSymbol\u001b[39m                │ \u001b[90mUnion…\u001b[39m   │ \u001b[90mAny\u001b[39m                 │ \u001b[90mUnion…\u001b[39m │\n",
       "├─────┼───────────────────────┼──────────┼─────────────────────┼────────┤\n",
       "│ 1   │ VendorID              │ 1.83345  │ 1                   │ 2.0    │\n",
       "│ 2   │ lpep_pickup_datetime  │          │ 2008-12-31 22:34:56 │        │\n",
       "│ 3   │ lpep_dropoff_datetime │          │ 2008-12-31 22:42:10 │        │\n",
       "│ 4   │ store_and_fwd_flag    │          │ N                   │        │\n",
       "│ 5   │ RatecodeID            │ 1.10284  │ 1                   │ 1.0    │\n",
       "│ 6   │ PULocationID          │ 107.481  │ 1                   │ 82.0   │\n",
       "│ 7   │ DOLocationID          │ 128.446  │ 1                   │ 129.0  │\n",
       "│ 8   │ passenger_count       │ 1.31158  │ 0                   │ 1.0    │\n",
       "│ 9   │ trip_distance         │ 3.44502  │ -9436.33            │ 1.94   │\n",
       "│ 10  │ fare_amount           │ 15.5867  │ -200.0              │ 11.0   │\n",
       "│ 11  │ extra                 │ 0.888232 │ -4.5                │ 0.5    │\n",
       "│ 12  │ mta_tax               │ 0.439677 │ -0.5                │ 0.5    │\n",
       "│ 13  │ tip_amount            │ 0.949459 │ -90.5               │ 0.0    │\n",
       "│ 14  │ tolls_amount          │ 0.289563 │ 0.0                 │ 0.0    │\n",
       "│ 15  │ ehail_fee             │          │                     │        │\n",
       "│ 16  │ improvement_surcharge │ 0.270599 │ -0.3                │ 0.3    │\n",
       "│ 17  │ total_amount          │ 18.7367  │ -200.0              │ 14.15  │\n",
       "│ 18  │ payment_type          │ 1.477    │ 1                   │ 1.0    │\n",
       "│ 19  │ trip_type             │ 1.02323  │ 1                   │ 1.0    │\n",
       "│ 20  │ congestion_surcharge  │ 0.426469 │ -2.75               │ 0.0    │"
      ]
     },
     "execution_count": 12,
     "metadata": {},
     "output_type": "execute_result"
    }
   ],
   "source": [
    "describe(df)"
   ]
  },
  {
   "cell_type": "code",
   "execution_count": 13,
   "metadata": {},
   "outputs": [
    {
     "name": "stdout",
     "output_type": "stream",
     "text": [
      "  2.003603 seconds (33.99 k allocations: 1.710 MiB)\n"
     ]
    }
   ],
   "source": [
    "@time pydf = pd.read_csv(\"test_data.csv\");"
   ]
  },
  {
   "cell_type": "code",
   "execution_count": 14,
   "metadata": {},
   "outputs": [
    {
     "data": {
      "text/plain": [
       "PyObject VendorID                 float64\n",
       "lpep_pickup_datetime      object\n",
       "lpep_dropoff_datetime     object\n",
       "store_and_fwd_flag        object\n",
       "RatecodeID               float64\n",
       "PULocationID               int64\n",
       "DOLocationID               int64\n",
       "passenger_count          float64\n",
       "trip_distance            float64\n",
       "fare_amount              float64\n",
       "extra                    float64\n",
       "mta_tax                  float64\n",
       "tip_amount               float64\n",
       "tolls_amount             float64\n",
       "ehail_fee                float64\n",
       "improvement_surcharge    float64\n",
       "total_amount             float64\n",
       "payment_type             float64\n",
       "trip_type                float64\n",
       "congestion_surcharge     float64\n",
       "dtype: object"
      ]
     },
     "execution_count": 14,
     "metadata": {},
     "output_type": "execute_result"
    }
   ],
   "source": [
    "pydf.dtypes"
   ]
  },
  {
   "cell_type": "code",
   "execution_count": 15,
   "metadata": {},
   "outputs": [
    {
     "name": "stdout",
     "output_type": "stream",
     "text": [
      "  1.889 s (9 allocations: 352 bytes)\n"
     ]
    }
   ],
   "source": [
    "@btime pydf = pd.read_csv(\"test_data.csv\");"
   ]
  },
  {
   "cell_type": "markdown",
   "metadata": {},
   "source": [
    "Python direct: 1.98s"
   ]
  },
  {
   "cell_type": "markdown",
   "metadata": {},
   "source": [
    "CSV Import in Julia is a factor of 2 faster (single-threaded). It uses multithreading as default, with gives an additional speedup of a factor 3 here (4-core machine)."
   ]
  },
  {
   "cell_type": "markdown",
   "metadata": {},
   "source": [
    "## Calculations"
   ]
  },
  {
   "cell_type": "markdown",
   "metadata": {},
   "source": [
    "### Conversion of datetime columns"
   ]
  },
  {
   "cell_type": "code",
   "execution_count": 16,
   "metadata": {},
   "outputs": [
    {
     "name": "stdout",
     "output_type": "stream",
     "text": [
      "  140.186 ms (450632 allocations: 24.07 MiB)\n"
     ]
    }
   ],
   "source": [
    "@btime DateTime.(df[!, :lpep_pickup_datetime], dateformat\"yyyy-mm-dd HH:MM:SS\");"
   ]
  },
  {
   "cell_type": "code",
   "execution_count": 135,
   "metadata": {},
   "outputs": [
    {
     "name": "stdout",
     "output_type": "stream",
     "text": [
      "  0.297416 seconds (901.27 k allocations: 48.133 MiB)\n"
     ]
    },
    {
     "data": {
      "text/plain": [
       "450627-element Array{DateTime,1}:\n",
       " 2019-12-01T00:10:59\n",
       " 2019-12-01T00:31:30\n",
       " 2019-12-01T00:59:38\n",
       " 2019-12-01T00:40:19\n",
       " 2019-12-01T00:59:56\n",
       " 2019-12-01T00:19:39\n",
       " 2019-12-01T00:52:46\n",
       " 2019-12-01T01:04:08\n",
       " 2019-12-01T00:56:44\n",
       " 2019-12-01T01:05:11\n",
       " 2019-12-01T00:34:48\n",
       " 2019-12-01T00:20:42\n",
       " 2019-12-01T00:06:22\n",
       " ⋮                  \n",
       " 2020-01-01T00:06:00\n",
       " 2020-01-01T00:31:00\n",
       " 2019-12-31T23:45:00\n",
       " 2019-12-31T23:38:00\n",
       " 2019-12-31T23:27:00\n",
       " 2019-12-31T23:59:00\n",
       " 2020-01-01T00:03:00\n",
       " 2019-12-31T23:54:00\n",
       " 2019-12-31T23:16:00\n",
       " 2019-12-31T23:40:00\n",
       " 2019-12-31T23:37:00\n",
       " 2020-01-01T00:05:00"
      ]
     },
     "execution_count": 135,
     "metadata": {},
     "output_type": "execute_result"
    }
   ],
   "source": [
    "@time begin\n",
    "    df[!, :lpep_pickup_datetime] = DateTime.(df[!, :lpep_pickup_datetime], \n",
    "        dateformat\"yyyy-mm-dd HH:MM:SS\");\n",
    "    df[!, :lpep_dropoff_datetime] = DateTime.(df[!, :lpep_dropoff_datetime], \n",
    "        dateformat\"yyyy-mm-dd HH:MM:SS\");\n",
    "end"
   ]
  },
  {
   "cell_type": "code",
   "execution_count": 18,
   "metadata": {},
   "outputs": [
    {
     "name": "stdout",
     "output_type": "stream",
     "text": [
      "  129.738 ms (12 allocations: 528 bytes)\n"
     ]
    }
   ],
   "source": [
    "@btime pd.to_datetime(pydf.lpep_pickup_datetime);"
   ]
  },
  {
   "cell_type": "code",
   "execution_count": 19,
   "metadata": {},
   "outputs": [
    {
     "name": "stdout",
     "output_type": "stream",
     "text": [
      "  0.329862 seconds (7.13 k allocations: 345.935 KiB)\n"
     ]
    },
    {
     "data": {
      "text/plain": [
       "PyObject 0        2019-12-01 00:10:59\n",
       "1        2019-12-01 00:31:30\n",
       "2        2019-12-01 00:59:38\n",
       "3        2019-12-01 00:40:19\n",
       "4        2019-12-01 00:59:56\n",
       "                 ...        \n",
       "450622   2019-12-31 23:54:00\n",
       "450623   2019-12-31 23:16:00\n",
       "450624   2019-12-31 23:40:00\n",
       "450625   2019-12-31 23:37:00\n",
       "450626   2020-01-01 00:05:00\n",
       "Name: lpep_dropoff_datetime, Length: 450627, dtype: datetime64[ns]"
      ]
     },
     "execution_count": 19,
     "metadata": {},
     "output_type": "execute_result"
    }
   ],
   "source": [
    "@time begin\n",
    "    pydf.lpep_pickup_datetime = pd.to_datetime(pydf.lpep_pickup_datetime);\n",
    "    pydf.lpep_dropoff_datetime = pd.to_datetime(pydf.lpep_dropoff_datetime);\n",
    "end"
   ]
  },
  {
   "cell_type": "markdown",
   "metadata": {},
   "source": [
    "Python direct: 0.35s"
   ]
  },
  {
   "cell_type": "code",
   "execution_count": 20,
   "metadata": {},
   "outputs": [
    {
     "data": {
      "text/plain": [
       "PyObject VendorID                        float64\n",
       "lpep_pickup_datetime     datetime64[ns]\n",
       "lpep_dropoff_datetime    datetime64[ns]\n",
       "store_and_fwd_flag               object\n",
       "RatecodeID                      float64\n",
       "PULocationID                      int64\n",
       "DOLocationID                      int64\n",
       "passenger_count                 float64\n",
       "trip_distance                   float64\n",
       "fare_amount                     float64\n",
       "extra                           float64\n",
       "mta_tax                         float64\n",
       "tip_amount                      float64\n",
       "tolls_amount                    float64\n",
       "ehail_fee                       float64\n",
       "improvement_surcharge           float64\n",
       "total_amount                    float64\n",
       "payment_type                    float64\n",
       "trip_type                       float64\n",
       "congestion_surcharge            float64\n",
       "dtype: object"
      ]
     },
     "execution_count": 20,
     "metadata": {},
     "output_type": "execute_result"
    }
   ],
   "source": [
    "pydf.dtypes"
   ]
  },
  {
   "cell_type": "markdown",
   "metadata": {},
   "source": [
    "Conversion speed is similar, but Python syntax is easier (no need to explicitly define datetime format)."
   ]
  },
  {
   "cell_type": "markdown",
   "metadata": {},
   "source": [
    "## Vectorized Calculations"
   ]
  },
  {
   "cell_type": "code",
   "execution_count": 21,
   "metadata": {},
   "outputs": [
    {
     "data": {
      "text/plain": [
       "450627-element Array{Second,1}:\n",
       " 74 seconds  \n",
       " 325 seconds \n",
       " 182 seconds \n",
       " 839 seconds \n",
       " 200 seconds \n",
       " 311 seconds \n",
       " 412 seconds \n",
       " 2313 seconds\n",
       " 812 seconds \n",
       " 543 seconds \n",
       " 1456 seconds\n",
       " 241 seconds \n",
       " 85 seconds  \n",
       " ⋮           \n",
       " 540 seconds \n",
       " 1920 seconds\n",
       " 1860 seconds\n",
       " 2040 seconds\n",
       " 960 seconds \n",
       " 1500 seconds\n",
       " 1020 seconds\n",
       " 1680 seconds\n",
       " 840 seconds \n",
       " 960 seconds \n",
       " 1260 seconds\n",
       " 780 seconds "
      ]
     },
     "execution_count": 21,
     "metadata": {},
     "output_type": "execute_result"
    }
   ],
   "source": [
    "df[!, :drive_time] = Second.(df[!, :lpep_dropoff_datetime] .- df[!, :lpep_pickup_datetime])"
   ]
  },
  {
   "cell_type": "code",
   "execution_count": 22,
   "metadata": {},
   "outputs": [
    {
     "name": "stdout",
     "output_type": "stream",
     "text": [
      "  6.973 ms (8 allocations: 3.44 MiB)\n"
     ]
    }
   ],
   "source": [
    "@btime df[!, :drive_time] = Second.(df[!, :lpep_dropoff_datetime] .- df[!, :lpep_pickup_datetime]);"
   ]
  },
  {
   "cell_type": "code",
   "execution_count": 23,
   "metadata": {},
   "outputs": [
    {
     "data": {
      "text/plain": [
       "PyObject 0        00:01:14\n",
       "1        00:05:25\n",
       "2        00:03:02\n",
       "3        00:13:59\n",
       "4        00:03:20\n",
       "           ...   \n",
       "450622   00:28:00\n",
       "450623   00:14:00\n",
       "450624   00:16:00\n",
       "450625   00:21:00\n",
       "450626   00:13:00\n",
       "Length: 450627, dtype: timedelta64[ns]"
      ]
     },
     "execution_count": 23,
     "metadata": {},
     "output_type": "execute_result"
    }
   ],
   "source": [
    "pydf.drive_time = (pydf.lpep_dropoff_datetime - pydf.lpep_pickup_datetime)"
   ]
  },
  {
   "cell_type": "code",
   "execution_count": 24,
   "metadata": {},
   "outputs": [
    {
     "name": "stdout",
     "output_type": "stream",
     "text": [
      "  16.283 ms (9 allocations: 400 bytes)\n"
     ]
    }
   ],
   "source": [
    "@btime pydf.drive_time = (pydf.lpep_dropoff_datetime - pydf.lpep_pickup_datetime);"
   ]
  },
  {
   "cell_type": "markdown",
   "metadata": {},
   "source": [
    "Python direct: 17ms"
   ]
  },
  {
   "cell_type": "code",
   "execution_count": 25,
   "metadata": {},
   "outputs": [
    {
     "data": {
      "text/plain": [
       "450627-element Array{Float64,1}:\n",
       " Inf                 \n",
       "   8.208955223880597 \n",
       "   7.377049180327869 \n",
       "   3.58974358974359  \n",
       "   9.0               \n",
       "   5.454545454545454 \n",
       "   5.0               \n",
       "   4.0431266846361185\n",
       "   3.1132075471698113\n",
       "   3.7878787878787876\n",
       "   4.675324675324675 \n",
       "   6.617647058823529 \n",
       "  75.0               \n",
       "   ⋮                 \n",
       "   5.55036855036855  \n",
       "   2.9398034398034394\n",
       "   3.1742610837438425\n",
       "   2.40232268768146  \n",
       "   4.89202657807309  \n",
       "   2.398413666870043 \n",
       "   2.886944818304172 \n",
       "   4.875249500998004 \n",
       "  10.268722466960352 \n",
       "   2.916577540106952 \n",
       "  -5.020949720670392 \n",
       "   8.703703703703702 "
      ]
     },
     "execution_count": 25,
     "metadata": {},
     "output_type": "execute_result"
    }
   ],
   "source": [
    "df[!, :price_per_mile] = df[!, :fare_amount] ./ df[!, :trip_distance]"
   ]
  },
  {
   "cell_type": "code",
   "execution_count": 26,
   "metadata": {},
   "outputs": [
    {
     "name": "stdout",
     "output_type": "stream",
     "text": [
      "  6.653 ms (5 allocations: 3.44 MiB)\n"
     ]
    }
   ],
   "source": [
    "@btime df[!, :price_per_mile] = df[!, :fare_amount] ./ df[!, :trip_distance];"
   ]
  },
  {
   "cell_type": "code",
   "execution_count": 46,
   "metadata": {},
   "outputs": [
    {
     "name": "stdout",
     "output_type": "stream",
     "text": [
      "  2.956 ms (9 allocations: 368 bytes)\n"
     ]
    },
    {
     "data": {
      "text/plain": [
       "PyObject 0               inf\n",
       "1          8.208955\n",
       "2          7.377049\n",
       "3          3.589744\n",
       "4          9.000000\n",
       "            ...    \n",
       "450622     4.875250\n",
       "450623    10.268722\n",
       "450624     2.916578\n",
       "450625    -5.020950\n",
       "450626     8.703704\n",
       "Length: 450627, dtype: float64"
      ]
     },
     "execution_count": 46,
     "metadata": {},
     "output_type": "execute_result"
    }
   ],
   "source": [
    "@btime pydf.price_per_mile = pydf.fare_amount / pydf.trip_distance"
   ]
  },
  {
   "cell_type": "code",
   "execution_count": 47,
   "metadata": {},
   "outputs": [
    {
     "name": "stdout",
     "output_type": "stream",
     "text": [
      "  29.247 ms (27 allocations: 7.31 MiB)\n"
     ]
    },
    {
     "data": {
      "text/plain": [
       "450627-element Array{Union{Missing, Float64},1}:\n",
       "  Inf                    \n",
       " 3674.702264144405       \n",
       " 1599.864838235631       \n",
       "   37.22478632880233     \n",
       " 8104.083927575384       \n",
       "  234.81856574475168     \n",
       "  149.4131591025766      \n",
       "   58.004298919792745    \n",
       "   23.493076419549602    \n",
       "   45.16262255965407     \n",
       "  132.26738851310304     \n",
       "  749.182594758126       \n",
       "    3.7332419967990015e32\n",
       "    ⋮                    \n",
       "     missing             \n",
       "     missing             \n",
       "     missing             \n",
       "     missing             \n",
       "     missing             \n",
       "     missing             \n",
       "     missing             \n",
       "     missing             \n",
       "     missing             \n",
       "     missing             \n",
       "     missing             \n",
       "     missing             "
      ]
     },
     "execution_count": 47,
     "metadata": {},
     "output_type": "execute_result"
    }
   ],
   "source": [
    "@btime exp.(df[!, :fare_amount] ./ df[!, :trip_distance]) .+ df[!, :passenger_count].^2"
   ]
  },
  {
   "cell_type": "code",
   "execution_count": 48,
   "metadata": {},
   "outputs": [
    {
     "name": "stdout",
     "output_type": "stream",
     "text": [
      "  26.298 ms (24 allocations: 928 bytes)\n"
     ]
    },
    {
     "data": {
      "text/plain": [
       "PyObject 0                 inf\n",
       "1         3674.702264\n",
       "2         1599.864838\n",
       "3           37.224786\n",
       "4         8104.083928\n",
       "             ...     \n",
       "450622            NaN\n",
       "450623            NaN\n",
       "450624            NaN\n",
       "450625            NaN\n",
       "450626            NaN\n",
       "Length: 450627, dtype: float64"
      ]
     },
     "execution_count": 48,
     "metadata": {},
     "output_type": "execute_result"
    }
   ],
   "source": [
    "@btime np.exp(pydf.fare_amount / pydf.trip_distance) + pydf.passenger_count^2"
   ]
  },
  {
   "cell_type": "markdown",
   "metadata": {},
   "source": [
    "Python direct: 28.5ms"
   ]
  },
  {
   "cell_type": "markdown",
   "metadata": {},
   "source": [
    "Julia is faster for the time distance, whereas Pandas is faster for the numerical calculations."
   ]
  },
  {
   "cell_type": "markdown",
   "metadata": {},
   "source": [
    "## Grouping"
   ]
  },
  {
   "cell_type": "code",
   "execution_count": 49,
   "metadata": {},
   "outputs": [
    {
     "data": {
      "text/html": [
       "<table class=\"data-frame\"><thead><tr><th></th><th>passenger_count</th><th>mean_distance</th><th>max_distance</th></tr><tr><th></th><th>Int64⍰</th><th>Float64</th><th>Float64</th></tr></thead><tbody><p>11 rows × 3 columns</p><tr><th>1</th><td>1</td><td>2.58961</td><td>333.3</td></tr><tr><th>2</th><td>5</td><td>2.60981</td><td>38.89</td></tr><tr><th>3</th><td>2</td><td>2.89825</td><td>48.78</td></tr><tr><th>4</th><td>6</td><td>2.41251</td><td>27.78</td></tr><tr><th>5</th><td>3</td><td>2.84961</td><td>34.1</td></tr><tr><th>6</th><td>4</td><td>2.6318</td><td>69.86</td></tr><tr><th>7</th><td>0</td><td>2.27189</td><td>20.67</td></tr><tr><th>8</th><td>7</td><td>0.0</td><td>0.0</td></tr><tr><th>9</th><td>8</td><td>2.1075</td><td>11.77</td></tr><tr><th>10</th><td>9</td><td>0.04</td><td>0.08</td></tr><tr><th>11</th><td>missing</td><td>6.74247</td><td>77843.8</td></tr></tbody></table>"
      ],
      "text/latex": [
       "\\begin{tabular}{r|ccc}\n",
       "\t& passenger\\_count & mean\\_distance & max\\_distance\\\\\n",
       "\t\\hline\n",
       "\t& Int64⍰ & Float64 & Float64\\\\\n",
       "\t\\hline\n",
       "\t1 & 1 & 2.58961 & 333.3 \\\\\n",
       "\t2 & 5 & 2.60981 & 38.89 \\\\\n",
       "\t3 & 2 & 2.89825 & 48.78 \\\\\n",
       "\t4 & 6 & 2.41251 & 27.78 \\\\\n",
       "\t5 & 3 & 2.84961 & 34.1 \\\\\n",
       "\t6 & 4 & 2.6318 & 69.86 \\\\\n",
       "\t7 & 0 & 2.27189 & 20.67 \\\\\n",
       "\t8 & 7 & 0.0 & 0.0 \\\\\n",
       "\t9 & 8 & 2.1075 & 11.77 \\\\\n",
       "\t10 & 9 & 0.04 & 0.08 \\\\\n",
       "\t11 &  & 6.74247 & 77843.8 \\\\\n",
       "\\end{tabular}\n"
      ],
      "text/plain": [
       "11×3 DataFrame\n",
       "│ Row │ passenger_count │ mean_distance │ max_distance │\n",
       "│     │ \u001b[90mInt64⍰\u001b[39m          │ \u001b[90mFloat64\u001b[39m       │ \u001b[90mFloat64\u001b[39m      │\n",
       "├─────┼─────────────────┼───────────────┼──────────────┤\n",
       "│ 1   │ 1               │ 2.58961       │ 333.3        │\n",
       "│ 2   │ 5               │ 2.60981       │ 38.89        │\n",
       "│ 3   │ 2               │ 2.89825       │ 48.78        │\n",
       "│ 4   │ 6               │ 2.41251       │ 27.78        │\n",
       "│ 5   │ 3               │ 2.84961       │ 34.1         │\n",
       "│ 6   │ 4               │ 2.6318        │ 69.86        │\n",
       "│ 7   │ 0               │ 2.27189       │ 20.67        │\n",
       "│ 8   │ 7               │ 0.0           │ 0.0          │\n",
       "│ 9   │ 8               │ 2.1075        │ 11.77        │\n",
       "│ 10  │ 9               │ 0.04          │ 0.08         │\n",
       "│ 11  │ \u001b[90mmissing\u001b[39m         │ 6.74247       │ 77843.8      │"
      ]
     },
     "execution_count": 49,
     "metadata": {},
     "output_type": "execute_result"
    }
   ],
   "source": [
    "by(df, :passenger_count, (mean_distance=:trip_distance=>mean), \n",
    "    (max_distance=:trip_distance=>maximum))"
   ]
  },
  {
   "cell_type": "code",
   "execution_count": 50,
   "metadata": {},
   "outputs": [
    {
     "name": "stdout",
     "output_type": "stream",
     "text": [
      "  28.064 ms (251 allocations: 14.33 MiB)\n"
     ]
    }
   ],
   "source": [
    "@btime by(df, :passenger_count, (mean_distance=:trip_distance=>mean), \n",
    "    (max_distance=:trip_distance=>maximum));"
   ]
  },
  {
   "cell_type": "code",
   "execution_count": 51,
   "metadata": {},
   "outputs": [
    {
     "data": {
      "text/html": [
       "<div>\n",
       "<style scoped>\n",
       "    .dataframe tbody tr th:only-of-type {\n",
       "        vertical-align: middle;\n",
       "    }\n",
       "\n",
       "    .dataframe tbody tr th {\n",
       "        vertical-align: top;\n",
       "    }\n",
       "\n",
       "    .dataframe thead th {\n",
       "        text-align: right;\n",
       "    }\n",
       "</style>\n",
       "<table border=\"1\" class=\"dataframe\">\n",
       "  <thead>\n",
       "    <tr style=\"text-align: right;\">\n",
       "      <th></th>\n",
       "      <th>mean_distance</th>\n",
       "      <th>max_distance</th>\n",
       "    </tr>\n",
       "    <tr>\n",
       "      <th>passenger_count</th>\n",
       "      <th></th>\n",
       "      <th></th>\n",
       "    </tr>\n",
       "  </thead>\n",
       "  <tbody>\n",
       "    <tr>\n",
       "      <th>0.0</th>\n",
       "      <td>2.271892</td>\n",
       "      <td>20.67</td>\n",
       "    </tr>\n",
       "    <tr>\n",
       "      <th>1.0</th>\n",
       "      <td>2.589612</td>\n",
       "      <td>333.30</td>\n",
       "    </tr>\n",
       "    <tr>\n",
       "      <th>2.0</th>\n",
       "      <td>2.898245</td>\n",
       "      <td>48.78</td>\n",
       "    </tr>\n",
       "    <tr>\n",
       "      <th>3.0</th>\n",
       "      <td>2.849613</td>\n",
       "      <td>34.10</td>\n",
       "    </tr>\n",
       "    <tr>\n",
       "      <th>4.0</th>\n",
       "      <td>2.631798</td>\n",
       "      <td>69.86</td>\n",
       "    </tr>\n",
       "    <tr>\n",
       "      <th>5.0</th>\n",
       "      <td>2.609807</td>\n",
       "      <td>38.89</td>\n",
       "    </tr>\n",
       "    <tr>\n",
       "      <th>6.0</th>\n",
       "      <td>2.412509</td>\n",
       "      <td>27.78</td>\n",
       "    </tr>\n",
       "    <tr>\n",
       "      <th>7.0</th>\n",
       "      <td>0.000000</td>\n",
       "      <td>0.00</td>\n",
       "    </tr>\n",
       "    <tr>\n",
       "      <th>8.0</th>\n",
       "      <td>2.107500</td>\n",
       "      <td>11.77</td>\n",
       "    </tr>\n",
       "    <tr>\n",
       "      <th>9.0</th>\n",
       "      <td>0.040000</td>\n",
       "      <td>0.08</td>\n",
       "    </tr>\n",
       "  </tbody>\n",
       "</table>\n",
       "</div>"
      ],
      "text/plain": [
       "PyObject                  mean_distance  max_distance\n",
       "passenger_count                             \n",
       "0.0                   2.271892         20.67\n",
       "1.0                   2.589612        333.30\n",
       "2.0                   2.898245         48.78\n",
       "3.0                   2.849613         34.10\n",
       "4.0                   2.631798         69.86\n",
       "5.0                   2.609807         38.89\n",
       "6.0                   2.412509         27.78\n",
       "7.0                   0.000000          0.00\n",
       "8.0                   2.107500         11.77\n",
       "9.0                   0.040000          0.08"
      ]
     },
     "execution_count": 51,
     "metadata": {},
     "output_type": "execute_result"
    }
   ],
   "source": [
    "pydf.groupby(\"passenger_count\").agg(mean_distance=(\"trip_distance\", \"mean\"), \n",
    "    max_distance=(\"trip_distance\", \"max\"))"
   ]
  },
  {
   "cell_type": "code",
   "execution_count": 52,
   "metadata": {},
   "outputs": [
    {
     "name": "stdout",
     "output_type": "stream",
     "text": [
      "  38.919 ms (47 allocations: 2.13 KiB)\n"
     ]
    }
   ],
   "source": [
    "@btime pydf.groupby(\"passenger_count\").agg(mean_distance=(\"trip_distance\", \"mean\"), \n",
    "    max_distance=(\"trip_distance\", \"max\"));"
   ]
  },
  {
   "cell_type": "code",
   "execution_count": 53,
   "metadata": {},
   "outputs": [
    {
     "name": "stdout",
     "output_type": "stream",
     "text": [
      "  38.981 ms (54 allocations: 2.47 KiB)\n"
     ]
    }
   ],
   "source": [
    "@btime pydf.groupby(\"passenger_count\").agg(mean_distance=(\"trip_distance\", np.mean), \n",
    "    max_distance=(\"trip_distance\", np.max));"
   ]
  },
  {
   "cell_type": "markdown",
   "metadata": {},
   "source": [
    "Python direct: 36.4ms"
   ]
  },
  {
   "cell_type": "markdown",
   "metadata": {},
   "source": [
    "Groupby-Aggregation is faster in Julia (and has shorter syntax)."
   ]
  },
  {
   "cell_type": "markdown",
   "metadata": {},
   "source": [
    "## Apply Custom Functions"
   ]
  },
  {
   "cell_type": "code",
   "execution_count": 54,
   "metadata": {},
   "outputs": [
    {
     "data": {
      "text/plain": [
       "myfunc (generic function with 1 method)"
      ]
     },
     "execution_count": 54,
     "metadata": {},
     "output_type": "execute_result"
    }
   ],
   "source": [
    "function myfunc(a, b, c)\n",
    "    if a === missing\n",
    "        return zero(a)\n",
    "    elseif round(Int, a) % 2 == 0\n",
    "        return 2a + b*c\n",
    "    else\n",
    "        return a*b + 2c\n",
    "    end\n",
    "end"
   ]
  },
  {
   "cell_type": "code",
   "execution_count": 55,
   "metadata": {},
   "outputs": [
    {
     "data": {
      "text/plain": [
       "450627-element Array{Union{Missing, Float64},1}:\n",
       "  6.0     \n",
       " 11.67    \n",
       "  9.61    \n",
       " 31.9     \n",
       "  9.5     \n",
       " 13.1     \n",
       " 16.5     \n",
       " 67.42    \n",
       " 38.3     \n",
       " 22.64    \n",
       " 55.25    \n",
       "  9.68    \n",
       "  6.04    \n",
       "  ⋮       \n",
       "   missing\n",
       "   missing\n",
       "   missing\n",
       "   missing\n",
       "   missing\n",
       "   missing\n",
       "   missing\n",
       "   missing\n",
       "   missing\n",
       "   missing\n",
       "   missing\n",
       "   missing"
      ]
     },
     "execution_count": 55,
     "metadata": {},
     "output_type": "execute_result"
    }
   ],
   "source": [
    "df[!, :myfunc] = myfunc.(df.passenger_count, df.trip_distance, df.fare_amount)"
   ]
  },
  {
   "cell_type": "code",
   "execution_count": 56,
   "metadata": {},
   "outputs": [
    {
     "name": "stdout",
     "output_type": "stream",
     "text": [
      "  4.284 ms (14 allocations: 7.31 MiB)\n"
     ]
    }
   ],
   "source": [
    "@btime df[!, :myfunc] = myfunc.(df.passenger_count, df.trip_distance, df.fare_amount);"
   ]
  },
  {
   "cell_type": "code",
   "execution_count": 57,
   "metadata": {},
   "outputs": [
    {
     "data": {
      "text/plain": [
       "(450627, 23)"
      ]
     },
     "execution_count": 57,
     "metadata": {},
     "output_type": "execute_result"
    }
   ],
   "source": [
    "size(df)"
   ]
  },
  {
   "cell_type": "code",
   "execution_count": 58,
   "metadata": {},
   "outputs": [],
   "source": [
    "df2 = first(df, 1000);"
   ]
  },
  {
   "cell_type": "code",
   "execution_count": 59,
   "metadata": {},
   "outputs": [
    {
     "name": "stdout",
     "output_type": "stream",
     "text": [
      "  8.459 μs (11 allocations: 8.19 KiB)\n"
     ]
    }
   ],
   "source": [
    "@btime df2[!, :myfunc] = myfunc.(df2.passenger_count, df2.trip_distance, df2.fare_amount);"
   ]
  },
  {
   "cell_type": "code",
   "execution_count": 60,
   "metadata": {},
   "outputs": [],
   "source": [
    "py\"\"\"\n",
    "import numpy as np\n",
    "def myfunc_py(a, b, c):\n",
    "    if a is np.nan:\n",
    "        return 0\n",
    "    elif round(a) % 2 == 0:\n",
    "        return 2*a + b*c\n",
    "    else:\n",
    "        return a*b + 2*c\n",
    "\"\"\""
   ]
  },
  {
   "cell_type": "code",
   "execution_count": 61,
   "metadata": {},
   "outputs": [
    {
     "name": "stdout",
     "output_type": "stream",
     "text": [
      "  43.056 μs (3 allocations: 48 bytes)\n"
     ]
    },
    {
     "data": {
      "text/plain": [
       "8"
      ]
     },
     "execution_count": 61,
     "metadata": {},
     "output_type": "execute_result"
    }
   ],
   "source": [
    "@btime py\"myfunc_py(1, 2, 3)\""
   ]
  },
  {
   "cell_type": "markdown",
   "metadata": {},
   "source": [
    "Python direct: 849ns - significantly faster than with PyCall"
   ]
  },
  {
   "cell_type": "code",
   "execution_count": 62,
   "metadata": {},
   "outputs": [],
   "source": [
    "pydf2 = pydf.head(1000);"
   ]
  },
  {
   "cell_type": "code",
   "execution_count": 63,
   "metadata": {},
   "outputs": [
    {
     "name": "stdout",
     "output_type": "stream",
     "text": [
      "  199.071 ms (35 allocations: 1.70 KiB)\n"
     ]
    },
    {
     "data": {
      "text/plain": [
       "PyObject 0       6.00\n",
       "1      11.67\n",
       "2       9.61\n",
       "3      31.90\n",
       "4       9.50\n",
       "       ...  \n",
       "995    26.11\n",
       "996    34.83\n",
       "997    46.70\n",
       "998    76.50\n",
       "999    14.43\n",
       "Length: 1000, dtype: float64"
      ]
     },
     "execution_count": 63,
     "metadata": {},
     "output_type": "execute_result"
    }
   ],
   "source": [
    "@btime pydf2.myfunc = pydf2.apply(py\"lambda x: myfunc_py(x.passenger_count, x.trip_distance, x.fare_amount)\", \n",
    "    axis=1)"
   ]
  },
  {
   "cell_type": "code",
   "execution_count": 64,
   "metadata": {},
   "outputs": [
    {
     "name": "stdout",
     "output_type": "stream",
     "text": [
      "  199.429 ms (7 allocations: 208 bytes)\n"
     ]
    },
    {
     "data": {
      "text/plain": [
       "PyObject 0       6.00\n",
       "1      11.67\n",
       "2       9.61\n",
       "3      31.90\n",
       "4       9.50\n",
       "       ...  \n",
       "995    26.11\n",
       "996    34.83\n",
       "997    46.70\n",
       "998    76.50\n",
       "999    14.43\n",
       "Length: 1000, dtype: float64"
      ]
     },
     "execution_count": 64,
     "metadata": {},
     "output_type": "execute_result"
    }
   ],
   "source": [
    "@btime py\"$pydf2.apply(lambda x: myfunc_py(x.passenger_count, x.trip_distance, x.fare_amount), axis=1)\""
   ]
  },
  {
   "cell_type": "markdown",
   "metadata": {},
   "source": [
    "Python direct: 201ms"
   ]
  },
  {
   "cell_type": "markdown",
   "metadata": {},
   "source": [
    "Julia is here ca. 20,000 times faster than Python/ Pandas!"
   ]
  },
  {
   "cell_type": "markdown",
   "metadata": {},
   "source": [
    "## Row Iteration"
   ]
  },
  {
   "cell_type": "code",
   "execution_count": 78,
   "metadata": {},
   "outputs": [
    {
     "data": {
      "text/plain": [
       "df_iter (generic function with 2 methods)"
      ]
     },
     "execution_count": 78,
     "metadata": {},
     "output_type": "execute_result"
    }
   ],
   "source": [
    "function df_iter(df)\n",
    "    result = 0\n",
    "    last_passenger = 0\n",
    "    for row in eachrow(df)\n",
    "        if row.passenger_count === missing\n",
    "            continue\n",
    "        end\n",
    "        result += row.passenger_count * last_passenger\n",
    "        last_passenger = row.passenger_count\n",
    "    end\n",
    "    result\n",
    "end"
   ]
  },
  {
   "cell_type": "code",
   "execution_count": 80,
   "metadata": {},
   "outputs": [
    {
     "name": "stdout",
     "output_type": "stream",
     "text": [
      "Variables\n",
      "  #self#\u001b[36m::Core.Compiler.Const(df_iter, false)\u001b[39m\n",
      "  df\u001b[36m::DataFrame\u001b[39m\n",
      "  result\u001b[91m\u001b[1m::Any\u001b[22m\u001b[39m\n",
      "  last_passenger\u001b[91m\u001b[1m::Any\u001b[22m\u001b[39m\n",
      "  @_5\u001b[33m\u001b[1m::Union{Nothing, Tuple{DataFrameRow{DataFrame,DataFrames.Index},Tuple{Base.OneTo{Int64},Int64}}}\u001b[22m\u001b[39m\n",
      "  row\u001b[36m::DataFrameRow{DataFrame,DataFrames.Index}\u001b[39m\n",
      "\n",
      "Body\u001b[91m\u001b[1m::Any\u001b[22m\u001b[39m\n",
      "\u001b[90m1 ─\u001b[39m       (result = 0)\n",
      "\u001b[90m│  \u001b[39m       (last_passenger = 0)\n",
      "\u001b[90m│  \u001b[39m %3  = Main.eachrow(df)\u001b[36m::DataFrames.DataFrameRows{DataFrame,DataFrames.Index}\u001b[39m\n",
      "\u001b[90m│  \u001b[39m       (@_5 = Base.iterate(%3))\n",
      "\u001b[90m│  \u001b[39m %5  = (@_5 === nothing)\u001b[36m::Bool\u001b[39m\n",
      "\u001b[90m│  \u001b[39m %6  = Base.not_int(%5)\u001b[36m::Bool\u001b[39m\n",
      "\u001b[90m└──\u001b[39m       goto #7 if not %6\n",
      "\u001b[90m2 ┄\u001b[39m %8  = @_5::Tuple{DataFrameRow{DataFrame,DataFrames.Index},Tuple{Base.OneTo{Int64},Int64}}\u001b[36m::Tuple{DataFrameRow{DataFrame,DataFrames.Index},Tuple{Base.OneTo{Int64},Int64}}\u001b[39m\n",
      "\u001b[90m│  \u001b[39m       (row = Core.getfield(%8, 1))\n",
      "\u001b[90m│  \u001b[39m %10 = Core.getfield(%8, 2)\u001b[36m::Tuple{Base.OneTo{Int64},Int64}\u001b[39m\n",
      "\u001b[90m│  \u001b[39m %11 = Base.getproperty(row, :passenger_count)\u001b[91m\u001b[1m::Any\u001b[22m\u001b[39m\n",
      "\u001b[90m│  \u001b[39m %12 = (%11 === Main.missing)\u001b[36m::Bool\u001b[39m\n",
      "\u001b[90m└──\u001b[39m       goto #4 if not %12\n",
      "\u001b[90m3 ─\u001b[39m       goto #5\n",
      "\u001b[90m4 ─\u001b[39m %15 = result\u001b[91m\u001b[1m::Any\u001b[22m\u001b[39m\n",
      "\u001b[90m│  \u001b[39m %16 = Base.getproperty(row, :passenger_count)\u001b[91m\u001b[1m::Any\u001b[22m\u001b[39m\n",
      "\u001b[90m│  \u001b[39m %17 = (%16 * last_passenger)\u001b[91m\u001b[1m::Any\u001b[22m\u001b[39m\n",
      "\u001b[90m│  \u001b[39m       (result = %15 + %17)\n",
      "\u001b[90m└──\u001b[39m       (last_passenger = Base.getproperty(row, :passenger_count))\n",
      "\u001b[90m5 ┄\u001b[39m       (@_5 = Base.iterate(%3, %10))\n",
      "\u001b[90m│  \u001b[39m %21 = (@_5 === nothing)\u001b[36m::Bool\u001b[39m\n",
      "\u001b[90m│  \u001b[39m %22 = Base.not_int(%21)\u001b[36m::Bool\u001b[39m\n",
      "\u001b[90m└──\u001b[39m       goto #7 if not %22\n",
      "\u001b[90m6 ─\u001b[39m       goto #2\n",
      "\u001b[90m7 ┄\u001b[39m       return result\n"
     ]
    }
   ],
   "source": [
    "@code_warntype df_iter(df)"
   ]
  },
  {
   "cell_type": "code",
   "execution_count": 79,
   "metadata": {},
   "outputs": [
    {
     "name": "stdout",
     "output_type": "stream",
     "text": [
      "  288.378 ms (3149642 allocations: 54.94 MiB)\n"
     ]
    },
    {
     "data": {
      "text/plain": [
       "715957"
      ]
     },
     "execution_count": 79,
     "metadata": {},
     "output_type": "execute_result"
    }
   ],
   "source": [
    "@btime df_iter($df)"
   ]
  },
  {
   "cell_type": "code",
   "execution_count": 84,
   "metadata": {},
   "outputs": [
    {
     "data": {
      "text/plain": [
       "df_iter2 (generic function with 1 method)"
      ]
     },
     "execution_count": 84,
     "metadata": {},
     "output_type": "execute_result"
    }
   ],
   "source": [
    "function df_iter2(df)\n",
    "    result = 0\n",
    "    last_passenger = 0\n",
    "    for row in eachrow(df)\n",
    "        if row.passenger_count === missing\n",
    "            continue\n",
    "        end\n",
    "        passenger = row.passenger_count:: Int\n",
    "        result += passenger * last_passenger\n",
    "        last_passenger = passenger\n",
    "    end\n",
    "    result\n",
    "end"
   ]
  },
  {
   "cell_type": "code",
   "execution_count": 85,
   "metadata": {},
   "outputs": [
    {
     "name": "stdout",
     "output_type": "stream",
     "text": [
      "Variables\n",
      "  #self#\u001b[36m::Core.Compiler.Const(df_iter2, false)\u001b[39m\n",
      "  df\u001b[36m::DataFrame\u001b[39m\n",
      "  result\u001b[36m::Int64\u001b[39m\n",
      "  last_passenger\u001b[36m::Int64\u001b[39m\n",
      "  @_5\u001b[33m\u001b[1m::Union{Nothing, Tuple{DataFrameRow{DataFrame,DataFrames.Index},Tuple{Base.OneTo{Int64},Int64}}}\u001b[22m\u001b[39m\n",
      "  row\u001b[36m::DataFrameRow{DataFrame,DataFrames.Index}\u001b[39m\n",
      "  passenger\u001b[36m::Int64\u001b[39m\n",
      "\n",
      "Body\u001b[36m::Int64\u001b[39m\n",
      "\u001b[90m1 ─\u001b[39m       (result = 0)\n",
      "\u001b[90m│  \u001b[39m       (last_passenger = 0)\n",
      "\u001b[90m│  \u001b[39m %3  = Main.eachrow(df)\u001b[36m::DataFrames.DataFrameRows{DataFrame,DataFrames.Index}\u001b[39m\n",
      "\u001b[90m│  \u001b[39m       (@_5 = Base.iterate(%3))\n",
      "\u001b[90m│  \u001b[39m %5  = (@_5 === nothing)\u001b[36m::Bool\u001b[39m\n",
      "\u001b[90m│  \u001b[39m %6  = Base.not_int(%5)\u001b[36m::Bool\u001b[39m\n",
      "\u001b[90m└──\u001b[39m       goto #7 if not %6\n",
      "\u001b[90m2 ┄\u001b[39m       Core.NewvarNode(:(passenger))\n",
      "\u001b[90m│  \u001b[39m %9  = @_5::Tuple{DataFrameRow{DataFrame,DataFrames.Index},Tuple{Base.OneTo{Int64},Int64}}\u001b[36m::Tuple{DataFrameRow{DataFrame,DataFrames.Index},Tuple{Base.OneTo{Int64},Int64}}\u001b[39m\n",
      "\u001b[90m│  \u001b[39m       (row = Core.getfield(%9, 1))\n",
      "\u001b[90m│  \u001b[39m %11 = Core.getfield(%9, 2)\u001b[36m::Tuple{Base.OneTo{Int64},Int64}\u001b[39m\n",
      "\u001b[90m│  \u001b[39m %12 = Base.getproperty(row, :passenger_count)\u001b[91m\u001b[1m::Any\u001b[22m\u001b[39m\n",
      "\u001b[90m│  \u001b[39m %13 = (%12 === Main.missing)\u001b[36m::Bool\u001b[39m\n",
      "\u001b[90m└──\u001b[39m       goto #4 if not %13\n",
      "\u001b[90m3 ─\u001b[39m       goto #5\n",
      "\u001b[90m4 ─\u001b[39m %16 = Base.getproperty(row, :passenger_count)\u001b[91m\u001b[1m::Any\u001b[22m\u001b[39m\n",
      "\u001b[90m│  \u001b[39m       (passenger = Core.typeassert(%16, Main.Int))\n",
      "\u001b[90m│  \u001b[39m %18 = result\u001b[36m::Int64\u001b[39m\n",
      "\u001b[90m│  \u001b[39m %19 = (passenger * last_passenger)\u001b[36m::Int64\u001b[39m\n",
      "\u001b[90m│  \u001b[39m       (result = %18 + %19)\n",
      "\u001b[90m└──\u001b[39m       (last_passenger = passenger)\n",
      "\u001b[90m5 ┄\u001b[39m       (@_5 = Base.iterate(%3, %11))\n",
      "\u001b[90m│  \u001b[39m %23 = (@_5 === nothing)\u001b[36m::Bool\u001b[39m\n",
      "\u001b[90m│  \u001b[39m %24 = Base.not_int(%23)\u001b[36m::Bool\u001b[39m\n",
      "\u001b[90m└──\u001b[39m       goto #7 if not %24\n",
      "\u001b[90m6 ─\u001b[39m       goto #2\n",
      "\u001b[90m7 ┄\u001b[39m       return result\n"
     ]
    }
   ],
   "source": [
    "@code_warntype df_iter2(df)"
   ]
  },
  {
   "cell_type": "code",
   "execution_count": 86,
   "metadata": {},
   "outputs": [
    {
     "name": "stdout",
     "output_type": "stream",
     "text": [
      "  152.553 ms (2070664 allocations: 38.47 MiB)\n"
     ]
    },
    {
     "data": {
      "text/plain": [
       "715957"
      ]
     },
     "execution_count": 86,
     "metadata": {},
     "output_type": "execute_result"
    }
   ],
   "source": [
    "@btime df_iter2($df)"
   ]
  },
  {
   "cell_type": "markdown",
   "metadata": {},
   "source": [
    "A speedup of a factor of 2 by type assertion."
   ]
  },
  {
   "cell_type": "code",
   "execution_count": 98,
   "metadata": {},
   "outputs": [
    {
     "data": {
      "text/plain": [
       "df_iter3 (generic function with 1 method)"
      ]
     },
     "execution_count": 98,
     "metadata": {},
     "output_type": "execute_result"
    }
   ],
   "source": [
    "function df_iter3(passengers)\n",
    "    result = 0\n",
    "    last_passenger = 0\n",
    "    for row in passengers\n",
    "        if row === missing\n",
    "            continue\n",
    "        end\n",
    "        passenger = row\n",
    "        result += passenger * last_passenger\n",
    "        last_passenger = passenger\n",
    "    end\n",
    "    result\n",
    "end"
   ]
  },
  {
   "cell_type": "code",
   "execution_count": 99,
   "metadata": {},
   "outputs": [
    {
     "name": "stdout",
     "output_type": "stream",
     "text": [
      "  1.640 ms (1 allocation: 16 bytes)\n"
     ]
    },
    {
     "data": {
      "text/plain": [
       "715957"
      ]
     },
     "execution_count": 99,
     "metadata": {},
     "output_type": "execute_result"
    }
   ],
   "source": [
    "@btime df_iter3(df[!, :passenger_count])"
   ]
  },
  {
   "cell_type": "markdown",
   "metadata": {},
   "source": [
    "Even more efficient:"
   ]
  },
  {
   "cell_type": "code",
   "execution_count": 100,
   "metadata": {},
   "outputs": [
    {
     "data": {
      "text/plain": [
       "df_iter4 (generic function with 1 method)"
      ]
     },
     "execution_count": 100,
     "metadata": {},
     "output_type": "execute_result"
    }
   ],
   "source": [
    "function df_iter4(passengers)\n",
    "    result = 0\n",
    "    last_passenger = 0\n",
    "    for row in skipmissing(passengers)\n",
    "        passenger = row\n",
    "        result += passenger * last_passenger\n",
    "        last_passenger = passenger\n",
    "    end\n",
    "    result\n",
    "end"
   ]
  },
  {
   "cell_type": "code",
   "execution_count": 101,
   "metadata": {},
   "outputs": [
    {
     "name": "stdout",
     "output_type": "stream",
     "text": [
      "  936.638 μs (1 allocation: 16 bytes)\n"
     ]
    },
    {
     "data": {
      "text/plain": [
       "715957"
      ]
     },
     "execution_count": 101,
     "metadata": {},
     "output_type": "execute_result"
    }
   ],
   "source": [
    "@btime df_iter4(df[!, :passenger_count])"
   ]
  },
  {
   "cell_type": "markdown",
   "metadata": {},
   "source": [
    "Looping directly on arrays (extracted from df columns) gives a speedup of 100!\n",
    "\n",
    "Due to type instability, `eachrow` should be avoided in performance-critical code. Instead, use looping over column arrays."
   ]
  },
  {
   "cell_type": "code",
   "execution_count": 112,
   "metadata": {},
   "outputs": [],
   "source": [
    "py\"\"\"\n",
    "def pydf_iter(df):\n",
    "    result = 0\n",
    "    last_passenger = 0\n",
    "    for row in df.itertuples(): # much faster than df.iterrows()\n",
    "        if np.isnan(row.passenger_count):\n",
    "            continue\n",
    "        result += row.passenger_count * last_passenger\n",
    "        last_passenger = row.passenger_count\n",
    "    return result\n",
    "\"\"\""
   ]
  },
  {
   "cell_type": "code",
   "execution_count": 113,
   "metadata": {},
   "outputs": [
    {
     "data": {
      "text/plain": [
       "PyObject <function pydf_iter at 0x7fcaad4ba0e0>"
      ]
     },
     "execution_count": 113,
     "metadata": {},
     "output_type": "execute_result"
    }
   ],
   "source": [
    "pydf_iter = py\"pydf_iter\""
   ]
  },
  {
   "cell_type": "code",
   "execution_count": 114,
   "metadata": {},
   "outputs": [
    {
     "name": "stdout",
     "output_type": "stream",
     "text": [
      "  18.263 s (3 allocations: 48 bytes)\n"
     ]
    },
    {
     "data": {
      "text/plain": [
       "715957.0"
      ]
     },
     "execution_count": 114,
     "metadata": {},
     "output_type": "execute_result"
    }
   ],
   "source": [
    "@btime pydf_iter($pydf)"
   ]
  },
  {
   "cell_type": "code",
   "execution_count": 116,
   "metadata": {},
   "outputs": [],
   "source": [
    "py\"\"\"\n",
    "from numba import njit\n",
    "\n",
    "@njit\n",
    "def pydf_iter2(passengers):\n",
    "    result = 0\n",
    "    last_passenger = 0\n",
    "    for row in passengers:\n",
    "        if np.isnan(row):\n",
    "            continue\n",
    "        result += row * last_passenger\n",
    "        last_passenger = row\n",
    "    return result\n",
    "\"\"\""
   ]
  },
  {
   "cell_type": "code",
   "execution_count": 117,
   "metadata": {},
   "outputs": [
    {
     "data": {
      "text/plain": [
       "PyObject CPUDispatcher(<function pydf_iter2 at 0x7fcaac6d4560>)"
      ]
     },
     "execution_count": 117,
     "metadata": {},
     "output_type": "execute_result"
    }
   ],
   "source": [
    "pydf_iter2 = py\"pydf_iter2\""
   ]
  },
  {
   "cell_type": "code",
   "execution_count": 119,
   "metadata": {},
   "outputs": [
    {
     "name": "stdout",
     "output_type": "stream",
     "text": [
      "  2.723 ms (41 allocations: 3.44 MiB)\n"
     ]
    },
    {
     "data": {
      "text/plain": [
       "715957.0"
      ]
     },
     "execution_count": 119,
     "metadata": {},
     "output_type": "execute_result"
    }
   ],
   "source": [
    "@btime pydf_iter2(pydf.passenger_count.values)"
   ]
  },
  {
   "cell_type": "markdown",
   "metadata": {},
   "source": [
    "Even in the primitive (not type-stable) implementation, Julia is a factor of 50 faster than Python. When using loops over column arrays, Julia is a factor of 10,000 faster than Python.\n",
    "\n",
    "Using a Numba JIT compiled function on a Numpy array is \"only\" a factor of 3 slower than the Julia array loop implementation and faster than the (type unstable) Julia `eachrow` implementations."
   ]
  },
  {
   "cell_type": "markdown",
   "metadata": {},
   "source": [
    "## Sorting"
   ]
  },
  {
   "cell_type": "code",
   "execution_count": 136,
   "metadata": {},
   "outputs": [
    {
     "name": "stdout",
     "output_type": "stream",
     "text": [
      "  1.444 s (11493254 allocations: 292.95 MiB)\n"
     ]
    }
   ],
   "source": [
    "@btime sort(df, (:passenger_count, :lpep_pickup_datetime), rev=(true, false));"
   ]
  },
  {
   "cell_type": "markdown",
   "metadata": {},
   "source": [
    "Note that `sort` creates a copy of the DataFrame, `sort!` does in-place sorting."
   ]
  },
  {
   "cell_type": "code",
   "execution_count": 133,
   "metadata": {},
   "outputs": [
    {
     "name": "stdout",
     "output_type": "stream",
     "text": [
      "  358.607 ms (7 allocations: 208 bytes)\n"
     ]
    }
   ],
   "source": [
    "@btime py\"$pydf.sort_values(['passenger_count', 'lpep_pickup_datetime'], ascending=[False, True])\";"
   ]
  },
  {
   "cell_type": "markdown",
   "metadata": {},
   "source": [
    "Sorting is significantly faster in Pandas."
   ]
  },
  {
   "cell_type": "markdown",
   "metadata": {},
   "source": [
    "## Filtering"
   ]
  },
  {
   "cell_type": "markdown",
   "metadata": {},
   "source": [
    "The Pandas slicing syntax corresponds to Julia filter function. `missing` data must be explicitly treated."
   ]
  },
  {
   "cell_type": "code",
   "execution_count": 151,
   "metadata": {},
   "outputs": [
    {
     "name": "stdout",
     "output_type": "stream",
     "text": [
      "  55.052 ms (110 allocations: 70.49 MiB)\n"
     ]
    },
    {
     "data": {
      "text/html": [
       "<table class=\"data-frame\"><thead><tr><th></th><th>VendorID</th><th>lpep_pickup_datetime</th><th>lpep_dropoff_datetime</th><th>store_and_fwd_flag</th><th>RatecodeID</th></tr><tr><th></th><th>Int64⍰</th><th>DateTime</th><th>DateTime</th><th>String⍰</th><th>Int64⍰</th></tr></thead><tbody><p>450,627 rows × 20 columns (omitted printing of 15 columns)</p><tr><th>1</th><td>1</td><td>2019-12-01T00:09:45</td><td>2019-12-01T00:10:59</td><td>N</td><td>1</td></tr><tr><th>2</th><td>2</td><td>2019-12-01T00:26:05</td><td>2019-12-01T00:31:30</td><td>N</td><td>1</td></tr><tr><th>3</th><td>2</td><td>2019-12-01T00:56:36</td><td>2019-12-01T00:59:38</td><td>N</td><td>1</td></tr><tr><th>4</th><td>2</td><td>2019-12-01T00:26:20</td><td>2019-12-01T00:40:19</td><td>N</td><td>1</td></tr><tr><th>5</th><td>2</td><td>2019-12-01T00:56:36</td><td>2019-12-01T00:59:56</td><td>N</td><td>1</td></tr><tr><th>6</th><td>1</td><td>2019-12-01T00:14:28</td><td>2019-12-01T00:19:39</td><td>N</td><td>1</td></tr><tr><th>7</th><td>1</td><td>2019-12-01T00:45:54</td><td>2019-12-01T00:52:46</td><td>N</td><td>1</td></tr><tr><th>8</th><td>2</td><td>2019-12-01T00:25:35</td><td>2019-12-01T01:04:08</td><td>N</td><td>1</td></tr><tr><th>9</th><td>1</td><td>2019-12-01T00:43:12</td><td>2019-12-01T00:56:44</td><td>N</td><td>1</td></tr><tr><th>10</th><td>2</td><td>2019-12-01T00:56:08</td><td>2019-12-01T01:05:11</td><td>N</td><td>1</td></tr><tr><th>11</th><td>2</td><td>2019-12-01T00:10:32</td><td>2019-12-01T00:34:48</td><td>N</td><td>1</td></tr><tr><th>12</th><td>2</td><td>2019-12-01T00:16:41</td><td>2019-12-01T00:20:42</td><td>N</td><td>1</td></tr><tr><th>13</th><td>2</td><td>2019-12-01T00:04:57</td><td>2019-12-01T00:06:22</td><td>N</td><td>1</td></tr><tr><th>14</th><td>2</td><td>2019-12-01T00:32:08</td><td>2019-12-01T00:44:06</td><td>N</td><td>1</td></tr><tr><th>15</th><td>2</td><td>2019-12-01T00:13:31</td><td>2019-12-01T00:22:38</td><td>N</td><td>1</td></tr><tr><th>16</th><td>2</td><td>2019-12-01T00:09:15</td><td>2019-12-01T00:14:28</td><td>N</td><td>1</td></tr><tr><th>17</th><td>2</td><td>2019-12-01T00:12:29</td><td>2019-12-01T00:27:39</td><td>N</td><td>1</td></tr><tr><th>18</th><td>1</td><td>2019-12-01T00:30:08</td><td>2019-12-01T00:33:24</td><td>N</td><td>1</td></tr><tr><th>19</th><td>1</td><td>2019-12-01T00:43:11</td><td>2019-12-01T00:51:47</td><td>N</td><td>1</td></tr><tr><th>20</th><td>1</td><td>2019-12-01T00:55:42</td><td>2019-12-01T00:57:50</td><td>N</td><td>1</td></tr><tr><th>21</th><td>2</td><td>2019-12-01T00:32:18</td><td>2019-12-01T00:33:01</td><td>N</td><td>5</td></tr><tr><th>22</th><td>2</td><td>2019-12-01T00:47:58</td><td>2019-12-01T00:59:03</td><td>N</td><td>1</td></tr><tr><th>23</th><td>2</td><td>2019-12-01T00:18:47</td><td>2019-12-01T00:31:28</td><td>N</td><td>1</td></tr><tr><th>24</th><td>1</td><td>2019-12-01T00:26:26</td><td>2019-12-01T00:45:41</td><td>N</td><td>1</td></tr><tr><th>25</th><td>2</td><td>2019-12-01T00:58:22</td><td>2019-12-01T01:03:44</td><td>N</td><td>1</td></tr><tr><th>26</th><td>2</td><td>2019-12-01T00:10:36</td><td>2019-12-01T00:19:25</td><td>N</td><td>1</td></tr><tr><th>27</th><td>2</td><td>2019-12-01T00:37:31</td><td>2019-12-01T01:01:51</td><td>N</td><td>1</td></tr><tr><th>28</th><td>2</td><td>2019-12-01T00:18:19</td><td>2019-12-01T00:34:26</td><td>N</td><td>1</td></tr><tr><th>29</th><td>2</td><td>2019-12-01T00:18:57</td><td>2019-12-01T00:19:00</td><td>N</td><td>5</td></tr><tr><th>30</th><td>2</td><td>2019-12-01T00:23:02</td><td>2019-12-01T00:32:27</td><td>N</td><td>1</td></tr><tr><th>&vellip;</th><td>&vellip;</td><td>&vellip;</td><td>&vellip;</td><td>&vellip;</td><td>&vellip;</td></tr></tbody></table>"
      ],
      "text/latex": [
       "\\begin{tabular}{r|cccccc}\n",
       "\t& VendorID & lpep\\_pickup\\_datetime & lpep\\_dropoff\\_datetime & store\\_and\\_fwd\\_flag & RatecodeID & \\\\\n",
       "\t\\hline\n",
       "\t& Int64⍰ & DateTime & DateTime & String⍰ & Int64⍰ & \\\\\n",
       "\t\\hline\n",
       "\t1 & 1 & 2019-12-01T00:09:45 & 2019-12-01T00:10:59 & N & 1 & $\\dots$ \\\\\n",
       "\t2 & 2 & 2019-12-01T00:26:05 & 2019-12-01T00:31:30 & N & 1 & $\\dots$ \\\\\n",
       "\t3 & 2 & 2019-12-01T00:56:36 & 2019-12-01T00:59:38 & N & 1 & $\\dots$ \\\\\n",
       "\t4 & 2 & 2019-12-01T00:26:20 & 2019-12-01T00:40:19 & N & 1 & $\\dots$ \\\\\n",
       "\t5 & 2 & 2019-12-01T00:56:36 & 2019-12-01T00:59:56 & N & 1 & $\\dots$ \\\\\n",
       "\t6 & 1 & 2019-12-01T00:14:28 & 2019-12-01T00:19:39 & N & 1 & $\\dots$ \\\\\n",
       "\t7 & 1 & 2019-12-01T00:45:54 & 2019-12-01T00:52:46 & N & 1 & $\\dots$ \\\\\n",
       "\t8 & 2 & 2019-12-01T00:25:35 & 2019-12-01T01:04:08 & N & 1 & $\\dots$ \\\\\n",
       "\t9 & 1 & 2019-12-01T00:43:12 & 2019-12-01T00:56:44 & N & 1 & $\\dots$ \\\\\n",
       "\t10 & 2 & 2019-12-01T00:56:08 & 2019-12-01T01:05:11 & N & 1 & $\\dots$ \\\\\n",
       "\t11 & 2 & 2019-12-01T00:10:32 & 2019-12-01T00:34:48 & N & 1 & $\\dots$ \\\\\n",
       "\t12 & 2 & 2019-12-01T00:16:41 & 2019-12-01T00:20:42 & N & 1 & $\\dots$ \\\\\n",
       "\t13 & 2 & 2019-12-01T00:04:57 & 2019-12-01T00:06:22 & N & 1 & $\\dots$ \\\\\n",
       "\t14 & 2 & 2019-12-01T00:32:08 & 2019-12-01T00:44:06 & N & 1 & $\\dots$ \\\\\n",
       "\t15 & 2 & 2019-12-01T00:13:31 & 2019-12-01T00:22:38 & N & 1 & $\\dots$ \\\\\n",
       "\t16 & 2 & 2019-12-01T00:09:15 & 2019-12-01T00:14:28 & N & 1 & $\\dots$ \\\\\n",
       "\t17 & 2 & 2019-12-01T00:12:29 & 2019-12-01T00:27:39 & N & 1 & $\\dots$ \\\\\n",
       "\t18 & 1 & 2019-12-01T00:30:08 & 2019-12-01T00:33:24 & N & 1 & $\\dots$ \\\\\n",
       "\t19 & 1 & 2019-12-01T00:43:11 & 2019-12-01T00:51:47 & N & 1 & $\\dots$ \\\\\n",
       "\t20 & 1 & 2019-12-01T00:55:42 & 2019-12-01T00:57:50 & N & 1 & $\\dots$ \\\\\n",
       "\t21 & 2 & 2019-12-01T00:32:18 & 2019-12-01T00:33:01 & N & 5 & $\\dots$ \\\\\n",
       "\t22 & 2 & 2019-12-01T00:47:58 & 2019-12-01T00:59:03 & N & 1 & $\\dots$ \\\\\n",
       "\t23 & 2 & 2019-12-01T00:18:47 & 2019-12-01T00:31:28 & N & 1 & $\\dots$ \\\\\n",
       "\t24 & 1 & 2019-12-01T00:26:26 & 2019-12-01T00:45:41 & N & 1 & $\\dots$ \\\\\n",
       "\t25 & 2 & 2019-12-01T00:58:22 & 2019-12-01T01:03:44 & N & 1 & $\\dots$ \\\\\n",
       "\t26 & 2 & 2019-12-01T00:10:36 & 2019-12-01T00:19:25 & N & 1 & $\\dots$ \\\\\n",
       "\t27 & 2 & 2019-12-01T00:37:31 & 2019-12-01T01:01:51 & N & 1 & $\\dots$ \\\\\n",
       "\t28 & 2 & 2019-12-01T00:18:19 & 2019-12-01T00:34:26 & N & 1 & $\\dots$ \\\\\n",
       "\t29 & 2 & 2019-12-01T00:18:57 & 2019-12-01T00:19:00 & N & 5 & $\\dots$ \\\\\n",
       "\t30 & 2 & 2019-12-01T00:23:02 & 2019-12-01T00:32:27 & N & 1 & $\\dots$ \\\\\n",
       "\t$\\dots$ & $\\dots$ & $\\dots$ & $\\dots$ & $\\dots$ & $\\dots$ &  \\\\\n",
       "\\end{tabular}\n"
      ],
      "text/plain": [
       "450627×20 DataFrame. Omitted printing of 17 columns\n",
       "│ Row    │ VendorID │ lpep_pickup_datetime │ lpep_dropoff_datetime │\n",
       "│        │ \u001b[90mInt64⍰\u001b[39m   │ \u001b[90mDateTime\u001b[39m             │ \u001b[90mDateTime\u001b[39m              │\n",
       "├────────┼──────────┼──────────────────────┼───────────────────────┤\n",
       "│ 1      │ 1        │ 2019-12-01T00:09:45  │ 2019-12-01T00:10:59   │\n",
       "│ 2      │ 2        │ 2019-12-01T00:26:05  │ 2019-12-01T00:31:30   │\n",
       "│ 3      │ 2        │ 2019-12-01T00:56:36  │ 2019-12-01T00:59:38   │\n",
       "│ 4      │ 2        │ 2019-12-01T00:26:20  │ 2019-12-01T00:40:19   │\n",
       "│ 5      │ 2        │ 2019-12-01T00:56:36  │ 2019-12-01T00:59:56   │\n",
       "│ 6      │ 1        │ 2019-12-01T00:14:28  │ 2019-12-01T00:19:39   │\n",
       "│ 7      │ 1        │ 2019-12-01T00:45:54  │ 2019-12-01T00:52:46   │\n",
       "│ 8      │ 2        │ 2019-12-01T00:25:35  │ 2019-12-01T01:04:08   │\n",
       "│ 9      │ 1        │ 2019-12-01T00:43:12  │ 2019-12-01T00:56:44   │\n",
       "│ 10     │ 2        │ 2019-12-01T00:56:08  │ 2019-12-01T01:05:11   │\n",
       "⋮\n",
       "│ 450617 │ \u001b[90mmissing\u001b[39m  │ 2019-12-31T23:59:00  │ 2020-01-01T00:31:00   │\n",
       "│ 450618 │ \u001b[90mmissing\u001b[39m  │ 2019-12-31T23:14:00  │ 2019-12-31T23:45:00   │\n",
       "│ 450619 │ \u001b[90mmissing\u001b[39m  │ 2019-12-31T23:04:00  │ 2019-12-31T23:38:00   │\n",
       "│ 450620 │ \u001b[90mmissing\u001b[39m  │ 2019-12-31T23:11:00  │ 2019-12-31T23:27:00   │\n",
       "│ 450621 │ \u001b[90mmissing\u001b[39m  │ 2019-12-31T23:34:00  │ 2019-12-31T23:59:00   │\n",
       "│ 450622 │ \u001b[90mmissing\u001b[39m  │ 2019-12-31T23:46:00  │ 2020-01-01T00:03:00   │\n",
       "│ 450623 │ \u001b[90mmissing\u001b[39m  │ 2019-12-31T23:26:00  │ 2019-12-31T23:54:00   │\n",
       "│ 450624 │ \u001b[90mmissing\u001b[39m  │ 2019-12-31T23:02:00  │ 2019-12-31T23:16:00   │\n",
       "│ 450625 │ \u001b[90mmissing\u001b[39m  │ 2019-12-31T23:24:00  │ 2019-12-31T23:40:00   │\n",
       "│ 450626 │ \u001b[90mmissing\u001b[39m  │ 2019-12-31T23:16:00  │ 2019-12-31T23:37:00   │\n",
       "│ 450627 │ \u001b[90mmissing\u001b[39m  │ 2019-12-31T23:52:00  │ 2020-01-01T00:05:00   │"
      ]
     },
     "execution_count": 151,
     "metadata": {},
     "output_type": "execute_result"
    }
   ],
   "source": [
    "@btime filter(x->(!ismissing(x) || x[:passenger_count]==2), df)"
   ]
  },
  {
   "cell_type": "code",
   "execution_count": 141,
   "metadata": {},
   "outputs": [
    {
     "name": "stdout",
     "output_type": "stream",
     "text": [
      "  15.736 ms (9 allocations: 240 bytes)\n"
     ]
    },
    {
     "data": {
      "text/html": [
       "<div>\n",
       "<style scoped>\n",
       "    .dataframe tbody tr th:only-of-type {\n",
       "        vertical-align: middle;\n",
       "    }\n",
       "\n",
       "    .dataframe tbody tr th {\n",
       "        vertical-align: top;\n",
       "    }\n",
       "\n",
       "    .dataframe thead th {\n",
       "        text-align: right;\n",
       "    }\n",
       "</style>\n",
       "<table border=\"1\" class=\"dataframe\">\n",
       "  <thead>\n",
       "    <tr style=\"text-align: right;\">\n",
       "      <th></th>\n",
       "      <th>VendorID</th>\n",
       "      <th>lpep_pickup_datetime</th>\n",
       "      <th>lpep_dropoff_datetime</th>\n",
       "      <th>store_and_fwd_flag</th>\n",
       "      <th>RatecodeID</th>\n",
       "      <th>PULocationID</th>\n",
       "      <th>DOLocationID</th>\n",
       "      <th>passenger_count</th>\n",
       "      <th>trip_distance</th>\n",
       "      <th>fare_amount</th>\n",
       "      <th>extra</th>\n",
       "      <th>mta_tax</th>\n",
       "      <th>tip_amount</th>\n",
       "      <th>tolls_amount</th>\n",
       "      <th>ehail_fee</th>\n",
       "      <th>improvement_surcharge</th>\n",
       "      <th>total_amount</th>\n",
       "      <th>payment_type</th>\n",
       "      <th>trip_type</th>\n",
       "      <th>congestion_surcharge</th>\n",
       "    </tr>\n",
       "  </thead>\n",
       "  <tbody>\n",
       "    <tr>\n",
       "      <th>69</th>\n",
       "      <td>2.0</td>\n",
       "      <td>2019-12-01 00:29:25</td>\n",
       "      <td>2019-12-01 00:31:31</td>\n",
       "      <td>N</td>\n",
       "      <td>1.0</td>\n",
       "      <td>159</td>\n",
       "      <td>167</td>\n",
       "      <td>2.0</td>\n",
       "      <td>0.47</td>\n",
       "      <td>3.5</td>\n",
       "      <td>0.5</td>\n",
       "      <td>0.5</td>\n",
       "      <td>0.00</td>\n",
       "      <td>0.00</td>\n",
       "      <td>NaN</td>\n",
       "      <td>0.3</td>\n",
       "      <td>4.80</td>\n",
       "      <td>2.0</td>\n",
       "      <td>1.0</td>\n",
       "      <td>0.00</td>\n",
       "    </tr>\n",
       "    <tr>\n",
       "      <th>152</th>\n",
       "      <td>2.0</td>\n",
       "      <td>2019-12-01 00:37:10</td>\n",
       "      <td>2019-12-01 00:42:05</td>\n",
       "      <td>N</td>\n",
       "      <td>1.0</td>\n",
       "      <td>74</td>\n",
       "      <td>168</td>\n",
       "      <td>2.0</td>\n",
       "      <td>1.09</td>\n",
       "      <td>6.0</td>\n",
       "      <td>0.5</td>\n",
       "      <td>0.5</td>\n",
       "      <td>0.00</td>\n",
       "      <td>0.00</td>\n",
       "      <td>NaN</td>\n",
       "      <td>0.3</td>\n",
       "      <td>7.30</td>\n",
       "      <td>2.0</td>\n",
       "      <td>1.0</td>\n",
       "      <td>0.00</td>\n",
       "    </tr>\n",
       "    <tr>\n",
       "      <th>169</th>\n",
       "      <td>2.0</td>\n",
       "      <td>2019-12-01 00:14:09</td>\n",
       "      <td>2019-12-01 00:26:42</td>\n",
       "      <td>N</td>\n",
       "      <td>1.0</td>\n",
       "      <td>82</td>\n",
       "      <td>226</td>\n",
       "      <td>2.0</td>\n",
       "      <td>2.17</td>\n",
       "      <td>10.5</td>\n",
       "      <td>0.5</td>\n",
       "      <td>0.5</td>\n",
       "      <td>0.00</td>\n",
       "      <td>0.00</td>\n",
       "      <td>NaN</td>\n",
       "      <td>0.3</td>\n",
       "      <td>11.80</td>\n",
       "      <td>2.0</td>\n",
       "      <td>1.0</td>\n",
       "      <td>0.00</td>\n",
       "    </tr>\n",
       "    <tr>\n",
       "      <th>170</th>\n",
       "      <td>2.0</td>\n",
       "      <td>2019-12-01 00:07:27</td>\n",
       "      <td>2019-12-01 00:22:18</td>\n",
       "      <td>N</td>\n",
       "      <td>1.0</td>\n",
       "      <td>82</td>\n",
       "      <td>83</td>\n",
       "      <td>2.0</td>\n",
       "      <td>2.31</td>\n",
       "      <td>10.5</td>\n",
       "      <td>0.5</td>\n",
       "      <td>0.5</td>\n",
       "      <td>0.00</td>\n",
       "      <td>0.00</td>\n",
       "      <td>NaN</td>\n",
       "      <td>0.3</td>\n",
       "      <td>11.80</td>\n",
       "      <td>2.0</td>\n",
       "      <td>1.0</td>\n",
       "      <td>0.00</td>\n",
       "    </tr>\n",
       "    <tr>\n",
       "      <th>171</th>\n",
       "      <td>2.0</td>\n",
       "      <td>2019-12-01 00:33:06</td>\n",
       "      <td>2019-12-01 00:40:06</td>\n",
       "      <td>N</td>\n",
       "      <td>1.0</td>\n",
       "      <td>82</td>\n",
       "      <td>129</td>\n",
       "      <td>2.0</td>\n",
       "      <td>1.31</td>\n",
       "      <td>7.0</td>\n",
       "      <td>0.5</td>\n",
       "      <td>0.5</td>\n",
       "      <td>1.66</td>\n",
       "      <td>0.00</td>\n",
       "      <td>NaN</td>\n",
       "      <td>0.3</td>\n",
       "      <td>9.96</td>\n",
       "      <td>1.0</td>\n",
       "      <td>1.0</td>\n",
       "      <td>0.00</td>\n",
       "    </tr>\n",
       "    <tr>\n",
       "      <th>...</th>\n",
       "      <td>...</td>\n",
       "      <td>...</td>\n",
       "      <td>...</td>\n",
       "      <td>...</td>\n",
       "      <td>...</td>\n",
       "      <td>...</td>\n",
       "      <td>...</td>\n",
       "      <td>...</td>\n",
       "      <td>...</td>\n",
       "      <td>...</td>\n",
       "      <td>...</td>\n",
       "      <td>...</td>\n",
       "      <td>...</td>\n",
       "      <td>...</td>\n",
       "      <td>...</td>\n",
       "      <td>...</td>\n",
       "      <td>...</td>\n",
       "      <td>...</td>\n",
       "      <td>...</td>\n",
       "      <td>...</td>\n",
       "    </tr>\n",
       "    <tr>\n",
       "      <th>359794</th>\n",
       "      <td>2.0</td>\n",
       "      <td>2019-12-31 23:05:36</td>\n",
       "      <td>2019-12-31 23:14:21</td>\n",
       "      <td>N</td>\n",
       "      <td>1.0</td>\n",
       "      <td>247</td>\n",
       "      <td>244</td>\n",
       "      <td>2.0</td>\n",
       "      <td>1.77</td>\n",
       "      <td>8.5</td>\n",
       "      <td>0.5</td>\n",
       "      <td>0.5</td>\n",
       "      <td>0.00</td>\n",
       "      <td>0.00</td>\n",
       "      <td>NaN</td>\n",
       "      <td>0.3</td>\n",
       "      <td>9.80</td>\n",
       "      <td>2.0</td>\n",
       "      <td>1.0</td>\n",
       "      <td>0.00</td>\n",
       "    </tr>\n",
       "    <tr>\n",
       "      <th>359803</th>\n",
       "      <td>2.0</td>\n",
       "      <td>2019-12-31 23:23:27</td>\n",
       "      <td>2019-12-31 23:33:17</td>\n",
       "      <td>N</td>\n",
       "      <td>1.0</td>\n",
       "      <td>129</td>\n",
       "      <td>70</td>\n",
       "      <td>2.0</td>\n",
       "      <td>2.60</td>\n",
       "      <td>10.5</td>\n",
       "      <td>0.5</td>\n",
       "      <td>0.5</td>\n",
       "      <td>0.00</td>\n",
       "      <td>0.00</td>\n",
       "      <td>NaN</td>\n",
       "      <td>0.3</td>\n",
       "      <td>11.80</td>\n",
       "      <td>2.0</td>\n",
       "      <td>1.0</td>\n",
       "      <td>0.00</td>\n",
       "    </tr>\n",
       "    <tr>\n",
       "      <th>359810</th>\n",
       "      <td>2.0</td>\n",
       "      <td>2019-12-31 23:51:51</td>\n",
       "      <td>2020-01-01 00:10:29</td>\n",
       "      <td>N</td>\n",
       "      <td>1.0</td>\n",
       "      <td>74</td>\n",
       "      <td>92</td>\n",
       "      <td>2.0</td>\n",
       "      <td>8.94</td>\n",
       "      <td>26.5</td>\n",
       "      <td>0.5</td>\n",
       "      <td>0.5</td>\n",
       "      <td>0.00</td>\n",
       "      <td>6.12</td>\n",
       "      <td>NaN</td>\n",
       "      <td>0.3</td>\n",
       "      <td>33.92</td>\n",
       "      <td>2.0</td>\n",
       "      <td>1.0</td>\n",
       "      <td>0.00</td>\n",
       "    </tr>\n",
       "    <tr>\n",
       "      <th>359826</th>\n",
       "      <td>2.0</td>\n",
       "      <td>2019-12-31 23:48:11</td>\n",
       "      <td>2019-12-31 23:59:23</td>\n",
       "      <td>N</td>\n",
       "      <td>1.0</td>\n",
       "      <td>181</td>\n",
       "      <td>225</td>\n",
       "      <td>2.0</td>\n",
       "      <td>2.86</td>\n",
       "      <td>11.0</td>\n",
       "      <td>0.5</td>\n",
       "      <td>0.5</td>\n",
       "      <td>0.00</td>\n",
       "      <td>0.00</td>\n",
       "      <td>NaN</td>\n",
       "      <td>0.3</td>\n",
       "      <td>12.30</td>\n",
       "      <td>2.0</td>\n",
       "      <td>1.0</td>\n",
       "      <td>0.00</td>\n",
       "    </tr>\n",
       "    <tr>\n",
       "      <th>359890</th>\n",
       "      <td>2.0</td>\n",
       "      <td>2019-12-31 23:18:35</td>\n",
       "      <td>2019-12-31 23:22:26</td>\n",
       "      <td>N</td>\n",
       "      <td>1.0</td>\n",
       "      <td>75</td>\n",
       "      <td>236</td>\n",
       "      <td>2.0</td>\n",
       "      <td>1.23</td>\n",
       "      <td>5.5</td>\n",
       "      <td>0.5</td>\n",
       "      <td>0.5</td>\n",
       "      <td>0.00</td>\n",
       "      <td>0.00</td>\n",
       "      <td>NaN</td>\n",
       "      <td>0.3</td>\n",
       "      <td>9.55</td>\n",
       "      <td>2.0</td>\n",
       "      <td>1.0</td>\n",
       "      <td>2.75</td>\n",
       "    </tr>\n",
       "  </tbody>\n",
       "</table>\n",
       "<p>26698 rows × 20 columns</p>\n",
       "</div>"
      ],
      "text/plain": [
       "PyObject         VendorID lpep_pickup_datetime  ... trip_type congestion_surcharge\n",
       "69           2.0  2019-12-01 00:29:25  ...       1.0                 0.00\n",
       "152          2.0  2019-12-01 00:37:10  ...       1.0                 0.00\n",
       "169          2.0  2019-12-01 00:14:09  ...       1.0                 0.00\n",
       "170          2.0  2019-12-01 00:07:27  ...       1.0                 0.00\n",
       "171          2.0  2019-12-01 00:33:06  ...       1.0                 0.00\n",
       "...          ...                  ...  ...       ...                  ...\n",
       "359794       2.0  2019-12-31 23:05:36  ...       1.0                 0.00\n",
       "359803       2.0  2019-12-31 23:23:27  ...       1.0                 0.00\n",
       "359810       2.0  2019-12-31 23:51:51  ...       1.0                 0.00\n",
       "359826       2.0  2019-12-31 23:48:11  ...       1.0                 0.00\n",
       "359890       2.0  2019-12-31 23:18:35  ...       1.0                 2.75\n",
       "\n",
       "[26698 rows x 20 columns]"
      ]
     },
     "execution_count": 141,
     "metadata": {},
     "output_type": "execute_result"
    }
   ],
   "source": [
    "@btime py\"$pydf[$pydf.passenger_count == 2]\""
   ]
  },
  {
   "cell_type": "markdown",
   "metadata": {},
   "source": [
    "Julia and Pandas syntax is different for filter operations (but rather a matter of taste).\n",
    "\n",
    "Pandas is significantly faster."
   ]
  },
  {
   "cell_type": "markdown",
   "metadata": {},
   "source": [
    "## Summary\n",
    "\n",
    "* CSV Import: draw - Julia is significantly faster single threaded and uses multiple threads by default, but has large compile-time for the first load\n",
    "* Conversions to Datetime: draw - similar timings, but `pd.to_datetime` could automatically infer the datetime format.\n",
    "* Vectorized standard calculations (available in Numpy): Pandas - but the more complex the calculations get, the more Julia catches up\n",
    "* Vectorized calculations using custom functions: Julia - by 4 orders of magnitude in my example!\n",
    "* Iteration over rows: Julia - by 2 orders of magnitude using `eachrow` (not type-stable) and 4 orders of magnitude if looping over DataFrame column Arrays. Using Numba on Numpy arrays is still a factor of 3 slower than Julia Arrays.\n",
    "* Sorting: Pandas - a factor of 4 faster in my example\n",
    "* Filtering: Pandas - a factor of 4 faster in my example"
   ]
  },
  {
   "cell_type": "code",
   "execution_count": null,
   "metadata": {},
   "outputs": [],
   "source": []
  },
  {
   "cell_type": "code",
   "execution_count": null,
   "metadata": {},
   "outputs": [],
   "source": []
  }
 ],
 "metadata": {
  "kernelspec": {
   "display_name": "Julia 1.3.1",
   "language": "julia",
   "name": "julia-1.3"
  },
  "language_info": {
   "file_extension": ".jl",
   "mimetype": "application/julia",
   "name": "julia",
   "version": "1.3.1"
  }
 },
 "nbformat": 4,
 "nbformat_minor": 4
}
