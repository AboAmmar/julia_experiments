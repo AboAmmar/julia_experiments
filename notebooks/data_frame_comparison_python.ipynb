{
 "cells": [
  {
   "cell_type": "code",
   "execution_count": 1,
   "metadata": {},
   "outputs": [],
   "source": [
    "import pandas as pd\n",
    "import numpy as np"
   ]
  },
  {
   "cell_type": "code",
   "execution_count": 24,
   "metadata": {},
   "outputs": [
    {
     "name": "stdout",
     "output_type": "stream",
     "text": [
      "CPU times: user 1.83 s, sys: 106 ms, total: 1.94 s\n",
      "Wall time: 2.04 s\n"
     ]
    }
   ],
   "source": [
    "%time pydf = pd.read_csv(\"test_data.csv\")"
   ]
  },
  {
   "cell_type": "code",
   "execution_count": 3,
   "metadata": {},
   "outputs": [
    {
     "name": "stderr",
     "output_type": "stream",
     "text": [
      "/opt/conda/lib/python3.7/site-packages/IPython/core/magic.py:187: DtypeWarning: Columns (3) have mixed types. Specify dtype option on import or set low_memory=False.\n",
      "  call = lambda f, *a, **k: f(*a, **k)\n",
      "/opt/conda/lib/python3.7/site-packages/IPython/core/magics/execution.py:1164: DtypeWarning: Columns (3) have mixed types. Specify dtype option on import or set low_memory=False.\n",
      "  all_runs = timer.repeat(repeat, number)\n"
     ]
    },
    {
     "name": "stdout",
     "output_type": "stream",
     "text": [
      "1.98 s ± 5.25 ms per loop (mean ± std. dev. of 7 runs, 1 loop each)\n"
     ]
    }
   ],
   "source": [
    "%timeit pd.read_csv(\"test_data.csv\")"
   ]
  },
  {
   "cell_type": "code",
   "execution_count": 25,
   "metadata": {},
   "outputs": [
    {
     "name": "stdout",
     "output_type": "stream",
     "text": [
      "CPU times: user 356 ms, sys: 12 ms, total: 368 ms\n",
      "Wall time: 383 ms\n"
     ]
    }
   ],
   "source": [
    "%%time\n",
    "pydf.lpep_pickup_datetime = pd.to_datetime(pydf.lpep_pickup_datetime);\n",
    "pydf.lpep_dropoff_datetime = pd.to_datetime(pydf.lpep_dropoff_datetime);"
   ]
  },
  {
   "cell_type": "code",
   "execution_count": 7,
   "metadata": {},
   "outputs": [
    {
     "name": "stdout",
     "output_type": "stream",
     "text": [
      "17.5 ms ± 16.2 µs per loop (mean ± std. dev. of 7 runs, 100 loops each)\n"
     ]
    }
   ],
   "source": [
    "%timeit pydf['drive_time'] = (pydf.lpep_dropoff_datetime - pydf.lpep_pickup_datetime)"
   ]
  },
  {
   "cell_type": "code",
   "execution_count": 9,
   "metadata": {},
   "outputs": [
    {
     "name": "stdout",
     "output_type": "stream",
     "text": [
      "28.5 ms ± 493 µs per loop (mean ± std. dev. of 7 runs, 10 loops each)\n"
     ]
    }
   ],
   "source": [
    "%timeit np.exp(pydf.fare_amount / pydf.trip_distance) + pydf.passenger_count**2"
   ]
  },
  {
   "cell_type": "code",
   "execution_count": 10,
   "metadata": {},
   "outputs": [
    {
     "name": "stdout",
     "output_type": "stream",
     "text": [
      "36.4 ms ± 558 µs per loop (mean ± std. dev. of 7 runs, 10 loops each)\n"
     ]
    }
   ],
   "source": [
    "%%timeit\n",
    "pydf.groupby(\"passenger_count\").agg(mean_distance=(\"trip_distance\", np.mean), \n",
    "    max_distance=(\"trip_distance\", np.max));"
   ]
  },
  {
   "cell_type": "code",
   "execution_count": 11,
   "metadata": {},
   "outputs": [],
   "source": [
    "def myfunc_py(a, b, c):\n",
    "    if a is np.nan:\n",
    "        return 0\n",
    "    elif round(a) % 2 == 0:\n",
    "        return 2*a + b*c\n",
    "    else:\n",
    "        return a*b + 2*c"
   ]
  },
  {
   "cell_type": "code",
   "execution_count": 12,
   "metadata": {},
   "outputs": [
    {
     "name": "stdout",
     "output_type": "stream",
     "text": [
      "849 ns ± 22.6 ns per loop (mean ± std. dev. of 7 runs, 1000000 loops each)\n"
     ]
    }
   ],
   "source": [
    "%timeit myfunc_py(1, 2, 3)"
   ]
  },
  {
   "cell_type": "code",
   "execution_count": 13,
   "metadata": {},
   "outputs": [],
   "source": [
    "pydf2 = pydf.head(1000);"
   ]
  },
  {
   "cell_type": "code",
   "execution_count": 14,
   "metadata": {},
   "outputs": [
    {
     "name": "stderr",
     "output_type": "stream",
     "text": [
      "/opt/conda/lib/python3.7/site-packages/ipykernel_launcher.py:2: SettingWithCopyWarning: \n",
      "A value is trying to be set on a copy of a slice from a DataFrame.\n",
      "Try using .loc[row_indexer,col_indexer] = value instead\n",
      "\n",
      "See the caveats in the documentation: http://pandas.pydata.org/pandas-docs/stable/user_guide/indexing.html#returning-a-view-versus-a-copy\n",
      "  \n"
     ]
    },
    {
     "name": "stdout",
     "output_type": "stream",
     "text": [
      "201 ms ± 1.08 ms per loop (mean ± std. dev. of 7 runs, 1 loop each)\n"
     ]
    }
   ],
   "source": [
    "%%timeit\n",
    "pydf2['myfunc'] = pydf2.apply(lambda x: myfunc_py(x.passenger_count, x.trip_distance, x.fare_amount), \n",
    "    axis=1)"
   ]
  },
  {
   "cell_type": "code",
   "execution_count": 26,
   "metadata": {},
   "outputs": [
    {
     "name": "stdout",
     "output_type": "stream",
     "text": [
      "385 ms ± 647 µs per loop (mean ± std. dev. of 7 runs, 1 loop each)\n"
     ]
    }
   ],
   "source": [
    "%timeit pydf_sorted = pydf.sort_values([\"passenger_count\", \"lpep_pickup_datetime\"], ascending=[False, True])"
   ]
  },
  {
   "cell_type": "code",
   "execution_count": 18,
   "metadata": {},
   "outputs": [
    {
     "data": {
      "text/html": [
       "<div>\n",
       "<style scoped>\n",
       "    .dataframe tbody tr th:only-of-type {\n",
       "        vertical-align: middle;\n",
       "    }\n",
       "\n",
       "    .dataframe tbody tr th {\n",
       "        vertical-align: top;\n",
       "    }\n",
       "\n",
       "    .dataframe thead th {\n",
       "        text-align: right;\n",
       "    }\n",
       "</style>\n",
       "<table border=\"1\" class=\"dataframe\">\n",
       "  <thead>\n",
       "    <tr style=\"text-align: right;\">\n",
       "      <th></th>\n",
       "      <th>VendorID</th>\n",
       "      <th>lpep_pickup_datetime</th>\n",
       "      <th>lpep_dropoff_datetime</th>\n",
       "      <th>store_and_fwd_flag</th>\n",
       "      <th>RatecodeID</th>\n",
       "      <th>PULocationID</th>\n",
       "      <th>DOLocationID</th>\n",
       "      <th>passenger_count</th>\n",
       "      <th>trip_distance</th>\n",
       "      <th>fare_amount</th>\n",
       "      <th>...</th>\n",
       "      <th>mta_tax</th>\n",
       "      <th>tip_amount</th>\n",
       "      <th>tolls_amount</th>\n",
       "      <th>ehail_fee</th>\n",
       "      <th>improvement_surcharge</th>\n",
       "      <th>total_amount</th>\n",
       "      <th>payment_type</th>\n",
       "      <th>trip_type</th>\n",
       "      <th>congestion_surcharge</th>\n",
       "      <th>drive_time</th>\n",
       "    </tr>\n",
       "  </thead>\n",
       "  <tbody>\n",
       "    <tr>\n",
       "      <th>95992</th>\n",
       "      <td>2.0</td>\n",
       "      <td>2019-12-08 21:41:31</td>\n",
       "      <td>2019-12-08 21:41:34</td>\n",
       "      <td>N</td>\n",
       "      <td>5.0</td>\n",
       "      <td>92</td>\n",
       "      <td>264</td>\n",
       "      <td>9.0</td>\n",
       "      <td>0.08</td>\n",
       "      <td>9.00</td>\n",
       "      <td>...</td>\n",
       "      <td>0.0</td>\n",
       "      <td>2.25</td>\n",
       "      <td>0.00</td>\n",
       "      <td>NaN</td>\n",
       "      <td>0.0</td>\n",
       "      <td>11.25</td>\n",
       "      <td>1.0</td>\n",
       "      <td>2.0</td>\n",
       "      <td>0.00</td>\n",
       "      <td>00:00:03</td>\n",
       "    </tr>\n",
       "    <tr>\n",
       "      <th>294231</th>\n",
       "      <td>2.0</td>\n",
       "      <td>2019-12-25 04:12:45</td>\n",
       "      <td>2019-12-25 04:12:46</td>\n",
       "      <td>N</td>\n",
       "      <td>5.0</td>\n",
       "      <td>264</td>\n",
       "      <td>264</td>\n",
       "      <td>9.0</td>\n",
       "      <td>0.00</td>\n",
       "      <td>9.00</td>\n",
       "      <td>...</td>\n",
       "      <td>0.0</td>\n",
       "      <td>0.00</td>\n",
       "      <td>0.00</td>\n",
       "      <td>NaN</td>\n",
       "      <td>0.3</td>\n",
       "      <td>9.30</td>\n",
       "      <td>1.0</td>\n",
       "      <td>2.0</td>\n",
       "      <td>0.00</td>\n",
       "      <td>00:00:01</td>\n",
       "    </tr>\n",
       "    <tr>\n",
       "      <th>21025</th>\n",
       "      <td>2.0</td>\n",
       "      <td>2019-12-03 02:24:08</td>\n",
       "      <td>2019-12-03 02:24:10</td>\n",
       "      <td>N</td>\n",
       "      <td>5.0</td>\n",
       "      <td>264</td>\n",
       "      <td>264</td>\n",
       "      <td>8.0</td>\n",
       "      <td>0.00</td>\n",
       "      <td>8.00</td>\n",
       "      <td>...</td>\n",
       "      <td>0.0</td>\n",
       "      <td>1.00</td>\n",
       "      <td>0.00</td>\n",
       "      <td>NaN</td>\n",
       "      <td>0.0</td>\n",
       "      <td>9.00</td>\n",
       "      <td>1.0</td>\n",
       "      <td>2.0</td>\n",
       "      <td>0.00</td>\n",
       "      <td>00:00:02</td>\n",
       "    </tr>\n",
       "    <tr>\n",
       "      <th>71740</th>\n",
       "      <td>2.0</td>\n",
       "      <td>2019-12-06 23:44:50</td>\n",
       "      <td>2019-12-07 00:15:40</td>\n",
       "      <td>N</td>\n",
       "      <td>5.0</td>\n",
       "      <td>181</td>\n",
       "      <td>151</td>\n",
       "      <td>8.0</td>\n",
       "      <td>11.77</td>\n",
       "      <td>85.50</td>\n",
       "      <td>...</td>\n",
       "      <td>0.0</td>\n",
       "      <td>18.87</td>\n",
       "      <td>6.12</td>\n",
       "      <td>NaN</td>\n",
       "      <td>0.0</td>\n",
       "      <td>113.24</td>\n",
       "      <td>1.0</td>\n",
       "      <td>2.0</td>\n",
       "      <td>2.75</td>\n",
       "      <td>00:30:50</td>\n",
       "    </tr>\n",
       "    <tr>\n",
       "      <th>97067</th>\n",
       "      <td>2.0</td>\n",
       "      <td>2019-12-09 02:58:31</td>\n",
       "      <td>2019-12-09 02:58:34</td>\n",
       "      <td>N</td>\n",
       "      <td>5.0</td>\n",
       "      <td>260</td>\n",
       "      <td>264</td>\n",
       "      <td>8.0</td>\n",
       "      <td>0.00</td>\n",
       "      <td>8.00</td>\n",
       "      <td>...</td>\n",
       "      <td>0.0</td>\n",
       "      <td>0.05</td>\n",
       "      <td>0.00</td>\n",
       "      <td>NaN</td>\n",
       "      <td>0.0</td>\n",
       "      <td>8.05</td>\n",
       "      <td>1.0</td>\n",
       "      <td>2.0</td>\n",
       "      <td>0.00</td>\n",
       "      <td>00:00:03</td>\n",
       "    </tr>\n",
       "    <tr>\n",
       "      <th>...</th>\n",
       "      <td>...</td>\n",
       "      <td>...</td>\n",
       "      <td>...</td>\n",
       "      <td>...</td>\n",
       "      <td>...</td>\n",
       "      <td>...</td>\n",
       "      <td>...</td>\n",
       "      <td>...</td>\n",
       "      <td>...</td>\n",
       "      <td>...</td>\n",
       "      <td>...</td>\n",
       "      <td>...</td>\n",
       "      <td>...</td>\n",
       "      <td>...</td>\n",
       "      <td>...</td>\n",
       "      <td>...</td>\n",
       "      <td>...</td>\n",
       "      <td>...</td>\n",
       "      <td>...</td>\n",
       "      <td>...</td>\n",
       "      <td>...</td>\n",
       "    </tr>\n",
       "    <tr>\n",
       "      <th>450626</th>\n",
       "      <td>NaN</td>\n",
       "      <td>2019-12-31 23:52:00</td>\n",
       "      <td>2020-01-01 00:05:00</td>\n",
       "      <td>NaN</td>\n",
       "      <td>NaN</td>\n",
       "      <td>42</td>\n",
       "      <td>244</td>\n",
       "      <td>NaN</td>\n",
       "      <td>2.43</td>\n",
       "      <td>21.15</td>\n",
       "      <td>...</td>\n",
       "      <td>0.5</td>\n",
       "      <td>0.00</td>\n",
       "      <td>0.00</td>\n",
       "      <td>NaN</td>\n",
       "      <td>0.0</td>\n",
       "      <td>24.40</td>\n",
       "      <td>NaN</td>\n",
       "      <td>NaN</td>\n",
       "      <td>NaN</td>\n",
       "      <td>00:13:00</td>\n",
       "    </tr>\n",
       "    <tr>\n",
       "      <th>450615</th>\n",
       "      <td>NaN</td>\n",
       "      <td>2019-12-31 23:57:00</td>\n",
       "      <td>2020-01-01 00:06:00</td>\n",
       "      <td>NaN</td>\n",
       "      <td>NaN</td>\n",
       "      <td>248</td>\n",
       "      <td>174</td>\n",
       "      <td>NaN</td>\n",
       "      <td>4.07</td>\n",
       "      <td>22.59</td>\n",
       "      <td>...</td>\n",
       "      <td>0.5</td>\n",
       "      <td>0.00</td>\n",
       "      <td>0.00</td>\n",
       "      <td>NaN</td>\n",
       "      <td>0.3</td>\n",
       "      <td>26.14</td>\n",
       "      <td>NaN</td>\n",
       "      <td>NaN</td>\n",
       "      <td>NaN</td>\n",
       "      <td>00:09:00</td>\n",
       "    </tr>\n",
       "    <tr>\n",
       "      <th>450608</th>\n",
       "      <td>NaN</td>\n",
       "      <td>2019-12-31 23:58:00</td>\n",
       "      <td>2020-01-01 00:01:00</td>\n",
       "      <td>NaN</td>\n",
       "      <td>NaN</td>\n",
       "      <td>41</td>\n",
       "      <td>74</td>\n",
       "      <td>NaN</td>\n",
       "      <td>0.71</td>\n",
       "      <td>20.65</td>\n",
       "      <td>...</td>\n",
       "      <td>0.0</td>\n",
       "      <td>0.00</td>\n",
       "      <td>0.00</td>\n",
       "      <td>NaN</td>\n",
       "      <td>0.3</td>\n",
       "      <td>23.70</td>\n",
       "      <td>NaN</td>\n",
       "      <td>NaN</td>\n",
       "      <td>NaN</td>\n",
       "      <td>00:03:00</td>\n",
       "    </tr>\n",
       "    <tr>\n",
       "      <th>450611</th>\n",
       "      <td>NaN</td>\n",
       "      <td>2019-12-31 23:59:00</td>\n",
       "      <td>2020-01-01 00:03:00</td>\n",
       "      <td>NaN</td>\n",
       "      <td>NaN</td>\n",
       "      <td>10</td>\n",
       "      <td>10</td>\n",
       "      <td>NaN</td>\n",
       "      <td>0.51</td>\n",
       "      <td>21.57</td>\n",
       "      <td>...</td>\n",
       "      <td>0.0</td>\n",
       "      <td>0.00</td>\n",
       "      <td>0.00</td>\n",
       "      <td>NaN</td>\n",
       "      <td>0.3</td>\n",
       "      <td>24.62</td>\n",
       "      <td>NaN</td>\n",
       "      <td>NaN</td>\n",
       "      <td>NaN</td>\n",
       "      <td>00:04:00</td>\n",
       "    </tr>\n",
       "    <tr>\n",
       "      <th>450616</th>\n",
       "      <td>NaN</td>\n",
       "      <td>2019-12-31 23:59:00</td>\n",
       "      <td>2020-01-01 00:31:00</td>\n",
       "      <td>NaN</td>\n",
       "      <td>NaN</td>\n",
       "      <td>225</td>\n",
       "      <td>119</td>\n",
       "      <td>NaN</td>\n",
       "      <td>16.28</td>\n",
       "      <td>47.86</td>\n",
       "      <td>...</td>\n",
       "      <td>0.0</td>\n",
       "      <td>0.00</td>\n",
       "      <td>6.12</td>\n",
       "      <td>NaN</td>\n",
       "      <td>0.3</td>\n",
       "      <td>57.03</td>\n",
       "      <td>NaN</td>\n",
       "      <td>NaN</td>\n",
       "      <td>NaN</td>\n",
       "      <td>00:32:00</td>\n",
       "    </tr>\n",
       "  </tbody>\n",
       "</table>\n",
       "<p>450627 rows × 21 columns</p>\n",
       "</div>"
      ],
      "text/plain": [
       "        VendorID lpep_pickup_datetime lpep_dropoff_datetime  \\\n",
       "95992        2.0  2019-12-08 21:41:31   2019-12-08 21:41:34   \n",
       "294231       2.0  2019-12-25 04:12:45   2019-12-25 04:12:46   \n",
       "21025        2.0  2019-12-03 02:24:08   2019-12-03 02:24:10   \n",
       "71740        2.0  2019-12-06 23:44:50   2019-12-07 00:15:40   \n",
       "97067        2.0  2019-12-09 02:58:31   2019-12-09 02:58:34   \n",
       "...          ...                  ...                   ...   \n",
       "450626       NaN  2019-12-31 23:52:00   2020-01-01 00:05:00   \n",
       "450615       NaN  2019-12-31 23:57:00   2020-01-01 00:06:00   \n",
       "450608       NaN  2019-12-31 23:58:00   2020-01-01 00:01:00   \n",
       "450611       NaN  2019-12-31 23:59:00   2020-01-01 00:03:00   \n",
       "450616       NaN  2019-12-31 23:59:00   2020-01-01 00:31:00   \n",
       "\n",
       "       store_and_fwd_flag  RatecodeID  PULocationID  DOLocationID  \\\n",
       "95992                   N         5.0            92           264   \n",
       "294231                  N         5.0           264           264   \n",
       "21025                   N         5.0           264           264   \n",
       "71740                   N         5.0           181           151   \n",
       "97067                   N         5.0           260           264   \n",
       "...                   ...         ...           ...           ...   \n",
       "450626                NaN         NaN            42           244   \n",
       "450615                NaN         NaN           248           174   \n",
       "450608                NaN         NaN            41            74   \n",
       "450611                NaN         NaN            10            10   \n",
       "450616                NaN         NaN           225           119   \n",
       "\n",
       "        passenger_count  trip_distance  fare_amount  ...  mta_tax  tip_amount  \\\n",
       "95992               9.0           0.08         9.00  ...      0.0        2.25   \n",
       "294231              9.0           0.00         9.00  ...      0.0        0.00   \n",
       "21025               8.0           0.00         8.00  ...      0.0        1.00   \n",
       "71740               8.0          11.77        85.50  ...      0.0       18.87   \n",
       "97067               8.0           0.00         8.00  ...      0.0        0.05   \n",
       "...                 ...            ...          ...  ...      ...         ...   \n",
       "450626              NaN           2.43        21.15  ...      0.5        0.00   \n",
       "450615              NaN           4.07        22.59  ...      0.5        0.00   \n",
       "450608              NaN           0.71        20.65  ...      0.0        0.00   \n",
       "450611              NaN           0.51        21.57  ...      0.0        0.00   \n",
       "450616              NaN          16.28        47.86  ...      0.0        0.00   \n",
       "\n",
       "        tolls_amount  ehail_fee  improvement_surcharge  total_amount  \\\n",
       "95992           0.00        NaN                    0.0         11.25   \n",
       "294231          0.00        NaN                    0.3          9.30   \n",
       "21025           0.00        NaN                    0.0          9.00   \n",
       "71740           6.12        NaN                    0.0        113.24   \n",
       "97067           0.00        NaN                    0.0          8.05   \n",
       "...              ...        ...                    ...           ...   \n",
       "450626          0.00        NaN                    0.0         24.40   \n",
       "450615          0.00        NaN                    0.3         26.14   \n",
       "450608          0.00        NaN                    0.3         23.70   \n",
       "450611          0.00        NaN                    0.3         24.62   \n",
       "450616          6.12        NaN                    0.3         57.03   \n",
       "\n",
       "        payment_type  trip_type  congestion_surcharge  drive_time  \n",
       "95992            1.0        2.0                  0.00    00:00:03  \n",
       "294231           1.0        2.0                  0.00    00:00:01  \n",
       "21025            1.0        2.0                  0.00    00:00:02  \n",
       "71740            1.0        2.0                  2.75    00:30:50  \n",
       "97067            1.0        2.0                  0.00    00:00:03  \n",
       "...              ...        ...                   ...         ...  \n",
       "450626           NaN        NaN                   NaN    00:13:00  \n",
       "450615           NaN        NaN                   NaN    00:09:00  \n",
       "450608           NaN        NaN                   NaN    00:03:00  \n",
       "450611           NaN        NaN                   NaN    00:04:00  \n",
       "450616           NaN        NaN                   NaN    00:32:00  \n",
       "\n",
       "[450627 rows x 21 columns]"
      ]
     },
     "execution_count": 18,
     "metadata": {},
     "output_type": "execute_result"
    }
   ],
   "source": [
    "pydf_sorted"
   ]
  }
 ],
 "metadata": {
  "kernelspec": {
   "display_name": "Python 3",
   "language": "python",
   "name": "python3"
  },
  "language_info": {
   "codemirror_mode": {
    "name": "ipython",
    "version": 3
   },
   "file_extension": ".py",
   "mimetype": "text/x-python",
   "name": "python",
   "nbconvert_exporter": "python",
   "pygments_lexer": "ipython3",
   "version": "3.7.6"
  }
 },
 "nbformat": 4,
 "nbformat_minor": 4
}
