{
 "cells": [
  {
   "cell_type": "code",
   "execution_count": 1,
   "metadata": {},
   "outputs": [],
   "source": [
    "using BenchmarkTools"
   ]
  },
  {
   "cell_type": "markdown",
   "metadata": {},
   "source": [
    "# Curve 2"
   ]
  },
  {
   "cell_type": "markdown",
   "metadata": {},
   "source": [
    "## Basic Definition"
   ]
  },
  {
   "cell_type": "code",
   "execution_count": 2,
   "metadata": {},
   "outputs": [],
   "source": [
    "using Interpolations"
   ]
  },
  {
   "cell_type": "code",
   "execution_count": 3,
   "metadata": {},
   "outputs": [],
   "source": [
    "struct Curve{Tx <: AbstractArray, Ty <: AbstractArray{<: Number}, \n",
    "        Titp <: Interpolations.AbstractInterpolation}\n",
    "    x:: Tx\n",
    "    y:: Ty\n",
    "    etp:: Titp\n",
    "    logx:: Bool\n",
    "    logy:: Bool\n",
    "end "
   ]
  },
  {
   "cell_type": "code",
   "execution_count": 4,
   "metadata": {},
   "outputs": [
    {
     "data": {
      "text/plain": [
       "Curve"
      ]
     },
     "execution_count": 4,
     "metadata": {},
     "output_type": "execute_result"
    }
   ],
   "source": [
    "Curve(x, y; method=Gridded(Linear()), logx=false, logy=false, extrapolation=Flat()) =\n",
    "    Curve(x, y, extrapolate(interpolate(logx ? (log.(x),) : (x,), logy ?  log.(y) : y, method), \n",
    "        extrapolation), logx, logy)"
   ]
  },
  {
   "cell_type": "code",
   "execution_count": 5,
   "metadata": {},
   "outputs": [
    {
     "data": {
      "text/plain": [
       "getitpm (generic function with 1 method)"
      ]
     },
     "execution_count": 5,
     "metadata": {},
     "output_type": "execute_result"
    }
   ],
   "source": [
    "getitpm(c1:: Curve) = c1.etp.itp.it"
   ]
  },
  {
   "cell_type": "code",
   "execution_count": 6,
   "metadata": {},
   "outputs": [
    {
     "data": {
      "text/plain": [
       "getetpm (generic function with 1 method)"
      ]
     },
     "execution_count": 6,
     "metadata": {},
     "output_type": "execute_result"
    }
   ],
   "source": [
    "getetpm(c1:: Curve) = c1.etp.et"
   ]
  },
  {
   "cell_type": "code",
   "execution_count": 7,
   "metadata": {},
   "outputs": [],
   "source": [
    "Base.Broadcast.broadcastable(q:: Curve) = Ref(q) # treat it as a scalar in broadcasting"
   ]
  },
  {
   "cell_type": "markdown",
   "metadata": {},
   "source": [
    "### Tests"
   ]
  },
  {
   "cell_type": "code",
   "execution_count": 8,
   "metadata": {},
   "outputs": [
    {
     "data": {
      "text/plain": [
       "Curve{Array{Int64,1},Array{Float64,1},Interpolations.Extrapolation{Float64,1,Interpolations.GriddedInterpolation{Float64,1,Float64,Gridded{Linear},Tuple{Array{Int64,1}}},Gridded{Linear},Flat{Nothing}}}([3, 9, 18, 30, 91], [1.01, 1.204, 1.54, 1.81, 2.12], 5-element extrapolate(interpolate((::Array{Int64,1},), ::Array{Float64,1}, Gridded(Linear())), Flat()) with element type Float64:\n",
       " 1.01 \n",
       " 1.204\n",
       " 1.54 \n",
       " 1.81 \n",
       " 2.12 , false, false)"
      ]
     },
     "execution_count": 8,
     "metadata": {},
     "output_type": "execute_result"
    }
   ],
   "source": [
    "c1 = Curve([3, 9, 18, 30, 91], [1.01, 1.204, 1.54, 1.81, 2.12])"
   ]
  },
  {
   "cell_type": "code",
   "execution_count": 9,
   "metadata": {},
   "outputs": [
    {
     "name": "stdout",
     "output_type": "stream",
     "text": [
      "  702.041 ns (6 allocations: 368 bytes)\n"
     ]
    },
    {
     "data": {
      "text/plain": [
       "Curve{Array{Int64,1},Array{Float64,1},Interpolations.Extrapolation{Float64,1,Interpolations.GriddedInterpolation{Float64,1,Float64,Gridded{Linear},Tuple{Array{Int64,1}}},Gridded{Linear},Flat{Nothing}}}([3, 9, 18, 30, 91], [1.01, 1.204, 1.54, 1.81, 2.12], 5-element extrapolate(interpolate((::Array{Int64,1},), ::Array{Float64,1}, Gridded(Linear())), Flat()) with element type Float64:\n",
       " 1.01 \n",
       " 1.204\n",
       " 1.54 \n",
       " 1.81 \n",
       " 2.12 , false, false)"
      ]
     },
     "execution_count": 9,
     "metadata": {},
     "output_type": "execute_result"
    }
   ],
   "source": [
    "@btime c1 = Curve([3, 9, 18, 30, 91], [1.01, 1.204, 1.54, 1.81, 2.12])"
   ]
  },
  {
   "cell_type": "code",
   "execution_count": 10,
   "metadata": {},
   "outputs": [
    {
     "data": {
      "text/plain": [
       "368"
      ]
     },
     "execution_count": 10,
     "metadata": {},
     "output_type": "execute_result"
    }
   ],
   "source": [
    "@allocated c1 = Curve([3, 9, 18, 30, 91], [1.01, 1.204, 1.54, 1.81, 2.12])"
   ]
  },
  {
   "cell_type": "code",
   "execution_count": 11,
   "metadata": {},
   "outputs": [
    {
     "data": {
      "text/plain": [
       "Curve{Array{Int64,1},Array{Float64,1},Interpolations.Extrapolation{Float64,1,Interpolations.GriddedInterpolation{Float64,1,Float64,Gridded{Linear},Tuple{Array{Float64,1}}},Gridded{Linear},Flat{Nothing}}}([3, 9, 18, 30, 91], [1.01, 1.204, 1.54, 1.81, 2.12], 5-element extrapolate(interpolate((::Array{Float64,1},), ::Array{Float64,1}, Gridded(Linear())), Flat()) with element type Float64:\n",
       " 0.009950330853168092\n",
       " 0.18564934688662926 \n",
       " 0.43178241642553783 \n",
       " 0.5933268452777344  \n",
       " 0.7514160886839212  , true, true)"
      ]
     },
     "execution_count": 11,
     "metadata": {},
     "output_type": "execute_result"
    }
   ],
   "source": [
    "clogx = Curve([3, 9, 18, 30, 91], [1.01, 1.204, 1.54, 1.81, 2.12], logx=true, logy=true)"
   ]
  },
  {
   "cell_type": "code",
   "execution_count": 12,
   "metadata": {},
   "outputs": [
    {
     "data": {
      "text/plain": [
       "624"
      ]
     },
     "execution_count": 12,
     "metadata": {},
     "output_type": "execute_result"
    }
   ],
   "source": [
    "@allocated clogx = Curve([3, 9, 18, 30, 91], [1.01, 1.204, 1.54, 1.81, 2.12], logx=true, logy=true)"
   ]
  },
  {
   "cell_type": "code",
   "execution_count": 13,
   "metadata": {},
   "outputs": [
    {
     "name": "stdout",
     "output_type": "stream",
     "text": [
      "  1.106 μs (8 allocations: 624 bytes)\n"
     ]
    },
    {
     "data": {
      "text/plain": [
       "Curve{Array{Int64,1},Array{Float64,1},Interpolations.Extrapolation{Float64,1,Interpolations.GriddedInterpolation{Float64,1,Float64,Gridded{Linear},Tuple{Array{Float64,1}}},Gridded{Linear},Flat{Nothing}}}([3, 9, 18, 30, 91], [1.01, 1.204, 1.54, 1.81, 2.12], 5-element extrapolate(interpolate((::Array{Float64,1},), ::Array{Float64,1}, Gridded(Linear())), Flat()) with element type Float64:\n",
       " 0.009950330853168092\n",
       " 0.18564934688662926 \n",
       " 0.43178241642553783 \n",
       " 0.5933268452777344  \n",
       " 0.7514160886839212  , true, true)"
      ]
     },
     "execution_count": 13,
     "metadata": {},
     "output_type": "execute_result"
    }
   ],
   "source": [
    "@btime clogx = Curve([3, 9, 18, 30, 91], [1.01, 1.204, 1.54, 1.81, 2.12], logx=true, logy=true)"
   ]
  },
  {
   "cell_type": "markdown",
   "metadata": {},
   "source": [
    "## Interpolation"
   ]
  },
  {
   "cell_type": "code",
   "execution_count": 14,
   "metadata": {},
   "outputs": [],
   "source": [
    "import Interpolations: interpolate"
   ]
  },
  {
   "cell_type": "code",
   "execution_count": 15,
   "metadata": {},
   "outputs": [
    {
     "data": {
      "text/plain": [
       "interpolate (generic function with 11 methods)"
      ]
     },
     "execution_count": 15,
     "metadata": {},
     "output_type": "execute_result"
    }
   ],
   "source": [
    "function interpolate(xval:: Real, c1:: Curve)\n",
    "    c = c1.etp(c1.logx ? log(xval) : xval)\n",
    "    c1.logy ? exp(c) : c\n",
    "end"
   ]
  },
  {
   "cell_type": "code",
   "execution_count": 16,
   "metadata": {},
   "outputs": [
    {
     "data": {
      "text/plain": [
       "interpolate (generic function with 12 methods)"
      ]
     },
     "execution_count": 16,
     "metadata": {},
     "output_type": "execute_result"
    }
   ],
   "source": [
    "interpolate(xval:: AbstractArray{T} where T, c1:: Curve) = \n",
    "    Curve(xval, interpolate.(xval, c1), method=getitpm(c1), logx=c1.logx, logy=c1.logy, \n",
    "        extrapolation=getetpm(c1))"
   ]
  },
  {
   "cell_type": "code",
   "execution_count": 17,
   "metadata": {},
   "outputs": [
    {
     "data": {
      "text/plain": [
       "interpolate (generic function with 13 methods)"
      ]
     },
     "execution_count": 17,
     "metadata": {},
     "output_type": "execute_result"
    }
   ],
   "source": [
    "interpolate(c0:: Curve, c1:: Curve) = interpolate(c0.x, c1)"
   ]
  },
  {
   "cell_type": "markdown",
   "metadata": {},
   "source": [
    "### Tests"
   ]
  },
  {
   "cell_type": "code",
   "execution_count": 18,
   "metadata": {},
   "outputs": [
    {
     "name": "stdout",
     "output_type": "stream",
     "text": [
      "  71.117 ns (0 allocations: 0 bytes)\n"
     ]
    },
    {
     "data": {
      "text/plain": [
       "1.0908333333333333"
      ]
     },
     "execution_count": 18,
     "metadata": {},
     "output_type": "execute_result"
    }
   ],
   "source": [
    "@btime interpolate(5.5, $c1)"
   ]
  },
  {
   "cell_type": "code",
   "execution_count": 19,
   "metadata": {},
   "outputs": [
    {
     "name": "stdout",
     "output_type": "stream",
     "text": [
      "  887.396 ns (6 allocations: 368 bytes)\n"
     ]
    },
    {
     "data": {
      "text/plain": [
       "Curve{Array{Int64,1},Array{Float64,1},Interpolations.Extrapolation{Float64,1,Interpolations.GriddedInterpolation{Float64,1,Float64,Gridded{Linear},Tuple{Array{Int64,1}}},Gridded{Linear},Flat{Nothing}}}([3, 9, 14, 31, 33], [1.01, 1.204, 1.3906666666666667, 1.8150819672131149, 1.825245901639344], 5-element extrapolate(interpolate((::Array{Int64,1},), ::Array{Float64,1}, Gridded(Linear())), Flat()) with element type Float64:\n",
       " 1.01              \n",
       " 1.204             \n",
       " 1.3906666666666667\n",
       " 1.8150819672131149\n",
       " 1.825245901639344 , false, false)"
      ]
     },
     "execution_count": 19,
     "metadata": {},
     "output_type": "execute_result"
    }
   ],
   "source": [
    "@btime interpolate([3, 9, 14, 31, 33], $c1)"
   ]
  },
  {
   "cell_type": "code",
   "execution_count": 20,
   "metadata": {},
   "outputs": [
    {
     "name": "stdout",
     "output_type": "stream",
     "text": [
      "  1.788 μs (8 allocations: 624 bytes)\n"
     ]
    },
    {
     "data": {
      "text/plain": [
       "Curve{Array{Int64,1},Array{Float64,1},Interpolations.Extrapolation{Float64,1,Interpolations.GriddedInterpolation{Float64,1,Float64,Gridded{Linear},Tuple{Array{Float64,1}}},Gridded{Linear},Flat{Nothing}}}([3, 9, 14, 31, 33], [1.01, 1.204, 1.40852341161862, 1.8184750835405903, 1.834744648303743], 5-element extrapolate(interpolate((::Array{Float64,1},), ::Array{Float64,1}, Gridded(Linear())), Flat()) with element type Float64:\n",
       " 0.009950330853168092\n",
       " 0.18564934688662926 \n",
       " 0.3425419298636137  \n",
       " 0.5979982836961524  \n",
       " 0.6069053155856639  , true, true)"
      ]
     },
     "execution_count": 20,
     "metadata": {},
     "output_type": "execute_result"
    }
   ],
   "source": [
    "@btime interpolate([3, 9, 14, 31, 33], $clogx)"
   ]
  },
  {
   "cell_type": "markdown",
   "metadata": {},
   "source": [
    "## Define Operations with Scalars"
   ]
  },
  {
   "cell_type": "code",
   "execution_count": 21,
   "metadata": {},
   "outputs": [],
   "source": [
    "import Base: +, -, *, /, ^, exp, log, length"
   ]
  },
  {
   "cell_type": "code",
   "execution_count": 22,
   "metadata": {},
   "outputs": [
    {
     "data": {
      "text/plain": [
       "length (generic function with 94 methods)"
      ]
     },
     "execution_count": 22,
     "metadata": {},
     "output_type": "execute_result"
    }
   ],
   "source": [
    "length(c1:: Curve):: Int = length(c1.y)"
   ]
  },
  {
   "cell_type": "code",
   "execution_count": 23,
   "metadata": {},
   "outputs": [],
   "source": [
    "operations = (:+, :-, :*, :/, :^)\n",
    "for op in operations\n",
    "    @eval $op(c1:: Curve, a:: Number) = Curve(c1.x, $op.(c1.y, a), \n",
    "        method=getitpm(c1), logx=c1.logx, logy=c1.logy, extrapolation=getetpm(c1))\n",
    "    @eval $op(a:: Number, c1:: Curve) = Curve(c1.x, $op.(a, c1.y), \n",
    "        method=getitpm(c1), logx=c1.logx, logy=c1.logy, extrapolation=getetpm(c1))\n",
    "end"
   ]
  },
  {
   "cell_type": "code",
   "execution_count": 24,
   "metadata": {},
   "outputs": [],
   "source": [
    "operations = (:exp, :log)\n",
    "for op in operations\n",
    "    @eval $op(c1:: Curve) = Curve(c1.x, $op.(c1.y), method=getitpm(c1), \n",
    "        logx=c1.logx, logy=c1.logy, extrapolation=getetpm(c1))\n",
    "end"
   ]
  },
  {
   "cell_type": "markdown",
   "metadata": {},
   "source": [
    "### Tests"
   ]
  },
  {
   "cell_type": "code",
   "execution_count": 25,
   "metadata": {},
   "outputs": [
    {
     "data": {
      "text/plain": [
       "5"
      ]
     },
     "execution_count": 25,
     "metadata": {},
     "output_type": "execute_result"
    }
   ],
   "source": [
    "length(c1)"
   ]
  },
  {
   "cell_type": "code",
   "execution_count": 26,
   "metadata": {},
   "outputs": [
    {
     "name": "stdout",
     "output_type": "stream",
     "text": [
      "Variables\n",
      "  #self#\u001b[36m::Core.Compiler.Const(+, false)\u001b[39m\n",
      "  c1\u001b[36m::Curve{Array{Int64,1},Array{Float64,1},Interpolations.Extrapolation{Float64,1,Interpolations.GriddedInterpolation{Float64,1,Float64,Gridded{Linear},Tuple{Array{Int64,1}}},Gridded{Linear},Flat{Nothing}}}\u001b[39m\n",
      "  a\u001b[36m::Int64\u001b[39m\n",
      "\n",
      "Body\u001b[91m\u001b[1m::Union{Curve{Array{Int64,1},Array{Float64,1},Interpolations.Extrapolation{Float64,1,Interpolations.GriddedInterpolation{Float64,1,Float64,Gridded{Linear},Tuple{Array{Float64,1}}},Gridded{Linear},Flat{Nothing}}}, Curve{Array{Int64,1},Array{Float64,1},Interpolations.Extrapolation{Float64,1,Interpolations.GriddedInterpolation{Float64,1,Float64,Gridded{Linear},Tuple{Array{Int64,1}}},Gridded{Linear},Flat{Nothing}}}}\u001b[22m\u001b[39m\n",
      "\u001b[90m1 ─\u001b[39m %1  = Main.getitpm(c1)\u001b[36m::Core.Compiler.Const(Gridded(Linear()), false)\u001b[39m\n",
      "\u001b[90m│  \u001b[39m %2  = Main.getetpm(c1)\u001b[36m::Core.Compiler.Const(Flat(), false)\u001b[39m\n",
      "\u001b[90m│  \u001b[39m %3  = (:method, :logx, :logy, :extrapolation)\u001b[36m::Core.Compiler.Const((:method, :logx, :logy, :extrapolation), false)\u001b[39m\n",
      "\u001b[90m│  \u001b[39m %4  = Core.apply_type(Core.NamedTuple, %3)\u001b[36m::Core.Compiler.Const(NamedTuple{(:method, :logx, :logy, :extrapolation),T} where T<:Tuple, false)\u001b[39m\n",
      "\u001b[90m│  \u001b[39m %5  = Base.getproperty(c1, :logx)\u001b[36m::Bool\u001b[39m\n",
      "\u001b[90m│  \u001b[39m %6  = Base.getproperty(c1, :logy)\u001b[36m::Bool\u001b[39m\n",
      "\u001b[90m│  \u001b[39m %7  = Core.tuple(%1, %5, %6, %2)\u001b[36m::Core.Compiler.PartialStruct(Tuple{Gridded{Linear},Bool,Bool,Flat{Nothing}}, Any[Core.Compiler.Const(Gridded(Linear()), false), Bool, Bool, Core.Compiler.Const(Flat(), false)])\u001b[39m\n",
      "\u001b[90m│  \u001b[39m %8  = (%4)(%7)\u001b[36m::NamedTuple{(:method, :logx, :logy, :extrapolation),Tuple{Gridded{Linear},Bool,Bool,Flat{Nothing}}}\u001b[39m\n",
      "\u001b[90m│  \u001b[39m %9  = Core.kwfunc(Main.Curve)\u001b[36m::Core.Compiler.Const(Core.var\"#kw#Type\"(), false)\u001b[39m\n",
      "\u001b[90m│  \u001b[39m %10 = Base.getproperty(c1, :x)\u001b[36m::Array{Int64,1}\u001b[39m\n",
      "\u001b[90m│  \u001b[39m %11 = Base.getproperty(c1, :y)\u001b[36m::Array{Float64,1}\u001b[39m\n",
      "\u001b[90m│  \u001b[39m %12 = Base.broadcasted(Main.:+, %11, a)\u001b[36m::Base.Broadcast.Broadcasted{Base.Broadcast.DefaultArrayStyle{1},Nothing,typeof(+),Tuple{Array{Float64,1},Int64}}\u001b[39m\n",
      "\u001b[90m│  \u001b[39m %13 = Base.materialize(%12)\u001b[36m::Array{Float64,1}\u001b[39m\n",
      "\u001b[90m│  \u001b[39m %14 = (%9)(%8, Main.Curve, %10, %13)\u001b[91m\u001b[1m::Union{Curve{Array{Int64,1},Array{Float64,1},Interpolations.Extrapolation{Float64,1,Interpolations.GriddedInterpolation{Float64,1,Float64,Gridded{Linear},Tuple{Array{Float64,1}}},Gridded{Linear},Flat{Nothing}}}, Curve{Array{Int64,1},Array{Float64,1},Interpolations.Extrapolation{Float64,1,Interpolations.GriddedInterpolation{Float64,1,Float64,Gridded{Linear},Tuple{Array{Int64,1}}},Gridded{Linear},Flat{Nothing}}}}\u001b[22m\u001b[39m\n",
      "\u001b[90m└──\u001b[39m       return %14\n"
     ]
    }
   ],
   "source": [
    "@code_warntype c1 + 2"
   ]
  },
  {
   "cell_type": "code",
   "execution_count": 27,
   "metadata": {},
   "outputs": [
    {
     "name": "stdout",
     "output_type": "stream",
     "text": [
      "  620.663 ns (5 allocations: 240 bytes)\n"
     ]
    },
    {
     "data": {
      "text/plain": [
       "Curve{Array{Int64,1},Array{Float64,1},Interpolations.Extrapolation{Float64,1,Interpolations.GriddedInterpolation{Float64,1,Float64,Gridded{Linear},Tuple{Array{Int64,1}}},Gridded{Linear},Flat{Nothing}}}([3, 9, 18, 30, 91], [3.01, 3.2039999999999997, 3.54, 3.81, 4.12], 5-element extrapolate(interpolate((::Array{Int64,1},), ::Array{Float64,1}, Gridded(Linear())), Flat()) with element type Float64:\n",
       " 3.01              \n",
       " 3.2039999999999997\n",
       " 3.54              \n",
       " 3.81              \n",
       " 4.12              , false, false)"
      ]
     },
     "execution_count": 27,
     "metadata": {},
     "output_type": "execute_result"
    }
   ],
   "source": [
    "@btime c1 + 2"
   ]
  },
  {
   "cell_type": "code",
   "execution_count": 28,
   "metadata": {},
   "outputs": [
    {
     "data": {
      "text/plain": [
       "Curve{Array{Int64,1},Array{Float64,1},Interpolations.Extrapolation{Float64,1,Interpolations.GriddedInterpolation{Float64,1,Float64,Gridded{Linear},Tuple{Array{Int64,1}}},Gridded{Linear},Flat{Nothing}}}([3, 9, 18, 30, 91], [0.9900990099009901, 0.8305647840531561, 0.6493506493506493, 0.5524861878453039, 0.4716981132075471], 5-element extrapolate(interpolate((::Array{Int64,1},), ::Array{Float64,1}, Gridded(Linear())), Flat()) with element type Float64:\n",
       " 0.9900990099009901\n",
       " 0.8305647840531561\n",
       " 0.6493506493506493\n",
       " 0.5524861878453039\n",
       " 0.4716981132075471, false, false)"
      ]
     },
     "execution_count": 28,
     "metadata": {},
     "output_type": "execute_result"
    }
   ],
   "source": [
    "1/c1"
   ]
  },
  {
   "cell_type": "code",
   "execution_count": 29,
   "metadata": {},
   "outputs": [
    {
     "name": "stdout",
     "output_type": "stream",
     "text": [
      "  786.347 ns (5 allocations: 240 bytes)\n"
     ]
    },
    {
     "data": {
      "text/plain": [
       "Curve{Array{Int64,1},Array{Float64,1},Interpolations.Extrapolation{Float64,1,Interpolations.GriddedInterpolation{Float64,1,Float64,Gridded{Linear},Tuple{Array{Int64,1}}},Gridded{Linear},Flat{Nothing}}}([3, 9, 18, 30, 91], [2.7456010150169163, 3.3334239868128988, 4.664590270988126, 6.11044743223061, 8.331137487687693], 5-element extrapolate(interpolate((::Array{Int64,1},), ::Array{Float64,1}, Gridded(Linear())), Flat()) with element type Float64:\n",
       " 2.7456010150169163\n",
       " 3.3334239868128988\n",
       " 4.664590270988126 \n",
       " 6.11044743223061  \n",
       " 8.331137487687693 , false, false)"
      ]
     },
     "execution_count": 29,
     "metadata": {},
     "output_type": "execute_result"
    }
   ],
   "source": [
    "@btime exp(c1)"
   ]
  },
  {
   "cell_type": "markdown",
   "metadata": {},
   "source": [
    "## Concatination"
   ]
  },
  {
   "cell_type": "code",
   "execution_count": 111,
   "metadata": {},
   "outputs": [
    {
     "data": {
      "text/plain": [
       "uniquexy (generic function with 1 method)"
      ]
     },
     "execution_count": 111,
     "metadata": {},
     "output_type": "execute_result"
    }
   ],
   "source": [
    "@inline function uniquexy(x:: AbstractArray, y:: AbstractArray)\n",
    "    @inbounds begin\n",
    "        idx = unique(z -> x[z], 1:length(x))\n",
    "        x[idx], y[idx] \n",
    "    end\n",
    "end"
   ]
  },
  {
   "cell_type": "code",
   "execution_count": 85,
   "metadata": {},
   "outputs": [
    {
     "data": {
      "text/plain": [
       "mergexy (generic function with 2 methods)"
      ]
     },
     "execution_count": 85,
     "metadata": {},
     "output_type": "execute_result"
    }
   ],
   "source": [
    "@inline function mergexy(x1:: AbstractArray, y1:: AbstractArray, \n",
    "        x2:: AbstractArray, y2:: AbstractArray)\n",
    "    @inbounds begin\n",
    "        x_all = vcat(x1, x2)\n",
    "        y_all = vcat(y1, y2)\n",
    "        perm = sortperm(x_all)\n",
    "        x_all[perm], y_all[perm]\n",
    "    end\n",
    "end"
   ]
  },
  {
   "cell_type": "code",
   "execution_count": 71,
   "metadata": {},
   "outputs": [
    {
     "data": {
      "text/plain": [
       "drop_duplicates (generic function with 1 method)"
      ]
     },
     "execution_count": 71,
     "metadata": {},
     "output_type": "execute_result"
    }
   ],
   "source": [
    "\"\"\"\n",
    "Removes duplicate x values from the curve.\n",
    "Note that it is not checked if the corresponding y values are identical, \n",
    "just an arbitrary one is kept.\n",
    "\"\"\"\n",
    "function drop_duplicates(c1:: Curve)\n",
    "    x, y = uniquexy(c1.x, c1.y)\n",
    "    Curve(x, y, method=getitpm(c1), logx=c1.logx, logy=c1.logy, extrapolation=getetpm(c1))\n",
    "end"
   ]
  },
  {
   "cell_type": "code",
   "execution_count": 77,
   "metadata": {},
   "outputs": [
    {
     "data": {
      "text/plain": [
       "concat"
      ]
     },
     "execution_count": 77,
     "metadata": {},
     "output_type": "execute_result"
    }
   ],
   "source": [
    "\"\"\"\n",
    "Merges 2 curves.\n",
    "Element type is inferred by promotion, interpolation type is taken from 1st curve argument.\n",
    "\"\"\"\n",
    "function concat(c1:: Curve, c2:: Curve; drop_dup=true)\n",
    "    x_all, y_all = mergexy(c1.x, c1.y, c2.x, c2.y)\n",
    "    if drop_dup\n",
    "        x_all, y_all = uniquexy(x_all, y_all)\n",
    "    end\n",
    "    Curve(x_all, y_all, method=getitpm(c1), logx=c1.logx, logy=c1.logy, \n",
    "        extrapolation=getetpm(c1))\n",
    "end"
   ]
  },
  {
   "cell_type": "markdown",
   "metadata": {},
   "source": [
    "### Tests"
   ]
  },
  {
   "cell_type": "code",
   "execution_count": 115,
   "metadata": {},
   "outputs": [
    {
     "data": {
      "text/plain": [
       "Curve{Array{Int64,1},Array{Int64,1},Interpolations.Extrapolation{Float64,1,Interpolations.GriddedInterpolation{Float64,1,Int64,Gridded{Linear},Tuple{Array{Int64,1}}},Gridded{Linear},Flat{Nothing}}}([1, 3, 3, 7, 9], [2, 4, 4, 8, 10], 5-element extrapolate(interpolate((::Array{Int64,1},), ::Array{Int64,1}, Gridded(Linear())), Flat()) with element type Float64:\n",
       " Ratios.SimpleRatio{Int64}(8, 4)   \n",
       " Ratios.SimpleRatio{Int64}(16, 4)  \n",
       " Ratios.SimpleRatio{Int64}(16, 4)  \n",
       " Ratios.SimpleRatio{Int64}(128, 16)\n",
       " Ratios.SimpleRatio{Int64}(40, 4)  , false, false)"
      ]
     },
     "execution_count": 115,
     "metadata": {},
     "output_type": "execute_result"
    }
   ],
   "source": [
    "c1d = Curve([1, 3, 3, 7, 9], [2, 4, 4, 8, 10])"
   ]
  },
  {
   "cell_type": "code",
   "execution_count": 116,
   "metadata": {},
   "outputs": [
    {
     "data": {
      "text/plain": [
       "Curve{Array{Int64,1},Array{Int64,1},Interpolations.Extrapolation{Float64,1,Interpolations.GriddedInterpolation{Float64,1,Int64,Gridded{Linear},Tuple{Array{Int64,1}}},Gridded{Linear},Flat{Nothing}}}([1, 3, 7, 9], [2, 4, 8, 10], 4-element extrapolate(interpolate((::Array{Int64,1},), ::Array{Int64,1}, Gridded(Linear())), Flat()) with element type Float64:\n",
       " Ratios.SimpleRatio{Int64}(8, 4)   \n",
       " Ratios.SimpleRatio{Int64}(16, 4)  \n",
       " Ratios.SimpleRatio{Int64}(128, 16)\n",
       " Ratios.SimpleRatio{Int64}(40, 4)  , false, false)"
      ]
     },
     "execution_count": 116,
     "metadata": {},
     "output_type": "execute_result"
    }
   ],
   "source": [
    "drop_duplicates(c1d)"
   ]
  },
  {
   "cell_type": "code",
   "execution_count": 117,
   "metadata": {},
   "outputs": [
    {
     "name": "stdout",
     "output_type": "stream",
     "text": [
      "  1.583 μs (14 allocations: 976 bytes)\n"
     ]
    },
    {
     "data": {
      "text/plain": [
       "Curve{Array{Int64,1},Array{Int64,1},Interpolations.Extrapolation{Float64,1,Interpolations.GriddedInterpolation{Float64,1,Int64,Gridded{Linear},Tuple{Array{Int64,1}}},Gridded{Linear},Flat{Nothing}}}([1, 3, 7, 9], [2, 4, 8, 10], 4-element extrapolate(interpolate((::Array{Int64,1},), ::Array{Int64,1}, Gridded(Linear())), Flat()) with element type Float64:\n",
       " Ratios.SimpleRatio{Int64}(8, 4)   \n",
       " Ratios.SimpleRatio{Int64}(16, 4)  \n",
       " Ratios.SimpleRatio{Int64}(128, 16)\n",
       " Ratios.SimpleRatio{Int64}(40, 4)  , false, false)"
      ]
     },
     "execution_count": 117,
     "metadata": {},
     "output_type": "execute_result"
    }
   ],
   "source": [
    "@btime drop_duplicates(c1d)"
   ]
  },
  {
   "cell_type": "code",
   "execution_count": 114,
   "metadata": {},
   "outputs": [
    {
     "name": "stdout",
     "output_type": "stream",
     "text": [
      "Variables\n",
      "  #self#\u001b[36m::Core.Compiler.Const(drop_duplicates, false)\u001b[39m\n",
      "  c1\u001b[36m::Curve{Array{Int64,1},Array{Int64,1},Interpolations.Extrapolation{Float64,1,Interpolations.GriddedInterpolation{Float64,1,Int64,Gridded{Linear},Tuple{Array{Int64,1}}},Gridded{Linear},Flat{Nothing}}}\u001b[39m\n",
      "  x\u001b[36m::Array{Int64,1}\u001b[39m\n",
      "  @_4\u001b[36m::Int64\u001b[39m\n",
      "  y\u001b[36m::Array{Int64,1}\u001b[39m\n",
      "\n",
      "Body\u001b[91m\u001b[1m::Curve{Array{Int64,1},Array{Int64,1},_A} where _A<:AbstractInterpolation\u001b[22m\u001b[39m\n",
      "\u001b[90m1 ─\u001b[39m %1  = Base.getproperty(c1, :x)\u001b[36m::Array{Int64,1}\u001b[39m\n",
      "\u001b[90m│  \u001b[39m %2  = Base.getproperty(c1, :y)\u001b[36m::Array{Int64,1}\u001b[39m\n",
      "\u001b[90m│  \u001b[39m %3  = Main.uniquexy(%1, %2)\u001b[36m::Tuple{Array{Int64,1},Array{Int64,1}}\u001b[39m\n",
      "\u001b[90m│  \u001b[39m %4  = Base.indexed_iterate(%3, 1)\u001b[36m::Core.Compiler.PartialStruct(Tuple{Array{Int64,1},Int64}, Any[Array{Int64,1}, Core.Compiler.Const(2, false)])\u001b[39m\n",
      "\u001b[90m│  \u001b[39m       (x = Core.getfield(%4, 1))\n",
      "\u001b[90m│  \u001b[39m       (@_4 = Core.getfield(%4, 2))\n",
      "\u001b[90m│  \u001b[39m %7  = Base.indexed_iterate(%3, 2, @_4::Core.Compiler.Const(2, false))\u001b[36m::Core.Compiler.PartialStruct(Tuple{Array{Int64,1},Int64}, Any[Array{Int64,1}, Core.Compiler.Const(3, false)])\u001b[39m\n",
      "\u001b[90m│  \u001b[39m       (y = Core.getfield(%7, 1))\n",
      "\u001b[90m│  \u001b[39m %9  = Main.getitpm(c1)\u001b[36m::Core.Compiler.Const(Gridded(Linear()), false)\u001b[39m\n",
      "\u001b[90m│  \u001b[39m %10 = Main.getetpm(c1)\u001b[36m::Core.Compiler.Const(Flat(), false)\u001b[39m\n",
      "\u001b[90m│  \u001b[39m %11 = (:method, :logx, :logy, :extrapolation)\u001b[36m::Core.Compiler.Const((:method, :logx, :logy, :extrapolation), false)\u001b[39m\n",
      "\u001b[90m│  \u001b[39m %12 = Core.apply_type(Core.NamedTuple, %11)\u001b[36m::Core.Compiler.Const(NamedTuple{(:method, :logx, :logy, :extrapolation),T} where T<:Tuple, false)\u001b[39m\n",
      "\u001b[90m│  \u001b[39m %13 = Base.getproperty(c1, :logx)\u001b[36m::Bool\u001b[39m\n",
      "\u001b[90m│  \u001b[39m %14 = Base.getproperty(c1, :logy)\u001b[36m::Bool\u001b[39m\n",
      "\u001b[90m│  \u001b[39m %15 = Core.tuple(%9, %13, %14, %10)\u001b[36m::Core.Compiler.PartialStruct(Tuple{Gridded{Linear},Bool,Bool,Flat{Nothing}}, Any[Core.Compiler.Const(Gridded(Linear()), false), Bool, Bool, Core.Compiler.Const(Flat(), false)])\u001b[39m\n",
      "\u001b[90m│  \u001b[39m %16 = (%12)(%15)\u001b[36m::NamedTuple{(:method, :logx, :logy, :extrapolation),Tuple{Gridded{Linear},Bool,Bool,Flat{Nothing}}}\u001b[39m\n",
      "\u001b[90m│  \u001b[39m %17 = Core.kwfunc(Main.Curve)\u001b[36m::Core.Compiler.Const(Core.var\"#kw#Type\"(), false)\u001b[39m\n",
      "\u001b[90m│  \u001b[39m %18 = x\u001b[36m::Array{Int64,1}\u001b[39m\n",
      "\u001b[90m│  \u001b[39m %19 = (%17)(%16, Main.Curve, %18, y)\u001b[91m\u001b[1m::Curve{Array{Int64,1},Array{Int64,1},_A} where _A<:AbstractInterpolation\u001b[22m\u001b[39m\n",
      "\u001b[90m└──\u001b[39m       return %19\n"
     ]
    }
   ],
   "source": [
    "@code_warntype drop_duplicates(c1d)"
   ]
  },
  {
   "cell_type": "code",
   "execution_count": 86,
   "metadata": {},
   "outputs": [
    {
     "data": {
      "text/plain": [
       "Curve{Array{Int64,1},Array{Float64,1},Interpolations.Extrapolation{Float64,1,Interpolations.GriddedInterpolation{Float64,1,Float64,Gridded{Linear},Tuple{Array{Int64,1}}},Gridded{Linear},Flat{Nothing}}}([1, 3, 7, 9, 18, 30, 91], [2.0, 1.01, 8.0, 1.204, 1.54, 1.81, 2.12], 7-element extrapolate(interpolate((::Array{Int64,1},), ::Array{Float64,1}, Gridded(Linear())), Flat()) with element type Float64:\n",
       " 2.0  \n",
       " 1.01 \n",
       " 8.0  \n",
       " 1.204\n",
       " 1.54 \n",
       " 1.81 \n",
       " 2.12 , false, false)"
      ]
     },
     "execution_count": 86,
     "metadata": {},
     "output_type": "execute_result"
    }
   ],
   "source": [
    "c12 = concat(c1,c1d)"
   ]
  },
  {
   "cell_type": "code",
   "execution_count": 82,
   "metadata": {},
   "outputs": [
    {
     "data": {
      "text/plain": [
       "([1, 3, 7, 9, 18, 30, 91], [2.0, 1.01, 8.0, 1.204, 1.54, 1.81, 2.12])"
      ]
     },
     "execution_count": 82,
     "metadata": {},
     "output_type": "execute_result"
    }
   ],
   "source": [
    "c12.x, c12.y"
   ]
  },
  {
   "cell_type": "code",
   "execution_count": 87,
   "metadata": {},
   "outputs": [
    {
     "name": "stdout",
     "output_type": "stream",
     "text": [
      "  2.804 μs (22 allocations: 1.92 KiB)\n"
     ]
    },
    {
     "data": {
      "text/plain": [
       "Curve{Array{Int64,1},Array{Float64,1},Interpolations.Extrapolation{Float64,1,Interpolations.GriddedInterpolation{Float64,1,Float64,Gridded{Linear},Tuple{Array{Int64,1}}},Gridded{Linear},Flat{Nothing}}}([1, 3, 7, 9, 18, 30, 91], [2.0, 1.01, 8.0, 1.204, 1.54, 1.81, 2.12], 7-element extrapolate(interpolate((::Array{Int64,1},), ::Array{Float64,1}, Gridded(Linear())), Flat()) with element type Float64:\n",
       " 2.0  \n",
       " 1.01 \n",
       " 8.0  \n",
       " 1.204\n",
       " 1.54 \n",
       " 1.81 \n",
       " 2.12 , false, false)"
      ]
     },
     "execution_count": 87,
     "metadata": {},
     "output_type": "execute_result"
    }
   ],
   "source": [
    "@btime concat($c1,$c1d)"
   ]
  },
  {
   "cell_type": "code",
   "execution_count": 84,
   "metadata": {},
   "outputs": [
    {
     "name": "stdout",
     "output_type": "stream",
     "text": [
      "Variables\n",
      "  #self#\u001b[36m::Core.Compiler.Const(concat, false)\u001b[39m\n",
      "  c1\u001b[36m::Curve{Array{Int64,1},Array{Float64,1},Interpolations.Extrapolation{Float64,1,Interpolations.GriddedInterpolation{Float64,1,Float64,Gridded{Linear},Tuple{Array{Int64,1}}},Gridded{Linear},Flat{Nothing}}}\u001b[39m\n",
      "  c2\u001b[36m::Curve{Array{Int64,1},Array{Int64,1},Interpolations.Extrapolation{Float64,1,Interpolations.GriddedInterpolation{Float64,1,Int64,Gridded{Linear},Tuple{Array{Int64,1}}},Gridded{Linear},Flat{Nothing}}}\u001b[39m\n",
      "\n",
      "Body\u001b[91m\u001b[1m::Union{Curve{Array{Int64,1},Array{Float64,1},Interpolations.Extrapolation{Float64,1,Interpolations.GriddedInterpolation{Float64,1,Float64,Gridded{Linear},Tuple{Array{Float64,1}}},Gridded{Linear},Flat{Nothing}}}, Curve{Array{Int64,1},Array{Float64,1},Interpolations.Extrapolation{Float64,1,Interpolations.GriddedInterpolation{Float64,1,Float64,Gridded{Linear},Tuple{Array{Int64,1}}},Gridded{Linear},Flat{Nothing}}}}\u001b[22m\u001b[39m\n",
      "\u001b[90m1 ─\u001b[39m %1 = Main.:(var\"#concat#29\")(true, #self#, c1, c2)\u001b[91m\u001b[1m::Union{Curve{Array{Int64,1},Array{Float64,1},Interpolations.Extrapolation{Float64,1,Interpolations.GriddedInterpolation{Float64,1,Float64,Gridded{Linear},Tuple{Array{Float64,1}}},Gridded{Linear},Flat{Nothing}}}, Curve{Array{Int64,1},Array{Float64,1},Interpolations.Extrapolation{Float64,1,Interpolations.GriddedInterpolation{Float64,1,Float64,Gridded{Linear},Tuple{Array{Int64,1}}},Gridded{Linear},Flat{Nothing}}}}\u001b[22m\u001b[39m\n",
      "\u001b[90m└──\u001b[39m      return %1\n"
     ]
    }
   ],
   "source": [
    "@code_warntype concat(c1,c1d)"
   ]
  },
  {
   "cell_type": "markdown",
   "metadata": {},
   "source": [
    "## Operations with Multiple Curves"
   ]
  },
  {
   "cell_type": "code",
   "execution_count": 127,
   "metadata": {},
   "outputs": [],
   "source": [
    "operations = (:+, :-, :*, :/, :^)\n",
    "for op in operations\n",
    "    @eval function $op(c1:: Curve, c2:: Curve)\n",
    "        if c1.x == c2.x # fast mode if no interpolation is required\n",
    "            x = c1.x\n",
    "            y = $op.(c1.y, c2.y)\n",
    "        else\n",
    "            y_c1_grid = $op.(c1.y, interpolate.(c1.x, c2))\n",
    "            y_c2_grid = $op.(interpolate.(c2.x, c1), c2.y)\n",
    "            x, y = mergexy(c1.x, y_c1_grid, c2.x, y_c2_grid)\n",
    "            x, y = uniquexy(x, y)\n",
    "        end\n",
    "        Curve(x, y, logx=c1.logx, logy=c1.logy, method=getitpm(c1), extrapolation=getetpm(c1))\n",
    "    end\n",
    "end\n"
   ]
  },
  {
   "cell_type": "markdown",
   "metadata": {},
   "source": [
    "### Tests"
   ]
  },
  {
   "cell_type": "code",
   "execution_count": 128,
   "metadata": {},
   "outputs": [
    {
     "data": {
      "text/plain": [
       "Curve{Array{Int64,1},Array{Float64,1},Interpolations.Extrapolation{Float64,1,Interpolations.GriddedInterpolation{Float64,1,Float64,Gridded{Linear},Tuple{Array{Int64,1}}},Gridded{Linear},Flat{Nothing}}}([1, 3, 7, 9, 18, 30, 91], [3.01, 5.01, 9.139333333333333, 11.204, 11.54, 11.81, 12.120000000000001], 7-element extrapolate(interpolate((::Array{Int64,1},), ::Array{Float64,1}, Gridded(Linear())), Flat()) with element type Float64:\n",
       "  3.01             \n",
       "  5.01             \n",
       "  9.139333333333333\n",
       " 11.204            \n",
       " 11.54             \n",
       " 11.81             \n",
       " 12.120000000000001, false, false)"
      ]
     },
     "execution_count": 128,
     "metadata": {},
     "output_type": "execute_result"
    }
   ],
   "source": [
    "sumc12 = c1+c1d"
   ]
  },
  {
   "cell_type": "code",
   "execution_count": 129,
   "metadata": {},
   "outputs": [
    {
     "data": {
      "text/plain": [
       "Curve{Array{Int64,1},Array{Float64,1},Interpolations.Extrapolation{Float64,1,Interpolations.GriddedInterpolation{Float64,1,Float64,Gridded{Linear},Tuple{Array{Int64,1}}},Gridded{Linear},Flat{Nothing}}}([1, 3, 7, 9, 18, 30, 91], [1.0201, 1.04060401, 2.8392682718042925, 6.4012511846901345, 75.02520803928272, 377.38596846955716, 1833.828041259883], 7-element extrapolate(interpolate((::Array{Int64,1},), ::Array{Float64,1}, Gridded(Linear())), Flat()) with element type Float64:\n",
       "    1.0201            \n",
       "    1.04060401        \n",
       "    2.8392682718042925\n",
       "    6.4012511846901345\n",
       "   75.02520803928272  \n",
       "  377.38596846955716  \n",
       " 1833.828041259883    , false, false)"
      ]
     },
     "execution_count": 129,
     "metadata": {},
     "output_type": "execute_result"
    }
   ],
   "source": [
    "c1^ c1d"
   ]
  },
  {
   "cell_type": "code",
   "execution_count": 130,
   "metadata": {},
   "outputs": [
    {
     "name": "stdout",
     "output_type": "stream",
     "text": [
      "  4.674 μs (30 allocations: 2.42 KiB)\n"
     ]
    },
    {
     "data": {
      "text/plain": [
       "Curve{Array{Int64,1},Array{Float64,1},Interpolations.Extrapolation{Float64,1,Interpolations.GriddedInterpolation{Float64,1,Float64,Gridded{Linear},Tuple{Array{Int64,1}}},Gridded{Linear},Flat{Nothing}}}([1, 3, 7, 9, 18, 30, 91], [-0.6831968497067772, -1.3763440302667225, -1.9489982456545465, -2.1169357461074165, -1.870802676568508, -1.7092582477163114, -1.5511690043101245], 7-element extrapolate(interpolate((::Array{Int64,1},), ::Array{Float64,1}, Gridded(Linear())), Flat()) with element type Float64:\n",
       " -0.6831968497067772\n",
       " -1.3763440302667225\n",
       " -1.9489982456545465\n",
       " -2.1169357461074165\n",
       " -1.870802676568508 \n",
       " -1.7092582477163114\n",
       " -1.5511690043101245, false, false)"
      ]
     },
     "execution_count": 130,
     "metadata": {},
     "output_type": "execute_result"
    }
   ],
   "source": [
    "@btime log(c1/c1d)"
   ]
  },
  {
   "cell_type": "code",
   "execution_count": 131,
   "metadata": {},
   "outputs": [
    {
     "data": {
      "text/plain": [
       "([1, 3, 7, 9, 18, 30, 91], [3.01, 5.01, 9.139333333333333, 11.204, 11.54, 11.81, 12.120000000000001])"
      ]
     },
     "execution_count": 131,
     "metadata": {},
     "output_type": "execute_result"
    }
   ],
   "source": [
    "sumc12.x, sumc12.y"
   ]
  },
  {
   "cell_type": "code",
   "execution_count": 132,
   "metadata": {},
   "outputs": [
    {
     "name": "stdout",
     "output_type": "stream",
     "text": [
      "  3.611 μs (25 allocations: 2.17 KiB)\n"
     ]
    },
    {
     "data": {
      "text/plain": [
       "Curve{Array{Int64,1},Array{Float64,1},Interpolations.Extrapolation{Float64,1,Interpolations.GriddedInterpolation{Float64,1,Float64,Gridded{Linear},Tuple{Array{Int64,1}}},Gridded{Linear},Flat{Nothing}}}([1, 3, 7, 9, 18, 30, 91], [3.01, 5.01, 9.139333333333333, 11.204, 11.54, 11.81, 12.120000000000001], 7-element extrapolate(interpolate((::Array{Int64,1},), ::Array{Float64,1}, Gridded(Linear())), Flat()) with element type Float64:\n",
       "  3.01             \n",
       "  5.01             \n",
       "  9.139333333333333\n",
       " 11.204            \n",
       " 11.54             \n",
       " 11.81             \n",
       " 12.120000000000001, false, false)"
      ]
     },
     "execution_count": 132,
     "metadata": {},
     "output_type": "execute_result"
    }
   ],
   "source": [
    "@btime $c1+$c1d"
   ]
  },
  {
   "cell_type": "code",
   "execution_count": 133,
   "metadata": {},
   "outputs": [
    {
     "name": "stdout",
     "output_type": "stream",
     "text": [
      "  599.438 ns (5 allocations: 240 bytes)\n"
     ]
    },
    {
     "data": {
      "text/plain": [
       "Curve{Array{Int64,1},Array{Float64,1},Interpolations.Extrapolation{Float64,1,Interpolations.GriddedInterpolation{Float64,1,Float64,Gridded{Linear},Tuple{Array{Int64,1}}},Gridded{Linear},Flat{Nothing}}}([3, 9, 18, 30, 91], [2.02, 2.408, 3.08, 3.62, 4.24], 5-element extrapolate(interpolate((::Array{Int64,1},), ::Array{Float64,1}, Gridded(Linear())), Flat()) with element type Float64:\n",
       " 2.02 \n",
       " 2.408\n",
       " 3.08 \n",
       " 3.62 \n",
       " 4.24 , false, false)"
      ]
     },
     "execution_count": 133,
     "metadata": {},
     "output_type": "execute_result"
    }
   ],
   "source": [
    "@btime $c1+$c1"
   ]
  },
  {
   "cell_type": "code",
   "execution_count": null,
   "metadata": {},
   "outputs": [],
   "source": []
  }
 ],
 "metadata": {
  "kernelspec": {
   "display_name": "Julia 1.3.1",
   "language": "julia",
   "name": "julia-1.3"
  },
  "language_info": {
   "file_extension": ".jl",
   "mimetype": "application/julia",
   "name": "julia",
   "version": "1.3.1"
  }
 },
 "nbformat": 4,
 "nbformat_minor": 4
}
